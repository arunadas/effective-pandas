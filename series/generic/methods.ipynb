{
 "cells": [
  {
   "cell_type": "markdown",
   "id": "ff1fde66-69b0-486b-ba9e-7862ad536ece",
   "metadata": {},
   "source": [
    "#Aggregate methods"
   ]
  },
  {
   "cell_type": "code",
   "execution_count": 9,
   "id": "173630f4-aefe-412a-a220-b740244dc245",
   "metadata": {},
   "outputs": [],
   "source": [
    "import pandas as pd \n",
    "#url = 'https://github.com/arunadas/effective-pandas/raw/master/data/vehicles.csv.zip'\n",
    "url = 'https://github.com/mattharrison/datasets/raw/master/data/vehicles.csv.zip'\n",
    "#url = 'https://github.com/arunadas/effective-pandas/tree/main/data/vehicles.csv'\n",
    "df = pd.read_csv(url,dtype='unicode')\n",
    "city_mpg = df.city08\n",
    "highway_mpg = df.highway08"
   ]
  },
  {
   "cell_type": "code",
   "execution_count": 10,
   "id": "72140759-f28b-417f-9942-a8804d2df96f",
   "metadata": {},
   "outputs": [
    {
     "data": {
      "text/plain": [
       "0        19\n",
       "1         9\n",
       "2        23\n",
       "3        10\n",
       "4        17\n",
       "         ..\n",
       "41139    19\n",
       "41140    20\n",
       "41141    18\n",
       "41142    18\n",
       "41143    16\n",
       "Name: city08, Length: 41144, dtype: object"
      ]
     },
     "execution_count": 10,
     "metadata": {},
     "output_type": "execute_result"
    }
   ],
   "source": [
    "city_mpg"
   ]
  },
  {
   "cell_type": "code",
   "execution_count": 11,
   "id": "bec72d20-fbcf-4fb1-b8ca-961fab1582dd",
   "metadata": {},
   "outputs": [
    {
     "data": {
      "text/plain": [
       "np.float64(18.369045304297103)"
      ]
     },
     "execution_count": 11,
     "metadata": {},
     "output_type": "execute_result"
    }
   ],
   "source": [
    "city_mpg.astype(int).mean()"
   ]
  },
  {
   "cell_type": "code",
   "execution_count": 12,
   "id": "c4ac29ca-978f-4e49-974d-bd71a7f35a2c",
   "metadata": {},
   "outputs": [],
   "source": [
    "city_mpg = city_mpg.astype(int)"
   ]
  },
  {
   "cell_type": "code",
   "execution_count": 6,
   "id": "a1b02e4d-0782-4483-b131-ba961607916d",
   "metadata": {},
   "outputs": [
    {
     "data": {
      "text/plain": [
       "np.float64(18.369045304297103)"
      ]
     },
     "execution_count": 6,
     "metadata": {},
     "output_type": "execute_result"
    }
   ],
   "source": [
    "city_mpg.mean()"
   ]
  },
  {
   "cell_type": "code",
   "execution_count": 7,
   "id": "d022b70a-e787-4c85-8d83-2baae91a447f",
   "metadata": {},
   "outputs": [],
   "source": [
    "mean_value = city_mpg.mean()"
   ]
  },
  {
   "cell_type": "code",
   "execution_count": 8,
   "id": "7bf51ff1-1520-4cc4-88d3-3ecee7ecb8ef",
   "metadata": {},
   "outputs": [
    {
     "data": {
      "text/plain": [
       "numpy.float64"
      ]
     },
     "execution_count": 8,
     "metadata": {},
     "output_type": "execute_result"
    }
   ],
   "source": [
    "type(mean_value)"
   ]
  },
  {
   "cell_type": "code",
   "execution_count": 9,
   "id": "f6630f81-b137-49a8-8246-6b901211cb36",
   "metadata": {},
   "outputs": [],
   "source": [
    "mean_value = float(city_mpg.mean())"
   ]
  },
  {
   "cell_type": "code",
   "execution_count": 11,
   "id": "4507c26b-1fab-4e3a-b5c8-1790878383a6",
   "metadata": {},
   "outputs": [
    {
     "data": {
      "text/plain": [
       "float"
      ]
     },
     "execution_count": 11,
     "metadata": {},
     "output_type": "execute_result"
    }
   ],
   "source": [
    "type(mean_value)"
   ]
  },
  {
   "cell_type": "code",
   "execution_count": 12,
   "id": "ac6ee416-5dc3-4a56-ae10-26e63522860d",
   "metadata": {},
   "outputs": [
    {
     "data": {
      "text/plain": [
       "18.369045304297103"
      ]
     },
     "execution_count": 12,
     "metadata": {},
     "output_type": "execute_result"
    }
   ],
   "source": [
    "mean_value"
   ]
  },
  {
   "cell_type": "code",
   "execution_count": 13,
   "id": "070bc7aa-99ca-4d12-9499-4f49ed51c602",
   "metadata": {},
   "outputs": [
    {
     "data": {
      "text/plain": [
       "False"
      ]
     },
     "execution_count": 13,
     "metadata": {},
     "output_type": "execute_result"
    }
   ],
   "source": [
    "city_mpg.is_unique"
   ]
  },
  {
   "cell_type": "code",
   "execution_count": 14,
   "id": "ea116c5d-5182-4d08-806a-b6c485de885b",
   "metadata": {},
   "outputs": [
    {
     "data": {
      "text/plain": [
       "False"
      ]
     },
     "execution_count": 14,
     "metadata": {},
     "output_type": "execute_result"
    }
   ],
   "source": [
    "city_mpg.is_monotonic_increasing"
   ]
  },
  {
   "cell_type": "code",
   "execution_count": 15,
   "id": "ab7078fc-96d4-4e19-bcc8-c96e3068adb3",
   "metadata": {},
   "outputs": [
    {
     "data": {
      "text/plain": [
       "np.float64(17.0)"
      ]
     },
     "execution_count": 15,
     "metadata": {},
     "output_type": "execute_result"
    }
   ],
   "source": [
    "city_mpg.quantile()"
   ]
  },
  {
   "cell_type": "code",
   "execution_count": 16,
   "id": "ec741223-27f9-4602-900d-3e319343a289",
   "metadata": {},
   "outputs": [
    {
     "data": {
      "text/plain": [
       "np.float64(24.0)"
      ]
     },
     "execution_count": 16,
     "metadata": {},
     "output_type": "execute_result"
    }
   ],
   "source": [
    "city_mpg.quantile(.9)"
   ]
  },
  {
   "cell_type": "code",
   "execution_count": 17,
   "id": "e4a85c9e-5ba8-4807-b426-9ea576f3a4e8",
   "metadata": {},
   "outputs": [
    {
     "data": {
      "text/plain": [
       "0.1    13.0\n",
       "0.5    17.0\n",
       "0.9    24.0\n",
       "Name: city08, dtype: float64"
      ]
     },
     "execution_count": 17,
     "metadata": {},
     "output_type": "execute_result"
    }
   ],
   "source": [
    "city_mpg.quantile([.1,.5,.9])"
   ]
  },
  {
   "cell_type": "markdown",
   "id": "624ace71-da41-4373-8991-663bbc86c590",
   "metadata": {},
   "source": [
    "#Count and mean of an attribute"
   ]
  },
  {
   "cell_type": "code",
   "execution_count": 21,
   "id": "22e30059-8447-4e0a-87fa-a27dd4171123",
   "metadata": {},
   "outputs": [
    {
     "data": {
      "text/plain": [
       "np.int64(10272)"
      ]
     },
     "execution_count": 21,
     "metadata": {},
     "output_type": "execute_result"
    }
   ],
   "source": [
    "city_mpg.gt(20).sum()"
   ]
  },
  {
   "cell_type": "code",
   "execution_count": 5,
   "id": "9a40e02c-98bc-48ee-89bf-a5781552c24e",
   "metadata": {},
   "outputs": [
    {
     "data": {
      "text/plain": [
       "np.float64(24.965973167412017)"
      ]
     },
     "execution_count": 5,
     "metadata": {},
     "output_type": "execute_result"
    }
   ],
   "source": [
    "city_mpg.gt(20).mul(100).mean()"
   ]
  },
  {
   "cell_type": "code",
   "execution_count": 7,
   "id": "17e0c66a-6df5-4655-8ae7-f65943a28bb3",
   "metadata": {},
   "outputs": [],
   "source": [
    "import numpy as np \n",
    "def second_to_last(s):\n",
    "       return s.iloc[-2]"
   ]
  },
  {
   "cell_type": "code",
   "execution_count": 21,
   "id": "ce48796f-d654-42d7-816f-dc49e9a469b9",
   "metadata": {},
   "outputs": [],
   "source": [
    "city_agg = city_mpg.agg(['mean', 'var', 'max', second_to_last])"
   ]
  },
  {
   "cell_type": "code",
   "execution_count": 22,
   "id": "342e72d1-4b49-4582-9b86-54abfc63c2a4",
   "metadata": {},
   "outputs": [
    {
     "data": {
      "text/plain": [
       "mean               18.369045\n",
       "var                62.503036\n",
       "max               150.000000\n",
       "second_to_last     18.000000\n",
       "Name: city08, dtype: float64"
      ]
     },
     "execution_count": 22,
     "metadata": {},
     "output_type": "execute_result"
    }
   ],
   "source": [
    "city_agg"
   ]
  },
  {
   "cell_type": "markdown",
   "id": "e4ed3d75-1575-4806-b9da-6a3b1d17457b",
   "metadata": {},
   "source": [
    "#Exercise 7.5\n",
    "Make a dataset\n",
    "1) Find the count of non-missing values of a series.\n",
    "2) Find the number of entries of a series.\n",
    "3) Find the number of unique entries of a series.\n",
    "4) Find the mean value of a series.\n",
    "5) Find the maximum value of a series.\n",
    "6) Use the .agg method to find all the above."
   ]
  },
  {
   "cell_type": "code",
   "execution_count": 44,
   "id": "06d01f2e-e4f6-4007-9df6-a16b6127b2de",
   "metadata": {},
   "outputs": [],
   "source": [
    "import pandas as pd\n",
    "cal_temp = pd.Series([12,3,3,None,2],\n",
    "    name = 'temp'\n",
    ")"
   ]
  },
  {
   "cell_type": "code",
   "execution_count": 45,
   "id": "99b68949-5668-4196-8e33-291dd9435881",
   "metadata": {},
   "outputs": [
    {
     "name": "stdout",
     "output_type": "stream",
     "text": [
      "0    12.0\n",
      "1     3.0\n",
      "2     3.0\n",
      "3     NaN\n",
      "4     2.0\n",
      "Name: temp, dtype: float64\n"
     ]
    }
   ],
   "source": [
    "print(cal_temp)"
   ]
  },
  {
   "cell_type": "code",
   "execution_count": 42,
   "id": "a4f13096-1c53-40ca-85c5-3888109dbab9",
   "metadata": {},
   "outputs": [
    {
     "data": {
      "text/plain": [
       "np.int64(4)"
      ]
     },
     "execution_count": 42,
     "metadata": {},
     "output_type": "execute_result"
    }
   ],
   "source": [
    "#Find the count of non-missing values of a series.\n",
    "cal_temp.count()"
   ]
  },
  {
   "cell_type": "code",
   "execution_count": 43,
   "id": "785ac4c0-df66-4a51-9212-2954739a86b8",
   "metadata": {},
   "outputs": [
    {
     "data": {
      "text/plain": [
       "5"
      ]
     },
     "execution_count": 43,
     "metadata": {},
     "output_type": "execute_result"
    }
   ],
   "source": [
    "#Find the number of entries of a series.\n",
    "cal_temp.size"
   ]
  },
  {
   "cell_type": "code",
   "execution_count": 46,
   "id": "1c15de80-4e83-4456-965a-4c1c15473c30",
   "metadata": {},
   "outputs": [
    {
     "data": {
      "text/plain": [
       "3"
      ]
     },
     "execution_count": 46,
     "metadata": {},
     "output_type": "execute_result"
    }
   ],
   "source": [
    "#Find the number of unique entries of a series.\n",
    "cal_temp.nunique()"
   ]
  },
  {
   "cell_type": "code",
   "execution_count": 50,
   "id": "69a22f33-28ba-4295-9069-236a33b7f3e4",
   "metadata": {},
   "outputs": [
    {
     "data": {
      "text/plain": [
       "np.float64(5.0)"
      ]
     },
     "execution_count": 50,
     "metadata": {},
     "output_type": "execute_result"
    }
   ],
   "source": [
    "#Find the mean value of a series.\n",
    "cal_temp.mean()"
   ]
  },
  {
   "cell_type": "code",
   "execution_count": 51,
   "id": "a1a726a7-67f6-4739-a0d6-2bc0965bc00e",
   "metadata": {},
   "outputs": [
    {
     "data": {
      "text/plain": [
       "np.float64(12.0)"
      ]
     },
     "execution_count": 51,
     "metadata": {},
     "output_type": "execute_result"
    }
   ],
   "source": [
    "#Find the maximum value of a series.\n",
    "cal_temp.max()"
   ]
  },
  {
   "cell_type": "code",
   "execution_count": 53,
   "id": "f2573f97-3214-4288-86a7-d58dbe536ad4",
   "metadata": {},
   "outputs": [
    {
     "data": {
      "text/plain": [
       "count       4.0\n",
       "size        5.0\n",
       "nunique     3.0\n",
       "mean        5.0\n",
       "max        12.0\n",
       "Name: temp, dtype: float64"
      ]
     },
     "execution_count": 53,
     "metadata": {},
     "output_type": "execute_result"
    }
   ],
   "source": [
    "cal_temp.agg(['count','size','nunique','mean','max'])"
   ]
  }
 ],
 "metadata": {
  "kernelspec": {
   "display_name": "Python 3 (ipykernel)",
   "language": "python",
   "name": "python3"
  },
  "language_info": {
   "codemirror_mode": {
    "name": "ipython",
    "version": 3
   },
   "file_extension": ".py",
   "mimetype": "text/x-python",
   "name": "python",
   "nbconvert_exporter": "python",
   "pygments_lexer": "ipython3",
   "version": "3.9.6"
  }
 },
 "nbformat": 4,
 "nbformat_minor": 5
}
