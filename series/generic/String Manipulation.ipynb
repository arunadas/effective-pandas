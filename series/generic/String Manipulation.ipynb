{
 "cells": [
  {
   "cell_type": "markdown",
   "id": "883c1af7-6d42-4312-a932-f1ae17a688d0",
   "metadata": {},
   "source": [
    "### Data"
   ]
  },
  {
   "cell_type": "code",
   "execution_count": 1,
   "id": "82f7c9c8-57db-4618-be0b-9bf1b5ad6b39",
   "metadata": {},
   "outputs": [],
   "source": [
    "import pandas as pd \n",
    "url = 'https://github.com/arunadas/effective-pandas/raw/main/data/vehicles.csv.zip'\n",
    "df = pd.read_csv(url,dtype='unicode')\n",
    "city_mpg = df.city08.astype(int)\n",
    "highway_mpg = df.highway08.astype(int)\n",
    "make = df.make"
   ]
  },
  {
   "cell_type": "code",
   "execution_count": 2,
   "id": "3f099c11-8a7b-4687-a480-a59b8811c733",
   "metadata": {},
   "outputs": [
    {
     "data": {
      "text/plain": [
       "0        Alfa Romeo\n",
       "1           Ferrari\n",
       "2             Dodge\n",
       "3             Dodge\n",
       "4            Subaru\n",
       "            ...    \n",
       "41139        Subaru\n",
       "41140        Subaru\n",
       "41141        Subaru\n",
       "41142        Subaru\n",
       "41143        Subaru\n",
       "Name: make, Length: 41144, dtype: object"
      ]
     },
     "execution_count": 2,
     "metadata": {},
     "output_type": "execute_result"
    }
   ],
   "source": [
    "make"
   ]
  },
  {
   "cell_type": "code",
   "execution_count": 3,
   "id": "54470f5a-e4a9-4a7c-a4bc-0e215f531b1c",
   "metadata": {},
   "outputs": [
    {
     "data": {
      "text/plain": [
       "0        Alfa Romeo\n",
       "1           Ferrari\n",
       "2             Dodge\n",
       "3             Dodge\n",
       "4            Subaru\n",
       "            ...    \n",
       "41139        Subaru\n",
       "41140        Subaru\n",
       "41141        Subaru\n",
       "41142        Subaru\n",
       "41143        Subaru\n",
       "Name: make, Length: 41144, dtype: string"
      ]
     },
     "execution_count": 3,
     "metadata": {},
     "output_type": "execute_result"
    }
   ],
   "source": [
    "make.astype('string')"
   ]
  },
  {
   "cell_type": "code",
   "execution_count": 4,
   "id": "36c87fb4-ab1a-42cc-bc7a-ffd1ab38281e",
   "metadata": {},
   "outputs": [
    {
     "data": {
      "text/plain": [
       "0        Alfa Romeo\n",
       "1           Ferrari\n",
       "2             Dodge\n",
       "3             Dodge\n",
       "4            Subaru\n",
       "            ...    \n",
       "41139        Subaru\n",
       "41140        Subaru\n",
       "41141        Subaru\n",
       "41142        Subaru\n",
       "41143        Subaru\n",
       "Name: make, Length: 41144, dtype: category\n",
       "Categories (136, object): ['AM General', 'ASC Incorporated', 'Acura', 'Alfa Romeo', ..., 'Volvo', 'Wallace Environmental', 'Yugo', 'smart']"
      ]
     },
     "execution_count": 4,
     "metadata": {},
     "output_type": "execute_result"
    }
   ],
   "source": [
    "# saves memory and performance \n",
    "make.astype('category')"
   ]
  },
  {
   "cell_type": "markdown",
   "id": "ab4431e1-0a1e-48c7-8107-5fc09c01c686",
   "metadata": {},
   "source": [
    "### .str Accessor "
   ]
  },
  {
   "cell_type": "code",
   "execution_count": 5,
   "id": "854ba8a4-4480-4fd2-b052-1133a8cba08a",
   "metadata": {},
   "outputs": [
    {
     "data": {
      "text/plain": [
       "'ford'"
      ]
     },
     "execution_count": 5,
     "metadata": {},
     "output_type": "execute_result"
    }
   ],
   "source": [
    "'Ford'.lower()"
   ]
  },
  {
   "cell_type": "code",
   "execution_count": 6,
   "id": "42059e98-693c-47a4-a8ee-23d84a73866d",
   "metadata": {},
   "outputs": [
    {
     "data": {
      "text/plain": [
       "0        alfa romeo\n",
       "1           ferrari\n",
       "2             dodge\n",
       "3             dodge\n",
       "4            subaru\n",
       "            ...    \n",
       "41139        subaru\n",
       "41140        subaru\n",
       "41141        subaru\n",
       "41142        subaru\n",
       "41143        subaru\n",
       "Name: make, Length: 41144, dtype: object"
      ]
     },
     "execution_count": 6,
     "metadata": {},
     "output_type": "execute_result"
    }
   ],
   "source": [
    "make.str.lower()"
   ]
  },
  {
   "cell_type": "code",
   "execution_count": 7,
   "id": "579b35de-cb42-4440-92a6-21d1f09a1dd4",
   "metadata": {},
   "outputs": [
    {
     "data": {
      "text/plain": [
       "0"
      ]
     },
     "execution_count": 7,
     "metadata": {},
     "output_type": "execute_result"
    }
   ],
   "source": [
    "'Alfa Romeo'.find('A')"
   ]
  },
  {
   "cell_type": "code",
   "execution_count": 8,
   "id": "c894e509-9ee1-4fcb-b800-41374aa00b2d",
   "metadata": {},
   "outputs": [
    {
     "data": {
      "text/plain": [
       "0        0\n",
       "1       -1\n",
       "2       -1\n",
       "3       -1\n",
       "4       -1\n",
       "        ..\n",
       "41139   -1\n",
       "41140   -1\n",
       "41141   -1\n",
       "41142   -1\n",
       "41143   -1\n",
       "Name: make, Length: 41144, dtype: int64"
      ]
     },
     "execution_count": 8,
     "metadata": {},
     "output_type": "execute_result"
    }
   ],
   "source": [
    "make.str.find('A')"
   ]
  },
  {
   "cell_type": "code",
   "execution_count": 11,
   "id": "a8dfe5b6-fb62-418e-82c9-d6aab377e41e",
   "metadata": {},
   "outputs": [],
   "source": [
    "data = pd.Series(['suz','john','fred','george'],\n",
    "                 index = [1,2,3,4])"
   ]
  },
  {
   "cell_type": "code",
   "execution_count": 12,
   "id": "c6a2c161-db81-46e7-bdcd-8ce6f709d99a",
   "metadata": {},
   "outputs": [
    {
     "data": {
      "text/plain": [
       "1       Suz\n",
       "2      John\n",
       "3      Fred\n",
       "4    George\n",
       "dtype: object"
      ]
     },
     "execution_count": 12,
     "metadata": {},
     "output_type": "execute_result"
    }
   ],
   "source": [
    "data.str.capitalize()"
   ]
  },
  {
   "cell_type": "code",
   "execution_count": 13,
   "id": "2ca1188f-f183-4a1b-94de-ceb2761e475d",
   "metadata": {},
   "outputs": [
    {
     "data": {
      "text/plain": [
       "1   -1\n",
       "2   -1\n",
       "3    2\n",
       "4    1\n",
       "dtype: int64"
      ]
     },
     "execution_count": 13,
     "metadata": {},
     "output_type": "execute_result"
    }
   ],
   "source": [
    "data.str.find('e')"
   ]
  },
  {
   "cell_type": "code",
   "execution_count": 18,
   "id": "5caf4af2-2395-4cf1-ad19-d8b45437fa81",
   "metadata": {},
   "outputs": [
    {
     "data": {
      "text/plain": [
       "1    NaN\n",
       "2    NaN\n",
       "3      e\n",
       "4      e\n",
       "dtype: object"
      ]
     },
     "execution_count": 18,
     "metadata": {},
     "output_type": "execute_result"
    }
   ],
   "source": [
    "data.str.extract(r'([a-e])',expand=False)"
   ]
  },
  {
   "cell_type": "code",
   "execution_count": 19,
   "id": "6aa52a6d-b047-45c5-b67c-179529a54bda",
   "metadata": {},
   "outputs": [
    {
     "data": {
      "text/plain": [
       "1    False\n",
       "2    False\n",
       "3     True\n",
       "4    False\n",
       "dtype: bool"
      ]
     },
     "execution_count": 19,
     "metadata": {},
     "output_type": "execute_result"
    }
   ],
   "source": [
    "data.str.startswith('f')"
   ]
  },
  {
   "cell_type": "markdown",
   "id": "a567f626-95e0-48fb-ba36-fdec70edc574",
   "metadata": {},
   "source": [
    "### Searching"
   ]
  },
  {
   "cell_type": "code",
   "execution_count": 20,
   "id": "3dd59d6b-d221-4eb3-9833-f8cf7bf2774a",
   "metadata": {},
   "outputs": [
    {
     "data": {
      "text/html": [
       "<div>\n",
       "<style scoped>\n",
       "    .dataframe tbody tr th:only-of-type {\n",
       "        vertical-align: middle;\n",
       "    }\n",
       "\n",
       "    .dataframe tbody tr th {\n",
       "        vertical-align: top;\n",
       "    }\n",
       "\n",
       "    .dataframe thead th {\n",
       "        text-align: right;\n",
       "    }\n",
       "</style>\n",
       "<table border=\"1\" class=\"dataframe\">\n",
       "  <thead>\n",
       "    <tr style=\"text-align: right;\">\n",
       "      <th></th>\n",
       "      <th>0</th>\n",
       "    </tr>\n",
       "  </thead>\n",
       "  <tbody>\n",
       "    <tr>\n",
       "      <th>0</th>\n",
       "      <td>NaN</td>\n",
       "    </tr>\n",
       "    <tr>\n",
       "      <th>1</th>\n",
       "      <td>NaN</td>\n",
       "    </tr>\n",
       "    <tr>\n",
       "      <th>2</th>\n",
       "      <td>NaN</td>\n",
       "    </tr>\n",
       "    <tr>\n",
       "      <th>3</th>\n",
       "      <td>NaN</td>\n",
       "    </tr>\n",
       "    <tr>\n",
       "      <th>4</th>\n",
       "      <td>NaN</td>\n",
       "    </tr>\n",
       "    <tr>\n",
       "      <th>...</th>\n",
       "      <td>...</td>\n",
       "    </tr>\n",
       "    <tr>\n",
       "      <th>41139</th>\n",
       "      <td>NaN</td>\n",
       "    </tr>\n",
       "    <tr>\n",
       "      <th>41140</th>\n",
       "      <td>NaN</td>\n",
       "    </tr>\n",
       "    <tr>\n",
       "      <th>41141</th>\n",
       "      <td>NaN</td>\n",
       "    </tr>\n",
       "    <tr>\n",
       "      <th>41142</th>\n",
       "      <td>NaN</td>\n",
       "    </tr>\n",
       "    <tr>\n",
       "      <th>41143</th>\n",
       "      <td>NaN</td>\n",
       "    </tr>\n",
       "  </tbody>\n",
       "</table>\n",
       "<p>41144 rows × 1 columns</p>\n",
       "</div>"
      ],
      "text/plain": [
       "         0\n",
       "0      NaN\n",
       "1      NaN\n",
       "2      NaN\n",
       "3      NaN\n",
       "4      NaN\n",
       "...    ...\n",
       "41139  NaN\n",
       "41140  NaN\n",
       "41141  NaN\n",
       "41142  NaN\n",
       "41143  NaN\n",
       "\n",
       "[41144 rows x 1 columns]"
      ]
     },
     "execution_count": 20,
     "metadata": {},
     "output_type": "execute_result"
    }
   ],
   "source": [
    "make.str.extract(r'([^a-z A-Z])')"
   ]
  },
  {
   "cell_type": "code",
   "execution_count": 24,
   "id": "75167499-8e7e-4196-8d02-151e3699e50e",
   "metadata": {},
   "outputs": [
    {
     "data": {
      "text/plain": [
       "make\n",
       "-    1727\n",
       ".      46\n",
       ",       9\n",
       "Name: count, dtype: int64"
      ]
     },
     "execution_count": 24,
     "metadata": {},
     "output_type": "execute_result"
    }
   ],
   "source": [
    "(make\n",
    "   .str.extract(r'([^a-z A-Z])', expand = False)\n",
    "   .value_counts())\n",
    "# use r'([^0-9.])"
   ]
  },
  {
   "cell_type": "markdown",
   "id": "b2a9cc3a-5e48-4202-b340-338bafda75bf",
   "metadata": {},
   "source": [
    "### Splitting"
   ]
  },
  {
   "cell_type": "code",
   "execution_count": 26,
   "id": "a4b8f649-ecc7-4edc-bd69-93eea4d1f76d",
   "metadata": {},
   "outputs": [
    {
     "data": {
      "text/plain": [
       "0     0-10\n",
       "1    11-15\n",
       "2    11-15\n",
       "3    61-65\n",
       "4    46-50\n",
       "dtype: object"
      ]
     },
     "execution_count": 26,
     "metadata": {},
     "output_type": "execute_result"
    }
   ],
   "source": [
    "age = pd.Series(['0-10', '11-15', '11-15', '61-65', '46-50'])\n",
    "age"
   ]
  },
  {
   "cell_type": "code",
   "execution_count": 27,
   "id": "f50ca54f-e747-4b4d-9541-d5e14df8e098",
   "metadata": {},
   "outputs": [
    {
     "data": {
      "text/plain": [
       "0     [0, 10]\n",
       "1    [11, 15]\n",
       "2    [11, 15]\n",
       "3    [61, 65]\n",
       "4    [46, 50]\n",
       "dtype: object"
      ]
     },
     "execution_count": 27,
     "metadata": {},
     "output_type": "execute_result"
    }
   ],
   "source": [
    "age.str.split('-')"
   ]
  },
  {
   "cell_type": "code",
   "execution_count": 30,
   "id": "0b93fcae-0fe5-4ae7-9c42-d1f3aa178ade",
   "metadata": {},
   "outputs": [
    {
     "data": {
      "text/plain": [
       "0     0\n",
       "1    11\n",
       "2    11\n",
       "3    61\n",
       "4    46\n",
       "Name: 0, dtype: int64"
      ]
     },
     "execution_count": 30,
     "metadata": {},
     "output_type": "execute_result"
    }
   ],
   "source": [
    "# lower end of the age \n",
    "age.str.split('-' , expand = True).iloc[:,0].astype(int)"
   ]
  },
  {
   "cell_type": "code",
   "execution_count": 31,
   "id": "4d800a44-684e-4d44-ad33-a6dbd23298d1",
   "metadata": {},
   "outputs": [
    {
     "data": {
      "text/plain": [
       "0    10\n",
       "1    15\n",
       "2    15\n",
       "3    65\n",
       "4    50\n",
       "dtype: int64"
      ]
     },
     "execution_count": 31,
     "metadata": {},
     "output_type": "execute_result"
    }
   ],
   "source": [
    "age.str.slice(-2).astype(int)"
   ]
  },
  {
   "cell_type": "code",
   "execution_count": 34,
   "id": "30aad7ca-1067-4b30-a26a-960c5cc8ef04",
   "metadata": {},
   "outputs": [
    {
     "data": {
      "text/plain": [
       "0    10\n",
       "1    15\n",
       "2    15\n",
       "3    65\n",
       "4    50\n",
       "dtype: int64"
      ]
     },
     "execution_count": 34,
     "metadata": {},
     "output_type": "execute_result"
    }
   ],
   "source": [
    "age.str[-2:].astype(int)"
   ]
  },
  {
   "cell_type": "code",
   "execution_count": 36,
   "id": "47b495bd-2a2a-4c63-b209-562a92f328af",
   "metadata": {},
   "outputs": [
    {
     "data": {
      "text/plain": [
       "0     5.0\n",
       "1    13.0\n",
       "2    13.0\n",
       "3    63.0\n",
       "4    48.0\n",
       "dtype: float64"
      ]
     },
     "execution_count": 36,
     "metadata": {},
     "output_type": "execute_result"
    }
   ],
   "source": [
    "age.str.split('-', expand = True).astype(int).mean(axis='columns')"
   ]
  },
  {
   "cell_type": "code",
   "execution_count": 37,
   "id": "7bfc65e4-fde3-4ff7-8d49-e550f3f58125",
   "metadata": {},
   "outputs": [
    {
     "data": {
      "text/plain": [
       "0     2\n",
       "1    15\n",
       "2    12\n",
       "3    61\n",
       "4    50\n",
       "dtype: int64"
      ]
     },
     "execution_count": 37,
     "metadata": {},
     "output_type": "execute_result"
    }
   ],
   "source": [
    "import random \n",
    "def between(row):\n",
    "    return random.randint(*row.values)\n",
    "\n",
    "age.str.split('-', expand=True).astype(int).apply(between, axis='columns')"
   ]
  },
  {
   "cell_type": "markdown",
   "id": "107dbf3e-e8a3-4cce-8500-72beb7e1e92f",
   "metadata": {
    "jp-MarkdownHeadingCollapsed": true
   },
   "source": [
    "### Optimizing apply with cython"
   ]
  },
  {
   "cell_type": "code",
   "execution_count": 39,
   "id": "ba203f3c-fbc8-4c72-a640-64abe0b0ef49",
   "metadata": {},
   "outputs": [],
   "source": [
    "%load_ext Cython"
   ]
  },
  {
   "cell_type": "code",
   "execution_count": 41,
   "id": "e2363d5e-a2ce-4f05-9470-5ffc7b6e0cdf",
   "metadata": {},
   "outputs": [
    {
     "name": "stdout",
     "output_type": "stream",
     "text": [
      "Content of stderr:\n",
      "/Users/arunadas/.ipython/cython/_cython_magic_41c7c353bde59841458fd123f42339d82d2d1f20.c:3964:26: warning: code will never be executed [-Wunreachable-code]\n",
      " 3964 |                 module = PyImport_ImportModuleLevelObject(\n",
      "      |                          ^~~~~~~~~~~~~~~~~~~~~~~~~~~~~~~~\n",
      "1 warning generated.\n",
      "/Users/arunadas/.ipython/cython/_cython_magic_41c7c353bde59841458fd123f42339d82d2d1f20.c:3964:26: warning: code will never be executed [-Wunreachable-code]\n",
      " 3964 |                 module = PyImport_ImportModuleLevelObject(\n",
      "      |                          ^~~~~~~~~~~~~~~~~~~~~~~~~~~~~~~~\n",
      "1 warning generated."
     ]
    }
   ],
   "source": [
    "%%cython\n",
    "import random\n",
    "cpdef int between_cy3(int x , int y):\n",
    "    return random.randint(x,y)"
   ]
  },
  {
   "cell_type": "code",
   "execution_count": 42,
   "id": "8aa52969-fa91-49a0-863e-04ef52975d41",
   "metadata": {},
   "outputs": [
    {
     "data": {
      "text/plain": [
       "0    10\n",
       "1    15\n",
       "2    15\n",
       "3    63\n",
       "4    50\n",
       "dtype: int64"
      ]
     },
     "execution_count": 42,
     "metadata": {},
     "output_type": "execute_result"
    }
   ],
   "source": [
    "age.str.split('-', expand=True).astype(int).apply(lambda row: between_cy3(row[0], row[1]), axis=1)"
   ]
  },
  {
   "cell_type": "code",
   "execution_count": 43,
   "id": "842d34c0-8e9a-42b8-8f47-a64eb8486841",
   "metadata": {},
   "outputs": [
    {
     "name": "stdout",
     "output_type": "stream",
     "text": [
      " "
     ]
    },
    {
     "data": {
      "text/plain": [
       "         1086 function calls (1070 primitive calls) in 0.003 seconds\n",
       "\n",
       "   Ordered by: internal time\n",
       "   List reduced from 249 to 10 due to restriction <10>\n",
       "\n",
       "   ncalls  tottime  percall  cumtime  percall filename:lineno(function)\n",
       "      2/1    0.001    0.000    0.001    0.001 series.py:389(__init__)\n",
       "        1    0.000    0.000    0.003    0.003 {built-in method builtins.exec}\n",
       "        1    0.000    0.000    0.000    0.000 object_array.py:46(_str_map)\n",
       "      251    0.000    0.000    0.000    0.000 {built-in method builtins.isinstance}\n",
       "        1    0.000    0.000    0.001    0.001 accessor.py:255(_wrap_result)\n",
       "        1    0.000    0.000    0.000    0.000 frame.py:694(__init__)\n",
       "       10    0.000    0.000    0.000    0.000 series.py:1095(__getitem__)\n",
       "        4    0.000    0.000    0.000    0.000 construction.py:517(sanitize_array)\n",
       "        1    0.000    0.000    0.000    0.000 {method 'reduce' of 'numpy.ufunc' objects}\n",
       "        1    0.000    0.000    0.000    0.000 apply.py:1070(apply_series_generator)"
      ]
     },
     "metadata": {},
     "output_type": "display_data"
    }
   ],
   "source": [
    "%prun -l 10 (age.str.split('-', expand=True).astype(int).apply(lambda row: between_cy3(row[0], row[1]), axis=1))"
   ]
  },
  {
   "cell_type": "code",
   "execution_count": 49,
   "id": "4f057207-78a5-4e50-9913-43be39e9a8c0",
   "metadata": {},
   "outputs": [
    {
     "name": "stdout",
     "output_type": "stream",
     "text": [
      "Content of stderr:\n",
      "In file included from /Users/arunadas/.ipython/cython/_cython_magic_b696d7cb266d93584e388dc56942712c65ff4a27.c:1254:\n",
      "In file included from /Users/arunadas/Library/Python/3.9/lib/python/site-packages/numpy/_core/include/numpy/arrayobject.h:5:\n",
      "In file included from /Users/arunadas/Library/Python/3.9/lib/python/site-packages/numpy/_core/include/numpy/ndarrayobject.h:12:\n",
      "In file included from /Users/arunadas/Library/Python/3.9/lib/python/site-packages/numpy/_core/include/numpy/ndarraytypes.h:1909:\n",
      "/Users/arunadas/Library/Python/3.9/lib/python/site-packages/numpy/_core/include/numpy/npy_1_7_deprecated_api.h:17:2: warning: \"Using deprecated NumPy API, disable it with \"          \"#define NPY_NO_DEPRECATED_API NPY_1_7_API_VERSION\" [-W#warnings]\n",
      "   17 | #warning \"Using deprecated NumPy API, disable it with \" \\\n",
      "      |  ^\n",
      "/Users/arunadas/.ipython/cython/_cython_magic_b696d7cb266d93584e388dc56942712c65ff4a27.c:7713:26: warning: code will never be executed [-Wunreachable-code]\n",
      " 7713 |                 module = PyImport_ImportModuleLevelObject(\n",
      "      |                          ^~~~~~~~~~~~~~~~~~~~~~~~~~~~~~~~\n",
      "2 warnings generated.\n",
      "In file included from /Users/arunadas/.ipython/cython/_cython_magic_b696d7cb266d93584e388dc56942712c65ff4a27.c:1254:\n",
      "In file included from /Users/arunadas/Library/Python/3.9/lib/python/site-packages/numpy/_core/include/numpy/arrayobject.h:5:\n",
      "In file included from /Users/arunadas/Library/Python/3.9/lib/python/site-packages/numpy/_core/include/numpy/ndarrayobject.h:12:\n",
      "In file included from /Users/arunadas/Library/Python/3.9/lib/python/site-packages/numpy/_core/include/numpy/ndarraytypes.h:1909:\n",
      "/Users/arunadas/Library/Python/3.9/lib/python/site-packages/numpy/_core/include/numpy/npy_1_7_deprecated_api.h:17:2: warning: \"Using deprecated NumPy API, disable it with \"          \"#define NPY_NO_DEPRECATED_API NPY_1_7_API_VERSION\" [-W#warnings]\n",
      "   17 | #warning \"Using deprecated NumPy API, disable it with \" \\\n",
      "      |  ^\n",
      "/Users/arunadas/.ipython/cython/_cython_magic_b696d7cb266d93584e388dc56942712c65ff4a27.c:7713:26: warning: code will never be executed [-Wunreachable-code]\n",
      " 7713 |                 module = PyImport_ImportModuleLevelObject(\n",
      "      |                          ^~~~~~~~~~~~~~~~~~~~~~~~~~~~~~~~\n",
      "2 warnings generated."
     ]
    }
   ],
   "source": [
    "%%cython\n",
    "cimport numpy as np\n",
    "import numpy as np\n",
    "import random\n",
    "cpdef np.ndarray[int] apply_between_cy4(np.ndarray[int] x, np.ndarray[int] y):\n",
    "    cdef np.ndarray[int] res = np.empty(len(x), dtype='int32') \n",
    "    for i in range(len(x)):\n",
    "       res[i] = random.randint(x[i], y[i])\n",
    "    return res    "
   ]
  },
  {
   "cell_type": "code",
   "execution_count": 50,
   "id": "5cd00c1f-26f6-4928-8471-a96e4a423e47",
   "metadata": {},
   "outputs": [
    {
     "data": {
      "text/plain": [
       "array([ 8, 14, 11, 63, 48], dtype=int32)"
      ]
     },
     "execution_count": 50,
     "metadata": {},
     "output_type": "execute_result"
    }
   ],
   "source": [
    "(age\n",
    "  .str.split('-', expand=True)\n",
    "  .astype(int)\n",
    "  .pipe(lambda df_ : apply_between_cy4(df_.iloc[:,0].to_numpy(dtype='int32'),\n",
    "               df_.iloc[:,1].to_numpy(dtype='int32')\n",
    "                        ))\n",
    ")"
   ]
  },
  {
   "cell_type": "markdown",
   "id": "43d4b077-404f-4403-9225-6f1593c2edc0",
   "metadata": {},
   "source": [
    "### Replacing Text"
   ]
  },
  {
   "cell_type": "code",
   "execution_count": 51,
   "id": "0b9847ae-8413-411f-be06-c5959ab57848",
   "metadata": {},
   "outputs": [
    {
     "data": {
      "text/plain": [
       "0        Álfa Romeo\n",
       "1           Ferrari\n",
       "2             Dodge\n",
       "3             Dodge\n",
       "4            Subaru\n",
       "            ...    \n",
       "41139        Subaru\n",
       "41140        Subaru\n",
       "41141        Subaru\n",
       "41142        Subaru\n",
       "41143        Subaru\n",
       "Name: make, Length: 41144, dtype: object"
      ]
     },
     "execution_count": 51,
     "metadata": {},
     "output_type": "execute_result"
    }
   ],
   "source": [
    "make.str.replace('A', 'Á')"
   ]
  },
  {
   "cell_type": "code",
   "execution_count": 52,
   "id": "903e1d0f-838b-40af-9037-f87a2a1b1916",
   "metadata": {},
   "outputs": [
    {
     "data": {
      "text/plain": [
       "0        Alfa Romeo\n",
       "1           Ferrari\n",
       "2             Dodge\n",
       "3             Dodge\n",
       "4            Subaru\n",
       "            ...    \n",
       "41139        Subaru\n",
       "41140        Subaru\n",
       "41141        Subaru\n",
       "41142        Subaru\n",
       "41143        Subaru\n",
       "Name: make, Length: 41144, dtype: object"
      ]
     },
     "execution_count": 52,
     "metadata": {},
     "output_type": "execute_result"
    }
   ],
   "source": [
    "make.replace('A' , 'Á')"
   ]
  },
  {
   "cell_type": "code",
   "execution_count": 53,
   "id": "f45ddfdc-7d17-43fd-9cda-068fec2ef793",
   "metadata": {},
   "outputs": [
    {
     "data": {
      "text/plain": [
       "0        Álfa Romeo\n",
       "1           Ferrari\n",
       "2             Dodge\n",
       "3             Dodge\n",
       "4            Subaru\n",
       "            ...    \n",
       "41139        Subaru\n",
       "41140        Subaru\n",
       "41141        Subaru\n",
       "41142        Subaru\n",
       "41143        Subaru\n",
       "Name: make, Length: 41144, dtype: object"
      ]
     },
     "execution_count": 53,
     "metadata": {},
     "output_type": "execute_result"
    }
   ],
   "source": [
    "make.replace({'Audi' : 'Áudi', 'Acura':'Ácura', 'Ashton Martin' : 'Áshton Martin',\n",
    "              'Alfa Romeo':'Álfa Romeo'})"
   ]
  },
  {
   "cell_type": "code",
   "execution_count": 55,
   "id": "c2826961-0280-499c-844e-610d07d638b0",
   "metadata": {},
   "outputs": [
    {
     "data": {
      "text/plain": [
       "0        Álfa Romeo\n",
       "1           Ferrari\n",
       "2             Dodge\n",
       "3             Dodge\n",
       "4            Subaru\n",
       "            ...    \n",
       "41139        Subaru\n",
       "41140        Subaru\n",
       "41141        Subaru\n",
       "41142        Subaru\n",
       "41143        Subaru\n",
       "Name: make, Length: 41144, dtype: object"
      ]
     },
     "execution_count": 55,
     "metadata": {},
     "output_type": "execute_result"
    }
   ],
   "source": [
    "#.str.replace for substring , use .replace replace complete string\n",
    "make.replace('A', 'Á', regex=True)"
   ]
  },
  {
   "cell_type": "markdown",
   "id": "7dee71f2-2a1e-4507-b9a4-9155729e4e66",
   "metadata": {},
   "source": [
    "### Exercise 11.9"
   ]
  },
  {
   "cell_type": "code",
   "execution_count": 60,
   "id": "6766801e-ad38-451b-8f11-3c21646acb93",
   "metadata": {},
   "outputs": [
    {
     "data": {
      "text/plain": [
       "0    alfa romeo\n",
       "1       ferrari\n",
       "2         dodge\n",
       "3         dodge\n",
       "4        subaru\n",
       "5        subaru\n",
       "6        subaru\n",
       "7        toyota\n",
       "8        toyota\n",
       "9        toyota\n",
       "Name: make, dtype: object"
      ]
     },
     "execution_count": 60,
     "metadata": {},
     "output_type": "execute_result"
    }
   ],
   "source": [
    "# Using a string column , lowecase the values \n",
    "brand = make[:10]\n",
    "brand.str.lower()"
   ]
  },
  {
   "cell_type": "code",
   "execution_count": 65,
   "id": "ef25b9a3-ec74-4763-9f25-e293772b4775",
   "metadata": {},
   "outputs": [
    {
     "data": {
      "text/plain": [
       "0    A\n",
       "1    F\n",
       "2    D\n",
       "3    D\n",
       "4    S\n",
       "5    S\n",
       "6    S\n",
       "7    T\n",
       "8    T\n",
       "9    T\n",
       "Name: make, dtype: object"
      ]
     },
     "execution_count": 65,
     "metadata": {},
     "output_type": "execute_result"
    }
   ],
   "source": [
    "# Using a string column , slice out the first character [start:stop:step]\n",
    "brand.str.slice(0,1)"
   ]
  },
  {
   "cell_type": "code",
   "execution_count": 66,
   "id": "6e71f4cc-f6bf-42c8-a755-1d490205bdd5",
   "metadata": {},
   "outputs": [
    {
     "data": {
      "text/plain": [
       "0    meo\n",
       "1    ari\n",
       "2    dge\n",
       "3    dge\n",
       "4    aru\n",
       "5    aru\n",
       "6    aru\n",
       "7    ota\n",
       "8    ota\n",
       "9    ota\n",
       "Name: make, dtype: object"
      ]
     },
     "execution_count": 66,
     "metadata": {},
     "output_type": "execute_result"
    }
   ],
   "source": [
    "# Using a string column , slice out the last three character\n",
    "brand.str.slice(-3)"
   ]
  },
  {
   "cell_type": "code",
   "execution_count": 76,
   "id": "ddda7c50-2a51-4d94-b216-fc8262b3a622",
   "metadata": {},
   "outputs": [
    {
     "data": {
      "text/plain": [
       "0    123\n",
       "1    456\n",
       "2     78\n",
       "3    NaN\n",
       "dtype: object"
      ]
     },
     "execution_count": 76,
     "metadata": {},
     "output_type": "execute_result"
    }
   ],
   "source": [
    "# Using a string column , create a series extracting the numeric value\n",
    "data = pd.Series([\"Product 123\", \"Item456\", \"Code 78X\", \"NoNumber\"])\n",
    "#data.str.extract(r'([0-9]+)', expand=False)\n",
    "data.str.extract(r'(\\d+)', expand=False)"
   ]
  },
  {
   "cell_type": "code",
   "execution_count": 78,
   "id": "99481583-1b3d-4246-b3e1-6ce8c0be14d8",
   "metadata": {},
   "outputs": [
    {
     "data": {
      "text/plain": [
       "0    NaN\n",
       "1      é\n",
       "2    NaN\n",
       "3     你好\n",
       "4    NaN\n",
       "dtype: object"
      ]
     },
     "execution_count": 78,
     "metadata": {},
     "output_type": "execute_result"
    }
   ],
   "source": [
    "# Using a string column , create a series extracting the non-ASCII value\n",
    "data = pd.Series([\"Hello!\", \"Café\", \"123\", \"你好\", \"ASCII only\"])\n",
    "# Extract non-ASCII values\n",
    "data.str.extract(r'([^\\x00-\\x7F]+)', expand=False)"
   ]
  },
  {
   "cell_type": "code",
   "execution_count": 87,
   "id": "78b83281-9607-4b44-a2d1-8f571d5f2467",
   "metadata": {
    "scrolled": true
   },
   "outputs": [
    {
     "data": {
      "text/html": [
       "<div>\n",
       "<style scoped>\n",
       "    .dataframe tbody tr th:only-of-type {\n",
       "        vertical-align: middle;\n",
       "    }\n",
       "\n",
       "    .dataframe tbody tr th {\n",
       "        vertical-align: top;\n",
       "    }\n",
       "\n",
       "    .dataframe thead th {\n",
       "        text-align: right;\n",
       "    }\n",
       "</style>\n",
       "<table border=\"1\" class=\"dataframe\">\n",
       "  <thead>\n",
       "    <tr style=\"text-align: right;\">\n",
       "      <th></th>\n",
       "      <th>a</th>\n",
       "      <th>b</th>\n",
       "      <th>c</th>\n",
       "      <th>b</th>\n",
       "      <th>c</th>\n",
       "      <th>d</th>\n",
       "      <th>c</th>\n",
       "      <th>d</th>\n",
       "      <th>e</th>\n",
       "    </tr>\n",
       "  </thead>\n",
       "  <tbody>\n",
       "    <tr>\n",
       "      <th>0</th>\n",
       "      <td>1</td>\n",
       "      <td>0</td>\n",
       "      <td>0</td>\n",
       "      <td>1</td>\n",
       "      <td>0</td>\n",
       "      <td>0</td>\n",
       "      <td>1</td>\n",
       "      <td>0</td>\n",
       "      <td>0</td>\n",
       "    </tr>\n",
       "    <tr>\n",
       "      <th>1</th>\n",
       "      <td>0</td>\n",
       "      <td>1</td>\n",
       "      <td>0</td>\n",
       "      <td>0</td>\n",
       "      <td>1</td>\n",
       "      <td>0</td>\n",
       "      <td>0</td>\n",
       "      <td>1</td>\n",
       "      <td>0</td>\n",
       "    </tr>\n",
       "    <tr>\n",
       "      <th>2</th>\n",
       "      <td>0</td>\n",
       "      <td>0</td>\n",
       "      <td>1</td>\n",
       "      <td>0</td>\n",
       "      <td>0</td>\n",
       "      <td>1</td>\n",
       "      <td>0</td>\n",
       "      <td>0</td>\n",
       "      <td>1</td>\n",
       "    </tr>\n",
       "  </tbody>\n",
       "</table>\n",
       "</div>"
      ],
      "text/plain": [
       "   a  b  c  b  c  d  c  d  e\n",
       "0  1  0  0  1  0  0  1  0  0\n",
       "1  0  1  0  0  1  0  0  1  0\n",
       "2  0  0  1  0  0  1  0  0  1"
      ]
     },
     "execution_count": 87,
     "metadata": {},
     "output_type": "execute_result"
    }
   ],
   "source": [
    "# Using a string column , create a dataframe with the dummy columns for every character in the column\n",
    "#brand.str.split(expand=True)\n",
    "\n",
    "data = pd.Series([\"abc\", \"bcd\", \"cde\"])\n",
    "\n",
    "# Split each string into characters and create a DataFrame\n",
    "char_df = data.apply(lambda x: pd.Series(list(x)))\n",
    "\n",
    "char_df\n",
    "# Use get_dummies to create dummy columns\n",
    "dummy_df = pd.get_dummies(char_df, prefix='', prefix_sep='')\n",
    "dummy_df.astype(int)"
   ]
  }
 ],
 "metadata": {
  "kernelspec": {
   "display_name": "Python 3 (ipykernel)",
   "language": "python",
   "name": "python3"
  },
  "language_info": {
   "codemirror_mode": {
    "name": "ipython",
    "version": 3
   },
   "file_extension": ".py",
   "mimetype": "text/x-python",
   "name": "python",
   "nbconvert_exporter": "python",
   "pygments_lexer": "ipython3",
   "version": "3.9.6"
  }
 },
 "nbformat": 4,
 "nbformat_minor": 5
}
