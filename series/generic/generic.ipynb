{
 "cells": [
  {
   "cell_type": "code",
   "execution_count": 7,
   "id": "6680af8d-6ceb-42fe-b089-707156aaa331",
   "metadata": {},
   "outputs": [],
   "source": [
    "import pandas\n",
    "#pandas.show_versions()\n"
   ]
  },
  {
   "cell_type": "code",
   "execution_count": 9,
   "id": "c9f8a4d9-450b-4cdd-8776-7d0f4217f92d",
   "metadata": {},
   "outputs": [],
   "source": [
    "series ={\n",
    "    'index' : [0,1,2,3],\n",
    "    'data' : [145, 142, 38, 13],\n",
    "    'name' : 'songs'\n",
    "}"
   ]
  },
  {
   "cell_type": "code",
   "execution_count": 10,
   "id": "d672c5f5-1ac5-4e50-8786-361e5067064c",
   "metadata": {},
   "outputs": [],
   "source": [
    "def get(series , idx):\n",
    "    value_idx = series['index'].index(idx)\n",
    "    return series['data'][value_idx]"
   ]
  },
  {
   "cell_type": "code",
   "execution_count": 11,
   "id": "658ecd74-2aaf-4ed7-bf55-b97d0c6115df",
   "metadata": {},
   "outputs": [
    {
     "data": {
      "text/plain": [
       "142"
      ]
     },
     "execution_count": 11,
     "metadata": {},
     "output_type": "execute_result"
    }
   ],
   "source": [
    "get(series, 1)"
   ]
  },
  {
   "cell_type": "code",
   "execution_count": 14,
   "id": "f272f3cb-55ad-4b29-bbd3-caf9a6757991",
   "metadata": {},
   "outputs": [
    {
     "data": {
      "text/plain": [
       "2"
      ]
     },
     "execution_count": 14,
     "metadata": {},
     "output_type": "execute_result"
    }
   ],
   "source": [
    "series['index'].index(2)"
   ]
  },
  {
   "cell_type": "code",
   "execution_count": 17,
   "id": "7c6333f6-9dda-40e4-a333-8160964e3273",
   "metadata": {},
   "outputs": [
    {
     "name": "stdout",
     "output_type": "stream",
     "text": [
      "testing\n"
     ]
    }
   ],
   "source": [
    "print('testing')"
   ]
  },
  {
   "cell_type": "code",
   "execution_count": null,
   "id": "f179f73a-9794-40d7-ac12-4c61e0ef5104",
   "metadata": {},
   "outputs": [],
   "source": []
  }
 ],
 "metadata": {
  "kernelspec": {
   "display_name": "Python 3 (ipykernel)",
   "language": "python",
   "name": "python3"
  },
  "language_info": {
   "codemirror_mode": {
    "name": "ipython",
    "version": 3
   },
   "file_extension": ".py",
   "mimetype": "text/x-python",
   "name": "python",
   "nbconvert_exporter": "python",
   "pygments_lexer": "ipython3",
   "version": "3.10.8"
  }
 },
 "nbformat": 4,
 "nbformat_minor": 5
}
