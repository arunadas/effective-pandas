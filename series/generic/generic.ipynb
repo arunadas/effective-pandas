{
 "cells": [
  {
   "cell_type": "code",
   "execution_count": 7,
   "id": "6680af8d-6ceb-42fe-b089-707156aaa331",
   "metadata": {},
   "outputs": [],
   "source": [
    "import pandas\n",
    "#pandas.show_versions()\n"
   ]
  },
  {
   "cell_type": "code",
   "execution_count": 9,
   "id": "c9f8a4d9-450b-4cdd-8776-7d0f4217f92d",
   "metadata": {},
   "outputs": [],
   "source": [
    "series ={\n",
    "    'index' : [0,1,2,3],\n",
    "    'data' : [145, 142, 38, 13],\n",
    "    'name' : 'songs'\n",
    "}"
   ]
  },
  {
   "cell_type": "code",
   "execution_count": 10,
   "id": "d672c5f5-1ac5-4e50-8786-361e5067064c",
   "metadata": {},
   "outputs": [],
   "source": [
    "def get(series , idx):\n",
    "    value_idx = series['index'].index(idx)\n",
    "    return series['data'][value_idx]"
   ]
  },
  {
   "cell_type": "code",
   "execution_count": 11,
   "id": "658ecd74-2aaf-4ed7-bf55-b97d0c6115df",
   "metadata": {},
   "outputs": [
    {
     "data": {
      "text/plain": [
       "142"
      ]
     },
     "execution_count": 11,
     "metadata": {},
     "output_type": "execute_result"
    }
   ],
   "source": [
    "get(series, 1)"
   ]
  },
  {
   "cell_type": "code",
   "execution_count": 20,
   "id": "78f5c355-1451-4396-a8f9-14ea2472d2cf",
   "metadata": {},
   "outputs": [
    {
     "data": {
      "text/plain": [
       "13"
      ]
     },
     "execution_count": 20,
     "metadata": {},
     "output_type": "execute_result"
    }
   ],
   "source": [
    "get(series,3)"
   ]
  },
  {
   "cell_type": "code",
   "execution_count": 14,
   "id": "f272f3cb-55ad-4b29-bbd3-caf9a6757991",
   "metadata": {},
   "outputs": [
    {
     "data": {
      "text/plain": [
       "2"
      ]
     },
     "execution_count": 14,
     "metadata": {},
     "output_type": "execute_result"
    }
   ],
   "source": [
    "series['index'].index(2)"
   ]
  },
  {
   "cell_type": "code",
   "execution_count": 17,
   "id": "7c6333f6-9dda-40e4-a333-8160964e3273",
   "metadata": {},
   "outputs": [
    {
     "name": "stdout",
     "output_type": "stream",
     "text": [
      "testing\n"
     ]
    }
   ],
   "source": [
    "print('testing')"
   ]
  },
  {
   "cell_type": "code",
   "execution_count": 18,
   "id": "f179f73a-9794-40d7-ac12-4c61e0ef5104",
   "metadata": {},
   "outputs": [],
   "source": [
    "songs ={\n",
    "    'index' : ['Paul','John','Aruna','Jisha'],\n",
    "    'data' : [145, 142, 38, 13],\n",
    "    'name' : 'counts'\n",
    "}"
   ]
  },
  {
   "cell_type": "code",
   "execution_count": 19,
   "id": "dfb18a71-632f-4bea-9009-8e7bcc374ed8",
   "metadata": {},
   "outputs": [
    {
     "data": {
      "text/plain": [
       "38"
      ]
     },
     "execution_count": 19,
     "metadata": {},
     "output_type": "execute_result"
    }
   ],
   "source": [
    "get(songs, 'Aruna')"
   ]
  },
  {
   "cell_type": "code",
   "execution_count": 22,
   "id": "f04d55c2-a412-4076-b080-bf9b6a2a59ff",
   "metadata": {},
   "outputs": [
    {
     "name": "stdout",
     "output_type": "stream",
     "text": [
      "2\n"
     ]
    }
   ],
   "source": [
    "value_idx = songs['index'].index('Aruna')\n",
    "print(value_idx)"
   ]
  },
  {
   "cell_type": "code",
   "execution_count": 24,
   "id": "3aa22a2f-d739-43fa-a566-1825d90940c8",
   "metadata": {},
   "outputs": [],
   "source": [
    "# create series obj from list\n",
    "import pandas as pd\n",
    "songs2 = pd.Series([145, 142, 38, 13],\n",
    "                   name = 'counts')\n",
    "                   "
   ]
  },
  {
   "cell_type": "code",
   "execution_count": 25,
   "id": "a0518aea-2145-42d6-8a3f-2af8e20d3849",
   "metadata": {},
   "outputs": [
    {
     "data": {
      "text/plain": [
       "0    145\n",
       "1    142\n",
       "2     38\n",
       "3     13\n",
       "Name: counts, dtype: int64"
      ]
     },
     "execution_count": 25,
     "metadata": {},
     "output_type": "execute_result"
    }
   ],
   "source": [
    "songs2"
   ]
  },
  {
   "cell_type": "code",
   "execution_count": 26,
   "id": "69bd6d86-cb3f-4c46-aae7-5cbe4a84cba1",
   "metadata": {},
   "outputs": [
    {
     "data": {
      "text/plain": [
       "RangeIndex(start=0, stop=4, step=1)"
      ]
     },
     "execution_count": 26,
     "metadata": {},
     "output_type": "execute_result"
    }
   ],
   "source": [
    "songs2.index"
   ]
  },
  {
   "cell_type": "code",
   "execution_count": 28,
   "id": "5ee10d7f-1037-426b-a6d0-e74e89633cc4",
   "metadata": {},
   "outputs": [],
   "source": [
    "songs3 = pd.Series([145, 142, 38, 13],\n",
    "          name = 'counts',\n",
    "          index = ['Paul','John','Aruna','Jisha'])"
   ]
  },
  {
   "cell_type": "code",
   "execution_count": 29,
   "id": "6e80e13d-8fcb-4620-8e04-529f0a50e485",
   "metadata": {},
   "outputs": [
    {
     "data": {
      "text/plain": [
       "Paul     145\n",
       "John     142\n",
       "Aruna     38\n",
       "Jisha     13\n",
       "Name: counts, dtype: int64"
      ]
     },
     "execution_count": 29,
     "metadata": {},
     "output_type": "execute_result"
    }
   ],
   "source": [
    "songs3"
   ]
  },
  {
   "cell_type": "code",
   "execution_count": 30,
   "id": "079f7f05-a7b2-439a-98d8-254ed6b479c5",
   "metadata": {},
   "outputs": [
    {
     "data": {
      "text/plain": [
       "Index(['Paul', 'John', 'Aruna', 'Jisha'], dtype='object')"
      ]
     },
     "execution_count": 30,
     "metadata": {},
     "output_type": "execute_result"
    }
   ],
   "source": [
    "songs3.index"
   ]
  }
 ],
 "metadata": {
  "kernelspec": {
   "display_name": "Python 3 (ipykernel)",
   "language": "python",
   "name": "python3"
  },
  "language_info": {
   "codemirror_mode": {
    "name": "ipython",
    "version": 3
   },
   "file_extension": ".py",
   "mimetype": "text/x-python",
   "name": "python",
   "nbconvert_exporter": "python",
   "pygments_lexer": "ipython3",
   "version": "3.10.8"
  }
 },
 "nbformat": 4,
 "nbformat_minor": 5
}
