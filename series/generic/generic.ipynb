{
 "cells": [
  {
   "cell_type": "code",
   "execution_count": 7,
   "id": "6680af8d-6ceb-42fe-b089-707156aaa331",
   "metadata": {},
   "outputs": [],
   "source": [
    "import pandas\n",
    "#pandas.show_versions()\n"
   ]
  },
  {
   "cell_type": "code",
   "execution_count": 9,
   "id": "c9f8a4d9-450b-4cdd-8776-7d0f4217f92d",
   "metadata": {},
   "outputs": [],
   "source": [
    "series ={\n",
    "    'index' : [0,1,2,3],\n",
    "    'data' : [145, 142, 38, 13],\n",
    "    'name' : 'songs'\n",
    "}"
   ]
  },
  {
   "cell_type": "code",
   "execution_count": 10,
   "id": "d672c5f5-1ac5-4e50-8786-361e5067064c",
   "metadata": {},
   "outputs": [],
   "source": [
    "def get(series , idx):\n",
    "    value_idx = series['index'].index(idx)\n",
    "    return series['data'][value_idx]"
   ]
  },
  {
   "cell_type": "code",
   "execution_count": 11,
   "id": "658ecd74-2aaf-4ed7-bf55-b97d0c6115df",
   "metadata": {},
   "outputs": [
    {
     "data": {
      "text/plain": [
       "142"
      ]
     },
     "execution_count": 11,
     "metadata": {},
     "output_type": "execute_result"
    }
   ],
   "source": [
    "get(series, 1)"
   ]
  },
  {
   "cell_type": "code",
   "execution_count": 20,
   "id": "78f5c355-1451-4396-a8f9-14ea2472d2cf",
   "metadata": {},
   "outputs": [
    {
     "data": {
      "text/plain": [
       "13"
      ]
     },
     "execution_count": 20,
     "metadata": {},
     "output_type": "execute_result"
    }
   ],
   "source": [
    "get(series,3)"
   ]
  },
  {
   "cell_type": "code",
   "execution_count": 14,
   "id": "f272f3cb-55ad-4b29-bbd3-caf9a6757991",
   "metadata": {},
   "outputs": [
    {
     "data": {
      "text/plain": [
       "2"
      ]
     },
     "execution_count": 14,
     "metadata": {},
     "output_type": "execute_result"
    }
   ],
   "source": [
    "series['index'].index(2)"
   ]
  },
  {
   "cell_type": "code",
   "execution_count": 17,
   "id": "7c6333f6-9dda-40e4-a333-8160964e3273",
   "metadata": {},
   "outputs": [
    {
     "name": "stdout",
     "output_type": "stream",
     "text": [
      "testing\n"
     ]
    }
   ],
   "source": [
    "print('testing')"
   ]
  },
  {
   "cell_type": "code",
   "execution_count": 18,
   "id": "f179f73a-9794-40d7-ac12-4c61e0ef5104",
   "metadata": {},
   "outputs": [],
   "source": [
    "songs ={\n",
    "    'index' : ['Paul','John','Aruna','Jisha'],\n",
    "    'data' : [145, 142, 38, 13],\n",
    "    'name' : 'counts'\n",
    "}"
   ]
  },
  {
   "cell_type": "code",
   "execution_count": 19,
   "id": "dfb18a71-632f-4bea-9009-8e7bcc374ed8",
   "metadata": {},
   "outputs": [
    {
     "data": {
      "text/plain": [
       "38"
      ]
     },
     "execution_count": 19,
     "metadata": {},
     "output_type": "execute_result"
    }
   ],
   "source": [
    "get(songs, 'Aruna')"
   ]
  },
  {
   "cell_type": "code",
   "execution_count": 22,
   "id": "f04d55c2-a412-4076-b080-bf9b6a2a59ff",
   "metadata": {},
   "outputs": [
    {
     "name": "stdout",
     "output_type": "stream",
     "text": [
      "2\n"
     ]
    }
   ],
   "source": [
    "value_idx = songs['index'].index('Aruna')\n",
    "print(value_idx)"
   ]
  },
  {
   "cell_type": "code",
   "execution_count": 24,
   "id": "3aa22a2f-d739-43fa-a566-1825d90940c8",
   "metadata": {},
   "outputs": [],
   "source": [
    "# create series obj from list\n",
    "import pandas as pd\n",
    "songs2 = pd.Series([145, 142, 38, 13],\n",
    "                   name = 'counts')\n",
    "                   "
   ]
  },
  {
   "cell_type": "code",
   "execution_count": 25,
   "id": "a0518aea-2145-42d6-8a3f-2af8e20d3849",
   "metadata": {},
   "outputs": [
    {
     "data": {
      "text/plain": [
       "0    145\n",
       "1    142\n",
       "2     38\n",
       "3     13\n",
       "Name: counts, dtype: int64"
      ]
     },
     "execution_count": 25,
     "metadata": {},
     "output_type": "execute_result"
    }
   ],
   "source": [
    "songs2"
   ]
  },
  {
   "cell_type": "code",
   "execution_count": 26,
   "id": "69bd6d86-cb3f-4c46-aae7-5cbe4a84cba1",
   "metadata": {},
   "outputs": [
    {
     "data": {
      "text/plain": [
       "RangeIndex(start=0, stop=4, step=1)"
      ]
     },
     "execution_count": 26,
     "metadata": {},
     "output_type": "execute_result"
    }
   ],
   "source": [
    "songs2.index"
   ]
  },
  {
   "cell_type": "code",
   "execution_count": 28,
   "id": "5ee10d7f-1037-426b-a6d0-e74e89633cc4",
   "metadata": {},
   "outputs": [],
   "source": [
    "songs3 = pd.Series([145, 142, 38, 13],\n",
    "          name = 'counts',\n",
    "          index = ['Paul','John','Aruna','Jisha'])"
   ]
  },
  {
   "cell_type": "code",
   "execution_count": 29,
   "id": "6e80e13d-8fcb-4620-8e04-529f0a50e485",
   "metadata": {},
   "outputs": [
    {
     "data": {
      "text/plain": [
       "Paul     145\n",
       "John     142\n",
       "Aruna     38\n",
       "Jisha     13\n",
       "Name: counts, dtype: int64"
      ]
     },
     "execution_count": 29,
     "metadata": {},
     "output_type": "execute_result"
    }
   ],
   "source": [
    "songs3"
   ]
  },
  {
   "cell_type": "code",
   "execution_count": 30,
   "id": "079f7f05-a7b2-439a-98d8-254ed6b479c5",
   "metadata": {},
   "outputs": [
    {
     "data": {
      "text/plain": [
       "Index(['Paul', 'John', 'Aruna', 'Jisha'], dtype='object')"
      ]
     },
     "execution_count": 30,
     "metadata": {},
     "output_type": "execute_result"
    }
   ],
   "source": [
    "songs3.index"
   ]
  },
  {
   "cell_type": "code",
   "execution_count": 33,
   "id": "b5926e4f-8d55-4784-b346-4f6963128b2f",
   "metadata": {},
   "outputs": [],
   "source": [
    "class Foo:\n",
    "    pass"
   ]
  },
  {
   "cell_type": "code",
   "execution_count": 35,
   "id": "9c320c40-0e60-42ad-bf2b-86c06a060492",
   "metadata": {},
   "outputs": [],
   "source": [
    "ringo = pd.Series(\n",
    "    ['Richard', 'Starkey' , 12 , Foo()],\n",
    "    name = 'ringo' )"
   ]
  },
  {
   "cell_type": "code",
   "execution_count": 36,
   "id": "2499084c-0cb0-47b8-8a1e-65bf2e0215f0",
   "metadata": {},
   "outputs": [
    {
     "data": {
      "text/plain": [
       "0                                 Richard\n",
       "1                                 Starkey\n",
       "2                                      12\n",
       "3    <__main__.Foo object at 0x123554880>\n",
       "Name: ringo, dtype: object"
      ]
     },
     "execution_count": 36,
     "metadata": {},
     "output_type": "execute_result"
    }
   ],
   "source": [
    "ringo"
   ]
  },
  {
   "cell_type": "code",
   "execution_count": 38,
   "id": "7393bde9-9a15-4c84-89e0-41c88bd0df38",
   "metadata": {},
   "outputs": [],
   "source": [
    "# NAN value \n",
    "import numpy as np \n",
    "nan_series = pd.Series([ 2, np.nan ],\n",
    "                       index = ['ono', 'Clapton'])"
   ]
  },
  {
   "cell_type": "code",
   "execution_count": 39,
   "id": "52308569-24c4-4010-b10d-37e2ec347fb6",
   "metadata": {},
   "outputs": [
    {
     "data": {
      "text/plain": [
       "ono        2.0\n",
       "Clapton    NaN\n",
       "dtype: float64"
      ]
     },
     "execution_count": 39,
     "metadata": {},
     "output_type": "execute_result"
    }
   ],
   "source": [
    "nan_series"
   ]
  },
  {
   "cell_type": "code",
   "execution_count": 40,
   "id": "7fa9ad1a-3da3-4f74-8c3b-a85e80ec493d",
   "metadata": {},
   "outputs": [
    {
     "data": {
      "text/plain": [
       "1"
      ]
     },
     "execution_count": 40,
     "metadata": {},
     "output_type": "execute_result"
    }
   ],
   "source": [
    "nan_series.count()"
   ]
  },
  {
   "cell_type": "code",
   "execution_count": 41,
   "id": "fa1b9a7f-cff6-4b3a-a91a-70ac2a4bf116",
   "metadata": {},
   "outputs": [
    {
     "data": {
      "text/plain": [
       "2"
      ]
     },
     "execution_count": 41,
     "metadata": {},
     "output_type": "execute_result"
    }
   ],
   "source": [
    "nan_series.size"
   ]
  },
  {
   "cell_type": "code",
   "execution_count": 42,
   "id": "c5e2bdea-b651-4ff5-8ff9-43f46cef4e23",
   "metadata": {},
   "outputs": [],
   "source": [
    "nan_series2 = pd.Series([2, None],\n",
    "                        index = ['one', 'Clapton'])"
   ]
  },
  {
   "cell_type": "code",
   "execution_count": 43,
   "id": "ede08ff3-7097-4ec6-9b92-baf1c9386add",
   "metadata": {},
   "outputs": [
    {
     "data": {
      "text/plain": [
       "one        2.0\n",
       "Clapton    NaN\n",
       "dtype: float64"
      ]
     },
     "execution_count": 43,
     "metadata": {},
     "output_type": "execute_result"
    }
   ],
   "source": [
    "nan_series2"
   ]
  },
  {
   "cell_type": "code",
   "execution_count": 44,
   "id": "c65626a3-7093-452e-b042-7f84bbca6869",
   "metadata": {},
   "outputs": [],
   "source": [
    "nan_series3 = pd.Series([2, None],\n",
    "                        index = ['one', 'Clapton'],\n",
    "                       dtype = 'Int64')"
   ]
  },
  {
   "cell_type": "code",
   "execution_count": 45,
   "id": "5577467d-48d5-4215-ae81-37d8dfe1a1f7",
   "metadata": {},
   "outputs": [
    {
     "data": {
      "text/plain": [
       "one           2\n",
       "Clapton    <NA>\n",
       "dtype: Int64"
      ]
     },
     "execution_count": 45,
     "metadata": {},
     "output_type": "execute_result"
    }
   ],
   "source": [
    "nan_series3"
   ]
  },
  {
   "cell_type": "code",
   "execution_count": 46,
   "id": "ebed9f14-8620-4be8-8224-db6be13be52e",
   "metadata": {},
   "outputs": [
    {
     "data": {
      "text/plain": [
       "1"
      ]
     },
     "execution_count": 46,
     "metadata": {},
     "output_type": "execute_result"
    }
   ],
   "source": [
    "nan_series3.count()"
   ]
  },
  {
   "cell_type": "code",
   "execution_count": 47,
   "id": "f667f2c0-2cf3-4236-975c-9498c5a9e921",
   "metadata": {},
   "outputs": [
    {
     "data": {
      "text/plain": [
       "2"
      ]
     },
     "execution_count": 47,
     "metadata": {},
     "output_type": "execute_result"
    }
   ],
   "source": [
    "nan_series.size"
   ]
  },
  {
   "cell_type": "code",
   "execution_count": 48,
   "id": "0b064c20-af29-44cf-a88f-f037be208878",
   "metadata": {},
   "outputs": [
    {
     "data": {
      "text/plain": [
       "one           2\n",
       "Clapton    <NA>\n",
       "dtype: Int64"
      ]
     },
     "execution_count": 48,
     "metadata": {},
     "output_type": "execute_result"
    }
   ],
   "source": [
    "nan_series2.astype('Int64')"
   ]
  },
  {
   "cell_type": "code",
   "execution_count": 62,
   "id": "f8837865-b31b-4da6-a0ce-2f633fc30ae7",
   "metadata": {},
   "outputs": [],
   "source": [
    "import numpy as np\n",
    "numpy_ser = np.array([145, 142, 38, 13])"
   ]
  },
  {
   "cell_type": "code",
   "execution_count": 63,
   "id": "94b8c1c1-6dbf-4587-98c7-2d5910383bf7",
   "metadata": {},
   "outputs": [
    {
     "data": {
      "text/plain": [
       "142"
      ]
     },
     "execution_count": 63,
     "metadata": {},
     "output_type": "execute_result"
    }
   ],
   "source": [
    "numpy_ser[1]"
   ]
  },
  {
   "cell_type": "code",
   "execution_count": 64,
   "id": "82ab9436-ba55-43f4-b1cb-fda2004d5675",
   "metadata": {},
   "outputs": [
    {
     "name": "stderr",
     "output_type": "stream",
     "text": [
      "/var/folders/lf/9dmpmmvj1qj24tjd2m294pj80000gp/T/ipykernel_60577/248743854.py:1: FutureWarning: Series.__getitem__ treating keys as positions is deprecated. In a future version, integer keys will always be treated as labels (consistent with DataFrame behavior). To access a value by position, use `ser.iloc[pos]`\n",
      "  songs3[1]\n"
     ]
    },
    {
     "data": {
      "text/plain": [
       "142"
      ]
     },
     "execution_count": 64,
     "metadata": {},
     "output_type": "execute_result"
    }
   ],
   "source": [
    "songs3[1]"
   ]
  },
  {
   "cell_type": "code",
   "execution_count": 65,
   "id": "4c04b20d-e80f-4a26-8906-892fbcd5ddbd",
   "metadata": {},
   "outputs": [
    {
     "data": {
      "text/plain": [
       "84.5"
      ]
     },
     "execution_count": 65,
     "metadata": {},
     "output_type": "execute_result"
    }
   ],
   "source": [
    "songs3.mean()"
   ]
  },
  {
   "cell_type": "code",
   "execution_count": 66,
   "id": "56f9c249-f229-4b82-89a4-eea4cf9c4ebc",
   "metadata": {},
   "outputs": [
    {
     "data": {
      "text/plain": [
       "84.5"
      ]
     },
     "execution_count": 66,
     "metadata": {},
     "output_type": "execute_result"
    }
   ],
   "source": [
    "numpy_ser.mean()"
   ]
  },
  {
   "cell_type": "code",
   "execution_count": 67,
   "id": "6f9d2fa8-de30-436d-a1a4-eae1c57775f4",
   "metadata": {},
   "outputs": [],
   "source": [
    "mask = songs3 > songs3.median()"
   ]
  },
  {
   "cell_type": "code",
   "execution_count": 68,
   "id": "fb73f347-a91f-45f2-8805-94a38884214e",
   "metadata": {},
   "outputs": [
    {
     "data": {
      "text/plain": [
       "Paul      True\n",
       "John      True\n",
       "Aruna    False\n",
       "Jisha    False\n",
       "Name: counts, dtype: bool"
      ]
     },
     "execution_count": 68,
     "metadata": {},
     "output_type": "execute_result"
    }
   ],
   "source": [
    "mask"
   ]
  },
  {
   "cell_type": "code",
   "execution_count": 69,
   "id": "fa6cd9a6-b868-40df-938f-6ae847f1464c",
   "metadata": {},
   "outputs": [
    {
     "data": {
      "text/plain": [
       "Paul    145\n",
       "John    142\n",
       "Name: counts, dtype: int64"
      ]
     },
     "execution_count": 69,
     "metadata": {},
     "output_type": "execute_result"
    }
   ],
   "source": [
    "songs3[mask]"
   ]
  },
  {
   "cell_type": "code",
   "execution_count": 71,
   "id": "db9b5de9-1772-428a-afbf-60262e988b8d",
   "metadata": {},
   "outputs": [
    {
     "data": {
      "text/plain": [
       "array([145, 142])"
      ]
     },
     "execution_count": 71,
     "metadata": {},
     "output_type": "execute_result"
    }
   ],
   "source": [
    "numpy_ser[numpy_ser > np.median(numpy_ser)]"
   ]
  },
  {
   "cell_type": "markdown",
   "id": "b4233e8d-ef2f-4ccb-9739-a80f48591019",
   "metadata": {},
   "source": [
    "#categorical data use less memory than strings \n",
    "# improve performance\n",
    "# can have ordering \n",
    "# can perform operations on categories \n",
    "# enforce membership on values"
   ]
  },
  {
   "cell_type": "code",
   "execution_count": 72,
   "id": "00ab0b8a-2c67-473c-bd85-403907b0803d",
   "metadata": {},
   "outputs": [],
   "source": [
    "s = pd.Series(['m','l' , 'xs', 's' , 'xl'], dtype = 'category')"
   ]
  },
  {
   "cell_type": "code",
   "execution_count": 73,
   "id": "44bd436b-3f53-43ec-8eb5-3e3a8b2555ef",
   "metadata": {},
   "outputs": [
    {
     "data": {
      "text/plain": [
       "0     m\n",
       "1     l\n",
       "2    xs\n",
       "3     s\n",
       "4    xl\n",
       "dtype: category\n",
       "Categories (5, object): ['l', 'm', 's', 'xl', 'xs']"
      ]
     },
     "execution_count": 73,
     "metadata": {},
     "output_type": "execute_result"
    }
   ],
   "source": [
    "s"
   ]
  },
  {
   "cell_type": "code",
   "execution_count": 74,
   "id": "44722eb6-c9b0-454d-a605-cc6b63b772e7",
   "metadata": {},
   "outputs": [
    {
     "data": {
      "text/plain": [
       "False"
      ]
     },
     "execution_count": 74,
     "metadata": {},
     "output_type": "execute_result"
    }
   ],
   "source": [
    "s.cat.ordered"
   ]
  },
  {
   "cell_type": "code",
   "execution_count": 75,
   "id": "5e997d51-0c60-48df-8023-adfb148e5f62",
   "metadata": {},
   "outputs": [],
   "source": [
    "s2 = pd.Series(['m','l' , 'xs', 's' , 'xl'])"
   ]
  },
  {
   "cell_type": "code",
   "execution_count": 79,
   "id": "570ed78a-76af-4147-b2dc-99f99672b5c3",
   "metadata": {},
   "outputs": [],
   "source": [
    "size_type = pd.api.types.CategoricalDtype(\n",
    "             categories = ['s','m','l'], ordered=True)"
   ]
  },
  {
   "cell_type": "code",
   "execution_count": 80,
   "id": "640bb50c-bef6-4773-9ed7-c1c591405c61",
   "metadata": {},
   "outputs": [],
   "source": [
    "s3 = s2.astype(size_type)"
   ]
  },
  {
   "cell_type": "code",
   "execution_count": 81,
   "id": "46c1653d-46ce-4cfc-8743-3957e0f8abf8",
   "metadata": {},
   "outputs": [
    {
     "data": {
      "text/plain": [
       "0      m\n",
       "1      l\n",
       "2    NaN\n",
       "3      s\n",
       "4    NaN\n",
       "dtype: category\n",
       "Categories (3, object): ['s' < 'm' < 'l']"
      ]
     },
     "execution_count": 81,
     "metadata": {},
     "output_type": "execute_result"
    }
   ],
   "source": [
    "s3"
   ]
  },
  {
   "cell_type": "code",
   "execution_count": 86,
   "id": "7ee1e74d-d71d-45ca-9881-5ace0b0309e7",
   "metadata": {},
   "outputs": [
    {
     "data": {
      "text/plain": [
       "0     True\n",
       "1     True\n",
       "2    False\n",
       "3     True\n",
       "4    False\n",
       "dtype: bool"
      ]
     },
     "execution_count": 86,
     "metadata": {},
     "output_type": "execute_result"
    }
   ],
   "source": [
    "s3 >= 's'"
   ]
  },
  {
   "cell_type": "code",
   "execution_count": 89,
   "id": "3d32ba80-de32-4bc2-9f31-e6c4a7deb7e8",
   "metadata": {},
   "outputs": [
    {
     "data": {
      "text/plain": [
       "0     m\n",
       "1     l\n",
       "2    xs\n",
       "3     s\n",
       "4    xl\n",
       "dtype: category\n",
       "Categories (5, object): ['xs' < 's' < 'm' < 'l' < 'xl']"
      ]
     },
     "execution_count": 89,
     "metadata": {},
     "output_type": "execute_result"
    }
   ],
   "source": [
    "s.cat.reorder_categories(['xs','s','m','l','xl'],\n",
    "                         ordered = True)"
   ]
  },
  {
   "cell_type": "code",
   "execution_count": 90,
   "id": "b47141e1-54a3-4eeb-99d0-a8e51e1cc774",
   "metadata": {},
   "outputs": [],
   "source": [
    "# Exercise 4.8 \n",
    "# Q1 create series with temp values for lat 7 days , filter out the values below the mean"
   ]
  },
  {
   "cell_type": "code",
   "execution_count": 91,
   "id": "ed372298-df35-488c-81e6-4be1532ff2e5",
   "metadata": {},
   "outputs": [],
   "source": [
    "t = pd.Series([23,12, 9, 45, 76, 4, 89])"
   ]
  },
  {
   "cell_type": "code",
   "execution_count": 92,
   "id": "f2e65206-aca0-4e4e-ac69-f5aff2d17528",
   "metadata": {},
   "outputs": [
    {
     "data": {
      "text/plain": [
       "0    23\n",
       "1    12\n",
       "2     9\n",
       "3    45\n",
       "4    76\n",
       "5     4\n",
       "6    89\n",
       "dtype: int64"
      ]
     },
     "execution_count": 92,
     "metadata": {},
     "output_type": "execute_result"
    }
   ],
   "source": [
    "t"
   ]
  },
  {
   "cell_type": "code",
   "execution_count": 94,
   "id": "d122a2db-adb8-4159-b8f9-19fa60b9aa5b",
   "metadata": {},
   "outputs": [],
   "source": [
    " mask = t < t.mean()"
   ]
  },
  {
   "cell_type": "code",
   "execution_count": 95,
   "id": "c8a67a3e-aa6b-4024-906f-821cbb0db26d",
   "metadata": {},
   "outputs": [
    {
     "data": {
      "text/plain": [
       "0    23\n",
       "1    12\n",
       "2     9\n",
       "5     4\n",
       "dtype: int64"
      ]
     },
     "execution_count": 95,
     "metadata": {},
     "output_type": "execute_result"
    }
   ],
   "source": [
    "t[mask]"
   ]
  },
  {
   "cell_type": "code",
   "execution_count": 96,
   "id": "2b4ccbe6-de30-469f-a587-e00cf0fc3e10",
   "metadata": {},
   "outputs": [
    {
     "data": {
      "text/plain": [
       "0    23\n",
       "1    12\n",
       "2     9\n",
       "5     4\n",
       "dtype: int64"
      ]
     },
     "execution_count": 96,
     "metadata": {},
     "output_type": "execute_result"
    }
   ],
   "source": [
    "t[t<t.mean()]"
   ]
  },
  {
   "cell_type": "code",
   "execution_count": 97,
   "id": "8a95f524-871c-46cf-908a-4c019748d5ee",
   "metadata": {},
   "outputs": [],
   "source": [
    "# create series with your favorite colors . Use a categorical type"
   ]
  },
  {
   "cell_type": "code",
   "execution_count": 100,
   "id": "31a17692-5dbc-46f1-89a2-0765d02ab00b",
   "metadata": {},
   "outputs": [],
   "source": [
    "c = pd.Series(['red','amber','violet'], dtype = 'category')"
   ]
  },
  {
   "cell_type": "code",
   "execution_count": 101,
   "id": "19a749a7-67da-4540-9ab8-b9ee140d3dda",
   "metadata": {},
   "outputs": [
    {
     "data": {
      "text/plain": [
       "0       red\n",
       "1     amber\n",
       "2    violet\n",
       "dtype: category\n",
       "Categories (3, object): ['amber', 'red', 'violet']"
      ]
     },
     "execution_count": 101,
     "metadata": {},
     "output_type": "execute_result"
    }
   ],
   "source": [
    "c"
   ]
  },
  {
   "cell_type": "code",
   "execution_count": 104,
   "id": "4caa1158-3880-44e2-a384-547c4cc6afec",
   "metadata": {},
   "outputs": [
    {
     "data": {
      "text/plain": [
       "0       red\n",
       "1     amber\n",
       "2    violet\n",
       "dtype: category\n",
       "Categories (3, object): ['red' < 'amber' < 'violet']"
      ]
     },
     "execution_count": 104,
     "metadata": {},
     "output_type": "execute_result"
    }
   ],
   "source": [
    "c.cat.reorder_categories(['red','amber','violet'], ordered = True)"
   ]
  }
 ],
 "metadata": {
  "kernelspec": {
   "display_name": "Python 3 (ipykernel)",
   "language": "python",
   "name": "python3"
  },
  "language_info": {
   "codemirror_mode": {
    "name": "ipython",
    "version": 3
   },
   "file_extension": ".py",
   "mimetype": "text/x-python",
   "name": "python",
   "nbconvert_exporter": "python",
   "pygments_lexer": "ipython3",
   "version": "3.10.8"
  }
 },
 "nbformat": 4,
 "nbformat_minor": 5
}
