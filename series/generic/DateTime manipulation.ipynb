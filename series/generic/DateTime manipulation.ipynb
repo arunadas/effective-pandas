{
 "cells": [
  {
   "cell_type": "markdown",
   "id": "f4a63a3d-b8d5-4f4a-b2c4-45fe4c85020b",
   "metadata": {},
   "source": [
    "# UTC date and timezone\n",
    "Local date, offset , and timezone"
   ]
  },
  {
   "cell_type": "code",
   "execution_count": 1,
   "id": "66c2fe93-49bf-4407-8ae6-4e99e9aeeeac",
   "metadata": {},
   "outputs": [],
   "source": [
    "import pandas as pd \n",
    "col = pd.Series(['2024-12-26 08:00:00+00:00',\n",
    "                '2024-12-26 08:30:00+00:00',\n",
    "                '2024-12-26 09:00:00+00:00',\n",
    "                '2024-12-26 09:30:00+00:00',\n",
    "                '2024-12-26 10:00:00+00:00',\n",
    "                '2024-12-26 10:30:00+00:00',\n",
    "                '2024-12-26 06:00:00+00:00',\n",
    "                '2024-12-26 06:30:00+00:00',\n",
    "                '2024-12-26 07:00:00+00:00',\n",
    "                '2024-12-26 07:30:00+00:00'])"
   ]
  },
  {
   "cell_type": "code",
   "execution_count": 3,
   "id": "e2622dd1-cd03-4f94-b976-06fd406e91fd",
   "metadata": {},
   "outputs": [
    {
     "data": {
      "text/plain": [
       "0   2024-12-26 08:00:00+00:00\n",
       "1   2024-12-26 08:30:00+00:00\n",
       "2   2024-12-26 09:00:00+00:00\n",
       "3   2024-12-26 09:30:00+00:00\n",
       "4   2024-12-26 10:00:00+00:00\n",
       "5   2024-12-26 10:30:00+00:00\n",
       "6   2024-12-26 06:00:00+00:00\n",
       "7   2024-12-26 06:30:00+00:00\n",
       "8   2024-12-26 07:00:00+00:00\n",
       "9   2024-12-26 07:30:00+00:00\n",
       "dtype: datetime64[ns, UTC]"
      ]
     },
     "execution_count": 3,
     "metadata": {},
     "output_type": "execute_result"
    }
   ],
   "source": [
    "utc_s = pd.to_datetime(col, utc=True)\n",
    "utc_s"
   ]
  },
  {
   "cell_type": "code",
   "execution_count": 4,
   "id": "5e2851f8-6f47-4ba8-82c1-985b5c8d855b",
   "metadata": {},
   "outputs": [
    {
     "data": {
      "text/plain": [
       "0   2024-12-26 01:00:00-07:00\n",
       "1   2024-12-26 01:30:00-07:00\n",
       "2   2024-12-26 02:00:00-07:00\n",
       "3   2024-12-26 02:30:00-07:00\n",
       "4   2024-12-26 03:00:00-07:00\n",
       "5   2024-12-26 03:30:00-07:00\n",
       "6   2024-12-25 23:00:00-07:00\n",
       "7   2024-12-25 23:30:00-07:00\n",
       "8   2024-12-26 00:00:00-07:00\n",
       "9   2024-12-26 00:30:00-07:00\n",
       "dtype: datetime64[ns, America/Denver]"
      ]
     },
     "execution_count": 4,
     "metadata": {},
     "output_type": "execute_result"
    }
   ],
   "source": [
    "utc_s.dt.tz_convert('America/Denver')"
   ]
  },
  {
   "cell_type": "code",
   "execution_count": 5,
   "id": "b42fe4af-ea16-4529-90dc-c2516e50ed3f",
   "metadata": {},
   "outputs": [],
   "source": [
    "s = pd.Series(['2024-12-26 01:00:00-07:00',\n",
    "'2024-12-26 01:30:00-07:00',\n",
    "'2024-12-26 02:00:00-07:00',\n",
    "'2024-12-26 02:30:00-07:00',\n",
    "'2024-12-26 03:00:00-07:00',\n",
    "'2024-12-26 03:30:00-07:00',\n",
    "'2024-12-25 23:00:00-07:00',\n",
    "'2024-12-25 23:30:00-07:00',\n",
    "'2024-12-26 00:00:00-07:00',\n",
    "'2024-12-26 00:30:00-07:00'])"
   ]
  },
  {
   "cell_type": "code",
   "execution_count": 6,
   "id": "2008aae0-a9fa-459b-a6e9-2233e2fd97cd",
   "metadata": {},
   "outputs": [
    {
     "data": {
      "text/plain": [
       "0   2024-12-26 01:00:00-07:00\n",
       "1   2024-12-26 01:30:00-07:00\n",
       "2   2024-12-26 02:00:00-07:00\n",
       "3   2024-12-26 02:30:00-07:00\n",
       "4   2024-12-26 03:00:00-07:00\n",
       "5   2024-12-26 03:30:00-07:00\n",
       "6   2024-12-25 23:00:00-07:00\n",
       "7   2024-12-25 23:30:00-07:00\n",
       "8   2024-12-26 00:00:00-07:00\n",
       "9   2024-12-26 00:30:00-07:00\n",
       "dtype: datetime64[ns, America/Denver]"
      ]
     },
     "execution_count": 6,
     "metadata": {},
     "output_type": "execute_result"
    }
   ],
   "source": [
    "pd.to_datetime(s, utc=True).dt.tz_convert('America/Denver')"
   ]
  },
  {
   "cell_type": "code",
   "execution_count": 22,
   "id": "1ddf4947-1a29-4716-91e1-0d45efa88c43",
   "metadata": {},
   "outputs": [],
   "source": [
    "time = pd.Series(['2023-01-01 12:00:00', '2023-01-02 13:00:00', '2023-01-03 14:00:00'])"
   ]
  },
  {
   "cell_type": "code",
   "execution_count": 32,
   "id": "754c816f-7d81-4a27-a0ea-c10e9b049e1c",
   "metadata": {},
   "outputs": [],
   "source": [
    "offset = pd.Series([-7,-7,-7,-7,-7,-6,-6,-6,-6,-6,-6,-6,-7,-7,-7,-7,-7,-7])"
   ]
  },
  {
   "cell_type": "code",
   "execution_count": 28,
   "id": "54a23ec6-9b96-4e3d-addf-aed441c9d256",
   "metadata": {},
   "outputs": [
    {
     "data": {
      "text/plain": [
       "0   2023-01-01 05:00:07-07:00\n",
       "1   2023-01-02 06:00:07-07:00\n",
       "2   2023-01-03 07:00:07-07:00\n",
       "dtype: datetime64[ns, America/Denver]"
      ]
     },
     "execution_count": 28,
     "metadata": {},
     "output_type": "execute_result"
    }
   ],
   "source": [
    "(pd.to_datetime(time)\n",
    "    .groupby(offset)\n",
    "    .transform(lambda s: s.dt.tz_localize(s.name)\n",
    "               .dt.tz_convert('America/Denver'))\n",
    ")"
   ]
  },
  {
   "cell_type": "code",
   "execution_count": 34,
   "id": "e1a5c4e0-5169-48e8-8c05-1ea124b97aef",
   "metadata": {},
   "outputs": [],
   "source": [
    "offset = offset.replace({-7:'-07:00',-6:'-06:00'})"
   ]
  },
  {
   "cell_type": "code",
   "execution_count": 18,
   "id": "8c59b766-bc86-43db-b7ea-d21bfbd8fcd3",
   "metadata": {},
   "outputs": [
    {
     "data": {
      "text/plain": [
       "0   2024-12-26 01:00:00-07:00\n",
       "1   2024-12-26 01:30:00-07:00\n",
       "2   2024-12-26 02:00:00-07:00\n",
       "3   2024-12-26 02:30:00-07:00\n",
       "4   2024-12-26 03:00:00-07:00\n",
       "5   2024-12-26 03:30:00-07:00\n",
       "6   2024-12-25 23:00:00-07:00\n",
       "7   2024-12-25 23:30:00-07:00\n",
       "8   2024-12-26 00:00:00-07:00\n",
       "9   2024-12-26 00:30:00-07:00\n",
       "dtype: datetime64[ns, America/Denver]"
      ]
     },
     "execution_count": 18,
     "metadata": {},
     "output_type": "execute_result"
    }
   ],
   "source": [
    "(pd.to_datetime(time)\n",
    "    .groupby(offset)\n",
    "    .transform(lambda s: s.dt.tz_convert('America/Denver') \n",
    "                     if s.dt.tz is not None \n",
    "                     else s.dt.tz_localize(s.name).dt.tz_convert('America/Denver'))\n",
    ")"
   ]
  },
  {
   "cell_type": "code",
   "execution_count": 35,
   "id": "e9b37df3-f388-41c7-af1d-8a57e56d87f0",
   "metadata": {},
   "outputs": [
    {
     "data": {
      "text/plain": [
       "0   2023-01-01 12:00:00-07:00\n",
       "1   2023-01-02 13:00:00-07:00\n",
       "2   2023-01-03 14:00:00-07:00\n",
       "dtype: datetime64[ns, America/Denver]"
      ]
     },
     "execution_count": 35,
     "metadata": {},
     "output_type": "execute_result"
    }
   ],
   "source": [
    "(pd.to_datetime(time)\n",
    "    .groupby(offset)\n",
    "    .transform(lambda s: s.dt.tz_localize(s.name).dt.tz_convert('America/Denver'))\n",
    ")"
   ]
  }
 ],
 "metadata": {
  "kernelspec": {
   "display_name": "Python 3 (ipykernel)",
   "language": "python",
   "name": "python3"
  },
  "language_info": {
   "codemirror_mode": {
    "name": "ipython",
    "version": 3
   },
   "file_extension": ".py",
   "mimetype": "text/x-python",
   "name": "python",
   "nbconvert_exporter": "python",
   "pygments_lexer": "ipython3",
   "version": "3.9.6"
  }
 },
 "nbformat": 4,
 "nbformat_minor": 5
}
