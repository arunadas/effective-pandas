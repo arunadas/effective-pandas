{
 "cells": [
  {
   "cell_type": "markdown",
   "id": "f4a63a3d-b8d5-4f4a-b2c4-45fe4c85020b",
   "metadata": {},
   "source": [
    "# UTC date and timezone\n",
    "Local date, offset , and timezone"
   ]
  },
  {
   "cell_type": "markdown",
   "id": "79970f39-6206-4c84-8656-3f629e38a09d",
   "metadata": {},
   "source": [
    "### Datetime"
   ]
  },
  {
   "cell_type": "code",
   "execution_count": 1,
   "id": "66c2fe93-49bf-4407-8ae6-4e99e9aeeeac",
   "metadata": {},
   "outputs": [],
   "source": [
    "import pandas as pd \n",
    "col = pd.Series(['2024-12-26 08:00:00+00:00',\n",
    "                '2024-12-26 08:30:00+00:00',\n",
    "                '2024-12-26 09:00:00+00:00',\n",
    "                '2024-12-26 09:30:00+00:00',\n",
    "                '2024-12-26 10:00:00+00:00',\n",
    "                '2024-12-26 10:30:00+00:00',\n",
    "                '2024-12-26 06:00:00+00:00',\n",
    "                '2024-12-26 06:30:00+00:00',\n",
    "                '2024-12-26 07:00:00+00:00',\n",
    "                '2024-12-26 07:30:00+00:00'])"
   ]
  },
  {
   "cell_type": "code",
   "execution_count": 3,
   "id": "e2622dd1-cd03-4f94-b976-06fd406e91fd",
   "metadata": {},
   "outputs": [
    {
     "data": {
      "text/plain": [
       "0   2024-12-26 08:00:00+00:00\n",
       "1   2024-12-26 08:30:00+00:00\n",
       "2   2024-12-26 09:00:00+00:00\n",
       "3   2024-12-26 09:30:00+00:00\n",
       "4   2024-12-26 10:00:00+00:00\n",
       "5   2024-12-26 10:30:00+00:00\n",
       "6   2024-12-26 06:00:00+00:00\n",
       "7   2024-12-26 06:30:00+00:00\n",
       "8   2024-12-26 07:00:00+00:00\n",
       "9   2024-12-26 07:30:00+00:00\n",
       "dtype: datetime64[ns, UTC]"
      ]
     },
     "execution_count": 3,
     "metadata": {},
     "output_type": "execute_result"
    }
   ],
   "source": [
    "utc_s = pd.to_datetime(col, utc=True)\n",
    "utc_s"
   ]
  },
  {
   "cell_type": "code",
   "execution_count": 4,
   "id": "5e2851f8-6f47-4ba8-82c1-985b5c8d855b",
   "metadata": {},
   "outputs": [
    {
     "data": {
      "text/plain": [
       "0   2024-12-26 01:00:00-07:00\n",
       "1   2024-12-26 01:30:00-07:00\n",
       "2   2024-12-26 02:00:00-07:00\n",
       "3   2024-12-26 02:30:00-07:00\n",
       "4   2024-12-26 03:00:00-07:00\n",
       "5   2024-12-26 03:30:00-07:00\n",
       "6   2024-12-25 23:00:00-07:00\n",
       "7   2024-12-25 23:30:00-07:00\n",
       "8   2024-12-26 00:00:00-07:00\n",
       "9   2024-12-26 00:30:00-07:00\n",
       "dtype: datetime64[ns, America/Denver]"
      ]
     },
     "execution_count": 4,
     "metadata": {},
     "output_type": "execute_result"
    }
   ],
   "source": [
    "utc_s.dt.tz_convert('America/Denver')"
   ]
  },
  {
   "cell_type": "code",
   "execution_count": 5,
   "id": "b42fe4af-ea16-4529-90dc-c2516e50ed3f",
   "metadata": {},
   "outputs": [],
   "source": [
    "s = pd.Series(['2024-12-26 01:00:00-07:00',\n",
    "'2024-12-26 01:30:00-07:00',\n",
    "'2024-12-26 02:00:00-07:00',\n",
    "'2024-12-26 02:30:00-07:00',\n",
    "'2024-12-26 03:00:00-07:00',\n",
    "'2024-12-26 03:30:00-07:00',\n",
    "'2024-12-25 23:00:00-07:00',\n",
    "'2024-12-25 23:30:00-07:00',\n",
    "'2024-12-26 00:00:00-07:00',\n",
    "'2024-12-26 00:30:00-07:00'])"
   ]
  },
  {
   "cell_type": "code",
   "execution_count": 6,
   "id": "2008aae0-a9fa-459b-a6e9-2233e2fd97cd",
   "metadata": {},
   "outputs": [
    {
     "data": {
      "text/plain": [
       "0   2024-12-26 01:00:00-07:00\n",
       "1   2024-12-26 01:30:00-07:00\n",
       "2   2024-12-26 02:00:00-07:00\n",
       "3   2024-12-26 02:30:00-07:00\n",
       "4   2024-12-26 03:00:00-07:00\n",
       "5   2024-12-26 03:30:00-07:00\n",
       "6   2024-12-25 23:00:00-07:00\n",
       "7   2024-12-25 23:30:00-07:00\n",
       "8   2024-12-26 00:00:00-07:00\n",
       "9   2024-12-26 00:30:00-07:00\n",
       "dtype: datetime64[ns, America/Denver]"
      ]
     },
     "execution_count": 6,
     "metadata": {},
     "output_type": "execute_result"
    }
   ],
   "source": [
    "pd.to_datetime(s, utc=True).dt.tz_convert('America/Denver')"
   ]
  },
  {
   "cell_type": "code",
   "execution_count": 22,
   "id": "1ddf4947-1a29-4716-91e1-0d45efa88c43",
   "metadata": {},
   "outputs": [],
   "source": [
    "time = pd.Series(['2023-01-01 12:00:00', '2023-01-02 13:00:00', '2023-01-03 14:00:00'])"
   ]
  },
  {
   "cell_type": "code",
   "execution_count": 32,
   "id": "754c816f-7d81-4a27-a0ea-c10e9b049e1c",
   "metadata": {},
   "outputs": [],
   "source": [
    "offset = pd.Series([-7,-7,-7,-7,-7,-6,-6,-6,-6,-6,-6,-6,-7,-7,-7,-7,-7,-7])"
   ]
  },
  {
   "cell_type": "code",
   "execution_count": 28,
   "id": "54a23ec6-9b96-4e3d-addf-aed441c9d256",
   "metadata": {},
   "outputs": [
    {
     "data": {
      "text/plain": [
       "0   2023-01-01 05:00:07-07:00\n",
       "1   2023-01-02 06:00:07-07:00\n",
       "2   2023-01-03 07:00:07-07:00\n",
       "dtype: datetime64[ns, America/Denver]"
      ]
     },
     "execution_count": 28,
     "metadata": {},
     "output_type": "execute_result"
    }
   ],
   "source": [
    "(pd.to_datetime(time)\n",
    "    .groupby(offset)\n",
    "    .transform(lambda s: s.dt.tz_localize(s.name)\n",
    "               .dt.tz_convert('America/Denver'))\n",
    ")"
   ]
  },
  {
   "cell_type": "code",
   "execution_count": 34,
   "id": "e1a5c4e0-5169-48e8-8c05-1ea124b97aef",
   "metadata": {},
   "outputs": [],
   "source": [
    "offset = offset.replace({-7:'-07:00',-6:'-06:00'})"
   ]
  },
  {
   "cell_type": "code",
   "execution_count": 18,
   "id": "8c59b766-bc86-43db-b7ea-d21bfbd8fcd3",
   "metadata": {},
   "outputs": [
    {
     "data": {
      "text/plain": [
       "0   2024-12-26 01:00:00-07:00\n",
       "1   2024-12-26 01:30:00-07:00\n",
       "2   2024-12-26 02:00:00-07:00\n",
       "3   2024-12-26 02:30:00-07:00\n",
       "4   2024-12-26 03:00:00-07:00\n",
       "5   2024-12-26 03:30:00-07:00\n",
       "6   2024-12-25 23:00:00-07:00\n",
       "7   2024-12-25 23:30:00-07:00\n",
       "8   2024-12-26 00:00:00-07:00\n",
       "9   2024-12-26 00:30:00-07:00\n",
       "dtype: datetime64[ns, America/Denver]"
      ]
     },
     "execution_count": 18,
     "metadata": {},
     "output_type": "execute_result"
    }
   ],
   "source": [
    "(pd.to_datetime(time)\n",
    "    .groupby(offset)\n",
    "    .transform(lambda s: s.dt.tz_convert('America/Denver') \n",
    "                     if s.dt.tz is not None \n",
    "                     else s.dt.tz_localize(s.name).dt.tz_convert('America/Denver'))\n",
    ")"
   ]
  },
  {
   "cell_type": "code",
   "execution_count": 36,
   "id": "e9b37df3-f388-41c7-af1d-8a57e56d87f0",
   "metadata": {},
   "outputs": [],
   "source": [
    "local = (pd.to_datetime(time)\n",
    "    .groupby(offset)\n",
    "    .transform(lambda s: s.dt.tz_localize(s.name).dt.tz_convert('America/Denver'))\n",
    ")"
   ]
  },
  {
   "cell_type": "code",
   "execution_count": 37,
   "id": "639a87c3-bb70-4b1e-8df4-0d98ed3587ec",
   "metadata": {},
   "outputs": [
    {
     "data": {
      "text/plain": [
       "0   2023-01-01 12:00:00-07:00\n",
       "1   2023-01-02 13:00:00-07:00\n",
       "2   2023-01-03 14:00:00-07:00\n",
       "dtype: datetime64[ns, America/Denver]"
      ]
     },
     "execution_count": 37,
     "metadata": {},
     "output_type": "execute_result"
    }
   ],
   "source": [
    "local"
   ]
  },
  {
   "cell_type": "markdown",
   "id": "51e912d6-6f56-41d4-9543-8e6101a88690",
   "metadata": {},
   "source": [
    "### Converting local time to UTC"
   ]
  },
  {
   "cell_type": "code",
   "execution_count": 38,
   "id": "79ea5d97-8f63-421c-9507-9b3d458fc65f",
   "metadata": {},
   "outputs": [
    {
     "data": {
      "text/plain": [
       "0   2023-01-01 19:00:00+00:00\n",
       "1   2023-01-02 20:00:00+00:00\n",
       "2   2023-01-03 21:00:00+00:00\n",
       "dtype: datetime64[ns, UTC]"
      ]
     },
     "execution_count": 38,
     "metadata": {},
     "output_type": "execute_result"
    }
   ],
   "source": [
    "local.dt.tz_convert('UTC')"
   ]
  },
  {
   "cell_type": "markdown",
   "id": "179ee39c-1e34-49ac-969e-3d54c8a1337a",
   "metadata": {
    "jp-MarkdownHeadingCollapsed": true
   },
   "source": [
    "### Converting to Epochs"
   ]
  },
  {
   "cell_type": "code",
   "execution_count": 40,
   "id": "e835f008-065d-43ff-ad7c-f9e3171d5611",
   "metadata": {},
   "outputs": [],
   "source": [
    "secs = local.astype(int).floordiv(1e9).astype(int)"
   ]
  },
  {
   "cell_type": "code",
   "execution_count": 41,
   "id": "21c46854-ae71-4b1c-9385-7e03861a9ddb",
   "metadata": {},
   "outputs": [
    {
     "data": {
      "text/plain": [
       "0    1672599600\n",
       "1    1672689600\n",
       "2    1672779600\n",
       "dtype: int64"
      ]
     },
     "execution_count": 41,
     "metadata": {},
     "output_type": "execute_result"
    }
   ],
   "source": [
    "secs"
   ]
  },
  {
   "cell_type": "code",
   "execution_count": 42,
   "id": "72147d0b-f5fd-4607-aeab-9a63cc4df8d3",
   "metadata": {},
   "outputs": [
    {
     "data": {
      "text/plain": [
       "0   2023-01-01 19:00:00+00:00\n",
       "1   2023-01-02 20:00:00+00:00\n",
       "2   2023-01-03 21:00:00+00:00\n",
       "dtype: datetime64[ns, UTC]"
      ]
     },
     "execution_count": 42,
     "metadata": {},
     "output_type": "execute_result"
    }
   ],
   "source": [
    "(pd.to_datetime(secs, unit='s')\n",
    "    .dt.tz_localize('UTC'))"
   ]
  },
  {
   "cell_type": "markdown",
   "id": "4231a1d4-7348-49de-9df7-6f1289c639bc",
   "metadata": {},
   "source": [
    "### Manipulating Dates"
   ]
  },
  {
   "cell_type": "code",
   "execution_count": 43,
   "id": "987d0461-f83c-4e44-8b8f-5b16178fa0f5",
   "metadata": {},
   "outputs": [
    {
     "data": {
      "text/plain": [
       "0       1980-01-01\n",
       "1       1980-01-02\n",
       "2       1980-01-03\n",
       "3       1980-01-04\n",
       "4       1980-01-05\n",
       "           ...    \n",
       "14155   2019-09-03\n",
       "14156   2019-09-04\n",
       "14157   2019-09-05\n",
       "14158   2019-09-06\n",
       "14159   2019-09-07\n",
       "Name: DATE, Length: 14160, dtype: datetime64[ns]"
      ]
     },
     "execution_count": 43,
     "metadata": {},
     "output_type": "execute_result"
    }
   ],
   "source": [
    "url = 'https://github.com/arunadas/effective-pandas/raw/main/data/alta-noaa-1980-2019.csv'\n",
    "alta_df = pd.read_csv(url)\n",
    "dates = pd.to_datetime(alta_df.DATE)\n",
    "dates"
   ]
  },
  {
   "cell_type": "code",
   "execution_count": 45,
   "id": "617c9898-bd68-41a2-8ad2-9e7c739351db",
   "metadata": {},
   "outputs": [
    {
     "data": {
      "text/plain": [
       "0           Martes\n",
       "1        Miércoles\n",
       "2           Jueves\n",
       "3          Viernes\n",
       "4           Sábado\n",
       "           ...    \n",
       "14155       Martes\n",
       "14156    Miércoles\n",
       "14157       Jueves\n",
       "14158      Viernes\n",
       "14159       Sábado\n",
       "Name: DATE, Length: 14160, dtype: object"
      ]
     },
     "execution_count": 45,
     "metadata": {},
     "output_type": "execute_result"
    }
   ],
   "source": [
    "dates.dt.day_name('es_ES')"
   ]
  },
  {
   "cell_type": "code",
   "execution_count": 47,
   "id": "5f25f720-563f-47e6-bcf0-b26545c5239e",
   "metadata": {},
   "outputs": [
    {
     "data": {
      "text/plain": [
       "0        False\n",
       "1        False\n",
       "2        False\n",
       "3        False\n",
       "4        False\n",
       "         ...  \n",
       "14155    False\n",
       "14156    False\n",
       "14157    False\n",
       "14158    False\n",
       "14159    False\n",
       "Name: DATE, Length: 14160, dtype: bool"
      ]
     },
     "execution_count": 47,
     "metadata": {},
     "output_type": "execute_result"
    }
   ],
   "source": [
    "# properties vs method\n",
    "dates.dt.is_month_end"
   ]
  },
  {
   "cell_type": "code",
   "execution_count": 48,
   "id": "51e25f70-16a8-4ae0-b645-76b6b33712dc",
   "metadata": {},
   "outputs": [
    {
     "data": {
      "text/plain": [
       "0        01/01/80\n",
       "1        02/01/80\n",
       "2        03/01/80\n",
       "3        04/01/80\n",
       "4        05/01/80\n",
       "           ...   \n",
       "14155    03/09/19\n",
       "14156    04/09/19\n",
       "14157    05/09/19\n",
       "14158    06/09/19\n",
       "14159    07/09/19\n",
       "Name: DATE, Length: 14160, dtype: object"
      ]
     },
     "execution_count": 48,
     "metadata": {},
     "output_type": "execute_result"
    }
   ],
   "source": [
    "dates.dt.strftime('%d/%m/%y')"
   ]
  },
  {
   "cell_type": "markdown",
   "id": "598ac580-f786-4b65-8896-bfc30b796e31",
   "metadata": {},
   "source": [
    "### Exercise 12.8"
   ]
  },
  {
   "cell_type": "code",
   "execution_count": 54,
   "id": "512a0476-120e-468d-9971-092d96c36a38",
   "metadata": {},
   "outputs": [
    {
     "data": {
      "text/plain": [
       "0   2024-12-27 08:00:00\n",
       "1   2024-12-27 08:30:00\n",
       "2   2024-12-27 09:00:00\n",
       "dtype: datetime64[ns]"
      ]
     },
     "execution_count": 54,
     "metadata": {},
     "output_type": "execute_result"
    }
   ],
   "source": [
    "# convert a column with dates information to a date\n",
    "dates = pd.Series(['2024-12-27 08:00:00','2024-12-27 08:30:00','2024-12-27 09:00:00'])\n",
    "dates = pd.to_datetime(dates)\n",
    "dates"
   ]
  },
  {
   "cell_type": "markdown",
   "id": "dcfc0a3d-6bfd-4454-9c99-c6956cc5748b",
   "metadata": {},
   "source": [
    "Feature\t.dt.tz_localize()\t.dt.tz_convert()\n",
    "Input type\tNaive datetime (no timezone)\tTimezone-aware datetime\n",
    "Output type\tTimezone-aware datetime\tTimezone-aware datetime\n",
    "What it does\tAssigns a timezone to naive datetimes\tConverts from one timezone to another\n",
    "Error on incorrect input\tRaises an error if already timezone-aware\tRaises an error if timezone-naive"
   ]
  },
  {
   "cell_type": "code",
   "execution_count": 57,
   "id": "b552b6f4-7c36-48ef-b728-43adfd8376d3",
   "metadata": {},
   "outputs": [
    {
     "data": {
      "text/plain": [
       "0   2024-12-27 08:00:00+00:00\n",
       "1   2024-12-27 08:30:00+00:00\n",
       "2   2024-12-27 09:00:00+00:00\n",
       "dtype: datetime64[ns, UTC]"
      ]
     },
     "execution_count": 57,
     "metadata": {},
     "output_type": "execute_result"
    }
   ],
   "source": [
    "# convert a date column into UTC dates\n",
    "dates.dt.tz_localize('UTC')"
   ]
  },
  {
   "cell_type": "code",
   "execution_count": 65,
   "id": "3ccaf9d2-638b-4acc-a1fa-53fa7ec6ea28",
   "metadata": {},
   "outputs": [
    {
     "data": {
      "text/plain": [
       "0   2024-12-27 08:00:00-05:00\n",
       "1   2024-12-27 08:30:00-05:00\n",
       "2   2024-12-27 09:00:00-05:00\n",
       "dtype: datetime64[ns, UTC-05:00]"
      ]
     },
     "execution_count": 65,
     "metadata": {},
     "output_type": "execute_result"
    }
   ],
   "source": [
    "# convert a date column into local dates with a timezone\n",
    "import pandas as pd\n",
    "dates = pd.Series(['2024-12-27 08:00:00-05:00','2024-12-27 08:30:00-05:00','2024-12-27 09:00:00-05:00'])\n",
    "dates = pd.to_datetime(dates)\n",
    "dates"
   ]
  },
  {
   "cell_type": "code",
   "execution_count": 76,
   "id": "f265fdc9-7560-4b6f-99d5-9aaf507684a7",
   "metadata": {},
   "outputs": [
    {
     "data": {
      "text/plain": [
       "0    1735304400\n",
       "1    1735306200\n",
       "2    1735308000\n",
       "dtype: int64"
      ]
     },
     "execution_count": 76,
     "metadata": {},
     "output_type": "execute_result"
    }
   ],
   "source": [
    "# convert a date column into epoch values , this converts into UTC epoch values is likely because pd.to_datetime \n",
    "# automatically converts the timezone-aware strings (-05:00) to UTC\n",
    "secs = dates.astype('int64')//10**9\n",
    "secs"
   ]
  },
  {
   "cell_type": "code",
   "execution_count": 77,
   "id": "2c16480a-aa73-4567-99c0-29b93c9bfdce",
   "metadata": {},
   "outputs": [
    {
     "data": {
      "text/plain": [
       "0   2024-12-27 13:00:00+00:00\n",
       "1   2024-12-27 13:30:00+00:00\n",
       "2   2024-12-27 14:00:00+00:00\n",
       "dtype: datetime64[ns, UTC]"
      ]
     },
     "execution_count": 77,
     "metadata": {},
     "output_type": "execute_result"
    }
   ],
   "source": [
    "# convert an epoch number into UTC\n",
    "pd.to_datetime(secs, unit='s').dt.tz_localize('UTC')"
   ]
  },
  {
   "cell_type": "markdown",
   "id": "a570ad14-d787-4483-b8b9-ec74baaab3b2",
   "metadata": {},
   "source": [
    "### Dates in the index"
   ]
  },
  {
   "cell_type": "code",
   "execution_count": 88,
   "id": "26bea61e-f1af-4d01-8caa-070e0968e588",
   "metadata": {},
   "outputs": [
    {
     "data": {
      "text/plain": [
       "0       1980-01-01\n",
       "1       1980-01-02\n",
       "2       1980-01-03\n",
       "3       1980-01-04\n",
       "4       1980-01-05\n",
       "           ...    \n",
       "14155   2019-09-03\n",
       "14156   2019-09-04\n",
       "14157   2019-09-05\n",
       "14158   2019-09-06\n",
       "14159   2019-09-07\n",
       "Name: DATE, Length: 14160, dtype: datetime64[ns]"
      ]
     },
     "execution_count": 88,
     "metadata": {},
     "output_type": "execute_result"
    }
   ],
   "source": [
    "url = 'https://github.com/arunadas/effective-pandas/raw/main/data/alta-noaa-1980-2019.csv'\n",
    "alta_df = pd.read_csv(url)\n",
    "dates = pd.to_datetime(alta_df.DATE)\n",
    "dates"
   ]
  },
  {
   "cell_type": "code",
   "execution_count": 90,
   "id": "61981c13-bc56-4857-b30f-115311f9e966",
   "metadata": {},
   "outputs": [
    {
     "data": {
      "text/plain": [
       "0        2.0\n",
       "1        3.0\n",
       "2        1.0\n",
       "3        0.0\n",
       "4        0.0\n",
       "        ... \n",
       "14155    0.0\n",
       "14156    0.0\n",
       "14157    0.0\n",
       "14158    0.0\n",
       "14159    0.0\n",
       "Name: SNOW, Length: 14160, dtype: float64"
      ]
     },
     "execution_count": 90,
     "metadata": {},
     "output_type": "execute_result"
    }
   ],
   "source": [
    "alta_df.SNOW"
   ]
  },
  {
   "cell_type": "code",
   "execution_count": 91,
   "id": "8d3d54d7-9c79-4fa3-b190-c421bf05435e",
   "metadata": {},
   "outputs": [
    {
     "data": {
      "text/plain": [
       "1980-01-01    2.0\n",
       "1980-01-02    3.0\n",
       "1980-01-03    1.0\n",
       "1980-01-04    0.0\n",
       "1980-01-05    0.0\n",
       "             ... \n",
       "2019-09-03    0.0\n",
       "2019-09-04    0.0\n",
       "2019-09-05    0.0\n",
       "2019-09-06    0.0\n",
       "2019-09-07    0.0\n",
       "Name: SNOW, Length: 14160, dtype: float64"
      ]
     },
     "execution_count": 91,
     "metadata": {},
     "output_type": "execute_result"
    }
   ],
   "source": [
    "snow = (alta_df\n",
    "        .SNOW\n",
    "        .rename(dates)\n",
    "       )\n",
    "snow"
   ]
  },
  {
   "cell_type": "markdown",
   "id": "c0566a51-f10d-4d3f-bb43-71c385dc556a",
   "metadata": {},
   "source": [
    "### Finding Missing Dates"
   ]
  },
  {
   "cell_type": "code",
   "execution_count": 86,
   "id": "ac4ca334-8476-4ed7-ab79-7c14701b1345",
   "metadata": {},
   "outputs": [
    {
     "data": {
      "text/plain": [
       "np.True_"
      ]
     },
     "execution_count": 86,
     "metadata": {},
     "output_type": "execute_result"
    }
   ],
   "source": [
    "snow.isna().any()"
   ]
  },
  {
   "cell_type": "code",
   "execution_count": 87,
   "id": "a2f8e93e-0d30-4607-ac72-979732e39cd6",
   "metadata": {},
   "outputs": [
    {
     "data": {
      "text/plain": [
       "1985-07-30   NaN\n",
       "1985-09-12   NaN\n",
       "1985-09-19   NaN\n",
       "1986-02-07   NaN\n",
       "1986-06-26   NaN\n",
       "              ..\n",
       "2017-04-26   NaN\n",
       "2017-09-20   NaN\n",
       "2017-10-02   NaN\n",
       "2017-12-23   NaN\n",
       "2018-12-03   NaN\n",
       "Name: SNOW, Length: 365, dtype: float64"
      ]
     },
     "execution_count": 87,
     "metadata": {},
     "output_type": "execute_result"
    }
   ],
   "source": [
    "snow[snow.isna()]"
   ]
  },
  {
   "cell_type": "code",
   "execution_count": 92,
   "id": "4c47ea6e-aec1-4782-a4f7-651a3baab162",
   "metadata": {},
   "outputs": [
    {
     "data": {
      "text/plain": [
       "1985-09-01    0.0\n",
       "1985-09-02    0.0\n",
       "1985-09-03    0.0\n",
       "1985-09-04    0.0\n",
       "1985-09-05    0.0\n",
       "1985-09-06    0.0\n",
       "1985-09-07    0.0\n",
       "1985-09-08    0.0\n",
       "1985-09-09    0.0\n",
       "1985-09-10    0.0\n",
       "1985-09-11    0.0\n",
       "1985-09-12    NaN\n",
       "1985-09-13    0.0\n",
       "1985-09-14    0.0\n",
       "1985-09-15    0.0\n",
       "1985-09-16    0.0\n",
       "1985-09-17    0.0\n",
       "1985-09-18    0.0\n",
       "1985-09-19    NaN\n",
       "1985-09-20    0.0\n",
       "Name: SNOW, dtype: float64"
      ]
     },
     "execution_count": 92,
     "metadata": {},
     "output_type": "execute_result"
    }
   ],
   "source": [
    "# loc partial date string indexing attribute\n",
    "snow.loc['1985-09':'1985-09-20']"
   ]
  },
  {
   "cell_type": "markdown",
   "id": "eb00c210-966b-4e02-bb18-1f9dd43e33cf",
   "metadata": {},
   "source": [
    "### Filling in Missing Data "
   ]
  },
  {
   "cell_type": "code",
   "execution_count": 96,
   "id": "bf24bc9e-dd1f-4aa4-af0d-aceb93856805",
   "metadata": {},
   "outputs": [
    {
     "data": {
      "text/plain": [
       "1985-09-01    0.0\n",
       "1985-09-02    0.0\n",
       "1985-09-03    0.0\n",
       "1985-09-04    0.0\n",
       "1985-09-05    0.0\n",
       "1985-09-06    0.0\n",
       "1985-09-07    0.0\n",
       "1985-09-08    0.0\n",
       "1985-09-09    0.0\n",
       "1985-09-10    0.0\n",
       "1985-09-11    0.0\n",
       "1985-09-12    0.0\n",
       "1985-09-13    0.0\n",
       "1985-09-14    0.0\n",
       "1985-09-15    0.0\n",
       "1985-09-16    0.0\n",
       "1985-09-17    0.0\n",
       "1985-09-18    0.0\n",
       "1985-09-19    0.0\n",
       "1985-09-20    0.0\n",
       "Name: SNOW, dtype: float64"
      ]
     },
     "execution_count": 96,
     "metadata": {},
     "output_type": "execute_result"
    }
   ],
   "source": [
    "(\n",
    "    snow\n",
    "        .loc['1985-09':'1985-09-20']\n",
    "        .fillna(0)\n",
    ")"
   ]
  },
  {
   "cell_type": "code",
   "execution_count": 97,
   "id": "638f8223-26e3-4853-8a04-55afa9e5b815",
   "metadata": {},
   "outputs": [
    {
     "data": {
      "text/plain": [
       "1987-12-30    6.0\n",
       "1987-12-31    5.0\n",
       "1988-01-01    NaN\n",
       "1988-01-02    0.0\n",
       "1988-01-03    0.0\n",
       "1988-01-04    NaN\n",
       "1988-01-05    2.0\n",
       "1988-01-06    6.0\n",
       "1988-01-07    4.0\n",
       "1988-01-08    9.0\n",
       "1988-01-09    5.0\n",
       "1988-01-10    2.0\n",
       "Name: SNOW, dtype: float64"
      ]
     },
     "execution_count": 97,
     "metadata": {},
     "output_type": "execute_result"
    }
   ],
   "source": [
    "snow.loc['1987-12-30':'1988-01-10']"
   ]
  },
  {
   "cell_type": "code",
   "execution_count": 100,
   "id": "9c506bc2-228b-4601-ae30-b3a02f811723",
   "metadata": {},
   "outputs": [
    {
     "data": {
      "text/plain": [
       "1987-12-30    6.0\n",
       "1987-12-31    5.0\n",
       "1988-01-01    5.0\n",
       "1988-01-02    0.0\n",
       "1988-01-03    0.0\n",
       "1988-01-04    0.0\n",
       "1988-01-05    2.0\n",
       "1988-01-06    6.0\n",
       "1988-01-07    4.0\n",
       "1988-01-08    9.0\n",
       "1988-01-09    5.0\n",
       "1988-01-10    2.0\n",
       "Name: SNOW, dtype: float64"
      ]
     },
     "execution_count": 100,
     "metadata": {},
     "output_type": "execute_result"
    }
   ],
   "source": [
    "#forward fill and backward fill\n",
    "(snow.loc['1987-12-30':'1988-01-10'].ffill())"
   ]
  },
  {
   "cell_type": "code",
   "execution_count": 99,
   "id": "29bb8a10-245f-453f-85ea-281b7770fe8c",
   "metadata": {},
   "outputs": [
    {
     "data": {
      "text/plain": [
       "1987-12-30    6.0\n",
       "1987-12-31    5.0\n",
       "1988-01-01    0.0\n",
       "1988-01-02    0.0\n",
       "1988-01-03    0.0\n",
       "1988-01-04    2.0\n",
       "1988-01-05    2.0\n",
       "1988-01-06    6.0\n",
       "1988-01-07    4.0\n",
       "1988-01-08    9.0\n",
       "1988-01-09    5.0\n",
       "1988-01-10    2.0\n",
       "Name: SNOW, dtype: float64"
      ]
     },
     "execution_count": 99,
     "metadata": {},
     "output_type": "execute_result"
    }
   ],
   "source": [
    "(snow.loc['1987-12-30':'1988-01-10'].bfill())"
   ]
  },
  {
   "cell_type": "code",
   "execution_count": 101,
   "id": "5862634f-9e42-4086-97ba-7fcf51d51ff9",
   "metadata": {},
   "outputs": [
    {
     "data": {
      "text/plain": [
       "1987-12-30    6.0\n",
       "1987-12-31    5.0\n",
       "1988-01-01    2.5\n",
       "1988-01-02    0.0\n",
       "1988-01-03    0.0\n",
       "1988-01-04    1.0\n",
       "1988-01-05    2.0\n",
       "1988-01-06    6.0\n",
       "1988-01-07    4.0\n",
       "1988-01-08    9.0\n",
       "1988-01-09    5.0\n",
       "1988-01-10    2.0\n",
       "Name: SNOW, dtype: float64"
      ]
     },
     "execution_count": 101,
     "metadata": {},
     "output_type": "execute_result"
    }
   ],
   "source": [
    "(snow.loc['1987-12-30':'1988-01-10'].interpolate())"
   ]
  },
  {
   "cell_type": "code",
   "execution_count": 104,
   "id": "1be09d13-4913-46d0-a416-cc970f6a6ade",
   "metadata": {},
   "outputs": [],
   "source": [
    "winter = (snow.index.quarter == 1) | (snow.index.quarter == 4)"
   ]
  },
  {
   "cell_type": "code",
   "execution_count": 108,
   "id": "7fcfc57f-2d00-47c6-bd98-1c2ea325bd2c",
   "metadata": {},
   "outputs": [
    {
     "data": {
      "text/plain": [
       "1980-01-01    2.0\n",
       "1980-01-02    3.0\n",
       "1980-01-03    1.0\n",
       "1980-01-04    0.0\n",
       "1980-01-05    0.0\n",
       "             ... \n",
       "2019-09-03    0.0\n",
       "2019-09-04    0.0\n",
       "2019-09-05    0.0\n",
       "2019-09-06    0.0\n",
       "2019-09-07    0.0\n",
       "Name: SNOW, Length: 14160, dtype: float64"
      ]
     },
     "execution_count": 108,
     "metadata": {},
     "output_type": "execute_result"
    }
   ],
   "source": [
    "(\n",
    "    snow \n",
    "    .where(~(winter & snow.isna()), snow.interpolate())\n",
    "    .where(~(~winter & snow.isna()), 0)\n",
    ")"
   ]
  },
  {
   "cell_type": "code",
   "execution_count": 107,
   "id": "78858efb-ba26-4521-8040-1a9f4e7a008a",
   "metadata": {},
   "outputs": [
    {
     "data": {
      "text/plain": [
       "1985-09-19    0.0\n",
       "1988-01-01    2.5\n",
       "Name: SNOW, dtype: float64"
      ]
     },
     "execution_count": 107,
     "metadata": {},
     "output_type": "execute_result"
    }
   ],
   "source": [
    "#validate where ( condition,other)\n",
    "(\n",
    "    snow \n",
    "    .where(~(winter & snow.isna()), snow.interpolate())\n",
    "    .where(~(~winter & snow.isna()), 0)\n",
    "    .loc[['1985-09-19','1988-01-01']]\n",
    ")"
   ]
  },
  {
   "cell_type": "code",
   "execution_count": 109,
   "id": "4c12e0ed-5482-4ec3-b697-1736affd03aa",
   "metadata": {},
   "outputs": [
    {
     "data": {
      "text/plain": [
       "1987-12-30    6.0\n",
       "1987-12-31    5.0\n",
       "1988-01-02    0.0\n",
       "1988-01-03    0.0\n",
       "1988-01-05    2.0\n",
       "1988-01-06    6.0\n",
       "1988-01-07    4.0\n",
       "1988-01-08    9.0\n",
       "1988-01-09    5.0\n",
       "1988-01-10    2.0\n",
       "Name: SNOW, dtype: float64"
      ]
     },
     "execution_count": 109,
     "metadata": {},
     "output_type": "execute_result"
    }
   ],
   "source": [
    "# Dropping missing values\n",
    "(\n",
    "    snow\n",
    "    .loc['1987-12-30':'1988-01-10']\n",
    "    .dropna()\n",
    ")"
   ]
  },
  {
   "cell_type": "markdown",
   "id": "6af1617b-9af6-48ee-8013-c6f6a7cf9aa1",
   "metadata": {},
   "source": [
    "### Shifting data"
   ]
  },
  {
   "cell_type": "code",
   "execution_count": 112,
   "id": "207fe4bf-3587-4843-8917-95b1c236de88",
   "metadata": {},
   "outputs": [
    {
     "data": {
      "text/plain": [
       "1980-01-01    2.0\n",
       "1980-01-02    3.0\n",
       "1980-01-03    1.0\n",
       "1980-01-04    0.0\n",
       "1980-01-05    0.0\n",
       "             ... \n",
       "2019-09-03    0.0\n",
       "2019-09-04    0.0\n",
       "2019-09-05    0.0\n",
       "2019-09-06    0.0\n",
       "2019-09-07    0.0\n",
       "Name: SNOW, Length: 14160, dtype: float64"
      ]
     },
     "execution_count": 112,
     "metadata": {},
     "output_type": "execute_result"
    }
   ],
   "source": [
    "snow"
   ]
  },
  {
   "cell_type": "code",
   "execution_count": 110,
   "id": "1afb540b-f2f8-4dac-a2e7-e77396a70a11",
   "metadata": {},
   "outputs": [
    {
     "data": {
      "text/plain": [
       "1980-01-01    NaN\n",
       "1980-01-02    2.0\n",
       "1980-01-03    3.0\n",
       "1980-01-04    1.0\n",
       "1980-01-05    0.0\n",
       "             ... \n",
       "2019-09-03    0.0\n",
       "2019-09-04    0.0\n",
       "2019-09-05    0.0\n",
       "2019-09-06    0.0\n",
       "2019-09-07    0.0\n",
       "Name: SNOW, Length: 14160, dtype: float64"
      ]
     },
     "execution_count": 110,
     "metadata": {},
     "output_type": "execute_result"
    }
   ],
   "source": [
    "snow.shift(1)"
   ]
  },
  {
   "cell_type": "code",
   "execution_count": 111,
   "id": "f515228c-97af-4a82-aa65-32c506297f7b",
   "metadata": {},
   "outputs": [
    {
     "data": {
      "text/plain": [
       "1980-01-01    3.0\n",
       "1980-01-02    1.0\n",
       "1980-01-03    0.0\n",
       "1980-01-04    0.0\n",
       "1980-01-05    1.0\n",
       "             ... \n",
       "2019-09-03    0.0\n",
       "2019-09-04    0.0\n",
       "2019-09-05    0.0\n",
       "2019-09-06    0.0\n",
       "2019-09-07    NaN\n",
       "Name: SNOW, Length: 14160, dtype: float64"
      ]
     },
     "execution_count": 111,
     "metadata": {},
     "output_type": "execute_result"
    }
   ],
   "source": [
    "snow.shift(-1)"
   ]
  },
  {
   "cell_type": "markdown",
   "id": "7b3862f0-70a6-4a5f-90c3-9b205a92bac8",
   "metadata": {},
   "source": [
    "### Rolling Average"
   ]
  },
  {
   "cell_type": "code",
   "execution_count": 114,
   "id": "8de7e13f-18f7-40bf-939b-08e8a168c364",
   "metadata": {},
   "outputs": [
    {
     "data": {
      "text/plain": [
       "1980-01-01    2.0\n",
       "1980-01-02    3.0\n",
       "1980-01-03    1.0\n",
       "1980-01-04    0.0\n",
       "1980-01-05    0.0\n",
       "             ... \n",
       "2019-09-03    0.0\n",
       "2019-09-04    0.0\n",
       "2019-09-05    0.0\n",
       "2019-09-06    0.0\n",
       "2019-09-07    0.0\n",
       "Name: SNOW, Length: 14160, dtype: float64"
      ]
     },
     "execution_count": 114,
     "metadata": {},
     "output_type": "execute_result"
    }
   ],
   "source": [
    "snow"
   ]
  },
  {
   "cell_type": "code",
   "execution_count": 118,
   "id": "452342f0-356a-44ba-9ce5-9d37fbb3264c",
   "metadata": {},
   "outputs": [
    {
     "data": {
      "text/plain": [
       "1980-01-01    NaN\n",
       "1980-01-02    NaN\n",
       "1980-01-03    NaN\n",
       "1980-01-04    NaN\n",
       "1980-01-05    1.2\n",
       "             ... \n",
       "2019-09-03    0.0\n",
       "2019-09-04    0.0\n",
       "2019-09-05    0.0\n",
       "2019-09-06    0.0\n",
       "2019-09-07    0.0\n",
       "Name: SNOW, Length: 14160, dtype: float64"
      ]
     },
     "execution_count": 118,
     "metadata": {},
     "output_type": "execute_result"
    }
   ],
   "source": [
    "# 5 day moving average\n",
    "(\n",
    "    snow\n",
    "     .add(snow.shift(1))\n",
    "     .add(snow.shift(2))\n",
    "     .add(snow.shift(3))\n",
    "     .add(snow.shift(4))\n",
    "    .div(5)\n",
    ")"
   ]
  },
  {
   "cell_type": "code",
   "execution_count": 119,
   "id": "df607437-463f-4449-8962-7a76260dd596",
   "metadata": {},
   "outputs": [
    {
     "data": {
      "text/plain": [
       "1980-01-01    NaN\n",
       "1980-01-02    NaN\n",
       "1980-01-03    NaN\n",
       "1980-01-04    NaN\n",
       "1980-01-05    1.2\n",
       "             ... \n",
       "2019-09-03    0.0\n",
       "2019-09-04    0.0\n",
       "2019-09-05    0.0\n",
       "2019-09-06    0.0\n",
       "2019-09-07    0.0\n",
       "Name: SNOW, Length: 14160, dtype: float64"
      ]
     },
     "execution_count": 119,
     "metadata": {},
     "output_type": "execute_result"
    }
   ],
   "source": [
    "(\n",
    "    snow\n",
    "    .rolling(5)\n",
    "    .mean()\n",
    ")"
   ]
  },
  {
   "cell_type": "markdown",
   "id": "967dabef-e58d-4427-bd52-59d24602cfae",
   "metadata": {},
   "source": [
    "### Resampling"
   ]
  },
  {
   "cell_type": "code",
   "execution_count": 123,
   "id": "ee1bf163-2f65-410f-8dcc-f16367f6fabf",
   "metadata": {},
   "outputs": [
    {
     "data": {
      "text/plain": [
       "1980-01-31    20.0\n",
       "1980-03-31    25.0\n",
       "1980-05-31    10.0\n",
       "1980-07-31     1.0\n",
       "1980-09-30     0.0\n",
       "              ... \n",
       "2019-01-31    19.0\n",
       "2019-03-31    20.7\n",
       "2019-05-31    18.0\n",
       "2019-07-31     0.0\n",
       "2019-09-30     0.0\n",
       "Freq: 2ME, Name: SNOW, Length: 239, dtype: float64"
      ]
     },
     "execution_count": 123,
     "metadata": {},
     "output_type": "execute_result"
    }
   ],
   "source": [
    "(\n",
    "    snow\n",
    "    .resample('2ME')\n",
    "    .max()\n",
    ")"
   ]
  },
  {
   "cell_type": "code",
   "execution_count": 125,
   "id": "c9ac2077-d95b-4e03-a10c-ba5570708336",
   "metadata": {},
   "outputs": [
    {
     "data": {
      "text/plain": [
       "1980-05-31    25.0\n",
       "1981-05-31    26.0\n",
       "1982-05-31    34.0\n",
       "1983-05-31    38.0\n",
       "1984-05-31    25.0\n",
       "1985-05-31    22.0\n",
       "1986-05-31    34.0\n",
       "1987-05-31    16.0\n",
       "1988-05-31    23.0\n",
       "1989-05-31    30.0\n",
       "1990-05-31    32.0\n",
       "1991-05-31    28.0\n",
       "1992-05-31    22.0\n",
       "1993-05-31    30.0\n",
       "1994-05-31    36.0\n",
       "1995-05-31    25.0\n",
       "1996-05-31    34.0\n",
       "1997-05-31    22.0\n",
       "1998-05-31    29.0\n",
       "1999-05-31    26.0\n",
       "2000-05-31    23.0\n",
       "2001-05-31    19.0\n",
       "2002-05-31    28.0\n",
       "2003-05-31    14.0\n",
       "2004-05-31    24.0\n",
       "2005-05-31    31.0\n",
       "2006-05-31    27.0\n",
       "2007-05-31    15.0\n",
       "2008-05-31    21.0\n",
       "2009-05-31    23.0\n",
       "2010-05-31    32.0\n",
       "2011-05-31    22.0\n",
       "2012-05-31    18.0\n",
       "2013-05-31    19.0\n",
       "2014-05-31    11.0\n",
       "2015-05-31    25.0\n",
       "2016-05-31    15.0\n",
       "2017-05-31    26.0\n",
       "2018-05-31    21.8\n",
       "2019-05-31    20.7\n",
       "2020-05-31     0.0\n",
       "Freq: YE-MAY, Name: SNOW, dtype: float64"
      ]
     },
     "execution_count": 125,
     "metadata": {},
     "output_type": "execute_result"
    }
   ],
   "source": [
    "(\n",
    "    snow\n",
    "    .resample('YE-MAY')\n",
    "    .max()\n",
    ")"
   ]
  },
  {
   "cell_type": "markdown",
   "id": "1fd206a1-6d83-4e32-9519-099bbf1a312a",
   "metadata": {},
   "source": [
    "### Gathering aggregate values ( But keeping index ) "
   ]
  },
  {
   "cell_type": "code",
   "execution_count": 128,
   "id": "eaf4a63f-70c5-41be-865f-d0b66f006db8",
   "metadata": {},
   "outputs": [
    {
     "data": {
      "text/plain": [
       "1980-01-01    0.527009\n",
       "1980-01-02    0.790514\n",
       "1980-01-03    0.263505\n",
       "1980-01-04    0.000000\n",
       "1980-01-05    0.000000\n",
       "                ...   \n",
       "2019-09-03    0.000000\n",
       "2019-09-04    0.000000\n",
       "2019-09-05    0.000000\n",
       "2019-09-06    0.000000\n",
       "2019-09-07    0.000000\n",
       "Name: SNOW, Length: 14160, dtype: float64"
      ]
     },
     "execution_count": 128,
     "metadata": {},
     "output_type": "execute_result"
    }
   ],
   "source": [
    "(\n",
    "    snow\n",
    "    .div(snow\n",
    "         .resample('QE')\n",
    "         .transform('sum'))\n",
    "    .mul(100)\n",
    "    .fillna(0)\n",
    ")\n"
   ]
  },
  {
   "cell_type": "code",
   "execution_count": 129,
   "id": "620d79b4-9845-4a62-b784-6d12a2cc2cd4",
   "metadata": {},
   "outputs": [
    {
     "data": {
      "text/plain": [
       "1980-01-01    2.0\n",
       "1980-01-02    3.0\n",
       "1980-01-03    1.0\n",
       "1980-01-04    0.0\n",
       "1980-01-05    0.0\n",
       "             ... \n",
       "2019-09-03    0.0\n",
       "2019-09-04    0.0\n",
       "2019-09-05    0.0\n",
       "2019-09-06    0.0\n",
       "2019-09-07    0.0\n",
       "Name: SNOW, Length: 14160, dtype: float64"
      ]
     },
     "execution_count": 129,
     "metadata": {},
     "output_type": "execute_result"
    }
   ],
   "source": [
    "snow"
   ]
  },
  {
   "cell_type": "code",
   "execution_count": 131,
   "id": "9dc0f8dd-cd33-475e-bfaa-f7e3f85c61c7",
   "metadata": {},
   "outputs": [
    {
     "data": {
      "text/plain": [
       "1980-01-01    379.5\n",
       "1980-01-02    379.5\n",
       "1980-01-03    379.5\n",
       "1980-01-04    379.5\n",
       "1980-01-05    379.5\n",
       "              ...  \n",
       "2019-09-03      0.0\n",
       "2019-09-04      0.0\n",
       "2019-09-05      0.0\n",
       "2019-09-06      0.0\n",
       "2019-09-07      0.0\n",
       "Name: SNOW, Length: 14160, dtype: float64"
      ]
     },
     "execution_count": 131,
     "metadata": {},
     "output_type": "execute_result"
    }
   ],
   "source": [
    "snow.resample('QE').transform('sum')"
   ]
  },
  {
   "cell_type": "code",
   "execution_count": 133,
   "id": "122c14e4-5125-47f7-bfc8-8c59cf5fdffa",
   "metadata": {},
   "outputs": [
    {
     "data": {
      "text/plain": [
       "2016-10-31     2.153969\n",
       "2016-11-30     9.772637\n",
       "2016-12-31    15.715995\n",
       "2017-01-31    25.468688\n",
       "2017-02-28    21.041085\n",
       "2017-03-31     9.274033\n",
       "2017-04-30    14.738732\n",
       "2017-05-31     1.834862\n",
       "Freq: ME, Name: SNOW, dtype: float64"
      ]
     },
     "execution_count": 133,
     "metadata": {},
     "output_type": "execute_result"
    }
   ],
   "source": [
    "# compute the percentage of a season snowfall that fell during each month\n",
    "season2017 = snow.loc['2016-10':'2017-05']\n",
    "(\n",
    "    season2017\n",
    "    .resample('ME')\n",
    "    .sum()\n",
    "    .div(season2017\n",
    "         .sum())\n",
    "    .mul(100)\n",
    ")\n"
   ]
  },
  {
   "cell_type": "code",
   "execution_count": 140,
   "id": "bc9ee6d3-3ee5-48a3-89f9-acb4d21b500d",
   "metadata": {},
   "outputs": [],
   "source": [
    "# Group by operations\n",
    "def season(idx):\n",
    "    year = idx.year\n",
    "    month = idx.month\n",
    "    return year if month < 10 else year+1"
   ]
  },
  {
   "cell_type": "code",
   "execution_count": 141,
   "id": "758b6112-31a9-49b1-b23a-72bc6919b6fe",
   "metadata": {},
   "outputs": [
    {
     "data": {
      "text/plain": [
       "1980    457.5\n",
       "1981    503.0\n",
       "1982    842.5\n",
       "1983    807.5\n",
       "1984    816.0\n",
       "1985    536.0\n",
       "1986    740.8\n",
       "1987    243.1\n",
       "1988    314.5\n",
       "1989    429.5\n",
       "1990    331.5\n",
       "1991    504.7\n",
       "1992    340.8\n",
       "1993    683.5\n",
       "1994    321.0\n",
       "1995    645.0\n",
       "1996    525.5\n",
       "1997    563.6\n",
       "1998    579.6\n",
       "1999    435.7\n",
       "2000    453.0\n",
       "2001    468.0\n",
       "2002    457.8\n",
       "2003    365.4\n",
       "2004    514.0\n",
       "2005    472.0\n",
       "2006    594.6\n",
       "2007    319.7\n",
       "2008    606.0\n",
       "2009    476.8\n",
       "2010    391.0\n",
       "2011    533.8\n",
       "2012    293.5\n",
       "2013    362.8\n",
       "2014    358.7\n",
       "2015    284.3\n",
       "2016    354.6\n",
       "2017    524.0\n",
       "2018    308.8\n",
       "2019    504.5\n",
       "Name: SNOW, dtype: float64"
      ]
     },
     "execution_count": 141,
     "metadata": {},
     "output_type": "execute_result"
    }
   ],
   "source": [
    "(\n",
    "    snow\n",
    "    .groupby(season)\n",
    "    .sum()\n",
    ")"
   ]
  },
  {
   "cell_type": "code",
   "execution_count": 143,
   "id": "5d7741a1-6081-45db-8f26-4f9ef27bcfb1",
   "metadata": {},
   "outputs": [
    {
     "data": {
      "text/plain": [
       "1980-09-30    457.5\n",
       "1981-09-30    503.0\n",
       "1982-09-30    842.5\n",
       "1983-09-30    807.5\n",
       "1984-09-30    816.0\n",
       "1985-09-30    536.0\n",
       "1986-09-30    740.8\n",
       "1987-09-30    243.1\n",
       "1988-09-30    314.5\n",
       "1989-09-30    429.5\n",
       "1990-09-30    331.5\n",
       "1991-09-30    504.7\n",
       "1992-09-30    340.8\n",
       "1993-09-30    683.5\n",
       "1994-09-30    321.0\n",
       "1995-09-30    645.0\n",
       "1996-09-30    525.5\n",
       "1997-09-30    563.6\n",
       "1998-09-30    579.6\n",
       "1999-09-30    435.7\n",
       "2000-09-30    453.0\n",
       "2001-09-30    468.0\n",
       "2002-09-30    457.8\n",
       "2003-09-30    365.4\n",
       "2004-09-30    514.0\n",
       "2005-09-30    472.0\n",
       "2006-09-30    594.6\n",
       "2007-09-30    319.7\n",
       "2008-09-30    606.0\n",
       "2009-09-30    476.8\n",
       "2010-09-30    391.0\n",
       "2011-09-30    533.8\n",
       "2012-09-30    293.5\n",
       "2013-09-30    362.8\n",
       "2014-09-30    358.7\n",
       "2015-09-30    284.3\n",
       "2016-09-30    354.6\n",
       "2017-09-30    524.0\n",
       "2018-09-30    308.8\n",
       "2019-09-30    504.5\n",
       "Freq: YE-SEP, Name: SNOW, dtype: float64"
      ]
     },
     "execution_count": 143,
     "metadata": {},
     "output_type": "execute_result"
    }
   ],
   "source": [
    "(\n",
    "    snow\n",
    "    .resample('YE-SEP')\n",
    "    .sum()\n",
    ")"
   ]
  },
  {
   "cell_type": "markdown",
   "id": "d7fba459-fca7-498f-ba82-7e94ffc8eee6",
   "metadata": {},
   "source": [
    "### cumulative operations"
   ]
  },
  {
   "cell_type": "code",
   "execution_count": 144,
   "id": "3c40f319-daf2-4eac-ae97-85a2188e1457",
   "metadata": {},
   "outputs": [
    {
     "data": {
      "text/plain": [
       "2016-10-01      0.0\n",
       "2016-10-02      0.0\n",
       "2016-10-03      4.9\n",
       "2016-10-04      4.9\n",
       "2016-10-05      5.5\n",
       "              ...  \n",
       "2017-09-26    524.0\n",
       "2017-09-27    524.0\n",
       "2017-09-28    524.0\n",
       "2017-09-29    524.0\n",
       "2017-09-30    524.0\n",
       "Name: SNOW, Length: 364, dtype: float64"
      ]
     },
     "execution_count": 144,
     "metadata": {},
     "output_type": "execute_result"
    }
   ],
   "source": [
    "(\n",
    "    snow\n",
    "    .loc['2016-10':'2017-09']\n",
    "    .cumsum()\n",
    ")"
   ]
  },
  {
   "cell_type": "code",
   "execution_count": 145,
   "id": "7f053a6a-7bd2-4b01-9446-b96507f1d661",
   "metadata": {},
   "outputs": [
    {
     "data": {
      "text/plain": [
       "1980-01-01      2.0\n",
       "1980-01-02      5.0\n",
       "1980-01-03      6.0\n",
       "1980-01-04      6.0\n",
       "1980-01-05      6.0\n",
       "              ...  \n",
       "2019-09-03    504.5\n",
       "2019-09-04    504.5\n",
       "2019-09-05    504.5\n",
       "2019-09-06    504.5\n",
       "2019-09-07    504.5\n",
       "Name: SNOW, Length: 14160, dtype: float64"
      ]
     },
     "execution_count": 145,
     "metadata": {},
     "output_type": "execute_result"
    }
   ],
   "source": [
    "(snow\n",
    " .resample('YE-SEP')\n",
    " .transform('cumsum')   \n",
    ")"
   ]
  },
  {
   "cell_type": "markdown",
   "id": "e4f45dbb-bc0e-4ffa-adc1-47f6beda508b",
   "metadata": {},
   "source": [
    "### Exercise 13.12"
   ]
  },
  {
   "cell_type": "code",
   "execution_count": 162,
   "id": "8ba3d833-53b6-43ae-947f-de1ec9bafe0e",
   "metadata": {},
   "outputs": [
    {
     "data": {
      "text/plain": [
       "0   2024-12-12\n",
       "1   2024-12-13\n",
       "2   2024-12-14\n",
       "3   2024-12-15\n",
       "4   2024-12-16\n",
       "5   2024-12-17\n",
       "6   2024-12-18\n",
       "7   2024-12-19\n",
       "8   2024-12-20\n",
       "9   2024-12-21\n",
       "dtype: datetime64[ns]"
      ]
     },
     "execution_count": 162,
     "metadata": {},
     "output_type": "execute_result"
    }
   ],
   "source": [
    "# 1. convert a column with date information to a date\n",
    "date = pd.date_range(start='2024-12-12', periods=10, freq='D')\n",
    "dates = pd.Series(data=date)\n",
    "dates"
   ]
  },
  {
   "cell_type": "code",
   "execution_count": 170,
   "id": "0bc10f0f-2a1f-4916-8cf8-63b506555fff",
   "metadata": {},
   "outputs": [
    {
     "data": {
      "text/plain": [
       "2024-12-12    1\n",
       "2025-01-15    3\n",
       "2025-02-15    5\n",
       "2025-03-15    2\n",
       "2024-12-16    1\n",
       "2024-12-17    6\n",
       "2024-12-18    4\n",
       "2024-12-19    7\n",
       "2024-12-20    3\n",
       "2024-12-21    2\n",
       "dtype: int64"
      ]
     },
     "execution_count": 170,
     "metadata": {},
     "output_type": "execute_result"
    }
   ],
   "source": [
    "# 2. put the date information into the index for a numeric value\n",
    "value = [1,3,5,2,1,6,4,7,3,2]\n",
    "dates = pd.Series(data=value, index=date)\n",
    "# Replace a specific date\n",
    "#dates = dates.replace(pd.Timestamp('2024-12-13'), pd.Timestamp('2025-01-15'))\n",
    "\n",
    "# Replace a specific index date\n",
    "dates.index = dates.index.map(lambda x: pd.Timestamp('2025-01-15') if x == pd.Timestamp('2024-12-13') else x)\n",
    "dates.index = dates.index.map(lambda x: pd.Timestamp('2025-03-15') if x == pd.Timestamp('2024-12-15') else x)\n",
    "dates.index = dates.index.map(lambda x: pd.Timestamp('2025-02-15') if x == pd.Timestamp('2024-12-14') else x)\n",
    "dates"
   ]
  },
  {
   "cell_type": "code",
   "execution_count": 171,
   "id": "af4a8423-67a6-4252-b2dc-864d935178ee",
   "metadata": {},
   "outputs": [
    {
     "data": {
      "text/plain": [
       "2024-12-31    3.428571\n",
       "2025-01-31    3.000000\n",
       "2025-02-28    5.000000\n",
       "2025-03-31    2.000000\n",
       "Freq: ME, dtype: float64"
      ]
     },
     "execution_count": 171,
     "metadata": {},
     "output_type": "execute_result"
    }
   ],
   "source": [
    "# 3 calculate the average value of the column for each month\n",
    "(dates\n",
    " .resample('ME')\n",
    " .mean()\n",
    ")"
   ]
  },
  {
   "cell_type": "code",
   "execution_count": 172,
   "id": "27dabc60-29e9-4d1b-87e3-7e672af6e35c",
   "metadata": {},
   "outputs": [
    {
     "data": {
      "text/plain": [
       "2024-12-31    3.428571\n",
       "2025-02-28    4.000000\n",
       "2025-04-30    2.000000\n",
       "Freq: 2ME, dtype: float64"
      ]
     },
     "execution_count": 172,
     "metadata": {},
     "output_type": "execute_result"
    }
   ],
   "source": [
    "# 3 calculate the average value of the column for every 2 months\n",
    "(dates\n",
    " .resample('2ME')\n",
    " .mean()\n",
    ")"
   ]
  }
 ],
 "metadata": {
  "kernelspec": {
   "display_name": "Python 3 (ipykernel)",
   "language": "python",
   "name": "python3"
  },
  "language_info": {
   "codemirror_mode": {
    "name": "ipython",
    "version": 3
   },
   "file_extension": ".py",
   "mimetype": "text/x-python",
   "name": "python",
   "nbconvert_exporter": "python",
   "pygments_lexer": "ipython3",
   "version": "3.9.6"
  }
 },
 "nbformat": 4,
 "nbformat_minor": 5
}
