{
 "cells": [
  {
   "cell_type": "markdown",
   "id": "f4a63a3d-b8d5-4f4a-b2c4-45fe4c85020b",
   "metadata": {},
   "source": [
    "# UTC date and timezone\n",
    "Local date, offset , and timezone"
   ]
  },
  {
   "cell_type": "markdown",
   "id": "79970f39-6206-4c84-8656-3f629e38a09d",
   "metadata": {},
   "source": [
    "### Datetime"
   ]
  },
  {
   "cell_type": "code",
   "execution_count": 1,
   "id": "66c2fe93-49bf-4407-8ae6-4e99e9aeeeac",
   "metadata": {},
   "outputs": [],
   "source": [
    "import pandas as pd \n",
    "col = pd.Series(['2024-12-26 08:00:00+00:00',\n",
    "                '2024-12-26 08:30:00+00:00',\n",
    "                '2024-12-26 09:00:00+00:00',\n",
    "                '2024-12-26 09:30:00+00:00',\n",
    "                '2024-12-26 10:00:00+00:00',\n",
    "                '2024-12-26 10:30:00+00:00',\n",
    "                '2024-12-26 06:00:00+00:00',\n",
    "                '2024-12-26 06:30:00+00:00',\n",
    "                '2024-12-26 07:00:00+00:00',\n",
    "                '2024-12-26 07:30:00+00:00'])"
   ]
  },
  {
   "cell_type": "code",
   "execution_count": 3,
   "id": "e2622dd1-cd03-4f94-b976-06fd406e91fd",
   "metadata": {},
   "outputs": [
    {
     "data": {
      "text/plain": [
       "0   2024-12-26 08:00:00+00:00\n",
       "1   2024-12-26 08:30:00+00:00\n",
       "2   2024-12-26 09:00:00+00:00\n",
       "3   2024-12-26 09:30:00+00:00\n",
       "4   2024-12-26 10:00:00+00:00\n",
       "5   2024-12-26 10:30:00+00:00\n",
       "6   2024-12-26 06:00:00+00:00\n",
       "7   2024-12-26 06:30:00+00:00\n",
       "8   2024-12-26 07:00:00+00:00\n",
       "9   2024-12-26 07:30:00+00:00\n",
       "dtype: datetime64[ns, UTC]"
      ]
     },
     "execution_count": 3,
     "metadata": {},
     "output_type": "execute_result"
    }
   ],
   "source": [
    "utc_s = pd.to_datetime(col, utc=True)\n",
    "utc_s"
   ]
  },
  {
   "cell_type": "code",
   "execution_count": 4,
   "id": "5e2851f8-6f47-4ba8-82c1-985b5c8d855b",
   "metadata": {},
   "outputs": [
    {
     "data": {
      "text/plain": [
       "0   2024-12-26 01:00:00-07:00\n",
       "1   2024-12-26 01:30:00-07:00\n",
       "2   2024-12-26 02:00:00-07:00\n",
       "3   2024-12-26 02:30:00-07:00\n",
       "4   2024-12-26 03:00:00-07:00\n",
       "5   2024-12-26 03:30:00-07:00\n",
       "6   2024-12-25 23:00:00-07:00\n",
       "7   2024-12-25 23:30:00-07:00\n",
       "8   2024-12-26 00:00:00-07:00\n",
       "9   2024-12-26 00:30:00-07:00\n",
       "dtype: datetime64[ns, America/Denver]"
      ]
     },
     "execution_count": 4,
     "metadata": {},
     "output_type": "execute_result"
    }
   ],
   "source": [
    "utc_s.dt.tz_convert('America/Denver')"
   ]
  },
  {
   "cell_type": "code",
   "execution_count": 5,
   "id": "b42fe4af-ea16-4529-90dc-c2516e50ed3f",
   "metadata": {},
   "outputs": [],
   "source": [
    "s = pd.Series(['2024-12-26 01:00:00-07:00',\n",
    "'2024-12-26 01:30:00-07:00',\n",
    "'2024-12-26 02:00:00-07:00',\n",
    "'2024-12-26 02:30:00-07:00',\n",
    "'2024-12-26 03:00:00-07:00',\n",
    "'2024-12-26 03:30:00-07:00',\n",
    "'2024-12-25 23:00:00-07:00',\n",
    "'2024-12-25 23:30:00-07:00',\n",
    "'2024-12-26 00:00:00-07:00',\n",
    "'2024-12-26 00:30:00-07:00'])"
   ]
  },
  {
   "cell_type": "code",
   "execution_count": 6,
   "id": "2008aae0-a9fa-459b-a6e9-2233e2fd97cd",
   "metadata": {},
   "outputs": [
    {
     "data": {
      "text/plain": [
       "0   2024-12-26 01:00:00-07:00\n",
       "1   2024-12-26 01:30:00-07:00\n",
       "2   2024-12-26 02:00:00-07:00\n",
       "3   2024-12-26 02:30:00-07:00\n",
       "4   2024-12-26 03:00:00-07:00\n",
       "5   2024-12-26 03:30:00-07:00\n",
       "6   2024-12-25 23:00:00-07:00\n",
       "7   2024-12-25 23:30:00-07:00\n",
       "8   2024-12-26 00:00:00-07:00\n",
       "9   2024-12-26 00:30:00-07:00\n",
       "dtype: datetime64[ns, America/Denver]"
      ]
     },
     "execution_count": 6,
     "metadata": {},
     "output_type": "execute_result"
    }
   ],
   "source": [
    "pd.to_datetime(s, utc=True).dt.tz_convert('America/Denver')"
   ]
  },
  {
   "cell_type": "code",
   "execution_count": 22,
   "id": "1ddf4947-1a29-4716-91e1-0d45efa88c43",
   "metadata": {},
   "outputs": [],
   "source": [
    "time = pd.Series(['2023-01-01 12:00:00', '2023-01-02 13:00:00', '2023-01-03 14:00:00'])"
   ]
  },
  {
   "cell_type": "code",
   "execution_count": 32,
   "id": "754c816f-7d81-4a27-a0ea-c10e9b049e1c",
   "metadata": {},
   "outputs": [],
   "source": [
    "offset = pd.Series([-7,-7,-7,-7,-7,-6,-6,-6,-6,-6,-6,-6,-7,-7,-7,-7,-7,-7])"
   ]
  },
  {
   "cell_type": "code",
   "execution_count": 28,
   "id": "54a23ec6-9b96-4e3d-addf-aed441c9d256",
   "metadata": {},
   "outputs": [
    {
     "data": {
      "text/plain": [
       "0   2023-01-01 05:00:07-07:00\n",
       "1   2023-01-02 06:00:07-07:00\n",
       "2   2023-01-03 07:00:07-07:00\n",
       "dtype: datetime64[ns, America/Denver]"
      ]
     },
     "execution_count": 28,
     "metadata": {},
     "output_type": "execute_result"
    }
   ],
   "source": [
    "(pd.to_datetime(time)\n",
    "    .groupby(offset)\n",
    "    .transform(lambda s: s.dt.tz_localize(s.name)\n",
    "               .dt.tz_convert('America/Denver'))\n",
    ")"
   ]
  },
  {
   "cell_type": "code",
   "execution_count": 34,
   "id": "e1a5c4e0-5169-48e8-8c05-1ea124b97aef",
   "metadata": {},
   "outputs": [],
   "source": [
    "offset = offset.replace({-7:'-07:00',-6:'-06:00'})"
   ]
  },
  {
   "cell_type": "code",
   "execution_count": 18,
   "id": "8c59b766-bc86-43db-b7ea-d21bfbd8fcd3",
   "metadata": {},
   "outputs": [
    {
     "data": {
      "text/plain": [
       "0   2024-12-26 01:00:00-07:00\n",
       "1   2024-12-26 01:30:00-07:00\n",
       "2   2024-12-26 02:00:00-07:00\n",
       "3   2024-12-26 02:30:00-07:00\n",
       "4   2024-12-26 03:00:00-07:00\n",
       "5   2024-12-26 03:30:00-07:00\n",
       "6   2024-12-25 23:00:00-07:00\n",
       "7   2024-12-25 23:30:00-07:00\n",
       "8   2024-12-26 00:00:00-07:00\n",
       "9   2024-12-26 00:30:00-07:00\n",
       "dtype: datetime64[ns, America/Denver]"
      ]
     },
     "execution_count": 18,
     "metadata": {},
     "output_type": "execute_result"
    }
   ],
   "source": [
    "(pd.to_datetime(time)\n",
    "    .groupby(offset)\n",
    "    .transform(lambda s: s.dt.tz_convert('America/Denver') \n",
    "                     if s.dt.tz is not None \n",
    "                     else s.dt.tz_localize(s.name).dt.tz_convert('America/Denver'))\n",
    ")"
   ]
  },
  {
   "cell_type": "code",
   "execution_count": 36,
   "id": "e9b37df3-f388-41c7-af1d-8a57e56d87f0",
   "metadata": {},
   "outputs": [],
   "source": [
    "local = (pd.to_datetime(time)\n",
    "    .groupby(offset)\n",
    "    .transform(lambda s: s.dt.tz_localize(s.name).dt.tz_convert('America/Denver'))\n",
    ")"
   ]
  },
  {
   "cell_type": "code",
   "execution_count": 37,
   "id": "639a87c3-bb70-4b1e-8df4-0d98ed3587ec",
   "metadata": {},
   "outputs": [
    {
     "data": {
      "text/plain": [
       "0   2023-01-01 12:00:00-07:00\n",
       "1   2023-01-02 13:00:00-07:00\n",
       "2   2023-01-03 14:00:00-07:00\n",
       "dtype: datetime64[ns, America/Denver]"
      ]
     },
     "execution_count": 37,
     "metadata": {},
     "output_type": "execute_result"
    }
   ],
   "source": [
    "local"
   ]
  },
  {
   "cell_type": "markdown",
   "id": "51e912d6-6f56-41d4-9543-8e6101a88690",
   "metadata": {},
   "source": [
    "### Converting local time to UTC"
   ]
  },
  {
   "cell_type": "code",
   "execution_count": 38,
   "id": "79ea5d97-8f63-421c-9507-9b3d458fc65f",
   "metadata": {},
   "outputs": [
    {
     "data": {
      "text/plain": [
       "0   2023-01-01 19:00:00+00:00\n",
       "1   2023-01-02 20:00:00+00:00\n",
       "2   2023-01-03 21:00:00+00:00\n",
       "dtype: datetime64[ns, UTC]"
      ]
     },
     "execution_count": 38,
     "metadata": {},
     "output_type": "execute_result"
    }
   ],
   "source": [
    "local.dt.tz_convert('UTC')"
   ]
  },
  {
   "cell_type": "markdown",
   "id": "179ee39c-1e34-49ac-969e-3d54c8a1337a",
   "metadata": {
    "jp-MarkdownHeadingCollapsed": true
   },
   "source": [
    "### Converting to Epochs"
   ]
  },
  {
   "cell_type": "code",
   "execution_count": 40,
   "id": "e835f008-065d-43ff-ad7c-f9e3171d5611",
   "metadata": {},
   "outputs": [],
   "source": [
    "secs = local.astype(int).floordiv(1e9).astype(int)"
   ]
  },
  {
   "cell_type": "code",
   "execution_count": 41,
   "id": "21c46854-ae71-4b1c-9385-7e03861a9ddb",
   "metadata": {},
   "outputs": [
    {
     "data": {
      "text/plain": [
       "0    1672599600\n",
       "1    1672689600\n",
       "2    1672779600\n",
       "dtype: int64"
      ]
     },
     "execution_count": 41,
     "metadata": {},
     "output_type": "execute_result"
    }
   ],
   "source": [
    "secs"
   ]
  },
  {
   "cell_type": "code",
   "execution_count": 42,
   "id": "72147d0b-f5fd-4607-aeab-9a63cc4df8d3",
   "metadata": {},
   "outputs": [
    {
     "data": {
      "text/plain": [
       "0   2023-01-01 19:00:00+00:00\n",
       "1   2023-01-02 20:00:00+00:00\n",
       "2   2023-01-03 21:00:00+00:00\n",
       "dtype: datetime64[ns, UTC]"
      ]
     },
     "execution_count": 42,
     "metadata": {},
     "output_type": "execute_result"
    }
   ],
   "source": [
    "(pd.to_datetime(secs, unit='s')\n",
    "    .dt.tz_localize('UTC'))"
   ]
  },
  {
   "cell_type": "markdown",
   "id": "4231a1d4-7348-49de-9df7-6f1289c639bc",
   "metadata": {},
   "source": [
    "### Manipulating Dates"
   ]
  },
  {
   "cell_type": "code",
   "execution_count": 43,
   "id": "987d0461-f83c-4e44-8b8f-5b16178fa0f5",
   "metadata": {},
   "outputs": [
    {
     "data": {
      "text/plain": [
       "0       1980-01-01\n",
       "1       1980-01-02\n",
       "2       1980-01-03\n",
       "3       1980-01-04\n",
       "4       1980-01-05\n",
       "           ...    \n",
       "14155   2019-09-03\n",
       "14156   2019-09-04\n",
       "14157   2019-09-05\n",
       "14158   2019-09-06\n",
       "14159   2019-09-07\n",
       "Name: DATE, Length: 14160, dtype: datetime64[ns]"
      ]
     },
     "execution_count": 43,
     "metadata": {},
     "output_type": "execute_result"
    }
   ],
   "source": [
    "url = 'https://github.com/arunadas/effective-pandas/raw/main/data/alta-noaa-1980-2019.csv'\n",
    "alta_df = pd.read_csv(url)\n",
    "dates = pd.to_datetime(alta_df.DATE)\n",
    "dates"
   ]
  },
  {
   "cell_type": "code",
   "execution_count": 45,
   "id": "617c9898-bd68-41a2-8ad2-9e7c739351db",
   "metadata": {},
   "outputs": [
    {
     "data": {
      "text/plain": [
       "0           Martes\n",
       "1        Miércoles\n",
       "2           Jueves\n",
       "3          Viernes\n",
       "4           Sábado\n",
       "           ...    \n",
       "14155       Martes\n",
       "14156    Miércoles\n",
       "14157       Jueves\n",
       "14158      Viernes\n",
       "14159       Sábado\n",
       "Name: DATE, Length: 14160, dtype: object"
      ]
     },
     "execution_count": 45,
     "metadata": {},
     "output_type": "execute_result"
    }
   ],
   "source": [
    "dates.dt.day_name('es_ES')"
   ]
  },
  {
   "cell_type": "code",
   "execution_count": 47,
   "id": "5f25f720-563f-47e6-bcf0-b26545c5239e",
   "metadata": {},
   "outputs": [
    {
     "data": {
      "text/plain": [
       "0        False\n",
       "1        False\n",
       "2        False\n",
       "3        False\n",
       "4        False\n",
       "         ...  \n",
       "14155    False\n",
       "14156    False\n",
       "14157    False\n",
       "14158    False\n",
       "14159    False\n",
       "Name: DATE, Length: 14160, dtype: bool"
      ]
     },
     "execution_count": 47,
     "metadata": {},
     "output_type": "execute_result"
    }
   ],
   "source": [
    "# properties vs method\n",
    "dates.dt.is_month_end"
   ]
  },
  {
   "cell_type": "code",
   "execution_count": 48,
   "id": "51e25f70-16a8-4ae0-b645-76b6b33712dc",
   "metadata": {},
   "outputs": [
    {
     "data": {
      "text/plain": [
       "0        01/01/80\n",
       "1        02/01/80\n",
       "2        03/01/80\n",
       "3        04/01/80\n",
       "4        05/01/80\n",
       "           ...   \n",
       "14155    03/09/19\n",
       "14156    04/09/19\n",
       "14157    05/09/19\n",
       "14158    06/09/19\n",
       "14159    07/09/19\n",
       "Name: DATE, Length: 14160, dtype: object"
      ]
     },
     "execution_count": 48,
     "metadata": {},
     "output_type": "execute_result"
    }
   ],
   "source": [
    "dates.dt.strftime('%d/%m/%y')"
   ]
  },
  {
   "cell_type": "markdown",
   "id": "598ac580-f786-4b65-8896-bfc30b796e31",
   "metadata": {},
   "source": [
    "### Exercise 12.8"
   ]
  },
  {
   "cell_type": "code",
   "execution_count": 54,
   "id": "512a0476-120e-468d-9971-092d96c36a38",
   "metadata": {},
   "outputs": [
    {
     "data": {
      "text/plain": [
       "0   2024-12-27 08:00:00\n",
       "1   2024-12-27 08:30:00\n",
       "2   2024-12-27 09:00:00\n",
       "dtype: datetime64[ns]"
      ]
     },
     "execution_count": 54,
     "metadata": {},
     "output_type": "execute_result"
    }
   ],
   "source": [
    "# convert a column with dates information to a date\n",
    "dates = pd.Series(['2024-12-27 08:00:00','2024-12-27 08:30:00','2024-12-27 09:00:00'])\n",
    "dates = pd.to_datetime(dates)\n",
    "dates"
   ]
  }
 ],
 "metadata": {
  "kernelspec": {
   "display_name": "Python 3 (ipykernel)",
   "language": "python",
   "name": "python3"
  },
  "language_info": {
   "codemirror_mode": {
    "name": "ipython",
    "version": 3
   },
   "file_extension": ".py",
   "mimetype": "text/x-python",
   "name": "python",
   "nbconvert_exporter": "python",
   "pygments_lexer": "ipython3",
   "version": "3.9.6"
  }
 },
 "nbformat": 4,
 "nbformat_minor": 5
}
