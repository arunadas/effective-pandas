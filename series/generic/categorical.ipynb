{
 "cells": [
  {
   "cell_type": "markdown",
   "id": "516de6a0-750a-402a-8568-340116dfc07a",
   "metadata": {},
   "source": [
    "### categorical data \n"
   ]
  },
  {
   "cell_type": "code",
   "execution_count": 2,
   "id": "94abf02a-8008-46d9-9218-899df4134519",
   "metadata": {},
   "outputs": [
    {
     "name": "stderr",
     "output_type": "stream",
     "text": [
      "/var/folders/vz/kll226bs5z166d_j4rg4kj2m0000gn/T/ipykernel_34962/3737141455.py:3: DtypeWarning: Columns (68,70,71,72,73,74,76,79) have mixed types. Specify dtype option on import or set low_memory=False.\n",
      "  df = pd.read_csv(url)\n"
     ]
    },
    {
     "data": {
      "text/plain": [
       "0        Alfa Romeo\n",
       "1           Ferrari\n",
       "2             Dodge\n",
       "3             Dodge\n",
       "4            Subaru\n",
       "            ...    \n",
       "41139        Subaru\n",
       "41140        Subaru\n",
       "41141        Subaru\n",
       "41142        Subaru\n",
       "41143        Subaru\n",
       "Name: make, Length: 41144, dtype: object"
      ]
     },
     "execution_count": 2,
     "metadata": {},
     "output_type": "execute_result"
    }
   ],
   "source": [
    "import pandas as pd\n",
    "url = 'https://github.com/arunadas/effective-pandas/raw/main/data/vehicles.csv.zip'\n",
    "df = pd.read_csv(url)\n",
    "make = df.make\n",
    "make"
   ]
  },
  {
   "cell_type": "markdown",
   "id": "d4ad81dd-6541-462d-81bc-49fdd7e11efb",
   "metadata": {},
   "source": [
    "### Frequency count"
   ]
  },
  {
   "cell_type": "code",
   "execution_count": 3,
   "id": "f87275b7-cfaf-47be-a5df-b369017522ae",
   "metadata": {},
   "outputs": [
    {
     "data": {
      "text/plain": [
       "make\n",
       "Chevrolet                      4003\n",
       "Ford                           3371\n",
       "Dodge                          2583\n",
       "GMC                            2494\n",
       "Toyota                         2071\n",
       "                               ... \n",
       "Volga Associated Automobile       1\n",
       "Panos                             1\n",
       "Mahindra                          1\n",
       "Excalibur Autos                   1\n",
       "London Coach Co Inc               1\n",
       "Name: count, Length: 136, dtype: int64"
      ]
     },
     "execution_count": 3,
     "metadata": {},
     "output_type": "execute_result"
    }
   ],
   "source": [
    "make.value_counts()"
   ]
  },
  {
   "cell_type": "code",
   "execution_count": 5,
   "id": "169cf213-b79f-48a6-bc36-58bcb1430486",
   "metadata": {},
   "outputs": [
    {
     "data": {
      "text/plain": [
       "((41144,), 136)"
      ]
     },
     "execution_count": 5,
     "metadata": {},
     "output_type": "execute_result"
    }
   ],
   "source": [
    "make.shape, make.nunique()"
   ]
  },
  {
   "cell_type": "markdown",
   "id": "9c86cc56-a96c-45c9-b08e-073b636154db",
   "metadata": {},
   "source": [
    "### Benifits of cardinality\n",
    "-- use less memory\n",
    "-- computation faster\n",
    "-- binning function creates categorical results pd.cut, pd.qcut"
   ]
  },
  {
   "cell_type": "code",
   "execution_count": 7,
   "id": "2c61df1c-08ea-450f-bb67-59eac28d4e3c",
   "metadata": {},
   "outputs": [
    {
     "data": {
      "text/plain": [
       "2606395"
      ]
     },
     "execution_count": 7,
     "metadata": {},
     "output_type": "execute_result"
    }
   ],
   "source": [
    "cat_make = make.astype('category')\n",
    "make.memory_usage(deep=True)"
   ]
  },
  {
   "cell_type": "code",
   "execution_count": 8,
   "id": "1d2877d3-8f04-422d-885b-fa9f14722ca8",
   "metadata": {},
   "outputs": [
    {
     "data": {
      "text/plain": [
       "95888"
      ]
     },
     "execution_count": 8,
     "metadata": {},
     "output_type": "execute_result"
    }
   ],
   "source": [
    "cat_make.memory_usage(deep=True)"
   ]
  },
  {
   "cell_type": "code",
   "execution_count": 9,
   "id": "43708c27-64d6-4cf6-bbaf-04e75fdb70c2",
   "metadata": {},
   "outputs": [
    {
     "name": "stdout",
     "output_type": "stream",
     "text": [
      "194 µs ± 1.22 µs per loop (mean ± std. dev. of 7 runs, 1,000 loops each)\n"
     ]
    }
   ],
   "source": [
    "%%timeit\n",
    "cat_make.str.upper()"
   ]
  },
  {
   "cell_type": "code",
   "execution_count": 10,
   "id": "2a15ef83-6301-4260-83c2-ee3c7528cd36",
   "metadata": {},
   "outputs": [
    {
     "name": "stdout",
     "output_type": "stream",
     "text": [
      "2.46 ms ± 18.6 µs per loop (mean ± std. dev. of 7 runs, 100 loops each)\n"
     ]
    }
   ],
   "source": [
    "%%timeit\n",
    "make.str.upper()"
   ]
  },
  {
   "cell_type": "markdown",
   "id": "2a1a2422-2209-4307-949c-8f2dc3a710cd",
   "metadata": {},
   "source": [
    "### conversion to ordinal"
   ]
  },
  {
   "cell_type": "code",
   "execution_count": 11,
   "id": "a94d5f69-3f2b-4f33-9134-1d5f97e5ebdb",
   "metadata": {},
   "outputs": [
    {
     "data": {
      "text/plain": [
       "0        Alfa Romeo\n",
       "1           Ferrari\n",
       "2             Dodge\n",
       "3             Dodge\n",
       "4            Subaru\n",
       "            ...    \n",
       "41139        Subaru\n",
       "41140        Subaru\n",
       "41141        Subaru\n",
       "41142        Subaru\n",
       "41143        Subaru\n",
       "Name: make, Length: 41144, dtype: category\n",
       "Categories (136, object): ['AM General' < 'ASC Incorporated' < 'Acura' < 'Alfa Romeo' ... 'Volvo' < 'Wallace Environmental' < 'Yugo' < 'smart']"
      ]
     },
     "execution_count": 11,
     "metadata": {},
     "output_type": "execute_result"
    }
   ],
   "source": [
    "make_type = pd.CategoricalDtype(\n",
    "    categories=sorted(make.unique()), ordered=True)\n",
    "ordered_make = make.astype(make_type)\n",
    "ordered_make"
   ]
  },
  {
   "cell_type": "code",
   "execution_count": 12,
   "id": "3de4a1d4-60c0-43c8-865f-c6cfe5cc6b88",
   "metadata": {},
   "outputs": [
    {
     "data": {
      "text/plain": [
       "'smart'"
      ]
     },
     "execution_count": 12,
     "metadata": {},
     "output_type": "execute_result"
    }
   ],
   "source": [
    "ordered_make.max()"
   ]
  },
  {
   "cell_type": "code",
   "execution_count": 13,
   "id": "23d6c176-5919-4ea9-9226-07aea2bc532d",
   "metadata": {},
   "outputs": [
    {
     "ename": "TypeError",
     "evalue": "Categorical is not ordered for operation max\nyou can use .as_ordered() to change the Categorical to an ordered one\n",
     "output_type": "error",
     "traceback": [
      "\u001b[0;31m---------------------------------------------------------------------------\u001b[0m",
      "\u001b[0;31mTypeError\u001b[0m                                 Traceback (most recent call last)",
      "Cell \u001b[0;32mIn[13], line 1\u001b[0m\n\u001b[0;32m----> 1\u001b[0m \u001b[43mcat_make\u001b[49m\u001b[38;5;241;43m.\u001b[39;49m\u001b[43mmax\u001b[49m\u001b[43m(\u001b[49m\u001b[43m)\u001b[49m\n",
      "File \u001b[0;32m~/Library/Python/3.9/lib/python/site-packages/pandas/core/series.py:6517\u001b[0m, in \u001b[0;36mSeries.max\u001b[0;34m(self, axis, skipna, numeric_only, **kwargs)\u001b[0m\n\u001b[1;32m   6509\u001b[0m \u001b[38;5;129m@doc\u001b[39m(make_doc(\u001b[38;5;124m\"\u001b[39m\u001b[38;5;124mmax\u001b[39m\u001b[38;5;124m\"\u001b[39m, ndim\u001b[38;5;241m=\u001b[39m\u001b[38;5;241m1\u001b[39m))\n\u001b[1;32m   6510\u001b[0m \u001b[38;5;28;01mdef\u001b[39;00m \u001b[38;5;21mmax\u001b[39m(\n\u001b[1;32m   6511\u001b[0m     \u001b[38;5;28mself\u001b[39m,\n\u001b[0;32m   (...)\u001b[0m\n\u001b[1;32m   6515\u001b[0m     \u001b[38;5;241m*\u001b[39m\u001b[38;5;241m*\u001b[39mkwargs,\n\u001b[1;32m   6516\u001b[0m ):\n\u001b[0;32m-> 6517\u001b[0m     \u001b[38;5;28;01mreturn\u001b[39;00m \u001b[43mNDFrame\u001b[49m\u001b[38;5;241;43m.\u001b[39;49m\u001b[43mmax\u001b[49m\u001b[43m(\u001b[49m\u001b[38;5;28;43mself\u001b[39;49m\u001b[43m,\u001b[49m\u001b[43m \u001b[49m\u001b[43maxis\u001b[49m\u001b[43m,\u001b[49m\u001b[43m \u001b[49m\u001b[43mskipna\u001b[49m\u001b[43m,\u001b[49m\u001b[43m \u001b[49m\u001b[43mnumeric_only\u001b[49m\u001b[43m,\u001b[49m\u001b[43m \u001b[49m\u001b[38;5;241;43m*\u001b[39;49m\u001b[38;5;241;43m*\u001b[39;49m\u001b[43mkwargs\u001b[49m\u001b[43m)\u001b[49m\n",
      "File \u001b[0;32m~/Library/Python/3.9/lib/python/site-packages/pandas/core/generic.py:12404\u001b[0m, in \u001b[0;36mNDFrame.max\u001b[0;34m(self, axis, skipna, numeric_only, **kwargs)\u001b[0m\n\u001b[1;32m  12397\u001b[0m \u001b[38;5;28;01mdef\u001b[39;00m \u001b[38;5;21mmax\u001b[39m(\n\u001b[1;32m  12398\u001b[0m     \u001b[38;5;28mself\u001b[39m,\n\u001b[1;32m  12399\u001b[0m     axis: Axis \u001b[38;5;241m|\u001b[39m \u001b[38;5;28;01mNone\u001b[39;00m \u001b[38;5;241m=\u001b[39m \u001b[38;5;241m0\u001b[39m,\n\u001b[0;32m   (...)\u001b[0m\n\u001b[1;32m  12402\u001b[0m     \u001b[38;5;241m*\u001b[39m\u001b[38;5;241m*\u001b[39mkwargs,\n\u001b[1;32m  12403\u001b[0m ):\n\u001b[0;32m> 12404\u001b[0m     \u001b[38;5;28;01mreturn\u001b[39;00m \u001b[38;5;28;43mself\u001b[39;49m\u001b[38;5;241;43m.\u001b[39;49m\u001b[43m_stat_function\u001b[49m\u001b[43m(\u001b[49m\n\u001b[1;32m  12405\u001b[0m \u001b[43m        \u001b[49m\u001b[38;5;124;43m\"\u001b[39;49m\u001b[38;5;124;43mmax\u001b[39;49m\u001b[38;5;124;43m\"\u001b[39;49m\u001b[43m,\u001b[49m\n\u001b[1;32m  12406\u001b[0m \u001b[43m        \u001b[49m\u001b[43mnanops\u001b[49m\u001b[38;5;241;43m.\u001b[39;49m\u001b[43mnanmax\u001b[49m\u001b[43m,\u001b[49m\n\u001b[1;32m  12407\u001b[0m \u001b[43m        \u001b[49m\u001b[43maxis\u001b[49m\u001b[43m,\u001b[49m\n\u001b[1;32m  12408\u001b[0m \u001b[43m        \u001b[49m\u001b[43mskipna\u001b[49m\u001b[43m,\u001b[49m\n\u001b[1;32m  12409\u001b[0m \u001b[43m        \u001b[49m\u001b[43mnumeric_only\u001b[49m\u001b[43m,\u001b[49m\n\u001b[1;32m  12410\u001b[0m \u001b[43m        \u001b[49m\u001b[38;5;241;43m*\u001b[39;49m\u001b[38;5;241;43m*\u001b[39;49m\u001b[43mkwargs\u001b[49m\u001b[43m,\u001b[49m\n\u001b[1;32m  12411\u001b[0m \u001b[43m    \u001b[49m\u001b[43m)\u001b[49m\n",
      "File \u001b[0;32m~/Library/Python/3.9/lib/python/site-packages/pandas/core/generic.py:12377\u001b[0m, in \u001b[0;36mNDFrame._stat_function\u001b[0;34m(self, name, func, axis, skipna, numeric_only, **kwargs)\u001b[0m\n\u001b[1;32m  12373\u001b[0m nv\u001b[38;5;241m.\u001b[39mvalidate_func(name, (), kwargs)\n\u001b[1;32m  12375\u001b[0m validate_bool_kwarg(skipna, \u001b[38;5;124m\"\u001b[39m\u001b[38;5;124mskipna\u001b[39m\u001b[38;5;124m\"\u001b[39m, none_allowed\u001b[38;5;241m=\u001b[39m\u001b[38;5;28;01mFalse\u001b[39;00m)\n\u001b[0;32m> 12377\u001b[0m \u001b[38;5;28;01mreturn\u001b[39;00m \u001b[38;5;28;43mself\u001b[39;49m\u001b[38;5;241;43m.\u001b[39;49m\u001b[43m_reduce\u001b[49m\u001b[43m(\u001b[49m\n\u001b[1;32m  12378\u001b[0m \u001b[43m    \u001b[49m\u001b[43mfunc\u001b[49m\u001b[43m,\u001b[49m\u001b[43m \u001b[49m\u001b[43mname\u001b[49m\u001b[38;5;241;43m=\u001b[39;49m\u001b[43mname\u001b[49m\u001b[43m,\u001b[49m\u001b[43m \u001b[49m\u001b[43maxis\u001b[49m\u001b[38;5;241;43m=\u001b[39;49m\u001b[43maxis\u001b[49m\u001b[43m,\u001b[49m\u001b[43m \u001b[49m\u001b[43mskipna\u001b[49m\u001b[38;5;241;43m=\u001b[39;49m\u001b[43mskipna\u001b[49m\u001b[43m,\u001b[49m\u001b[43m \u001b[49m\u001b[43mnumeric_only\u001b[49m\u001b[38;5;241;43m=\u001b[39;49m\u001b[43mnumeric_only\u001b[49m\n\u001b[1;32m  12379\u001b[0m \u001b[43m\u001b[49m\u001b[43m)\u001b[49m\n",
      "File \u001b[0;32m~/Library/Python/3.9/lib/python/site-packages/pandas/core/series.py:6443\u001b[0m, in \u001b[0;36mSeries._reduce\u001b[0;34m(self, op, name, axis, skipna, numeric_only, filter_type, **kwds)\u001b[0m\n\u001b[1;32m   6439\u001b[0m     \u001b[38;5;28mself\u001b[39m\u001b[38;5;241m.\u001b[39m_get_axis_number(axis)\n\u001b[1;32m   6441\u001b[0m \u001b[38;5;28;01mif\u001b[39;00m \u001b[38;5;28misinstance\u001b[39m(delegate, ExtensionArray):\n\u001b[1;32m   6442\u001b[0m     \u001b[38;5;66;03m# dispatch to ExtensionArray interface\u001b[39;00m\n\u001b[0;32m-> 6443\u001b[0m     \u001b[38;5;28;01mreturn\u001b[39;00m \u001b[43mdelegate\u001b[49m\u001b[38;5;241;43m.\u001b[39;49m\u001b[43m_reduce\u001b[49m\u001b[43m(\u001b[49m\u001b[43mname\u001b[49m\u001b[43m,\u001b[49m\u001b[43m \u001b[49m\u001b[43mskipna\u001b[49m\u001b[38;5;241;43m=\u001b[39;49m\u001b[43mskipna\u001b[49m\u001b[43m,\u001b[49m\u001b[43m \u001b[49m\u001b[38;5;241;43m*\u001b[39;49m\u001b[38;5;241;43m*\u001b[39;49m\u001b[43mkwds\u001b[49m\u001b[43m)\u001b[49m\n\u001b[1;32m   6445\u001b[0m \u001b[38;5;28;01melse\u001b[39;00m:\n\u001b[1;32m   6446\u001b[0m     \u001b[38;5;66;03m# dispatch to numpy arrays\u001b[39;00m\n\u001b[1;32m   6447\u001b[0m     \u001b[38;5;28;01mif\u001b[39;00m numeric_only \u001b[38;5;129;01mand\u001b[39;00m \u001b[38;5;28mself\u001b[39m\u001b[38;5;241m.\u001b[39mdtype\u001b[38;5;241m.\u001b[39mkind \u001b[38;5;129;01mnot\u001b[39;00m \u001b[38;5;129;01min\u001b[39;00m \u001b[38;5;124m\"\u001b[39m\u001b[38;5;124miufcb\u001b[39m\u001b[38;5;124m\"\u001b[39m:\n\u001b[1;32m   6448\u001b[0m         \u001b[38;5;66;03m# i.e. not is_numeric_dtype(self.dtype)\u001b[39;00m\n",
      "File \u001b[0;32m~/Library/Python/3.9/lib/python/site-packages/pandas/core/arrays/categorical.py:2359\u001b[0m, in \u001b[0;36mCategorical._reduce\u001b[0;34m(self, name, skipna, keepdims, **kwargs)\u001b[0m\n\u001b[1;32m   2356\u001b[0m \u001b[38;5;28;01mdef\u001b[39;00m \u001b[38;5;21m_reduce\u001b[39m(\n\u001b[1;32m   2357\u001b[0m     \u001b[38;5;28mself\u001b[39m, name: \u001b[38;5;28mstr\u001b[39m, \u001b[38;5;241m*\u001b[39m, skipna: \u001b[38;5;28mbool\u001b[39m \u001b[38;5;241m=\u001b[39m \u001b[38;5;28;01mTrue\u001b[39;00m, keepdims: \u001b[38;5;28mbool\u001b[39m \u001b[38;5;241m=\u001b[39m \u001b[38;5;28;01mFalse\u001b[39;00m, \u001b[38;5;241m*\u001b[39m\u001b[38;5;241m*\u001b[39mkwargs\n\u001b[1;32m   2358\u001b[0m ):\n\u001b[0;32m-> 2359\u001b[0m     result \u001b[38;5;241m=\u001b[39m \u001b[38;5;28;43msuper\u001b[39;49m\u001b[43m(\u001b[49m\u001b[43m)\u001b[49m\u001b[38;5;241;43m.\u001b[39;49m\u001b[43m_reduce\u001b[49m\u001b[43m(\u001b[49m\u001b[43mname\u001b[49m\u001b[43m,\u001b[49m\u001b[43m \u001b[49m\u001b[43mskipna\u001b[49m\u001b[38;5;241;43m=\u001b[39;49m\u001b[43mskipna\u001b[49m\u001b[43m,\u001b[49m\u001b[43m \u001b[49m\u001b[43mkeepdims\u001b[49m\u001b[38;5;241;43m=\u001b[39;49m\u001b[43mkeepdims\u001b[49m\u001b[43m,\u001b[49m\u001b[43m \u001b[49m\u001b[38;5;241;43m*\u001b[39;49m\u001b[38;5;241;43m*\u001b[39;49m\u001b[43mkwargs\u001b[49m\u001b[43m)\u001b[49m\n\u001b[1;32m   2360\u001b[0m     \u001b[38;5;28;01mif\u001b[39;00m name \u001b[38;5;129;01min\u001b[39;00m [\u001b[38;5;124m\"\u001b[39m\u001b[38;5;124margmax\u001b[39m\u001b[38;5;124m\"\u001b[39m, \u001b[38;5;124m\"\u001b[39m\u001b[38;5;124margmin\u001b[39m\u001b[38;5;124m\"\u001b[39m]:\n\u001b[1;32m   2361\u001b[0m         \u001b[38;5;66;03m# don't wrap in Categorical!\u001b[39;00m\n\u001b[1;32m   2362\u001b[0m         \u001b[38;5;28;01mreturn\u001b[39;00m result\n",
      "File \u001b[0;32m~/Library/Python/3.9/lib/python/site-packages/pandas/core/arrays/base.py:1958\u001b[0m, in \u001b[0;36mExtensionArray._reduce\u001b[0;34m(self, name, skipna, keepdims, **kwargs)\u001b[0m\n\u001b[1;32m   1953\u001b[0m \u001b[38;5;28;01mif\u001b[39;00m meth \u001b[38;5;129;01mis\u001b[39;00m \u001b[38;5;28;01mNone\u001b[39;00m:\n\u001b[1;32m   1954\u001b[0m     \u001b[38;5;28;01mraise\u001b[39;00m \u001b[38;5;167;01mTypeError\u001b[39;00m(\n\u001b[1;32m   1955\u001b[0m         \u001b[38;5;124mf\u001b[39m\u001b[38;5;124m\"\u001b[39m\u001b[38;5;124m'\u001b[39m\u001b[38;5;132;01m{\u001b[39;00m\u001b[38;5;28mtype\u001b[39m(\u001b[38;5;28mself\u001b[39m)\u001b[38;5;241m.\u001b[39m\u001b[38;5;18m__name__\u001b[39m\u001b[38;5;132;01m}\u001b[39;00m\u001b[38;5;124m'\u001b[39m\u001b[38;5;124m with dtype \u001b[39m\u001b[38;5;132;01m{\u001b[39;00m\u001b[38;5;28mself\u001b[39m\u001b[38;5;241m.\u001b[39mdtype\u001b[38;5;132;01m}\u001b[39;00m\u001b[38;5;124m \u001b[39m\u001b[38;5;124m\"\u001b[39m\n\u001b[1;32m   1956\u001b[0m         \u001b[38;5;124mf\u001b[39m\u001b[38;5;124m\"\u001b[39m\u001b[38;5;124mdoes not support reduction \u001b[39m\u001b[38;5;124m'\u001b[39m\u001b[38;5;132;01m{\u001b[39;00mname\u001b[38;5;132;01m}\u001b[39;00m\u001b[38;5;124m'\u001b[39m\u001b[38;5;124m\"\u001b[39m\n\u001b[1;32m   1957\u001b[0m     )\n\u001b[0;32m-> 1958\u001b[0m result \u001b[38;5;241m=\u001b[39m \u001b[43mmeth\u001b[49m\u001b[43m(\u001b[49m\u001b[43mskipna\u001b[49m\u001b[38;5;241;43m=\u001b[39;49m\u001b[43mskipna\u001b[49m\u001b[43m,\u001b[49m\u001b[43m \u001b[49m\u001b[38;5;241;43m*\u001b[39;49m\u001b[38;5;241;43m*\u001b[39;49m\u001b[43mkwargs\u001b[49m\u001b[43m)\u001b[49m\n\u001b[1;32m   1959\u001b[0m \u001b[38;5;28;01mif\u001b[39;00m keepdims:\n\u001b[1;32m   1960\u001b[0m     result \u001b[38;5;241m=\u001b[39m np\u001b[38;5;241m.\u001b[39marray([result])\n",
      "File \u001b[0;32m~/Library/Python/3.9/lib/python/site-packages/pandas/core/arrays/categorical.py:2417\u001b[0m, in \u001b[0;36mCategorical.max\u001b[0;34m(self, skipna, **kwargs)\u001b[0m\n\u001b[1;32m   2415\u001b[0m nv\u001b[38;5;241m.\u001b[39mvalidate_minmax_axis(kwargs\u001b[38;5;241m.\u001b[39mget(\u001b[38;5;124m\"\u001b[39m\u001b[38;5;124maxis\u001b[39m\u001b[38;5;124m\"\u001b[39m, \u001b[38;5;241m0\u001b[39m))\n\u001b[1;32m   2416\u001b[0m nv\u001b[38;5;241m.\u001b[39mvalidate_max((), kwargs)\n\u001b[0;32m-> 2417\u001b[0m \u001b[38;5;28;43mself\u001b[39;49m\u001b[38;5;241;43m.\u001b[39;49m\u001b[43mcheck_for_ordered\u001b[49m\u001b[43m(\u001b[49m\u001b[38;5;124;43m\"\u001b[39;49m\u001b[38;5;124;43mmax\u001b[39;49m\u001b[38;5;124;43m\"\u001b[39;49m\u001b[43m)\u001b[49m\n\u001b[1;32m   2419\u001b[0m \u001b[38;5;28;01mif\u001b[39;00m \u001b[38;5;129;01mnot\u001b[39;00m \u001b[38;5;28mlen\u001b[39m(\u001b[38;5;28mself\u001b[39m\u001b[38;5;241m.\u001b[39m_codes):\n\u001b[1;32m   2420\u001b[0m     \u001b[38;5;28;01mreturn\u001b[39;00m \u001b[38;5;28mself\u001b[39m\u001b[38;5;241m.\u001b[39mdtype\u001b[38;5;241m.\u001b[39mna_value\n",
      "File \u001b[0;32m~/Library/Python/3.9/lib/python/site-packages/pandas/core/arrays/categorical.py:1877\u001b[0m, in \u001b[0;36mCategorical.check_for_ordered\u001b[0;34m(self, op)\u001b[0m\n\u001b[1;32m   1875\u001b[0m \u001b[38;5;250m\u001b[39m\u001b[38;5;124;03m\"\"\"assert that we are ordered\"\"\"\u001b[39;00m\n\u001b[1;32m   1876\u001b[0m \u001b[38;5;28;01mif\u001b[39;00m \u001b[38;5;129;01mnot\u001b[39;00m \u001b[38;5;28mself\u001b[39m\u001b[38;5;241m.\u001b[39mordered:\n\u001b[0;32m-> 1877\u001b[0m     \u001b[38;5;28;01mraise\u001b[39;00m \u001b[38;5;167;01mTypeError\u001b[39;00m(\n\u001b[1;32m   1878\u001b[0m         \u001b[38;5;124mf\u001b[39m\u001b[38;5;124m\"\u001b[39m\u001b[38;5;124mCategorical is not ordered for operation \u001b[39m\u001b[38;5;132;01m{\u001b[39;00mop\u001b[38;5;132;01m}\u001b[39;00m\u001b[38;5;130;01m\\n\u001b[39;00m\u001b[38;5;124m\"\u001b[39m\n\u001b[1;32m   1879\u001b[0m         \u001b[38;5;124m\"\u001b[39m\u001b[38;5;124myou can use .as_ordered() to change the \u001b[39m\u001b[38;5;124m\"\u001b[39m\n\u001b[1;32m   1880\u001b[0m         \u001b[38;5;124m\"\u001b[39m\u001b[38;5;124mCategorical to an ordered one\u001b[39m\u001b[38;5;130;01m\\n\u001b[39;00m\u001b[38;5;124m\"\u001b[39m\n\u001b[1;32m   1881\u001b[0m     )\n",
      "\u001b[0;31mTypeError\u001b[0m: Categorical is not ordered for operation max\nyou can use .as_ordered() to change the Categorical to an ordered one\n"
     ]
    }
   ],
   "source": [
    "cat_make.max()"
   ]
  },
  {
   "cell_type": "code",
   "execution_count": 15,
   "id": "215265ba-e99e-4a30-9366-4e6af61358fc",
   "metadata": {},
   "outputs": [
    {
     "data": {
      "text/plain": [
       "20288    AM General\n",
       "20289    AM General\n",
       "369      AM General\n",
       "358      AM General\n",
       "19314    AM General\n",
       "            ...    \n",
       "31289         smart\n",
       "31290         smart\n",
       "29605         smart\n",
       "22974         smart\n",
       "26882         smart\n",
       "Name: make, Length: 41144, dtype: category\n",
       "Categories (136, object): ['AM General' < 'ASC Incorporated' < 'Acura' < 'Alfa Romeo' ... 'Volvo' < 'Wallace Environmental' < 'Yugo' < 'smart']"
      ]
     },
     "execution_count": 15,
     "metadata": {},
     "output_type": "execute_result"
    }
   ],
   "source": [
    "ordered_make.sort_values()"
   ]
  },
  {
   "cell_type": "markdown",
   "id": "98210904-fc2a-4200-b5be-eff06343748d",
   "metadata": {},
   "source": [
    "### .cat accessor"
   ]
  },
  {
   "cell_type": "code",
   "execution_count": 16,
   "id": "fa3acc8c-e740-432b-8566-d90964fdf191",
   "metadata": {},
   "outputs": [
    {
     "data": {
      "text/plain": [
       "0        alfa romeo\n",
       "1           ferrari\n",
       "2             dodge\n",
       "3             dodge\n",
       "4            subaru\n",
       "            ...    \n",
       "41139        subaru\n",
       "41140        subaru\n",
       "41141        subaru\n",
       "41142        subaru\n",
       "41143        subaru\n",
       "Name: make, Length: 41144, dtype: category\n",
       "Categories (136, object): ['am general', 'asc incorporated', 'acura', 'alfa romeo', ..., 'volvo', 'wallace environmental', 'yugo', 'smart']"
      ]
     },
     "execution_count": 16,
     "metadata": {},
     "output_type": "execute_result"
    }
   ],
   "source": [
    "cat_make.cat.rename_categories(\n",
    "    [c.lower() for c in cat_make.cat.categories])"
   ]
  },
  {
   "cell_type": "code",
   "execution_count": 17,
   "id": "d0ea437b-3fcd-48ee-9be5-c4134cf10be0",
   "metadata": {},
   "outputs": [
    {
     "data": {
      "text/plain": [
       "0        alfa romeo\n",
       "1           ferrari\n",
       "2             dodge\n",
       "3             dodge\n",
       "4            subaru\n",
       "            ...    \n",
       "41139        subaru\n",
       "41140        subaru\n",
       "41141        subaru\n",
       "41142        subaru\n",
       "41143        subaru\n",
       "Name: make, Length: 41144, dtype: category\n",
       "Categories (136, object): ['am general' < 'asc incorporated' < 'acura' < 'alfa romeo' ... 'volvo' < 'wallace environmental' < 'yugo' < 'smart']"
      ]
     },
     "execution_count": 17,
     "metadata": {},
     "output_type": "execute_result"
    }
   ],
   "source": [
    "ordered_make.cat.rename_categories(\n",
    "    [c.lower() for c in ordered_make.cat.categories])"
   ]
  },
  {
   "cell_type": "code",
   "execution_count": 19,
   "id": "1a9de22b-1845-4b16-800b-a4f97f2f9f0f",
   "metadata": {},
   "outputs": [
    {
     "data": {
      "text/plain": [
       "0        Alfa Romeo\n",
       "1           Ferrari\n",
       "2             Dodge\n",
       "3             Dodge\n",
       "4            Subaru\n",
       "            ...    \n",
       "41139        Subaru\n",
       "41140        Subaru\n",
       "41141        Subaru\n",
       "41142        Subaru\n",
       "41143        Subaru\n",
       "Name: make, Length: 41144, dtype: category\n",
       "Categories (136, object): ['Acura' < 'Alfa Romeo' < 'AM General' < 'American Motors Corporation' ... 'Volvo' < 'VPG' < 'Wallace Environmental' < 'Yugo']"
      ]
     },
     "execution_count": 19,
     "metadata": {},
     "output_type": "execute_result"
    }
   ],
   "source": [
    "ordered_make.cat.reorder_categories(\n",
    "    sorted(cat_make.cat.categories, key=str.lower))"
   ]
  },
  {
   "cell_type": "markdown",
   "id": "b1276ca3-dc03-4694-87e3-50d256cf0978",
   "metadata": {},
   "source": [
    "### Category gotachas"
   ]
  },
  {
   "cell_type": "code",
   "execution_count": 20,
   "id": "0e56c471-72e6-4160-aa4f-13b8196563b5",
   "metadata": {},
   "outputs": [
    {
     "data": {
      "text/plain": [
       "make\n",
       "Dodge                        17\n",
       "Oldsmobile                    8\n",
       "Ford                          8\n",
       "Buick                         7\n",
       "Chevrolet                     5\n",
       "                             ..\n",
       "Grumman Allied Industries     0\n",
       "Goldacre                      0\n",
       "Geo                           0\n",
       "Genesis                       0\n",
       "smart                         0\n",
       "Name: count, Length: 136, dtype: int64"
      ]
     },
     "execution_count": 20,
     "metadata": {},
     "output_type": "execute_result"
    }
   ],
   "source": [
    "# counts every category even if value is not there\n",
    "ordered_make.iloc[:100].value_counts()"
   ]
  },
  {
   "cell_type": "code",
   "execution_count": 21,
   "id": "9c47330c-e377-4b4e-bf44-59d75adee8ac",
   "metadata": {},
   "outputs": [
    {
     "name": "stderr",
     "output_type": "stream",
     "text": [
      "/var/folders/vz/kll226bs5z166d_j4rg4kj2m0000gn/T/ipykernel_34962/3975357633.py:1: FutureWarning: The default of observed=False is deprecated and will be changed to True in a future version of pandas. Pass observed=False to retain current behavior or observed=True to adopt the future default and silence this warning.\n",
      "  cat_make.iloc[:100].groupby(cat_make.iloc[:100]).first()\n"
     ]
    },
    {
     "data": {
      "text/plain": [
       "make\n",
       "AM General                            NaN\n",
       "ASC Incorporated                      NaN\n",
       "Acura                                 NaN\n",
       "Alfa Romeo                     Alfa Romeo\n",
       "American Motors Corporation           NaN\n",
       "                                  ...    \n",
       "Volkswagen                     Volkswagen\n",
       "Volvo                               Volvo\n",
       "Wallace Environmental                 NaN\n",
       "Yugo                                  NaN\n",
       "smart                                 NaN\n",
       "Name: make, Length: 136, dtype: category\n",
       "Categories (136, object): ['AM General', 'ASC Incorporated', 'Acura', 'Alfa Romeo', ..., 'Volvo', 'Wallace Environmental', 'Yugo', 'smart']"
      ]
     },
     "execution_count": 21,
     "metadata": {},
     "output_type": "execute_result"
    }
   ],
   "source": [
    "cat_make.iloc[:100].groupby(cat_make.iloc[:100]).first()"
   ]
  },
  {
   "cell_type": "code",
   "execution_count": 22,
   "id": "ffa399cd-f9c0-432b-8b92-5458f2625f93",
   "metadata": {},
   "outputs": [
    {
     "data": {
      "text/plain": [
       "make\n",
       "Alfa Romeo          Alfa Romeo\n",
       "Audi                      Audi\n",
       "BMW                        BMW\n",
       "Buick                    Buick\n",
       "CX Automotive    CX Automotive\n",
       "Cadillac              Cadillac\n",
       "Chevrolet            Chevrolet\n",
       "Chrysler              Chrysler\n",
       "Dodge                    Dodge\n",
       "Ferrari                Ferrari\n",
       "Ford                      Ford\n",
       "Hyundai                Hyundai\n",
       "Infiniti              Infiniti\n",
       "Lexus                    Lexus\n",
       "Mazda                    Mazda\n",
       "Mercury                Mercury\n",
       "Nissan                  Nissan\n",
       "Oldsmobile          Oldsmobile\n",
       "Plymouth              Plymouth\n",
       "Pontiac                Pontiac\n",
       "Rolls-Royce        Rolls-Royce\n",
       "Subaru                  Subaru\n",
       "Toyota                  Toyota\n",
       "Volkswagen          Volkswagen\n",
       "Volvo                    Volvo\n",
       "Name: make, dtype: object"
      ]
     },
     "execution_count": 22,
     "metadata": {},
     "output_type": "execute_result"
    }
   ],
   "source": [
    "make.iloc[:100].groupby(make.iloc[:100]).first()"
   ]
  },
  {
   "cell_type": "code",
   "execution_count": 25,
   "id": "9de9b9e2-5803-4f9a-9394-62ecaaf9ef0c",
   "metadata": {},
   "outputs": [
    {
     "data": {
      "text/plain": [
       "make\n",
       "Alfa Romeo          Alfa Romeo\n",
       "Audi                      Audi\n",
       "BMW                        BMW\n",
       "Buick                    Buick\n",
       "CX Automotive    CX Automotive\n",
       "Cadillac              Cadillac\n",
       "Chevrolet            Chevrolet\n",
       "Chrysler              Chrysler\n",
       "Dodge                    Dodge\n",
       "Ferrari                Ferrari\n",
       "Ford                      Ford\n",
       "Hyundai                Hyundai\n",
       "Infiniti              Infiniti\n",
       "Lexus                    Lexus\n",
       "Mazda                    Mazda\n",
       "Mercury                Mercury\n",
       "Nissan                  Nissan\n",
       "Oldsmobile          Oldsmobile\n",
       "Plymouth              Plymouth\n",
       "Pontiac                Pontiac\n",
       "Rolls-Royce        Rolls-Royce\n",
       "Subaru                  Subaru\n",
       "Toyota                  Toyota\n",
       "Volkswagen          Volkswagen\n",
       "Volvo                    Volvo\n",
       "Name: make, dtype: category\n",
       "Categories (136, object): ['AM General', 'ASC Incorporated', 'Acura', 'Alfa Romeo', ..., 'Volvo', 'Wallace Environmental', 'Yugo', 'smart']"
      ]
     },
     "execution_count": 25,
     "metadata": {},
     "output_type": "execute_result"
    }
   ],
   "source": [
    "cat_make.iloc[:100].groupby(cat_make.iloc[:100], observed=True).first()"
   ]
  },
  {
   "cell_type": "code",
   "execution_count": 26,
   "id": "eff901d2-ae93-4e6c-b9ca-35bddc70013e",
   "metadata": {},
   "outputs": [
    {
     "data": {
      "text/plain": [
       "'Alfa Romeo'"
      ]
     },
     "execution_count": 26,
     "metadata": {},
     "output_type": "execute_result"
    }
   ],
   "source": [
    "# puling single value with iloc will return scalar\n",
    "ordered_make.iloc[0]"
   ]
  },
  {
   "cell_type": "code",
   "execution_count": 27,
   "id": "37e8150e-d594-4632-83c3-8761d012fd98",
   "metadata": {},
   "outputs": [
    {
     "data": {
      "text/plain": [
       "0    Alfa Romeo\n",
       "Name: make, dtype: category\n",
       "Categories (136, object): ['AM General' < 'ASC Incorporated' < 'Acura' < 'Alfa Romeo' ... 'Volvo' < 'Wallace Environmental' < 'Yugo' < 'smart']"
      ]
     },
     "execution_count": 27,
     "metadata": {},
     "output_type": "execute_result"
    }
   ],
   "source": [
    "# even single record as list makes category\n",
    "ordered_make.iloc[[0]]"
   ]
  },
  {
   "cell_type": "markdown",
   "id": "0dbe6823-f4e2-41f3-b42a-aeba2e64c952",
   "metadata": {},
   "source": [
    "### Generalization"
   ]
  },
  {
   "cell_type": "code",
   "execution_count": 28,
   "id": "09109ffe-e982-4f18-a717-5fd1d031f287",
   "metadata": {},
   "outputs": [
    {
     "data": {
      "text/plain": [
       "0            NA\n",
       "1            NA\n",
       "2         Dodge\n",
       "3         Dodge\n",
       "4        Subaru\n",
       "          ...  \n",
       "41139    Subaru\n",
       "41140    Subaru\n",
       "41141    Subaru\n",
       "41142    Subaru\n",
       "41143    Subaru\n",
       "Name: make, Length: 41144, dtype: category\n",
       "Categories (21, object): ['Chevrolet', 'Ford', 'Dodge', 'GMC', ..., 'Volvo', 'Hyundai', 'Chrysler', 'NA']"
      ]
     },
     "execution_count": 28,
     "metadata": {},
     "output_type": "execute_result"
    }
   ],
   "source": [
    "def generalize_topn(ser , n = 5, other = 'Other'):\n",
    "    topn = ser.value_counts().index[:n]\n",
    "    if isinstance(ser.dtype, pd.CategoricalDtype):\n",
    "        ser = ser.cat.set_categories(\n",
    "            topn.set_categories(list(topn)+[other]))\n",
    "    return ser.where(ser.isin(topn), other)\n",
    "\n",
    "cat_make.pipe(generalize_topn, n=20, other='NA')"
   ]
  },
  {
   "cell_type": "code",
   "execution_count": 29,
   "id": "3bc4d97d-5e9c-45cb-97d8-47d2cc017563",
   "metadata": {},
   "outputs": [
    {
     "data": {
      "text/plain": [
       "0        other\n",
       "1        other\n",
       "2           US\n",
       "3           US\n",
       "4        other\n",
       "         ...  \n",
       "41139    other\n",
       "41140    other\n",
       "41141    other\n",
       "41142    other\n",
       "41143    other\n",
       "Name: make, Length: 41144, dtype: category\n",
       "Categories (3, object): ['German', 'US', 'other']"
      ]
     },
     "execution_count": 29,
     "metadata": {},
     "output_type": "execute_result"
    }
   ],
   "source": [
    "def generalize_mapping(ser, mapping, default):\n",
    "    seen = None\n",
    "    res = ser.astype(str)\n",
    "    for old , new in mapping.items():\n",
    "        mask = ser.str.contains(old)\n",
    "        if seen is None:\n",
    "            seen = mask\n",
    "        else:\n",
    "            seen |= mask\n",
    "        res = res.where(~mask,new)\n",
    "    res = res.where(seen, default)\n",
    "    return res.astype('category')\n",
    "\n",
    "generalize_mapping(cat_make,{'Ford':'US','Tesla':'US','Chevrolet':'US','Dodge':'US',\n",
    "                             'Oldsmobile':'US','Plymouth':'US',\n",
    "                             'BMW':'German'},'other')\n"
   ]
  },
  {
   "cell_type": "markdown",
   "id": "963258b0-d71c-403e-ae94-ca504d699285",
   "metadata": {},
   "source": [
    "### Exercise 15.9"
   ]
  },
  {
   "cell_type": "code",
   "execution_count": 34,
   "id": "d7ce64a5-3dcc-4b17-90b3-23796913de1f",
   "metadata": {},
   "outputs": [
    {
     "data": {
      "text/plain": [
       "6489"
      ]
     },
     "execution_count": 34,
     "metadata": {},
     "output_type": "execute_result"
    }
   ],
   "source": [
    "# convert a text column into a categorical column.How much memory did you save?\n",
    "car_make = make[:100]\n",
    "car_make2 = car_make.astype('category')\n",
    "car_make.memory_usage(deep=True)"
   ]
  },
  {
   "cell_type": "code",
   "execution_count": 35,
   "id": "f1108016-e29d-4ea1-b6ea-aabcb1efc747",
   "metadata": {},
   "outputs": [
    {
     "data": {
      "text/plain": [
       "2386"
      ]
     },
     "execution_count": 35,
     "metadata": {},
     "output_type": "execute_result"
    }
   ],
   "source": [
    "car_make2.memory_usage(deep=True)"
   ]
  },
  {
   "cell_type": "code",
   "execution_count": 38,
   "id": "b8e0e3c0-cc14-4d16-8789-0b418d7cb5aa",
   "metadata": {},
   "outputs": [
    {
     "data": {
      "text/plain": [
       "make\n",
       "Dodge            (13.0, 17.0]\n",
       "Ford               (5.0, 9.0]\n",
       "Oldsmobile         (5.0, 9.0]\n",
       "Buick              (5.0, 9.0]\n",
       "Mazda            (0.984, 5.0]\n",
       "Plymouth         (0.984, 5.0]\n",
       "Chevrolet        (0.984, 5.0]\n",
       "Mercury          (0.984, 5.0]\n",
       "Pontiac          (0.984, 5.0]\n",
       "Cadillac         (0.984, 5.0]\n",
       "Volkswagen       (0.984, 5.0]\n",
       "Toyota           (0.984, 5.0]\n",
       "BMW              (0.984, 5.0]\n",
       "Nissan           (0.984, 5.0]\n",
       "Hyundai          (0.984, 5.0]\n",
       "Subaru           (0.984, 5.0]\n",
       "Audi             (0.984, 5.0]\n",
       "Volvo            (0.984, 5.0]\n",
       "CX Automotive    (0.984, 5.0]\n",
       "Infiniti         (0.984, 5.0]\n",
       "Alfa Romeo       (0.984, 5.0]\n",
       "Chrysler         (0.984, 5.0]\n",
       "Lexus            (0.984, 5.0]\n",
       "Ferrari          (0.984, 5.0]\n",
       "Rolls-Royce      (0.984, 5.0]\n",
       "Name: count, dtype: category\n",
       "Categories (4, interval[float64, right]): [(0.984, 5.0] < (5.0, 9.0] < (9.0, 13.0] < (13.0, 17.0]]"
      ]
     },
     "execution_count": 38,
     "metadata": {},
     "output_type": "execute_result"
    }
   ],
   "source": [
    "#convert a numeric column into a categorical column by binning it(pd.cut).How much memory did you save?\n",
    "pd.cut(car_make.value_counts(), 4)"
   ]
  }
 ],
 "metadata": {
  "kernelspec": {
   "display_name": "Python 3 (ipykernel)",
   "language": "python",
   "name": "python3"
  },
  "language_info": {
   "codemirror_mode": {
    "name": "ipython",
    "version": 3
   },
   "file_extension": ".py",
   "mimetype": "text/x-python",
   "name": "python",
   "nbconvert_exporter": "python",
   "pygments_lexer": "ipython3",
   "version": "3.9.6"
  }
 },
 "nbformat": 4,
 "nbformat_minor": 5
}
