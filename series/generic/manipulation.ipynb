{
 "cells": [
  {
   "cell_type": "markdown",
   "id": "9d222c0a-3b83-4a5b-9e1c-f64027333752",
   "metadata": {},
   "source": [
    ".apply method execute for every value in series , so avoid it "
   ]
  },
  {
   "cell_type": "code",
   "execution_count": 5,
   "id": "17b668f0-39d5-4bdf-985d-26db9bb6cd20",
   "metadata": {},
   "outputs": [],
   "source": [
    "import pandas as pd \n",
    "url = 'https://github.com/arunadas/effective-pandas/raw/main/data/vehicles.csv.zip'\n",
    "df = pd.read_csv(url,dtype='unicode')\n",
    "city_mpg = df.city08.astype(int)"
   ]
  },
  {
   "cell_type": "code",
   "execution_count": 6,
   "id": "b6090f02-987d-4477-939e-49868db1942b",
   "metadata": {},
   "outputs": [],
   "source": [
    "def gt20(val):\n",
    "    return val > 20 "
   ]
  },
  {
   "cell_type": "code",
   "execution_count": 13,
   "id": "700fbaa8-05e1-4416-a658-cdc24f13a619",
   "metadata": {},
   "outputs": [
    {
     "name": "stdout",
     "output_type": "stream",
     "text": [
      "2.51 ms ± 17.9 µs per loop (mean ± std. dev. of 7 runs, 100 loops each)\n"
     ]
    }
   ],
   "source": [
    "%%timeit\n",
    "city_mpg.apply(gt20)"
   ]
  },
  {
   "cell_type": "code",
   "execution_count": 12,
   "id": "11d378c8-4f80-445d-beb5-945e463a1c86",
   "metadata": {},
   "outputs": [
    {
     "name": "stdout",
     "output_type": "stream",
     "text": [
      "18 µs ± 109 ns per loop (mean ± std. dev. of 7 runs, 100,000 loops each)\n"
     ]
    }
   ],
   "source": [
    "#broadcast method \n",
    "%timeit city_mpg.gt(20)"
   ]
  }
 ],
 "metadata": {
  "kernelspec": {
   "display_name": "Python 3 (ipykernel)",
   "language": "python",
   "name": "python3"
  },
  "language_info": {
   "codemirror_mode": {
    "name": "ipython",
    "version": 3
   },
   "file_extension": ".py",
   "mimetype": "text/x-python",
   "name": "python",
   "nbconvert_exporter": "python",
   "pygments_lexer": "ipython3",
   "version": "3.9.6"
  }
 },
 "nbformat": 4,
 "nbformat_minor": 5
}
