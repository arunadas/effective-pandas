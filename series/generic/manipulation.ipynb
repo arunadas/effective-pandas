{
 "cells": [
  {
   "cell_type": "markdown",
   "id": "9d222c0a-3b83-4a5b-9e1c-f64027333752",
   "metadata": {},
   "source": [
    ".apply method execute for every value in series , so avoid it "
   ]
  },
  {
   "cell_type": "code",
   "execution_count": 14,
   "id": "17b668f0-39d5-4bdf-985d-26db9bb6cd20",
   "metadata": {},
   "outputs": [],
   "source": [
    "import pandas as pd \n",
    "url = 'https://github.com/arunadas/effective-pandas/raw/main/data/vehicles.csv.zip'\n",
    "df = pd.read_csv(url,dtype='unicode')\n",
    "city_mpg = df.city08.astype(int)\n",
    "make = df.make"
   ]
  },
  {
   "cell_type": "code",
   "execution_count": 6,
   "id": "b6090f02-987d-4477-939e-49868db1942b",
   "metadata": {},
   "outputs": [],
   "source": [
    "def gt20(val):\n",
    "    return val > 20 "
   ]
  },
  {
   "cell_type": "code",
   "execution_count": 13,
   "id": "700fbaa8-05e1-4416-a658-cdc24f13a619",
   "metadata": {},
   "outputs": [
    {
     "name": "stdout",
     "output_type": "stream",
     "text": [
      "2.51 ms ± 17.9 µs per loop (mean ± std. dev. of 7 runs, 100 loops each)\n"
     ]
    }
   ],
   "source": [
    "%%timeit\n",
    "city_mpg.apply(gt20)"
   ]
  },
  {
   "cell_type": "code",
   "execution_count": 12,
   "id": "11d378c8-4f80-445d-beb5-945e463a1c86",
   "metadata": {},
   "outputs": [
    {
     "name": "stdout",
     "output_type": "stream",
     "text": [
      "18 µs ± 109 ns per loop (mean ± std. dev. of 7 runs, 100,000 loops each)\n"
     ]
    }
   ],
   "source": [
    "#broadcast method \n",
    "%timeit city_mpg.gt(20)"
   ]
  },
  {
   "cell_type": "code",
   "execution_count": 15,
   "id": "2e0a3715-f023-4a36-9328-c9e7bd5c563e",
   "metadata": {},
   "outputs": [
    {
     "data": {
      "text/plain": [
       "41144"
      ]
     },
     "execution_count": 15,
     "metadata": {},
     "output_type": "execute_result"
    }
   ],
   "source": [
    "make.size"
   ]
  },
  {
   "cell_type": "code",
   "execution_count": 17,
   "id": "358f5326-571b-45f7-a6a3-91327433e365",
   "metadata": {},
   "outputs": [
    {
     "data": {
      "text/plain": [
       "5483       Toyota\n",
       "13671         GMC\n",
       "11298    Chrysler\n",
       "Name: make, dtype: object"
      ]
     },
     "execution_count": 17,
     "metadata": {},
     "output_type": "execute_result"
    }
   ],
   "source": [
    "make.sample(n=3)"
   ]
  },
  {
   "cell_type": "code",
   "execution_count": 18,
   "id": "e802b6c8-bc67-418d-8c17-75818d378878",
   "metadata": {},
   "outputs": [
    {
     "data": {
      "text/plain": [
       "make\n",
       "Chevrolet                      4003\n",
       "Ford                           3371\n",
       "Dodge                          2583\n",
       "GMC                            2494\n",
       "Toyota                         2071\n",
       "                               ... \n",
       "Volga Associated Automobile       1\n",
       "Panos                             1\n",
       "Mahindra                          1\n",
       "Excalibur Autos                   1\n",
       "London Coach Co Inc               1\n",
       "Name: count, Length: 136, dtype: int64"
      ]
     },
     "execution_count": 18,
     "metadata": {},
     "output_type": "execute_result"
    }
   ],
   "source": [
    "make.value_counts()"
   ]
  },
  {
   "cell_type": "code",
   "execution_count": 20,
   "id": "dec3f39b-91be-4420-9904-04c160429459",
   "metadata": {},
   "outputs": [],
   "source": [
    "top5 = make.value_counts().index[:5]\n",
    "def generalize_top5(val):\n",
    "    if val in top5:\n",
    "        return val\n",
    "    return 'other'    "
   ]
  },
  {
   "cell_type": "code",
   "execution_count": 24,
   "id": "996e1b24-638c-48f9-b295-dd7a6fbd3466",
   "metadata": {},
   "outputs": [
    {
     "name": "stdout",
     "output_type": "stream",
     "text": [
      "12.2 ms ± 133 µs per loop (mean ± std. dev. of 7 runs, 100 loops each)\n"
     ]
    }
   ],
   "source": [
    "# apply will call function generalize_top5 for each value \n",
    "%timeit make.apply(generalize_top5)"
   ]
  },
  {
   "cell_type": "code",
   "execution_count": 25,
   "id": "7f89808c-f244-45ae-948a-ddce59a51d75",
   "metadata": {},
   "outputs": [
    {
     "name": "stdout",
     "output_type": "stream",
     "text": [
      "1.17 ms ± 10.6 µs per loop (mean ± std. dev. of 7 runs, 1,000 loops each)\n"
     ]
    }
   ],
   "source": [
    "%timeit make.where(make.isin(top5), other='Other')"
   ]
  },
  {
   "cell_type": "code",
   "execution_count": 26,
   "id": "1b0ad7c0-1bd9-4e52-946b-0ed97e52819a",
   "metadata": {},
   "outputs": [
    {
     "data": {
      "text/plain": [
       "0        Other\n",
       "1        Other\n",
       "2        Dodge\n",
       "3        Dodge\n",
       "4        Other\n",
       "         ...  \n",
       "41139    Other\n",
       "41140    Other\n",
       "41141    Other\n",
       "41142    Other\n",
       "41143    Other\n",
       "Name: make, Length: 41144, dtype: object"
      ]
     },
     "execution_count": 26,
     "metadata": {},
     "output_type": "execute_result"
    }
   ],
   "source": [
    "make.where(make.isin(top5), other='Other')"
   ]
  },
  {
   "cell_type": "code",
   "execution_count": 27,
   "id": "cbb91dc6-a791-482b-b02b-88824d160168",
   "metadata": {},
   "outputs": [
    {
     "data": {
      "text/plain": [
       "0        Alfa Romeo\n",
       "1           Ferrari\n",
       "2             Other\n",
       "3             Other\n",
       "4            Subaru\n",
       "            ...    \n",
       "41139        Subaru\n",
       "41140        Subaru\n",
       "41141        Subaru\n",
       "41142        Subaru\n",
       "41143        Subaru\n",
       "Name: make, Length: 41144, dtype: object"
      ]
     },
     "execution_count": 27,
     "metadata": {},
     "output_type": "execute_result"
    }
   ],
   "source": [
    "#mask is complement of where where ever condition is false it keeps the original value\n",
    "make.mask(make.isin(top5), other='Other')"
   ]
  },
  {
   "cell_type": "code",
   "execution_count": 29,
   "id": "b095d507-4b69-4790-ad41-6b81522a0613",
   "metadata": {},
   "outputs": [
    {
     "data": {
      "text/plain": [
       "0        Other\n",
       "1        Other\n",
       "2        Dodge\n",
       "3        Dodge\n",
       "4        Other\n",
       "         ...  \n",
       "41139    Other\n",
       "41140    Other\n",
       "41141    Other\n",
       "41142    Other\n",
       "41143    Other\n",
       "Name: make, Length: 41144, dtype: object"
      ]
     },
     "execution_count": 29,
     "metadata": {},
     "output_type": "execute_result"
    }
   ],
   "source": [
    "#~ inversion of boolean array switching all true to false or vice versa\n",
    "make.mask(~make.isin(top5), other='Other')"
   ]
  },
  {
   "cell_type": "code",
   "execution_count": 31,
   "id": "9f818034-274e-4088-b48a-2a13d75f5fd3",
   "metadata": {},
   "outputs": [],
   "source": [
    "vc = make.value_counts()\n",
    "top5 = vc.index[:5]\n",
    "top10 = vc.index[:10]\n",
    "\n",
    "def generalize(val):\n",
    "    if val in top5:\n",
    "       return val\n",
    "    elif val in top10:\n",
    "       return 'Top10'\n",
    "    else:\n",
    "        return 'Other'"
   ]
  },
  {
   "cell_type": "code",
   "execution_count": 32,
   "id": "172cbc76-1bfe-4f1c-b408-825ddfbb7621",
   "metadata": {},
   "outputs": [
    {
     "data": {
      "text/plain": [
       "0        Other\n",
       "1        Other\n",
       "2        Dodge\n",
       "3        Dodge\n",
       "4        Other\n",
       "         ...  \n",
       "41139    Other\n",
       "41140    Other\n",
       "41141    Other\n",
       "41142    Other\n",
       "41143    Other\n",
       "Name: make, Length: 41144, dtype: object"
      ]
     },
     "execution_count": 32,
     "metadata": {},
     "output_type": "execute_result"
    }
   ],
   "source": [
    "make.apply(generalize)"
   ]
  },
  {
   "cell_type": "code",
   "execution_count": 34,
   "id": "2e7b17bd-aed0-4e15-ba29-ef24ca6509f7",
   "metadata": {},
   "outputs": [
    {
     "data": {
      "text/plain": [
       "0        Other\n",
       "1        Other\n",
       "2        Dodge\n",
       "3        Dodge\n",
       "4        Other\n",
       "         ...  \n",
       "41139    Other\n",
       "41140    Other\n",
       "41141    Other\n",
       "41142    Other\n",
       "41143    Other\n",
       "Name: make, Length: 41144, dtype: object"
      ]
     },
     "execution_count": 34,
     "metadata": {},
     "output_type": "execute_result"
    }
   ],
   "source": [
    "# usage of pandas\n",
    "(make\n",
    ".where(make.isin(top5), 'Top10')\n",
    ".where(make.isin(top10), 'Other'))"
   ]
  },
  {
   "cell_type": "code",
   "execution_count": 35,
   "id": "097d20d6-1fa9-4c7a-9425-c312c682663a",
   "metadata": {},
   "outputs": [
    {
     "data": {
      "text/plain": [
       "array(['Other', 'Other', 'Dodge', ..., 'Other', 'Other', 'Other'],\n",
       "      dtype=object)"
      ]
     },
     "execution_count": 35,
     "metadata": {},
     "output_type": "execute_result"
    }
   ],
   "source": [
    "# another option is select from numpy\n",
    "import numpy as np\n",
    "np.select([make.isin(top5), make.isin(top10)],\n",
    "          [make,'Top10'], 'Other')\n"
   ]
  },
  {
   "cell_type": "markdown",
   "id": "289397b9-234e-41f6-a42a-6e269cb1f305",
   "metadata": {},
   "source": [
    "np.select(condlist, choicelist, default):\n",
    "\n",
    "condlist: A list of boolean conditions.\n",
    "choicelist: A list of values corresponding to each condition in condlist.\n",
    "default: A fallback value used when none of the conditions are True\n",
    "\n",
    "output of select is numpy array you can wrap it in series if you want series\n"
   ]
  },
  {
   "cell_type": "code",
   "execution_count": 36,
   "id": "7ebe6dcd-382a-4a14-9639-675a4c2d4d2c",
   "metadata": {},
   "outputs": [
    {
     "data": {
      "text/plain": [
       "0        Other\n",
       "1        Other\n",
       "2        Dodge\n",
       "3        Dodge\n",
       "4        Other\n",
       "         ...  \n",
       "41139    Other\n",
       "41140    Other\n",
       "41141    Other\n",
       "41142    Other\n",
       "41143    Other\n",
       "Length: 41144, dtype: object"
      ]
     },
     "execution_count": 36,
     "metadata": {},
     "output_type": "execute_result"
    }
   ],
   "source": [
    "pd.Series(np.select([make.isin(top5), make.isin(top10)],\n",
    "          [make,'Top10'], 'Other'))"
   ]
  }
 ],
 "metadata": {
  "kernelspec": {
   "display_name": "Python 3 (ipykernel)",
   "language": "python",
   "name": "python3"
  },
  "language_info": {
   "codemirror_mode": {
    "name": "ipython",
    "version": 3
   },
   "file_extension": ".py",
   "mimetype": "text/x-python",
   "name": "python",
   "nbconvert_exporter": "python",
   "pygments_lexer": "ipython3",
   "version": "3.9.6"
  }
 },
 "nbformat": 4,
 "nbformat_minor": 5
}
