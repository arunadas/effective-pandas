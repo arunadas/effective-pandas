{
 "cells": [
  {
   "cell_type": "markdown",
   "id": "3da61fa8-3616-41b6-b834-01f655df8190",
   "metadata": {},
   "source": [
    "## Manipulation Methods"
   ]
  },
  {
   "cell_type": "markdown",
   "id": "9f369257-2a2c-4f80-a450-71a03672a1ad",
   "metadata": {},
   "source": [
    "### where , select , apply , if then else "
   ]
  },
  {
   "cell_type": "markdown",
   "id": "9d222c0a-3b83-4a5b-9e1c-f64027333752",
   "metadata": {},
   "source": [
    ".apply method execute for every value in series , so avoid it "
   ]
  },
  {
   "cell_type": "code",
   "execution_count": 52,
   "id": "17b668f0-39d5-4bdf-985d-26db9bb6cd20",
   "metadata": {},
   "outputs": [],
   "source": [
    "import pandas as pd \n",
    "url = 'https://github.com/arunadas/effective-pandas/raw/main/data/vehicles.csv.zip'\n",
    "df = pd.read_csv(url,dtype='unicode')\n",
    "city_mpg = df.city08.astype(int)\n",
    "highway_mpg = df.highway08.astype(int)\n",
    "make = df.make"
   ]
  },
  {
   "cell_type": "code",
   "execution_count": 6,
   "id": "b6090f02-987d-4477-939e-49868db1942b",
   "metadata": {},
   "outputs": [],
   "source": [
    "def gt20(val):\n",
    "    return val > 20 "
   ]
  },
  {
   "cell_type": "code",
   "execution_count": 13,
   "id": "700fbaa8-05e1-4416-a658-cdc24f13a619",
   "metadata": {},
   "outputs": [
    {
     "name": "stdout",
     "output_type": "stream",
     "text": [
      "2.51 ms ± 17.9 µs per loop (mean ± std. dev. of 7 runs, 100 loops each)\n"
     ]
    }
   ],
   "source": [
    "%%timeit\n",
    "city_mpg.apply(gt20)"
   ]
  },
  {
   "cell_type": "code",
   "execution_count": 12,
   "id": "11d378c8-4f80-445d-beb5-945e463a1c86",
   "metadata": {},
   "outputs": [
    {
     "name": "stdout",
     "output_type": "stream",
     "text": [
      "18 µs ± 109 ns per loop (mean ± std. dev. of 7 runs, 100,000 loops each)\n"
     ]
    }
   ],
   "source": [
    "#broadcast method \n",
    "%timeit city_mpg.gt(20)"
   ]
  },
  {
   "cell_type": "code",
   "execution_count": 15,
   "id": "2e0a3715-f023-4a36-9328-c9e7bd5c563e",
   "metadata": {},
   "outputs": [
    {
     "data": {
      "text/plain": [
       "41144"
      ]
     },
     "execution_count": 15,
     "metadata": {},
     "output_type": "execute_result"
    }
   ],
   "source": [
    "make.size"
   ]
  },
  {
   "cell_type": "code",
   "execution_count": 17,
   "id": "358f5326-571b-45f7-a6a3-91327433e365",
   "metadata": {},
   "outputs": [
    {
     "data": {
      "text/plain": [
       "5483       Toyota\n",
       "13671         GMC\n",
       "11298    Chrysler\n",
       "Name: make, dtype: object"
      ]
     },
     "execution_count": 17,
     "metadata": {},
     "output_type": "execute_result"
    }
   ],
   "source": [
    "make.sample(n=3)"
   ]
  },
  {
   "cell_type": "code",
   "execution_count": 18,
   "id": "e802b6c8-bc67-418d-8c17-75818d378878",
   "metadata": {},
   "outputs": [
    {
     "data": {
      "text/plain": [
       "make\n",
       "Chevrolet                      4003\n",
       "Ford                           3371\n",
       "Dodge                          2583\n",
       "GMC                            2494\n",
       "Toyota                         2071\n",
       "                               ... \n",
       "Volga Associated Automobile       1\n",
       "Panos                             1\n",
       "Mahindra                          1\n",
       "Excalibur Autos                   1\n",
       "London Coach Co Inc               1\n",
       "Name: count, Length: 136, dtype: int64"
      ]
     },
     "execution_count": 18,
     "metadata": {},
     "output_type": "execute_result"
    }
   ],
   "source": [
    "make.value_counts()"
   ]
  },
  {
   "cell_type": "code",
   "execution_count": 20,
   "id": "dec3f39b-91be-4420-9904-04c160429459",
   "metadata": {},
   "outputs": [],
   "source": [
    "top5 = make.value_counts().index[:5]\n",
    "def generalize_top5(val):\n",
    "    if val in top5:\n",
    "        return val\n",
    "    return 'other'    "
   ]
  },
  {
   "cell_type": "code",
   "execution_count": 24,
   "id": "996e1b24-638c-48f9-b295-dd7a6fbd3466",
   "metadata": {},
   "outputs": [
    {
     "name": "stdout",
     "output_type": "stream",
     "text": [
      "12.2 ms ± 133 µs per loop (mean ± std. dev. of 7 runs, 100 loops each)\n"
     ]
    }
   ],
   "source": [
    "# apply will call function generalize_top5 for each value \n",
    "%timeit make.apply(generalize_top5)"
   ]
  },
  {
   "cell_type": "code",
   "execution_count": 25,
   "id": "7f89808c-f244-45ae-948a-ddce59a51d75",
   "metadata": {},
   "outputs": [
    {
     "name": "stdout",
     "output_type": "stream",
     "text": [
      "1.17 ms ± 10.6 µs per loop (mean ± std. dev. of 7 runs, 1,000 loops each)\n"
     ]
    }
   ],
   "source": [
    "%timeit make.where(make.isin(top5), other='Other')"
   ]
  },
  {
   "cell_type": "code",
   "execution_count": 26,
   "id": "1b0ad7c0-1bd9-4e52-946b-0ed97e52819a",
   "metadata": {},
   "outputs": [
    {
     "data": {
      "text/plain": [
       "0        Other\n",
       "1        Other\n",
       "2        Dodge\n",
       "3        Dodge\n",
       "4        Other\n",
       "         ...  \n",
       "41139    Other\n",
       "41140    Other\n",
       "41141    Other\n",
       "41142    Other\n",
       "41143    Other\n",
       "Name: make, Length: 41144, dtype: object"
      ]
     },
     "execution_count": 26,
     "metadata": {},
     "output_type": "execute_result"
    }
   ],
   "source": [
    "make.where(make.isin(top5), other='Other')"
   ]
  },
  {
   "cell_type": "code",
   "execution_count": 27,
   "id": "cbb91dc6-a791-482b-b02b-88824d160168",
   "metadata": {},
   "outputs": [
    {
     "data": {
      "text/plain": [
       "0        Alfa Romeo\n",
       "1           Ferrari\n",
       "2             Other\n",
       "3             Other\n",
       "4            Subaru\n",
       "            ...    \n",
       "41139        Subaru\n",
       "41140        Subaru\n",
       "41141        Subaru\n",
       "41142        Subaru\n",
       "41143        Subaru\n",
       "Name: make, Length: 41144, dtype: object"
      ]
     },
     "execution_count": 27,
     "metadata": {},
     "output_type": "execute_result"
    }
   ],
   "source": [
    "#mask is complement of where where ever condition is false it keeps the original value\n",
    "make.mask(make.isin(top5), other='Other')"
   ]
  },
  {
   "cell_type": "code",
   "execution_count": 29,
   "id": "b095d507-4b69-4790-ad41-6b81522a0613",
   "metadata": {},
   "outputs": [
    {
     "data": {
      "text/plain": [
       "0        Other\n",
       "1        Other\n",
       "2        Dodge\n",
       "3        Dodge\n",
       "4        Other\n",
       "         ...  \n",
       "41139    Other\n",
       "41140    Other\n",
       "41141    Other\n",
       "41142    Other\n",
       "41143    Other\n",
       "Name: make, Length: 41144, dtype: object"
      ]
     },
     "execution_count": 29,
     "metadata": {},
     "output_type": "execute_result"
    }
   ],
   "source": [
    "#~ inversion of boolean array switching all true to false or vice versa\n",
    "make.mask(~make.isin(top5), other='Other')"
   ]
  },
  {
   "cell_type": "code",
   "execution_count": 31,
   "id": "9f818034-274e-4088-b48a-2a13d75f5fd3",
   "metadata": {},
   "outputs": [],
   "source": [
    "vc = make.value_counts()\n",
    "top5 = vc.index[:5]\n",
    "top10 = vc.index[:10]\n",
    "\n",
    "def generalize(val):\n",
    "    if val in top5:\n",
    "       return val\n",
    "    elif val in top10:\n",
    "       return 'Top10'\n",
    "    else:\n",
    "        return 'Other'"
   ]
  },
  {
   "cell_type": "code",
   "execution_count": 32,
   "id": "172cbc76-1bfe-4f1c-b408-825ddfbb7621",
   "metadata": {},
   "outputs": [
    {
     "data": {
      "text/plain": [
       "0        Other\n",
       "1        Other\n",
       "2        Dodge\n",
       "3        Dodge\n",
       "4        Other\n",
       "         ...  \n",
       "41139    Other\n",
       "41140    Other\n",
       "41141    Other\n",
       "41142    Other\n",
       "41143    Other\n",
       "Name: make, Length: 41144, dtype: object"
      ]
     },
     "execution_count": 32,
     "metadata": {},
     "output_type": "execute_result"
    }
   ],
   "source": [
    "make.apply(generalize)"
   ]
  },
  {
   "cell_type": "code",
   "execution_count": 34,
   "id": "2e7b17bd-aed0-4e15-ba29-ef24ca6509f7",
   "metadata": {},
   "outputs": [
    {
     "data": {
      "text/plain": [
       "0        Other\n",
       "1        Other\n",
       "2        Dodge\n",
       "3        Dodge\n",
       "4        Other\n",
       "         ...  \n",
       "41139    Other\n",
       "41140    Other\n",
       "41141    Other\n",
       "41142    Other\n",
       "41143    Other\n",
       "Name: make, Length: 41144, dtype: object"
      ]
     },
     "execution_count": 34,
     "metadata": {},
     "output_type": "execute_result"
    }
   ],
   "source": [
    "# usage of pandas\n",
    "(make\n",
    ".where(make.isin(top5), 'Top10')\n",
    ".where(make.isin(top10), 'Other'))"
   ]
  },
  {
   "cell_type": "code",
   "execution_count": 35,
   "id": "097d20d6-1fa9-4c7a-9425-c312c682663a",
   "metadata": {},
   "outputs": [
    {
     "data": {
      "text/plain": [
       "array(['Other', 'Other', 'Dodge', ..., 'Other', 'Other', 'Other'],\n",
       "      dtype=object)"
      ]
     },
     "execution_count": 35,
     "metadata": {},
     "output_type": "execute_result"
    }
   ],
   "source": [
    "# another option is select from numpy\n",
    "import numpy as np\n",
    "np.select([make.isin(top5), make.isin(top10)],\n",
    "          [make,'Top10'], 'Other')\n"
   ]
  },
  {
   "cell_type": "markdown",
   "id": "289397b9-234e-41f6-a42a-6e269cb1f305",
   "metadata": {},
   "source": [
    "np.select(condlist, choicelist, default):\n",
    "\n",
    "condlist: A list of boolean conditions.\n",
    "choicelist: A list of values corresponding to each condition in condlist.\n",
    "default: A fallback value used when none of the conditions are True\n",
    "\n",
    "output of select is numpy array you can wrap it in series if you want series\n"
   ]
  },
  {
   "cell_type": "code",
   "execution_count": 36,
   "id": "7ebe6dcd-382a-4a14-9639-675a4c2d4d2c",
   "metadata": {},
   "outputs": [
    {
     "data": {
      "text/plain": [
       "0        Other\n",
       "1        Other\n",
       "2        Dodge\n",
       "3        Dodge\n",
       "4        Other\n",
       "         ...  \n",
       "41139    Other\n",
       "41140    Other\n",
       "41141    Other\n",
       "41142    Other\n",
       "41143    Other\n",
       "Length: 41144, dtype: object"
      ]
     },
     "execution_count": 36,
     "metadata": {},
     "output_type": "execute_result"
    }
   ],
   "source": [
    "pd.Series(np.select([make.isin(top5), make.isin(top10)],\n",
    "          [make,'Top10'], 'Other'))"
   ]
  },
  {
   "cell_type": "markdown",
   "id": "aae710db-de3f-42bd-bff8-059397313ad0",
   "metadata": {
    "jp-MarkdownHeadingCollapsed": true
   },
   "source": [
    "### Missing Data"
   ]
  },
  {
   "cell_type": "code",
   "execution_count": 37,
   "id": "563987e5-4639-4bb9-8c72-eaa6ddd38b82",
   "metadata": {},
   "outputs": [],
   "source": [
    "cyl = df.cylinders"
   ]
  },
  {
   "cell_type": "code",
   "execution_count": 39,
   "id": "de7c5fe5-5a78-4992-a017-b04477a70936",
   "metadata": {},
   "outputs": [
    {
     "data": {
      "text/plain": [
       "np.int64(206)"
      ]
     },
     "execution_count": 39,
     "metadata": {},
     "output_type": "execute_result"
    }
   ],
   "source": [
    "(cyl.isna().sum())"
   ]
  },
  {
   "cell_type": "code",
   "execution_count": 40,
   "id": "2503e021-3897-4bc7-b122-951fa4af78bc",
   "metadata": {},
   "outputs": [],
   "source": [
    "missing = cyl.isna()"
   ]
  },
  {
   "cell_type": "code",
   "execution_count": 41,
   "id": "38b07d38-468a-4259-b211-954bd4bdb540",
   "metadata": {},
   "outputs": [
    {
     "data": {
      "text/plain": [
       "7138     Nissan\n",
       "7139     Toyota\n",
       "8143     Toyota\n",
       "8144       Ford\n",
       "8146       Ford\n",
       "          ...  \n",
       "34563     Tesla\n",
       "34564     Tesla\n",
       "34565     Tesla\n",
       "34566     Tesla\n",
       "34567     Tesla\n",
       "Name: make, Length: 206, dtype: object"
      ]
     },
     "execution_count": 41,
     "metadata": {},
     "output_type": "execute_result"
    }
   ],
   "source": [
    "make.loc[missing]"
   ]
  },
  {
   "cell_type": "markdown",
   "id": "4e97bff8-6c2d-46d4-b506-5f75bce3feba",
   "metadata": {},
   "source": [
    "### Filling in missing Data "
   ]
  },
  {
   "cell_type": "code",
   "execution_count": 43,
   "id": "98aae6dc-7cb6-413e-b5b3-ff2e3f958694",
   "metadata": {},
   "outputs": [
    {
     "data": {
      "text/plain": [
       "7138     NaN\n",
       "7139     NaN\n",
       "8143     NaN\n",
       "8144     NaN\n",
       "8146     NaN\n",
       "        ... \n",
       "34563    NaN\n",
       "34564    NaN\n",
       "34565    NaN\n",
       "34566    NaN\n",
       "34567    NaN\n",
       "Name: cylinders, Length: 206, dtype: object"
      ]
     },
     "execution_count": 43,
     "metadata": {},
     "output_type": "execute_result"
    }
   ],
   "source": [
    "cyl[cyl.isna()]"
   ]
  },
  {
   "cell_type": "code",
   "execution_count": 45,
   "id": "ea868b48-852d-4778-85e3-205166f6da0a",
   "metadata": {},
   "outputs": [
    {
     "data": {
      "text/plain": [
       "7136    6\n",
       "7137    6\n",
       "7138    0\n",
       "7139    0\n",
       "7140    6\n",
       "7141    6\n",
       "Name: cylinders, dtype: object"
      ]
     },
     "execution_count": 45,
     "metadata": {},
     "output_type": "execute_result"
    }
   ],
   "source": [
    "cyl.fillna(0).loc[7136:7141]\n",
    "# no mutation of data occurs in any operations"
   ]
  },
  {
   "cell_type": "markdown",
   "id": "49824db4-6bd1-4ffd-8520-3f89b7ede87b",
   "metadata": {
    "jp-MarkdownHeadingCollapsed": true
   },
   "source": [
    "### Interpolating Data"
   ]
  },
  {
   "cell_type": "code",
   "execution_count": 46,
   "id": "71daad9e-6898-4ff7-b7fe-29b1bfdfca85",
   "metadata": {},
   "outputs": [],
   "source": [
    "temp = pd.Series([32, 40, None , 42, 39, 32])"
   ]
  },
  {
   "cell_type": "code",
   "execution_count": 47,
   "id": "993b728b-43c2-4782-8bc6-42aa0676b4ff",
   "metadata": {},
   "outputs": [
    {
     "data": {
      "text/plain": [
       "0    32.0\n",
       "1    40.0\n",
       "2    41.0\n",
       "3    42.0\n",
       "4    39.0\n",
       "5    32.0\n",
       "dtype: float64"
      ]
     },
     "execution_count": 47,
     "metadata": {},
     "output_type": "execute_result"
    }
   ],
   "source": [
    "temp.interpolate()"
   ]
  },
  {
   "cell_type": "markdown",
   "id": "a9db3238-1580-4cee-b600-ff3395e41662",
   "metadata": {},
   "source": [
    "### Clipping Data"
   ]
  },
  {
   "cell_type": "code",
   "execution_count": 49,
   "id": "5701a4a3-9ee3-4283-9bb5-df17a966fd86",
   "metadata": {},
   "outputs": [
    {
     "data": {
      "text/plain": [
       "0      19\n",
       "1       9\n",
       "2      23\n",
       "3      10\n",
       "4      17\n",
       "       ..\n",
       "442    15\n",
       "443    15\n",
       "444    15\n",
       "445    15\n",
       "446    31\n",
       "Name: city08, Length: 447, dtype: int64"
      ]
     },
     "execution_count": 49,
     "metadata": {},
     "output_type": "execute_result"
    }
   ],
   "source": [
    "# outliners from the dataset clip uses lower and upper bound to replace the values\n",
    "city_mpg.loc[:446]"
   ]
  },
  {
   "cell_type": "code",
   "execution_count": 51,
   "id": "3651102c-f48f-45b4-9fd6-b3bd1735c8e7",
   "metadata": {},
   "outputs": [
    {
     "data": {
      "text/plain": [
       "0      19\n",
       "1      11\n",
       "2      23\n",
       "3      11\n",
       "4      17\n",
       "       ..\n",
       "442    15\n",
       "443    15\n",
       "444    15\n",
       "445    15\n",
       "446    27\n",
       "Name: city08, Length: 447, dtype: int64"
      ]
     },
     "execution_count": 51,
     "metadata": {},
     "output_type": "execute_result"
    }
   ],
   "source": [
    "(city_mpg.loc[:446]\n",
    "      .clip(lower=city_mpg.quantile(0.05),\n",
    "            upper=city_mpg.quantile(0.95)))"
   ]
  },
  {
   "cell_type": "markdown",
   "id": "18ea44fd-f61c-4cbe-9d32-9a12220e5ea4",
   "metadata": {
    "jp-MarkdownHeadingCollapsed": true
   },
   "source": [
    "### Sorting Values"
   ]
  },
  {
   "cell_type": "code",
   "execution_count": 53,
   "id": "142ffaa3-2f58-4623-9926-77978a776491",
   "metadata": {},
   "outputs": [
    {
     "data": {
      "text/plain": [
       "7901       6\n",
       "34557      6\n",
       "37161      6\n",
       "21060      6\n",
       "35887      6\n",
       "        ... \n",
       "34563    138\n",
       "34564    140\n",
       "32599    150\n",
       "31256    150\n",
       "33423    150\n",
       "Name: city08, Length: 41144, dtype: int64"
      ]
     },
     "execution_count": 53,
     "metadata": {},
     "output_type": "execute_result"
    }
   ],
   "source": [
    "city_mpg.sort_values()"
   ]
  },
  {
   "cell_type": "code",
   "execution_count": 54,
   "id": "075790b9-bce9-4cbc-8d6d-161d7342409d",
   "metadata": {},
   "outputs": [
    {
     "data": {
      "text/plain": [
       "0        22.0\n",
       "1        11.5\n",
       "2        28.0\n",
       "3        11.0\n",
       "4        20.0\n",
       "         ... \n",
       "41139    22.5\n",
       "41140    24.0\n",
       "41141    21.0\n",
       "41142    21.0\n",
       "41143    18.5\n",
       "Length: 41144, dtype: float64"
      ]
     },
     "execution_count": 54,
     "metadata": {},
     "output_type": "execute_result"
    }
   ],
   "source": [
    "# also perfor, math operation on sorted series\n",
    "(city_mpg.sort_values() + highway_mpg) / 2"
   ]
  },
  {
   "cell_type": "markdown",
   "id": "1e51472a-b833-4720-b91c-274405ff1e19",
   "metadata": {
    "jp-MarkdownHeadingCollapsed": true
   },
   "source": [
    "### Sorting the index"
   ]
  },
  {
   "cell_type": "code",
   "execution_count": 56,
   "id": "8ff624e4-b5e0-41eb-b15c-d30d9d8f651e",
   "metadata": {},
   "outputs": [
    {
     "data": {
      "text/plain": [
       "0        19\n",
       "1         9\n",
       "2        23\n",
       "3        10\n",
       "4        17\n",
       "         ..\n",
       "41139    19\n",
       "41140    20\n",
       "41141    18\n",
       "41142    18\n",
       "41143    16\n",
       "Name: city08, Length: 41144, dtype: int64"
      ]
     },
     "execution_count": 56,
     "metadata": {},
     "output_type": "execute_result"
    }
   ],
   "source": [
    "# reverse the index sorted values\n",
    "city_mpg.sort_values().sort_index()"
   ]
  },
  {
   "cell_type": "markdown",
   "id": "f712ac8e-2a40-4fd7-9817-75e9b0038c9a",
   "metadata": {
    "jp-MarkdownHeadingCollapsed": true
   },
   "source": [
    "### Drop duplicates"
   ]
  },
  {
   "cell_type": "code",
   "execution_count": 57,
   "id": "d9a416c0-a3d2-412d-b1fc-8c5756dbf1f2",
   "metadata": {},
   "outputs": [
    {
     "data": {
      "text/plain": [
       "0         19\n",
       "1          9\n",
       "2         23\n",
       "3         10\n",
       "4         17\n",
       "        ... \n",
       "34364    127\n",
       "34409    114\n",
       "34564    140\n",
       "34565    115\n",
       "34566    104\n",
       "Name: city08, Length: 105, dtype: int64"
      ]
     },
     "execution_count": 57,
     "metadata": {},
     "output_type": "execute_result"
    }
   ],
   "source": [
    "# Remove duplicates you can choose to keep first or last , default is first\n",
    "city_mpg.drop_duplicates()"
   ]
  },
  {
   "cell_type": "code",
   "execution_count": 59,
   "id": "dd9ebbb8-43c6-41d0-bef0-7f0698ad5c83",
   "metadata": {},
   "outputs": [
    {
     "data": {
      "text/plain": [
       "0    40\n",
       "1    20\n",
       "2    30\n",
       "4    10\n",
       "dtype: int64"
      ]
     },
     "execution_count": 59,
     "metadata": {},
     "output_type": "execute_result"
    }
   ],
   "source": [
    "test = pd.Series([40,20,30,20,10])\n",
    "test.drop_duplicates()"
   ]
  },
  {
   "cell_type": "code",
   "execution_count": 60,
   "id": "b14ff6a1-8fa7-4a8e-992e-3e1e6e25cc37",
   "metadata": {},
   "outputs": [
    {
     "data": {
      "text/plain": [
       "0    40\n",
       "2    30\n",
       "3    20\n",
       "4    10\n",
       "dtype: int64"
      ]
     },
     "execution_count": 60,
     "metadata": {},
     "output_type": "execute_result"
    }
   ],
   "source": [
    "test.drop_duplicates(keep=\"last\")"
   ]
  },
  {
   "cell_type": "code",
   "execution_count": 62,
   "id": "607e4d3a-ec72-4316-9d45-aaa2e2a501dd",
   "metadata": {},
   "outputs": [
    {
     "data": {
      "text/plain": [
       "0    40\n",
       "2    30\n",
       "4    10\n",
       "dtype: int64"
      ]
     },
     "execution_count": 62,
     "metadata": {},
     "output_type": "execute_result"
    }
   ],
   "source": [
    "test.drop_duplicates(keep=False)"
   ]
  },
  {
   "cell_type": "markdown",
   "id": "8b8e0448-ebc0-42af-9b82-f237fca43f11",
   "metadata": {
    "jp-MarkdownHeadingCollapsed": true
   },
   "source": [
    "### Ranking Data"
   ]
  },
  {
   "cell_type": "code",
   "execution_count": 63,
   "id": "25adbf78-57f1-4d98-b273-1b935fbf5e5b",
   "metadata": {},
   "outputs": [
    {
     "data": {
      "text/plain": [
       "0        27060.5\n",
       "1          235.5\n",
       "2        35830.0\n",
       "3          607.5\n",
       "4        19484.0\n",
       "          ...   \n",
       "41139    27060.5\n",
       "41140    29719.5\n",
       "41141    23528.0\n",
       "41142    23528.0\n",
       "41143    15479.0\n",
       "Name: city08, Length: 41144, dtype: float64"
      ]
     },
     "execution_count": 63,
     "metadata": {},
     "output_type": "execute_result"
    }
   ],
   "source": [
    "# rank method can have min and dense \n",
    "# default is average of values you can redfine as min or dense\n",
    "city_mpg.rank()"
   ]
  },
  {
   "cell_type": "code",
   "execution_count": 64,
   "id": "e9874b60-a76d-44ea-89ce-58c4127548a5",
   "metadata": {},
   "outputs": [
    {
     "data": {
      "text/plain": [
       "0        25555.0\n",
       "1          136.0\n",
       "2        35119.0\n",
       "3          336.0\n",
       "4        17467.0\n",
       "          ...   \n",
       "41139    25555.0\n",
       "41140    28567.0\n",
       "41141    21502.0\n",
       "41142    21502.0\n",
       "41143    13492.0\n",
       "Name: city08, Length: 41144, dtype: float64"
      ]
     },
     "execution_count": 64,
     "metadata": {},
     "output_type": "execute_result"
    }
   ],
   "source": [
    "city_mpg.rank(method='min')"
   ]
  },
  {
   "cell_type": "code",
   "execution_count": 65,
   "id": "f3b8a67a-feb2-46bc-b26e-d958946d968e",
   "metadata": {},
   "outputs": [
    {
     "data": {
      "text/plain": [
       "0        14.0\n",
       "1         4.0\n",
       "2        18.0\n",
       "3         5.0\n",
       "4        12.0\n",
       "         ... \n",
       "41139    14.0\n",
       "41140    15.0\n",
       "41141    13.0\n",
       "41142    13.0\n",
       "41143    11.0\n",
       "Name: city08, Length: 41144, dtype: float64"
      ]
     },
     "execution_count": 65,
     "metadata": {},
     "output_type": "execute_result"
    }
   ],
   "source": [
    "city_mpg.rank(method='dense')"
   ]
  },
  {
   "cell_type": "code",
   "execution_count": 66,
   "id": "d79e1efd-dae8-45dc-815b-dc412dbd3227",
   "metadata": {},
   "outputs": [
    {
     "data": {
      "text/plain": [
       "0    40\n",
       "1    20\n",
       "2    30\n",
       "3    20\n",
       "4    10\n",
       "dtype: int64"
      ]
     },
     "execution_count": 66,
     "metadata": {},
     "output_type": "execute_result"
    }
   ],
   "source": [
    "test"
   ]
  },
  {
   "cell_type": "code",
   "execution_count": 67,
   "id": "cf6f5c1e-3934-4b0e-bcce-8d7240368dd5",
   "metadata": {},
   "outputs": [
    {
     "data": {
      "text/plain": [
       "0    5.0\n",
       "1    2.0\n",
       "2    4.0\n",
       "3    2.0\n",
       "4    1.0\n",
       "dtype: float64"
      ]
     },
     "execution_count": 67,
     "metadata": {},
     "output_type": "execute_result"
    }
   ],
   "source": [
    "test.rank(method='min')"
   ]
  },
  {
   "cell_type": "code",
   "execution_count": 68,
   "id": "c5164bd8-5698-4b16-be52-b0f953c4ed26",
   "metadata": {},
   "outputs": [
    {
     "data": {
      "text/plain": [
       "0    4.0\n",
       "1    2.0\n",
       "2    3.0\n",
       "3    2.0\n",
       "4    1.0\n",
       "dtype: float64"
      ]
     },
     "execution_count": 68,
     "metadata": {},
     "output_type": "execute_result"
    }
   ],
   "source": [
    "test.rank(method='dense')"
   ]
  },
  {
   "cell_type": "markdown",
   "id": "fd779f71-2c39-46a1-a723-114dcace13ee",
   "metadata": {
    "jp-MarkdownHeadingCollapsed": true
   },
   "source": [
    "### Replace"
   ]
  },
  {
   "cell_type": "code",
   "execution_count": 69,
   "id": "83ef9264-4e69-401d-a459-ba5659989523",
   "metadata": {},
   "outputs": [
    {
     "data": {
      "text/plain": [
       "0        Alfa Romeo\n",
       "1           Ferrari\n",
       "2             Dodge\n",
       "3             Dodge\n",
       "4               スバル\n",
       "            ...    \n",
       "41139           スバル\n",
       "41140           スバル\n",
       "41141           スバル\n",
       "41142           スバル\n",
       "41143           スバル\n",
       "Name: make, Length: 41144, dtype: object"
      ]
     },
     "execution_count": 69,
     "metadata": {},
     "output_type": "execute_result"
    }
   ],
   "source": [
    "make.replace('Subaru', 'スバル')"
   ]
  },
  {
   "cell_type": "code",
   "execution_count": 70,
   "id": "e83ae383-1bd4-4fff-9d1a-80a29a13a70c",
   "metadata": {},
   "outputs": [
    {
     "data": {
      "text/plain": [
       "0          Alfa Romeo\n",
       "1        ri-other-Fer\n",
       "2               Dodge\n",
       "3               Dodge\n",
       "4              Subaru\n",
       "             ...     \n",
       "41139          Subaru\n",
       "41140          Subaru\n",
       "41141          Subaru\n",
       "41142          Subaru\n",
       "41143          Subaru\n",
       "Name: make, Length: 41144, dtype: object"
      ]
     },
     "execution_count": 70,
     "metadata": {},
     "output_type": "execute_result"
    }
   ],
   "source": [
    "# you can use regex \\1 for first parenthesis\n",
    "make.replace(r'(Fer)ra(r.*)',value=r'\\2-other-\\1',regex=True)"
   ]
  },
  {
   "cell_type": "code",
   "execution_count": 71,
   "id": "d1971281-8ece-4437-932a-84fa74b47458",
   "metadata": {},
   "outputs": [],
   "source": [
    "rep_test = pd.Series(['Dave','Suzy','Adam','Liv'])"
   ]
  },
  {
   "cell_type": "code",
   "execution_count": 72,
   "id": "2684c173-771f-45d8-a518-a8cae66fa266",
   "metadata": {},
   "outputs": [
    {
     "data": {
      "text/plain": [
       "0    Dave\n",
       "1    Suzy\n",
       "2    Adam\n",
       "3     Liv\n",
       "dtype: object"
      ]
     },
     "execution_count": 72,
     "metadata": {},
     "output_type": "execute_result"
    }
   ],
   "source": [
    "rep_test"
   ]
  },
  {
   "cell_type": "code",
   "execution_count": 73,
   "id": "38c56c10-d22d-44d7-996a-ee07714abd0b",
   "metadata": {},
   "outputs": [
    {
     "data": {
      "text/plain": [
       "0       Dave\n",
       "1    Suzanne\n",
       "2       Adam\n",
       "3        Liv\n",
       "dtype: object"
      ]
     },
     "execution_count": 73,
     "metadata": {},
     "output_type": "execute_result"
    }
   ],
   "source": [
    "rep_test.replace(to_replace='Suzy', value='Suzanne')"
   ]
  },
  {
   "cell_type": "code",
   "execution_count": 74,
   "id": "f82d8994-e791-4014-b953-c153cd83374e",
   "metadata": {},
   "outputs": [
    {
     "data": {
      "text/plain": [
       "0       Dave\n",
       "1    Suzanne\n",
       "2       Adam\n",
       "3        Liv\n",
       "dtype: object"
      ]
     },
     "execution_count": 74,
     "metadata": {},
     "output_type": "execute_result"
    }
   ],
   "source": [
    "rep_test.replace(to_replace={'Suzy':'Suzanne'})"
   ]
  },
  {
   "cell_type": "code",
   "execution_count": 75,
   "id": "de2652ee-1ab6-4f26-a2f2-9530a7e5105d",
   "metadata": {},
   "outputs": [
    {
     "data": {
      "text/plain": [
       "0       Dave\n",
       "1    Suzanne\n",
       "2       Adam\n",
       "3        Liv\n",
       "dtype: object"
      ]
     },
     "execution_count": 75,
     "metadata": {},
     "output_type": "execute_result"
    }
   ],
   "source": [
    "rep_test.replace(to_replace='z.*',value = 'zanne', regex=True)"
   ]
  },
  {
   "cell_type": "markdown",
   "id": "a857850f-2894-4624-b70c-75dfcd2251b7",
   "metadata": {
    "jp-MarkdownHeadingCollapsed": true
   },
   "source": [
    "### Binning Data "
   ]
  },
  {
   "cell_type": "code",
   "execution_count": 77,
   "id": "fd709dc1-bb63-4253-a79e-7fd958003e06",
   "metadata": {},
   "outputs": [
    {
     "data": {
      "text/plain": [
       "0        (5.856, 20.4]\n",
       "1        (5.856, 20.4]\n",
       "2         (20.4, 34.8]\n",
       "3        (5.856, 20.4]\n",
       "4        (5.856, 20.4]\n",
       "             ...      \n",
       "41139    (5.856, 20.4]\n",
       "41140    (5.856, 20.4]\n",
       "41141    (5.856, 20.4]\n",
       "41142    (5.856, 20.4]\n",
       "41143    (5.856, 20.4]\n",
       "Name: city08, Length: 41144, dtype: category\n",
       "Categories (10, interval[float64, right]): [(5.856, 20.4] < (20.4, 34.8] < (34.8, 49.2] < (49.2, 63.6] ... (92.4, 106.8] < (106.8, 121.2] < (121.2, 135.6] < (135.6, 150.0]]"
      ]
     },
     "execution_count": 77,
     "metadata": {},
     "output_type": "execute_result"
    }
   ],
   "source": [
    "# create the category dataset you can define the bins\n",
    "pd.cut(city_mpg, 10)"
   ]
  },
  {
   "cell_type": "code",
   "execution_count": 79,
   "id": "1c6649d0-3ad8-4e8b-acbd-4e0eb7910f65",
   "metadata": {},
   "outputs": [
    {
     "data": {
      "text/plain": [
       "0        (10, 20]\n",
       "1         (0, 10]\n",
       "2        (20, 40]\n",
       "3         (0, 10]\n",
       "4        (10, 20]\n",
       "           ...   \n",
       "41139    (10, 20]\n",
       "41140    (10, 20]\n",
       "41141    (10, 20]\n",
       "41142    (10, 20]\n",
       "41143    (10, 20]\n",
       "Name: city08, Length: 41144, dtype: category\n",
       "Categories (5, interval[int64, right]): [(0, 10] < (10, 20] < (20, 40] < (40, 70] < (70, 150]]"
      ]
     },
     "execution_count": 79,
     "metadata": {},
     "output_type": "execute_result"
    }
   ],
   "source": [
    "# they are half-open intervals values outside the bins category are included\n",
    "pd.cut(city_mpg, [0,10,20,40,70,150])"
   ]
  },
  {
   "cell_type": "code",
   "execution_count": 80,
   "id": "5b6c5a70-7ff8-4c4e-9681-622c4584d8ae",
   "metadata": {},
   "outputs": [
    {
     "data": {
      "text/plain": [
       "0         (18.0, 20.0]\n",
       "1        (5.999, 13.0]\n",
       "2         (21.0, 24.0]\n",
       "3        (5.999, 13.0]\n",
       "4         (16.0, 17.0]\n",
       "             ...      \n",
       "41139     (18.0, 20.0]\n",
       "41140     (18.0, 20.0]\n",
       "41141     (17.0, 18.0]\n",
       "41142     (17.0, 18.0]\n",
       "41143     (15.0, 16.0]\n",
       "Name: city08, Length: 41144, dtype: category\n",
       "Categories (10, interval[float64, right]): [(5.999, 13.0] < (13.0, 14.0] < (14.0, 15.0] < (15.0, 16.0] ... (18.0, 20.0] < (20.0, 21.0] < (21.0, 24.0] < (24.0, 150.0]]"
      ]
     },
     "execution_count": 80,
     "metadata": {},
     "output_type": "execute_result"
    }
   ],
   "source": [
    "pd.qcut(city_mpg, 10)"
   ]
  },
  {
   "cell_type": "code",
   "execution_count": 81,
   "id": "df98598f-7d69-4a3d-9a1d-d69ace6d859c",
   "metadata": {},
   "outputs": [
    {
     "data": {
      "text/plain": [
       "0        7\n",
       "1        1\n",
       "2        9\n",
       "3        1\n",
       "4        5\n",
       "        ..\n",
       "41139    7\n",
       "41140    7\n",
       "41141    6\n",
       "41142    6\n",
       "41143    4\n",
       "Name: city08, Length: 41144, dtype: category\n",
       "Categories (10, int64): [1 < 2 < 3 < 4 ... 7 < 8 < 9 < 10]"
      ]
     },
     "execution_count": 81,
     "metadata": {},
     "output_type": "execute_result"
    }
   ],
   "source": [
    "pd.qcut(city_mpg, 10, labels=list(range(1,11)))"
   ]
  },
  {
   "cell_type": "markdown",
   "id": "b9c55a30-7f54-45fe-b78e-2e704c758982",
   "metadata": {},
   "source": [
    "### Exercise 9.14 \n"
   ]
  },
  {
   "cell_type": "code",
   "execution_count": 104,
   "id": "f82a0ca1-4a94-4a88-98c6-141907c5abb1",
   "metadata": {},
   "outputs": [
    {
     "data": {
      "text/plain": [
       "0     low\n",
       "1    high\n",
       "2     low\n",
       "3    high\n",
       "4    high\n",
       "5     low\n",
       "dtype: object"
      ]
     },
     "execution_count": 104,
     "metadata": {},
     "output_type": "execute_result"
    }
   ],
   "source": [
    "#1. Create a series from a numeric column that has the value of 'high' if it is equal to or above the mean and \n",
    "#'low' if it is below the mean using .apply\n",
    "\n",
    "numeric = pd.Series([2,3,1,5,3,2])\n",
    "mean = numeric.mean()\n",
    "# print(mean)\n",
    "# print(numeric)\n",
    "def genelaize(val):\n",
    "    if val >= mean:\n",
    "        return 'high'\n",
    "    else:\n",
    "        return 'low'\n",
    "numeric.apply(genelaize)"
   ]
  },
  {
   "cell_type": "code",
   "execution_count": 99,
   "id": "62c41b43-1d21-4c74-883a-670493774e89",
   "metadata": {},
   "outputs": [
    {
     "data": {
      "text/plain": [
       "0     low\n",
       "1    high\n",
       "2     low\n",
       "3    high\n",
       "4    high\n",
       "5     low\n",
       "dtype: object"
      ]
     },
     "execution_count": 99,
     "metadata": {},
     "output_type": "execute_result"
    }
   ],
   "source": [
    "#2. Create a series from a numeric column that has the value of 'high' if it is equal to or above the mean and \n",
    "#'low' if it is below the mean using .select\n",
    "# low = numeric.lt(mean)\n",
    "# print(low)\n",
    "import numpy as np\n",
    "pd.Series(np.select(\n",
    "    [numeric >= mean, numeric < mean],  # Conditions\n",
    "    ['high', 'low'],                    # Choices\n",
    "    default='unknown'                  \n",
    "))\n"
   ]
  },
  {
   "cell_type": "code",
   "execution_count": 105,
   "id": "5e6721e4-254a-49f7-a774-edfc5903e6f2",
   "metadata": {},
   "outputs": [
    {
     "name": "stdout",
     "output_type": "stream",
     "text": [
      "15.8 µs ± 91.6 ns per loop (mean ± std. dev. of 7 runs, 100,000 loops each)\n"
     ]
    }
   ],
   "source": [
    "#3 timeit above 2 to see which one is faster\n",
    "%timeit numeric.apply(genelaize)"
   ]
  },
  {
   "cell_type": "code",
   "execution_count": 111,
   "id": "5b21f4a3-3685-4156-97d4-4895d657d3f1",
   "metadata": {},
   "outputs": [
    {
     "name": "stdout",
     "output_type": "stream",
     "text": [
      "57.8 µs ± 444 ns per loop (mean ± std. dev. of 7 runs, 10,000 loops each)\n"
     ]
    }
   ],
   "source": [
    "%timeit (pd.Series(np.select([numeric >= mean, numeric < mean],   ['high', 'low'], default='unknown')))"
   ]
  },
  {
   "cell_type": "code",
   "execution_count": 119,
   "id": "1e17dcb2-6633-413b-963a-568278be2bf4",
   "metadata": {},
   "outputs": [
    {
     "name": "stdout",
     "output_type": "stream",
     "text": [
      "3.5\n"
     ]
    }
   ],
   "source": [
    "#4 Replace the missing values of a numeric series with the median value\n",
    "test = pd.Series([4,5,6,2,None,3,1])\n",
    "median = test.median()\n",
    "print(median)\n",
    "test=test.fillna(median)"
   ]
  },
  {
   "cell_type": "code",
   "execution_count": 120,
   "id": "4d942bc7-18db-45ea-9baa-b633deaff73a",
   "metadata": {},
   "outputs": [
    {
     "data": {
      "text/plain": [
       "0    4.00\n",
       "1    5.00\n",
       "2    5.40\n",
       "3    2.00\n",
       "4    3.50\n",
       "5    3.00\n",
       "6    1.06\n",
       "dtype: float64"
      ]
     },
     "execution_count": 120,
     "metadata": {},
     "output_type": "execute_result"
    }
   ],
   "source": [
    "#5 Clip the values of a numeric series to between to 10th and 90th percentiles\n",
    "(test\n",
    "      .clip(lower=test.quantile(0.01),\n",
    "            upper=test.quantile(0.90)))"
   ]
  },
  {
   "cell_type": "code",
   "execution_count": 131,
   "id": "556d3ebb-0616-4c5f-8154-9d1c9a1643d6",
   "metadata": {},
   "outputs": [
    {
     "name": "stdout",
     "output_type": "stream",
     "text": [
      "Index(['apple', 'banana', 'tomato', 'grape', 'kiwi'], dtype='object')\n",
      "0      apple\n",
      "1     banana\n",
      "2     tomato\n",
      "3     tomato\n",
      "4      apple\n",
      "5      other\n",
      "6      grape\n",
      "7      apple\n",
      "8     banana\n",
      "9       kiwi\n",
      "10    banana\n",
      "11     other\n",
      "12     apple\n",
      "13     other\n",
      "14     other\n",
      "15     other\n",
      "16     other\n",
      "17     other\n",
      "18     other\n",
      "19      kiwi\n",
      "20     other\n",
      "21     grape\n",
      "22     other\n",
      "23     other\n",
      "24     other\n",
      "dtype: object\n"
     ]
    }
   ],
   "source": [
    "#6 Using a categorical column, replace any value that is not in the top 5 most frequent values with 'other'\n",
    "category_series = pd.Series(['apple', 'banana','tomato','tomato', 'apple', 'orange', 'grape', 'apple', \n",
    "                             'banana', 'kiwi', 'banana','potato', 'apple','onion','onion','gwava','gwava','cherry','cherry',\n",
    "                             'kiwi', 'pear','grape', 'pear','bindi','karela'])\n",
    "top5 = category_series.value_counts().index[:5]\n",
    "top10 = category_series.value_counts().index[:10]\n",
    "print(top5)\n",
    "result = category_series.where(category_series.isin(top5), 'other')\n",
    "print(result)"
   ]
  },
  {
   "cell_type": "code",
   "execution_count": 134,
   "id": "275ecebf-0f4c-4fd8-9399-bb0a3866b5ff",
   "metadata": {},
   "outputs": [
    {
     "name": "stdout",
     "output_type": "stream",
     "text": [
      "Index(['apple', 'banana', 'tomato', 'grape', 'kiwi', 'onion', 'gwava',\n",
      "       'cherry', 'pear', 'orange'],\n",
      "      dtype='object')\n",
      "0      apple\n",
      "1     banana\n",
      "2     tomato\n",
      "3     tomato\n",
      "4      apple\n",
      "5     orange\n",
      "6      grape\n",
      "7      apple\n",
      "8     banana\n",
      "9       kiwi\n",
      "10    banana\n",
      "11     other\n",
      "12     apple\n",
      "13     onion\n",
      "14     onion\n",
      "15     gwava\n",
      "16     gwava\n",
      "17    cherry\n",
      "18    cherry\n",
      "19      kiwi\n",
      "20      pear\n",
      "21     grape\n",
      "22      pear\n",
      "23     other\n",
      "24     other\n",
      "dtype: object\n"
     ]
    }
   ],
   "source": [
    "#7 Using a categorical column, replace any value that is not in the top 10 most frequent values with 'other'\n",
    "print(top10)\n",
    "result = category_series.where(category_series.isin(top10),'other')\n",
    "print(result)"
   ]
  },
  {
   "cell_type": "code",
   "execution_count": 138,
   "id": "a0102b77-9e0b-4bb7-8d12-92dc42351442",
   "metadata": {},
   "outputs": [
    {
     "name": "stdout",
     "output_type": "stream",
     "text": [
      "0      apple\n",
      "1     banana\n",
      "2      Other\n",
      "3      Other\n",
      "4      apple\n",
      "5      Other\n",
      "6      Other\n",
      "7      apple\n",
      "8     banana\n",
      "9      Other\n",
      "10    banana\n",
      "11     Other\n",
      "12     apple\n",
      "13     Other\n",
      "14     Other\n",
      "15     Other\n",
      "16     Other\n",
      "17     Other\n",
      "18     Other\n",
      "19     Other\n",
      "20     Other\n",
      "21     Other\n",
      "22     Other\n",
      "23     Other\n",
      "24     Other\n",
      "dtype: object\n"
     ]
    }
   ],
   "source": [
    "#8 Make a function that takes a categorical series and a number(n) and returns a replace series that replaces \n",
    "#any value that is not in the top n most frequent values with 'other'\n",
    "S = category_series\n",
    "\n",
    "def gen(S, n):\n",
    "    # Get the top n most frequent values\n",
    "    topn = S.value_counts().index[:n]\n",
    "    # Replace values not in the top n with 'Other'\n",
    "    result = S.where(S.isin(topn), 'Other')\n",
    "    return result\n",
    "n = 2    \n",
    "result = gen(S,n)\n",
    "print(result)"
   ]
  }
 ],
 "metadata": {
  "kernelspec": {
   "display_name": "Python 3 (ipykernel)",
   "language": "python",
   "name": "python3"
  },
  "language_info": {
   "codemirror_mode": {
    "name": "ipython",
    "version": 3
   },
   "file_extension": ".py",
   "mimetype": "text/x-python",
   "name": "python",
   "nbconvert_exporter": "python",
   "pygments_lexer": "ipython3",
   "version": "3.9.6"
  }
 },
 "nbformat": 4,
 "nbformat_minor": 5
}
