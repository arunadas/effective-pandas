{
 "cells": [
  {
   "cell_type": "code",
   "execution_count": 1,
   "id": "51fd81dd-1c87-44ba-9221-88211f06f013",
   "metadata": {},
   "outputs": [],
   "source": [
    "import pandas as pd \n",
    "url = 'https://github.com/arunadas/effective-pandas/raw/main/data/vehicles.csv.zip'\n",
    "df = pd.read_csv(url,dtype='unicode')\n",
    "city_mpg = df.city08.astype(int)\n",
    "highway_mpg = df.highway08.astype(int)\n",
    "make = df.make"
   ]
  },
  {
   "cell_type": "code",
   "execution_count": 2,
   "id": "4c5b1e7e-8e2b-41b7-838c-090b58cfbe4b",
   "metadata": {},
   "outputs": [
    {
     "data": {
      "text/plain": [
       "0    19\n",
       "1     9\n",
       "2    23\n",
       "3    10\n",
       "4    17\n",
       "Name: city08, dtype: int64"
      ]
     },
     "execution_count": 2,
     "metadata": {},
     "output_type": "execute_result"
    }
   ],
   "source": [
    "city_mpg.head()"
   ]
  },
  {
   "cell_type": "code",
   "execution_count": 3,
   "id": "a72b2522-a831-4980-9570-29cef4412266",
   "metadata": {},
   "outputs": [
    {
     "data": {
      "text/plain": [
       "0    Alfa Romeo\n",
       "1       Ferrari\n",
       "2         Dodge\n",
       "3         Dodge\n",
       "4        Subaru\n",
       "Name: make, dtype: object"
      ]
     },
     "execution_count": 3,
     "metadata": {},
     "output_type": "execute_result"
    }
   ],
   "source": [
    "make.head()"
   ]
  },
  {
   "cell_type": "code",
   "execution_count": 14,
   "id": "ce16a5c3-9acc-4132-9425-6ef3f7f5e042",
   "metadata": {},
   "outputs": [
    {
     "name": "stdout",
     "output_type": "stream",
     "text": [
      "0 Alfa Romeo\n",
      "1 Ferrari\n",
      "2 Dodge\n",
      "3 Dodge\n",
      "4 Subaru\n"
     ]
    },
    {
     "data": {
      "text/plain": [
       "[(0, 'Alfa Romeo'), (1, 'Ferrari'), (2, 'Dodge'), (3, 'Dodge'), (4, 'Subaru')]"
      ]
     },
     "execution_count": 14,
     "metadata": {},
     "output_type": "execute_result"
    }
   ],
   "source": [
    "a = make.to_dict()\n",
    "for k, v in list(a.items())[:5]:\n",
    "    print(k,v)\n",
    "city2 = city_mpg.rename(make.to_dict())\n",
    "city2.head()\n",
    "list(a.items())[:5]"
   ]
  },
  {
   "cell_type": "code",
   "execution_count": 15,
   "id": "c0a38295-d9d7-4985-bc91-f9c8f1fbd79d",
   "metadata": {},
   "outputs": [
    {
     "data": {
      "text/plain": [
       "0    Dave\n",
       "1    Suzy\n",
       "2    Adam\n",
       "3     Liv\n",
       "dtype: object"
      ]
     },
     "execution_count": 15,
     "metadata": {},
     "output_type": "execute_result"
    }
   ],
   "source": [
    "#.rename method accepts series, scalar\n",
    "import pandas as pd\n",
    "test = pd.Series(['Dave','Suzy','Adam','Liv'])\n",
    "test"
   ]
  },
  {
   "cell_type": "code",
   "execution_count": 16,
   "id": "6577ea0d-f6b8-4ca2-aab1-5597df3b0eb7",
   "metadata": {},
   "outputs": [
    {
     "data": {
      "text/plain": [
       "first    Dave\n",
       "1        Suzy\n",
       "2        Adam\n",
       "3         Liv\n",
       "dtype: object"
      ]
     },
     "execution_count": 16,
     "metadata": {},
     "output_type": "execute_result"
    }
   ],
   "source": [
    "test.rename(index={0:'first'})"
   ]
  },
  {
   "cell_type": "code",
   "execution_count": 18,
   "id": "4693a49a-7949-4d99-bbdc-f52be55a586b",
   "metadata": {},
   "outputs": [
    {
     "data": {
      "text/plain": [
       "idx-0    Dave\n",
       "idx-1    Suzy\n",
       "idx-2    Adam\n",
       "idx-3     Liv\n",
       "dtype: object"
      ]
     },
     "execution_count": 18,
     "metadata": {},
     "output_type": "execute_result"
    }
   ],
   "source": [
    "def to_str(val):\n",
    "    return f\"idx-{val}\"\n",
    "    \n",
    "test.rename(to_str)    "
   ]
  },
  {
   "cell_type": "code",
   "execution_count": 20,
   "id": "38d07b9c-08b3-47e9-9a10-f66f2b07cc65",
   "metadata": {},
   "outputs": [
    {
     "data": {
      "text/plain": [
       "a    Dave\n",
       "b    Suzy\n",
       "c    Adam\n",
       "d     Liv\n",
       "dtype: object"
      ]
     },
     "execution_count": 20,
     "metadata": {},
     "output_type": "execute_result"
    }
   ],
   "source": [
    "s2 = pd.Series(['a','b','c','d'])\n",
    "test.rename(index=s2)"
   ]
  },
  {
   "cell_type": "code",
   "execution_count": 21,
   "id": "29fa4ab5-2d42-4b16-90d3-ccac5023b17e",
   "metadata": {},
   "outputs": [
    {
     "data": {
      "text/plain": [
       "0    Dave\n",
       "1    Suzy\n",
       "2    Adam\n",
       "3     Liv\n",
       "Name: first, dtype: object"
      ]
     },
     "execution_count": 21,
     "metadata": {},
     "output_type": "execute_result"
    }
   ],
   "source": [
    "#passing a scalar value will change only .name attribute index will remain the same\n",
    "test.rename(index='first')"
   ]
  }
 ],
 "metadata": {
  "kernelspec": {
   "display_name": "Python 3 (ipykernel)",
   "language": "python",
   "name": "python3"
  },
  "language_info": {
   "codemirror_mode": {
    "name": "ipython",
    "version": 3
   },
   "file_extension": ".py",
   "mimetype": "text/x-python",
   "name": "python",
   "nbconvert_exporter": "python",
   "pygments_lexer": "ipython3",
   "version": "3.9.6"
  }
 },
 "nbformat": 4,
 "nbformat_minor": 5
}
