{
 "cells": [
  {
   "cell_type": "markdown",
   "id": "ceec72f2-5e17-499a-8084-15dfe1f4bb6e",
   "metadata": {},
   "source": [
    "### Dataframes"
   ]
  },
  {
   "cell_type": "code",
   "execution_count": 2,
   "id": "55080f3c-59c5-4f43-93bd-16fefe97666d",
   "metadata": {},
   "outputs": [],
   "source": [
    "#python version \n",
    "df = {\n",
    "    'index' : [0,1,2],\n",
    "    'cols' : [\n",
    "        {\n",
    "            'name':'growth',\n",
    "            'data':[.5,7,1.2]},\n",
    "        {\n",
    "            'name':'Name',\n",
    "            'data':['Paul','George','Ringo']\n",
    "        },\n",
    "    ]\n",
    "}"
   ]
  },
  {
   "cell_type": "code",
   "execution_count": 5,
   "id": "3911e138-0df9-455f-8986-ae97afc21186",
   "metadata": {},
   "outputs": [],
   "source": [
    "def get_row(df,idx):\n",
    "    results = []\n",
    "    value_idx = df['index'].index(idx)\n",
    "    for col in df['cols']:\n",
    "        results.append(col['data'][value_idx])\n",
    "    return results    "
   ]
  },
  {
   "cell_type": "code",
   "execution_count": 6,
   "id": "268d3cb3-34ff-4a09-bd2d-2be6b0ffe004",
   "metadata": {},
   "outputs": [
    {
     "data": {
      "text/plain": [
       "[7, 'George']"
      ]
     },
     "execution_count": 6,
     "metadata": {},
     "output_type": "execute_result"
    }
   ],
   "source": [
    "get_row(df,1)"
   ]
  },
  {
   "cell_type": "code",
   "execution_count": 7,
   "id": "bc06b6fd-cc37-46af-bc71-baee9b968358",
   "metadata": {},
   "outputs": [],
   "source": [
    "# using pandas \n",
    "import pandas as pd \n",
    "df = pd.DataFrame({\n",
    "    'growth':[.5,7,1.2],\n",
    "    'Name':['Paul','George','Ringo']\n",
    "})"
   ]
  },
  {
   "cell_type": "code",
   "execution_count": null,
   "id": "02677945-25f7-42f4-a499-859f3dcfbd23",
   "metadata": {},
   "outputs": [],
   "source": [
    "df"
   ]
  }
 ],
 "metadata": {
  "kernelspec": {
   "display_name": "Python 3 (ipykernel)",
   "language": "python",
   "name": "python3"
  },
  "language_info": {
   "codemirror_mode": {
    "name": "ipython",
    "version": 3
   },
   "file_extension": ".py",
   "mimetype": "text/x-python",
   "name": "python",
   "nbconvert_exporter": "python",
   "pygments_lexer": "ipython3",
   "version": "3.9.6"
  }
 },
 "nbformat": 4,
 "nbformat_minor": 5
}
