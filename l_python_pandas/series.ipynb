{
 "cells": [
  {
   "cell_type": "code",
   "execution_count": 3,
   "id": "a991cf13-dd78-4022-8055-c28ad1f6241a",
   "metadata": {},
   "outputs": [],
   "source": [
    "import pandas as pd\n",
    "import numpy as np"
   ]
  },
  {
   "cell_type": "code",
   "execution_count": 2,
   "id": "522ac0dc-d5f4-493f-8ce2-b91731d2eedf",
   "metadata": {},
   "outputs": [
    {
     "data": {
      "text/plain": [
       "'2.2.3'"
      ]
     },
     "execution_count": 2,
     "metadata": {},
     "output_type": "execute_result"
    }
   ],
   "source": [
    "pd.__version__"
   ]
  },
  {
   "cell_type": "code",
   "execution_count": 4,
   "id": "d4c1865f-ce7b-464f-848f-121a9c38da82",
   "metadata": {},
   "outputs": [
    {
     "data": {
      "text/plain": [
       "'2.0.2'"
      ]
     },
     "execution_count": 4,
     "metadata": {},
     "output_type": "execute_result"
    }
   ],
   "source": [
    "np.__version__"
   ]
  },
  {
   "cell_type": "markdown",
   "id": "82dde01f-2a5f-4404-a06a-a9ac081ed232",
   "metadata": {},
   "source": [
    "### Series - the pandas equivalent of a column of data (like sql) . numpy array column with additional features\n",
    "series are build on top of numpy array \n",
    "index and optional name . 2 or more series together is dataframe"
   ]
  },
  {
   "cell_type": "code",
   "execution_count": 6,
   "id": "bd8f441c-3172-498d-85ca-9f162fa2c268",
   "metadata": {},
   "outputs": [
    {
     "data": {
      "text/plain": [
       "0       0\n",
       "1       5\n",
       "2     155\n",
       "3       0\n",
       "4     518\n",
       "5       0\n",
       "6    1827\n",
       "7     616\n",
       "8     317\n",
       "9     325\n",
       "Name: Sales, dtype: int64"
      ]
     },
     "execution_count": 6,
     "metadata": {},
     "output_type": "execute_result"
    }
   ],
   "source": [
    "sales = [0,5,155,0,518,0,1827,616,317,325]\n",
    "\n",
    "sales_series = pd.Series(sales, name=\"Sales\")\n",
    "\n",
    "sales_series"
   ]
  },
  {
   "cell_type": "markdown",
   "id": "71101d7c-3b23-4f0f-b3a7-7ba0f514f63d",
   "metadata": {},
   "source": [
    "# properties of series \n",
    "- index\n",
    "- values\n",
    "- name\n",
    "- dtype"
   ]
  },
  {
   "cell_type": "code",
   "execution_count": 7,
   "id": "d567296f-0f58-4e46-9193-68e6331bb25f",
   "metadata": {},
   "outputs": [
    {
     "data": {
      "text/plain": [
       "array([   0,    5,  155,    0,  518,    0, 1827,  616,  317,  325])"
      ]
     },
     "execution_count": 7,
     "metadata": {},
     "output_type": "execute_result"
    }
   ],
   "source": [
    "sales_series.values"
   ]
  },
  {
   "cell_type": "code",
   "execution_count": 8,
   "id": "a9852b92-1c11-4659-96cb-dd3ae5127f26",
   "metadata": {},
   "outputs": [
    {
     "data": {
      "text/plain": [
       "RangeIndex(start=0, stop=10, step=1)"
      ]
     },
     "execution_count": 8,
     "metadata": {},
     "output_type": "execute_result"
    }
   ],
   "source": [
    "sales_series.index"
   ]
  },
  {
   "cell_type": "code",
   "execution_count": 9,
   "id": "6065619b-4916-4808-8c23-920972692c29",
   "metadata": {},
   "outputs": [
    {
     "data": {
      "text/plain": [
       "'Sales'"
      ]
     },
     "execution_count": 9,
     "metadata": {},
     "output_type": "execute_result"
    }
   ],
   "source": [
    "sales_series.name"
   ]
  },
  {
   "cell_type": "code",
   "execution_count": 10,
   "id": "993644fe-e115-4d66-936f-8985562589ad",
   "metadata": {},
   "outputs": [
    {
     "data": {
      "text/plain": [
       "dtype('int64')"
      ]
     },
     "execution_count": 10,
     "metadata": {},
     "output_type": "execute_result"
    }
   ],
   "source": [
    "sales_series.dtype"
   ]
  },
  {
   "cell_type": "code",
   "execution_count": 15,
   "id": "cb52d3c4-95e8-4d2f-88dd-42c5ad6305ec",
   "metadata": {},
   "outputs": [],
   "source": [
    "array = np.arange(5)\n",
    "\n",
    "series = pd.Series(array)"
   ]
  },
  {
   "cell_type": "code",
   "execution_count": 13,
   "id": "f73d4689-0f16-466a-b649-e1372d881fed",
   "metadata": {},
   "outputs": [
    {
     "data": {
      "text/plain": [
       "0    0\n",
       "1    1\n",
       "2    2\n",
       "3    3\n",
       "4    4\n",
       "Name: Test array, dtype: int64"
      ]
     },
     "execution_count": 13,
     "metadata": {},
     "output_type": "execute_result"
    }
   ],
   "source": [
    "pd.Series(np.arange(5), name=\"Test array\")"
   ]
  },
  {
   "cell_type": "code",
   "execution_count": 14,
   "id": "53ccae3c-fdfe-42f1-96f9-62e6a5e488a6",
   "metadata": {},
   "outputs": [
    {
     "ename": "ValueError",
     "evalue": "Data must be 1-dimensional, got ndarray of shape (3, 2) instead",
     "output_type": "error",
     "traceback": [
      "\u001b[0;31m---------------------------------------------------------------------------\u001b[0m",
      "\u001b[0;31mValueError\u001b[0m                                Traceback (most recent call last)",
      "Cell \u001b[0;32mIn[14], line 1\u001b[0m\n\u001b[0;32m----> 1\u001b[0m \u001b[43mpd\u001b[49m\u001b[38;5;241;43m.\u001b[39;49m\u001b[43mSeries\u001b[49m\u001b[43m(\u001b[49m\u001b[43mnp\u001b[49m\u001b[38;5;241;43m.\u001b[39;49m\u001b[43marange\u001b[49m\u001b[43m(\u001b[49m\u001b[38;5;241;43m6\u001b[39;49m\u001b[43m)\u001b[49m\u001b[38;5;241;43m.\u001b[39;49m\u001b[43mreshape\u001b[49m\u001b[43m(\u001b[49m\u001b[38;5;241;43m3\u001b[39;49m\u001b[43m,\u001b[49m\u001b[38;5;241;43m2\u001b[39;49m\u001b[43m)\u001b[49m\u001b[43m,\u001b[49m\u001b[43m \u001b[49m\u001b[43mname\u001b[49m\u001b[38;5;241;43m=\u001b[39;49m\u001b[38;5;124;43m\"\u001b[39;49m\u001b[38;5;124;43mTest array\u001b[39;49m\u001b[38;5;124;43m\"\u001b[39;49m\u001b[43m)\u001b[49m\n",
      "File \u001b[0;32m~/Library/Python/3.9/lib/python/site-packages/pandas/core/series.py:584\u001b[0m, in \u001b[0;36mSeries.__init__\u001b[0;34m(self, data, index, dtype, name, copy, fastpath)\u001b[0m\n\u001b[1;32m    582\u001b[0m         data \u001b[38;5;241m=\u001b[39m data\u001b[38;5;241m.\u001b[39mcopy()\n\u001b[1;32m    583\u001b[0m \u001b[38;5;28;01melse\u001b[39;00m:\n\u001b[0;32m--> 584\u001b[0m     data \u001b[38;5;241m=\u001b[39m \u001b[43msanitize_array\u001b[49m\u001b[43m(\u001b[49m\u001b[43mdata\u001b[49m\u001b[43m,\u001b[49m\u001b[43m \u001b[49m\u001b[43mindex\u001b[49m\u001b[43m,\u001b[49m\u001b[43m \u001b[49m\u001b[43mdtype\u001b[49m\u001b[43m,\u001b[49m\u001b[43m \u001b[49m\u001b[43mcopy\u001b[49m\u001b[43m)\u001b[49m\n\u001b[1;32m    586\u001b[0m     manager \u001b[38;5;241m=\u001b[39m _get_option(\u001b[38;5;124m\"\u001b[39m\u001b[38;5;124mmode.data_manager\u001b[39m\u001b[38;5;124m\"\u001b[39m, silent\u001b[38;5;241m=\u001b[39m\u001b[38;5;28;01mTrue\u001b[39;00m)\n\u001b[1;32m    587\u001b[0m     \u001b[38;5;28;01mif\u001b[39;00m manager \u001b[38;5;241m==\u001b[39m \u001b[38;5;124m\"\u001b[39m\u001b[38;5;124mblock\u001b[39m\u001b[38;5;124m\"\u001b[39m:\n",
      "File \u001b[0;32m~/Library/Python/3.9/lib/python/site-packages/pandas/core/construction.py:659\u001b[0m, in \u001b[0;36msanitize_array\u001b[0;34m(data, index, dtype, copy, allow_2d)\u001b[0m\n\u001b[1;32m    656\u001b[0m             subarr \u001b[38;5;241m=\u001b[39m cast(np\u001b[38;5;241m.\u001b[39mndarray, subarr)\n\u001b[1;32m    657\u001b[0m             subarr \u001b[38;5;241m=\u001b[39m maybe_infer_to_datetimelike(subarr)\n\u001b[0;32m--> 659\u001b[0m subarr \u001b[38;5;241m=\u001b[39m \u001b[43m_sanitize_ndim\u001b[49m\u001b[43m(\u001b[49m\u001b[43msubarr\u001b[49m\u001b[43m,\u001b[49m\u001b[43m \u001b[49m\u001b[43mdata\u001b[49m\u001b[43m,\u001b[49m\u001b[43m \u001b[49m\u001b[43mdtype\u001b[49m\u001b[43m,\u001b[49m\u001b[43m \u001b[49m\u001b[43mindex\u001b[49m\u001b[43m,\u001b[49m\u001b[43m \u001b[49m\u001b[43mallow_2d\u001b[49m\u001b[38;5;241;43m=\u001b[39;49m\u001b[43mallow_2d\u001b[49m\u001b[43m)\u001b[49m\n\u001b[1;32m    661\u001b[0m \u001b[38;5;28;01mif\u001b[39;00m \u001b[38;5;28misinstance\u001b[39m(subarr, np\u001b[38;5;241m.\u001b[39mndarray):\n\u001b[1;32m    662\u001b[0m     \u001b[38;5;66;03m# at this point we should have dtype be None or subarr.dtype == dtype\u001b[39;00m\n\u001b[1;32m    663\u001b[0m     dtype \u001b[38;5;241m=\u001b[39m cast(np\u001b[38;5;241m.\u001b[39mdtype, dtype)\n",
      "File \u001b[0;32m~/Library/Python/3.9/lib/python/site-packages/pandas/core/construction.py:718\u001b[0m, in \u001b[0;36m_sanitize_ndim\u001b[0;34m(result, data, dtype, index, allow_2d)\u001b[0m\n\u001b[1;32m    716\u001b[0m     \u001b[38;5;28;01mif\u001b[39;00m allow_2d:\n\u001b[1;32m    717\u001b[0m         \u001b[38;5;28;01mreturn\u001b[39;00m result\n\u001b[0;32m--> 718\u001b[0m     \u001b[38;5;28;01mraise\u001b[39;00m \u001b[38;5;167;01mValueError\u001b[39;00m(\n\u001b[1;32m    719\u001b[0m         \u001b[38;5;124mf\u001b[39m\u001b[38;5;124m\"\u001b[39m\u001b[38;5;124mData must be 1-dimensional, got ndarray of shape \u001b[39m\u001b[38;5;132;01m{\u001b[39;00mdata\u001b[38;5;241m.\u001b[39mshape\u001b[38;5;132;01m}\u001b[39;00m\u001b[38;5;124m instead\u001b[39m\u001b[38;5;124m\"\u001b[39m\n\u001b[1;32m    720\u001b[0m     )\n\u001b[1;32m    721\u001b[0m \u001b[38;5;28;01mif\u001b[39;00m is_object_dtype(dtype) \u001b[38;5;129;01mand\u001b[39;00m \u001b[38;5;28misinstance\u001b[39m(dtype, ExtensionDtype):\n\u001b[1;32m    722\u001b[0m     \u001b[38;5;66;03m# i.e. NumpyEADtype(\"O\")\u001b[39;00m\n\u001b[1;32m    724\u001b[0m     result \u001b[38;5;241m=\u001b[39m com\u001b[38;5;241m.\u001b[39masarray_tuplesafe(data, dtype\u001b[38;5;241m=\u001b[39mnp\u001b[38;5;241m.\u001b[39mdtype(\u001b[38;5;124m\"\u001b[39m\u001b[38;5;124mobject\u001b[39m\u001b[38;5;124m\"\u001b[39m))\n",
      "\u001b[0;31mValueError\u001b[0m: Data must be 1-dimensional, got ndarray of shape (3, 2) instead"
     ]
    }
   ],
   "source": [
    "pd.Series(np.arange(6).reshape(3,2), name=\"Test array\") # series must be 1 dimentional"
   ]
  },
  {
   "cell_type": "code",
   "execution_count": 16,
   "id": "0099c0ae-cdf2-4c8d-bac0-5f2417241bb1",
   "metadata": {},
   "outputs": [
    {
     "data": {
      "text/plain": [
       "array([0, 1, 2, 3, 4])"
      ]
     },
     "execution_count": 16,
     "metadata": {},
     "output_type": "execute_result"
    }
   ],
   "source": [
    "series.values"
   ]
  },
  {
   "cell_type": "code",
   "execution_count": 17,
   "id": "2787e800-088a-4972-afb7-3e86c181e486",
   "metadata": {},
   "outputs": [
    {
     "data": {
      "text/plain": [
       "np.float64(2.0)"
      ]
     },
     "execution_count": 17,
     "metadata": {},
     "output_type": "execute_result"
    }
   ],
   "source": [
    "series.values.mean()"
   ]
  },
  {
   "cell_type": "code",
   "execution_count": 18,
   "id": "2d4e8cd6-f11b-48a7-8f10-3b7893e03527",
   "metadata": {},
   "outputs": [
    {
     "data": {
      "text/plain": [
       "np.float64(2.0)"
      ]
     },
     "execution_count": 18,
     "metadata": {},
     "output_type": "execute_result"
    }
   ],
   "source": [
    "series.mean()"
   ]
  },
  {
   "cell_type": "code",
   "execution_count": 19,
   "id": "8d5f9cf2-9621-4405-997e-85a5645b56e6",
   "metadata": {},
   "outputs": [
    {
     "data": {
      "text/plain": [
       "RangeIndex(start=0, stop=5, step=1)"
      ]
     },
     "execution_count": 19,
     "metadata": {},
     "output_type": "execute_result"
    }
   ],
   "source": [
    "series.index"
   ]
  },
  {
   "cell_type": "code",
   "execution_count": 20,
   "id": "210fd47f-2a09-4eab-81ed-d5f0d1690c52",
   "metadata": {},
   "outputs": [
    {
     "data": {
      "text/plain": [
       "10    0\n",
       "20    1\n",
       "30    2\n",
       "40    3\n",
       "50    4\n",
       "dtype: int64"
      ]
     },
     "execution_count": 20,
     "metadata": {},
     "output_type": "execute_result"
    }
   ],
   "source": [
    "series.index = [10, 20 , 30 , 40 , 50]\n",
    "series "
   ]
  },
  {
   "cell_type": "code",
   "execution_count": 22,
   "id": "653f26d8-2243-486c-8258-37d5e45353c1",
   "metadata": {},
   "outputs": [],
   "source": [
    "series.name = 'special series'"
   ]
  },
  {
   "cell_type": "code",
   "execution_count": 23,
   "id": "7ce3430e-23f5-4da4-b3c1-479718ec086a",
   "metadata": {},
   "outputs": [
    {
     "data": {
      "text/plain": [
       "10    0\n",
       "20    1\n",
       "30    2\n",
       "40    3\n",
       "50    4\n",
       "Name: special series, dtype: int64"
      ]
     },
     "execution_count": 23,
     "metadata": {},
     "output_type": "execute_result"
    }
   ],
   "source": [
    "series"
   ]
  },
  {
   "cell_type": "markdown",
   "id": "c19206b3-0038-422e-b4d6-e6e19303002c",
   "metadata": {},
   "source": [
    "### pandas data type\n",
    "64 bit by default , boolean stored in backend as 0 , 1 \n",
    "- object /text (string , category)\n",
    "- time series"
   ]
  },
  {
   "cell_type": "code",
   "execution_count": 26,
   "id": "257bcbe8-c863-4546-b4af-59b30c5fe6fc",
   "metadata": {},
   "outputs": [
    {
     "data": {
      "text/plain": [
       "0       0\n",
       "1       5\n",
       "2     155\n",
       "3       0\n",
       "4     518\n",
       "5       0\n",
       "6    1827\n",
       "7     616\n",
       "8     317\n",
       "9     325\n",
       "Name: Sales, dtype: int64"
      ]
     },
     "execution_count": 26,
     "metadata": {},
     "output_type": "execute_result"
    }
   ],
   "source": [
    "sales_series"
   ]
  },
  {
   "cell_type": "code",
   "execution_count": 27,
   "id": "a832e054-1381-4484-b380-b4715595ed82",
   "metadata": {},
   "outputs": [
    {
     "data": {
      "text/plain": [
       "0       0.0\n",
       "1       5.0\n",
       "2     155.0\n",
       "3       0.0\n",
       "4     518.0\n",
       "5       0.0\n",
       "6    1827.0\n",
       "7     616.0\n",
       "8     317.0\n",
       "9     325.0\n",
       "Name: Sales, dtype: float64"
      ]
     },
     "execution_count": 27,
     "metadata": {},
     "output_type": "execute_result"
    }
   ],
   "source": [
    "sales_series.astype(\"float\")"
   ]
  },
  {
   "cell_type": "code",
   "execution_count": 28,
   "id": "99a3947e-4a1e-44a5-b5a7-4ef019e55e2f",
   "metadata": {},
   "outputs": [
    {
     "data": {
      "text/plain": [
       "0    False\n",
       "1     True\n",
       "2     True\n",
       "3    False\n",
       "4     True\n",
       "5    False\n",
       "6     True\n",
       "7     True\n",
       "8     True\n",
       "9     True\n",
       "Name: Sales, dtype: bool"
      ]
     },
     "execution_count": 28,
     "metadata": {},
     "output_type": "execute_result"
    }
   ],
   "source": [
    "sales_series.astype(\"bool\")"
   ]
  },
  {
   "cell_type": "code",
   "execution_count": 29,
   "id": "57219c15-83ef-4406-9938-017b3c06a573",
   "metadata": {},
   "outputs": [
    {
     "ename": "ValueError",
     "evalue": "The 'datetime64' dtype has no unit. Please pass in 'datetime64[ns]' instead.",
     "output_type": "error",
     "traceback": [
      "\u001b[0;31m---------------------------------------------------------------------------\u001b[0m",
      "\u001b[0;31mValueError\u001b[0m                                Traceback (most recent call last)",
      "Cell \u001b[0;32mIn[29], line 1\u001b[0m\n\u001b[0;32m----> 1\u001b[0m \u001b[43msales_series\u001b[49m\u001b[38;5;241;43m.\u001b[39;49m\u001b[43mastype\u001b[49m\u001b[43m(\u001b[49m\u001b[38;5;124;43m\"\u001b[39;49m\u001b[38;5;124;43mdatetime64\u001b[39;49m\u001b[38;5;124;43m\"\u001b[39;49m\u001b[43m)\u001b[49m\n",
      "File \u001b[0;32m~/Library/Python/3.9/lib/python/site-packages/pandas/core/generic.py:6643\u001b[0m, in \u001b[0;36mNDFrame.astype\u001b[0;34m(self, dtype, copy, errors)\u001b[0m\n\u001b[1;32m   6637\u001b[0m     results \u001b[38;5;241m=\u001b[39m [\n\u001b[1;32m   6638\u001b[0m         ser\u001b[38;5;241m.\u001b[39mastype(dtype, copy\u001b[38;5;241m=\u001b[39mcopy, errors\u001b[38;5;241m=\u001b[39merrors) \u001b[38;5;28;01mfor\u001b[39;00m _, ser \u001b[38;5;129;01min\u001b[39;00m \u001b[38;5;28mself\u001b[39m\u001b[38;5;241m.\u001b[39mitems()\n\u001b[1;32m   6639\u001b[0m     ]\n\u001b[1;32m   6641\u001b[0m \u001b[38;5;28;01melse\u001b[39;00m:\n\u001b[1;32m   6642\u001b[0m     \u001b[38;5;66;03m# else, only a single dtype is given\u001b[39;00m\n\u001b[0;32m-> 6643\u001b[0m     new_data \u001b[38;5;241m=\u001b[39m \u001b[38;5;28;43mself\u001b[39;49m\u001b[38;5;241;43m.\u001b[39;49m\u001b[43m_mgr\u001b[49m\u001b[38;5;241;43m.\u001b[39;49m\u001b[43mastype\u001b[49m\u001b[43m(\u001b[49m\u001b[43mdtype\u001b[49m\u001b[38;5;241;43m=\u001b[39;49m\u001b[43mdtype\u001b[49m\u001b[43m,\u001b[49m\u001b[43m \u001b[49m\u001b[43mcopy\u001b[49m\u001b[38;5;241;43m=\u001b[39;49m\u001b[43mcopy\u001b[49m\u001b[43m,\u001b[49m\u001b[43m \u001b[49m\u001b[43merrors\u001b[49m\u001b[38;5;241;43m=\u001b[39;49m\u001b[43merrors\u001b[49m\u001b[43m)\u001b[49m\n\u001b[1;32m   6644\u001b[0m     res \u001b[38;5;241m=\u001b[39m \u001b[38;5;28mself\u001b[39m\u001b[38;5;241m.\u001b[39m_constructor_from_mgr(new_data, axes\u001b[38;5;241m=\u001b[39mnew_data\u001b[38;5;241m.\u001b[39maxes)\n\u001b[1;32m   6645\u001b[0m     \u001b[38;5;28;01mreturn\u001b[39;00m res\u001b[38;5;241m.\u001b[39m__finalize__(\u001b[38;5;28mself\u001b[39m, method\u001b[38;5;241m=\u001b[39m\u001b[38;5;124m\"\u001b[39m\u001b[38;5;124mastype\u001b[39m\u001b[38;5;124m\"\u001b[39m)\n",
      "File \u001b[0;32m~/Library/Python/3.9/lib/python/site-packages/pandas/core/internals/managers.py:430\u001b[0m, in \u001b[0;36mBaseBlockManager.astype\u001b[0;34m(self, dtype, copy, errors)\u001b[0m\n\u001b[1;32m    427\u001b[0m \u001b[38;5;28;01melif\u001b[39;00m using_copy_on_write():\n\u001b[1;32m    428\u001b[0m     copy \u001b[38;5;241m=\u001b[39m \u001b[38;5;28;01mFalse\u001b[39;00m\n\u001b[0;32m--> 430\u001b[0m \u001b[38;5;28;01mreturn\u001b[39;00m \u001b[38;5;28;43mself\u001b[39;49m\u001b[38;5;241;43m.\u001b[39;49m\u001b[43mapply\u001b[49m\u001b[43m(\u001b[49m\n\u001b[1;32m    431\u001b[0m \u001b[43m    \u001b[49m\u001b[38;5;124;43m\"\u001b[39;49m\u001b[38;5;124;43mastype\u001b[39;49m\u001b[38;5;124;43m\"\u001b[39;49m\u001b[43m,\u001b[49m\n\u001b[1;32m    432\u001b[0m \u001b[43m    \u001b[49m\u001b[43mdtype\u001b[49m\u001b[38;5;241;43m=\u001b[39;49m\u001b[43mdtype\u001b[49m\u001b[43m,\u001b[49m\n\u001b[1;32m    433\u001b[0m \u001b[43m    \u001b[49m\u001b[43mcopy\u001b[49m\u001b[38;5;241;43m=\u001b[39;49m\u001b[43mcopy\u001b[49m\u001b[43m,\u001b[49m\n\u001b[1;32m    434\u001b[0m \u001b[43m    \u001b[49m\u001b[43merrors\u001b[49m\u001b[38;5;241;43m=\u001b[39;49m\u001b[43merrors\u001b[49m\u001b[43m,\u001b[49m\n\u001b[1;32m    435\u001b[0m \u001b[43m    \u001b[49m\u001b[43musing_cow\u001b[49m\u001b[38;5;241;43m=\u001b[39;49m\u001b[43musing_copy_on_write\u001b[49m\u001b[43m(\u001b[49m\u001b[43m)\u001b[49m\u001b[43m,\u001b[49m\n\u001b[1;32m    436\u001b[0m \u001b[43m\u001b[49m\u001b[43m)\u001b[49m\n",
      "File \u001b[0;32m~/Library/Python/3.9/lib/python/site-packages/pandas/core/internals/managers.py:363\u001b[0m, in \u001b[0;36mBaseBlockManager.apply\u001b[0;34m(self, f, align_keys, **kwargs)\u001b[0m\n\u001b[1;32m    361\u001b[0m         applied \u001b[38;5;241m=\u001b[39m b\u001b[38;5;241m.\u001b[39mapply(f, \u001b[38;5;241m*\u001b[39m\u001b[38;5;241m*\u001b[39mkwargs)\n\u001b[1;32m    362\u001b[0m     \u001b[38;5;28;01melse\u001b[39;00m:\n\u001b[0;32m--> 363\u001b[0m         applied \u001b[38;5;241m=\u001b[39m \u001b[38;5;28;43mgetattr\u001b[39;49m\u001b[43m(\u001b[49m\u001b[43mb\u001b[49m\u001b[43m,\u001b[49m\u001b[43m \u001b[49m\u001b[43mf\u001b[49m\u001b[43m)\u001b[49m\u001b[43m(\u001b[49m\u001b[38;5;241;43m*\u001b[39;49m\u001b[38;5;241;43m*\u001b[39;49m\u001b[43mkwargs\u001b[49m\u001b[43m)\u001b[49m\n\u001b[1;32m    364\u001b[0m     result_blocks \u001b[38;5;241m=\u001b[39m extend_blocks(applied, result_blocks)\n\u001b[1;32m    366\u001b[0m out \u001b[38;5;241m=\u001b[39m \u001b[38;5;28mtype\u001b[39m(\u001b[38;5;28mself\u001b[39m)\u001b[38;5;241m.\u001b[39mfrom_blocks(result_blocks, \u001b[38;5;28mself\u001b[39m\u001b[38;5;241m.\u001b[39maxes)\n",
      "File \u001b[0;32m~/Library/Python/3.9/lib/python/site-packages/pandas/core/internals/blocks.py:758\u001b[0m, in \u001b[0;36mBlock.astype\u001b[0;34m(self, dtype, copy, errors, using_cow, squeeze)\u001b[0m\n\u001b[1;32m    755\u001b[0m         \u001b[38;5;28;01mraise\u001b[39;00m \u001b[38;5;167;01mValueError\u001b[39;00m(\u001b[38;5;124m\"\u001b[39m\u001b[38;5;124mCan not squeeze with more than one column.\u001b[39m\u001b[38;5;124m\"\u001b[39m)\n\u001b[1;32m    756\u001b[0m     values \u001b[38;5;241m=\u001b[39m values[\u001b[38;5;241m0\u001b[39m, :]  \u001b[38;5;66;03m# type: ignore[call-overload]\u001b[39;00m\n\u001b[0;32m--> 758\u001b[0m new_values \u001b[38;5;241m=\u001b[39m \u001b[43mastype_array_safe\u001b[49m\u001b[43m(\u001b[49m\u001b[43mvalues\u001b[49m\u001b[43m,\u001b[49m\u001b[43m \u001b[49m\u001b[43mdtype\u001b[49m\u001b[43m,\u001b[49m\u001b[43m \u001b[49m\u001b[43mcopy\u001b[49m\u001b[38;5;241;43m=\u001b[39;49m\u001b[43mcopy\u001b[49m\u001b[43m,\u001b[49m\u001b[43m \u001b[49m\u001b[43merrors\u001b[49m\u001b[38;5;241;43m=\u001b[39;49m\u001b[43merrors\u001b[49m\u001b[43m)\u001b[49m\n\u001b[1;32m    760\u001b[0m new_values \u001b[38;5;241m=\u001b[39m maybe_coerce_values(new_values)\n\u001b[1;32m    762\u001b[0m refs \u001b[38;5;241m=\u001b[39m \u001b[38;5;28;01mNone\u001b[39;00m\n",
      "File \u001b[0;32m~/Library/Python/3.9/lib/python/site-packages/pandas/core/dtypes/astype.py:237\u001b[0m, in \u001b[0;36mastype_array_safe\u001b[0;34m(values, dtype, copy, errors)\u001b[0m\n\u001b[1;32m    234\u001b[0m     dtype \u001b[38;5;241m=\u001b[39m dtype\u001b[38;5;241m.\u001b[39mnumpy_dtype\n\u001b[1;32m    236\u001b[0m \u001b[38;5;28;01mtry\u001b[39;00m:\n\u001b[0;32m--> 237\u001b[0m     new_values \u001b[38;5;241m=\u001b[39m \u001b[43mastype_array\u001b[49m\u001b[43m(\u001b[49m\u001b[43mvalues\u001b[49m\u001b[43m,\u001b[49m\u001b[43m \u001b[49m\u001b[43mdtype\u001b[49m\u001b[43m,\u001b[49m\u001b[43m \u001b[49m\u001b[43mcopy\u001b[49m\u001b[38;5;241;43m=\u001b[39;49m\u001b[43mcopy\u001b[49m\u001b[43m)\u001b[49m\n\u001b[1;32m    238\u001b[0m \u001b[38;5;28;01mexcept\u001b[39;00m (\u001b[38;5;167;01mValueError\u001b[39;00m, \u001b[38;5;167;01mTypeError\u001b[39;00m):\n\u001b[1;32m    239\u001b[0m     \u001b[38;5;66;03m# e.g. _astype_nansafe can fail on object-dtype of strings\u001b[39;00m\n\u001b[1;32m    240\u001b[0m     \u001b[38;5;66;03m#  trying to convert to float\u001b[39;00m\n\u001b[1;32m    241\u001b[0m     \u001b[38;5;28;01mif\u001b[39;00m errors \u001b[38;5;241m==\u001b[39m \u001b[38;5;124m\"\u001b[39m\u001b[38;5;124mignore\u001b[39m\u001b[38;5;124m\"\u001b[39m:\n",
      "File \u001b[0;32m~/Library/Python/3.9/lib/python/site-packages/pandas/core/dtypes/astype.py:182\u001b[0m, in \u001b[0;36mastype_array\u001b[0;34m(values, dtype, copy)\u001b[0m\n\u001b[1;32m    179\u001b[0m     values \u001b[38;5;241m=\u001b[39m values\u001b[38;5;241m.\u001b[39mastype(dtype, copy\u001b[38;5;241m=\u001b[39mcopy)\n\u001b[1;32m    181\u001b[0m \u001b[38;5;28;01melse\u001b[39;00m:\n\u001b[0;32m--> 182\u001b[0m     values \u001b[38;5;241m=\u001b[39m \u001b[43m_astype_nansafe\u001b[49m\u001b[43m(\u001b[49m\u001b[43mvalues\u001b[49m\u001b[43m,\u001b[49m\u001b[43m \u001b[49m\u001b[43mdtype\u001b[49m\u001b[43m,\u001b[49m\u001b[43m \u001b[49m\u001b[43mcopy\u001b[49m\u001b[38;5;241;43m=\u001b[39;49m\u001b[43mcopy\u001b[49m\u001b[43m)\u001b[49m\n\u001b[1;32m    184\u001b[0m \u001b[38;5;66;03m# in pandas we don't store numpy str dtypes, so convert to object\u001b[39;00m\n\u001b[1;32m    185\u001b[0m \u001b[38;5;28;01mif\u001b[39;00m \u001b[38;5;28misinstance\u001b[39m(dtype, np\u001b[38;5;241m.\u001b[39mdtype) \u001b[38;5;129;01mand\u001b[39;00m \u001b[38;5;28missubclass\u001b[39m(values\u001b[38;5;241m.\u001b[39mdtype\u001b[38;5;241m.\u001b[39mtype, \u001b[38;5;28mstr\u001b[39m):\n",
      "File \u001b[0;32m~/Library/Python/3.9/lib/python/site-packages/pandas/core/dtypes/astype.py:129\u001b[0m, in \u001b[0;36m_astype_nansafe\u001b[0;34m(arr, dtype, copy, skipna)\u001b[0m\n\u001b[1;32m    124\u001b[0m \u001b[38;5;28;01mif\u001b[39;00m dtype\u001b[38;5;241m.\u001b[39mname \u001b[38;5;129;01min\u001b[39;00m (\u001b[38;5;124m\"\u001b[39m\u001b[38;5;124mdatetime64\u001b[39m\u001b[38;5;124m\"\u001b[39m, \u001b[38;5;124m\"\u001b[39m\u001b[38;5;124mtimedelta64\u001b[39m\u001b[38;5;124m\"\u001b[39m):\n\u001b[1;32m    125\u001b[0m     msg \u001b[38;5;241m=\u001b[39m (\n\u001b[1;32m    126\u001b[0m         \u001b[38;5;124mf\u001b[39m\u001b[38;5;124m\"\u001b[39m\u001b[38;5;124mThe \u001b[39m\u001b[38;5;124m'\u001b[39m\u001b[38;5;132;01m{\u001b[39;00mdtype\u001b[38;5;241m.\u001b[39mname\u001b[38;5;132;01m}\u001b[39;00m\u001b[38;5;124m'\u001b[39m\u001b[38;5;124m dtype has no unit. Please pass in \u001b[39m\u001b[38;5;124m\"\u001b[39m\n\u001b[1;32m    127\u001b[0m         \u001b[38;5;124mf\u001b[39m\u001b[38;5;124m\"\u001b[39m\u001b[38;5;124m'\u001b[39m\u001b[38;5;132;01m{\u001b[39;00mdtype\u001b[38;5;241m.\u001b[39mname\u001b[38;5;132;01m}\u001b[39;00m\u001b[38;5;124m[ns]\u001b[39m\u001b[38;5;124m'\u001b[39m\u001b[38;5;124m instead.\u001b[39m\u001b[38;5;124m\"\u001b[39m\n\u001b[1;32m    128\u001b[0m     )\n\u001b[0;32m--> 129\u001b[0m     \u001b[38;5;28;01mraise\u001b[39;00m \u001b[38;5;167;01mValueError\u001b[39;00m(msg)\n\u001b[1;32m    131\u001b[0m \u001b[38;5;28;01mif\u001b[39;00m copy \u001b[38;5;129;01mor\u001b[39;00m arr\u001b[38;5;241m.\u001b[39mdtype \u001b[38;5;241m==\u001b[39m \u001b[38;5;28mobject\u001b[39m \u001b[38;5;129;01mor\u001b[39;00m dtype \u001b[38;5;241m==\u001b[39m \u001b[38;5;28mobject\u001b[39m:\n\u001b[1;32m    132\u001b[0m     \u001b[38;5;66;03m# Explicit copy, or required since NumPy can't view from / to object.\u001b[39;00m\n\u001b[1;32m    133\u001b[0m     \u001b[38;5;28;01mreturn\u001b[39;00m arr\u001b[38;5;241m.\u001b[39mastype(dtype, copy\u001b[38;5;241m=\u001b[39m\u001b[38;5;28;01mTrue\u001b[39;00m)\n",
      "\u001b[0;31mValueError\u001b[0m: The 'datetime64' dtype has no unit. Please pass in 'datetime64[ns]' instead."
     ]
    }
   ],
   "source": [
    "sales_series.astype(\"datetime64\")"
   ]
  },
  {
   "cell_type": "code",
   "execution_count": 32,
   "id": "f0ca5cdb-e13e-4b29-9162-fd36c783a133",
   "metadata": {},
   "outputs": [
    {
     "data": {
      "text/plain": [
       "0    0\n",
       "1    1\n",
       "2    2\n",
       "3    3\n",
       "4    4\n",
       "dtype: int64"
      ]
     },
     "execution_count": 32,
     "metadata": {},
     "output_type": "execute_result"
    }
   ],
   "source": [
    "series = pd.Series(range(5))\n",
    "series"
   ]
  },
  {
   "cell_type": "code",
   "execution_count": 33,
   "id": "6786e517-14b9-4ce1-9f65-fd79619970ff",
   "metadata": {},
   "outputs": [
    {
     "data": {
      "text/plain": [
       "0    0.0\n",
       "1    1.0\n",
       "2    2.0\n",
       "3    3.0\n",
       "4    4.0\n",
       "dtype: float64"
      ]
     },
     "execution_count": 33,
     "metadata": {},
     "output_type": "execute_result"
    }
   ],
   "source": [
    "series.astype(\"float\")"
   ]
  },
  {
   "cell_type": "code",
   "execution_count": 34,
   "id": "89ddd3b1-79b0-4568-bc2f-84c9c7dbc01a",
   "metadata": {},
   "outputs": [
    {
     "data": {
      "text/plain": [
       "0    False\n",
       "1     True\n",
       "2     True\n",
       "3     True\n",
       "4     True\n",
       "dtype: bool"
      ]
     },
     "execution_count": 34,
     "metadata": {},
     "output_type": "execute_result"
    }
   ],
   "source": [
    "series.astype(\"bool\")"
   ]
  },
  {
   "cell_type": "code",
   "execution_count": 35,
   "id": "05e464d5-37c7-44c2-a396-7473377c7d7d",
   "metadata": {},
   "outputs": [
    {
     "data": {
      "text/plain": [
       "0    0\n",
       "1    1\n",
       "2    2\n",
       "3    3\n",
       "4    4\n",
       "dtype: object"
      ]
     },
     "execution_count": 35,
     "metadata": {},
     "output_type": "execute_result"
    }
   ],
   "source": [
    "series.astype(\"object\")"
   ]
  },
  {
   "cell_type": "code",
   "execution_count": 36,
   "id": "4dc138c4-c517-420e-9a47-51f45b0178b7",
   "metadata": {},
   "outputs": [
    {
     "data": {
      "text/plain": [
       "0    0\n",
       "1    1\n",
       "2    2\n",
       "3    3\n",
       "4    4\n",
       "dtype: string"
      ]
     },
     "execution_count": 36,
     "metadata": {},
     "output_type": "execute_result"
    }
   ],
   "source": [
    "series.astype(\"string\")"
   ]
  },
  {
   "cell_type": "code",
   "execution_count": 37,
   "id": "8e99d22d-b1ac-4897-9eb0-0be72757b239",
   "metadata": {},
   "outputs": [
    {
     "data": {
      "text/plain": [
       "np.float64(0.8)"
      ]
     },
     "execution_count": 37,
     "metadata": {},
     "output_type": "execute_result"
    }
   ],
   "source": [
    "series.astype(\"bool\").mean()"
   ]
  },
  {
   "cell_type": "code",
   "execution_count": 38,
   "id": "4f787b36-e8fd-4660-9a32-20dd1be0ee5a",
   "metadata": {},
   "outputs": [
    {
     "data": {
      "text/plain": [
       "np.int64(4)"
      ]
     },
     "execution_count": 38,
     "metadata": {},
     "output_type": "execute_result"
    }
   ],
   "source": [
    "series.astype(\"bool\").sum()"
   ]
  },
  {
   "cell_type": "code",
   "execution_count": 39,
   "id": "91b359cf-a618-4622-a80e-5e176cdaf5e7",
   "metadata": {},
   "outputs": [
    {
     "ename": "TypeError",
     "evalue": "Cannot perform reduction 'mean' with string dtype",
     "output_type": "error",
     "traceback": [
      "\u001b[0;31m---------------------------------------------------------------------------\u001b[0m",
      "\u001b[0;31mTypeError\u001b[0m                                 Traceback (most recent call last)",
      "Cell \u001b[0;32mIn[39], line 1\u001b[0m\n\u001b[0;32m----> 1\u001b[0m \u001b[43mseries\u001b[49m\u001b[38;5;241;43m.\u001b[39;49m\u001b[43mastype\u001b[49m\u001b[43m(\u001b[49m\u001b[38;5;124;43m\"\u001b[39;49m\u001b[38;5;124;43mstring\u001b[39;49m\u001b[38;5;124;43m\"\u001b[39;49m\u001b[43m)\u001b[49m\u001b[38;5;241;43m.\u001b[39;49m\u001b[43mmean\u001b[49m\u001b[43m(\u001b[49m\u001b[43m)\u001b[49m \u001b[38;5;66;03m# error\u001b[39;00m\n",
      "File \u001b[0;32m~/Library/Python/3.9/lib/python/site-packages/pandas/core/series.py:6549\u001b[0m, in \u001b[0;36mSeries.mean\u001b[0;34m(self, axis, skipna, numeric_only, **kwargs)\u001b[0m\n\u001b[1;32m   6541\u001b[0m \u001b[38;5;129m@doc\u001b[39m(make_doc(\u001b[38;5;124m\"\u001b[39m\u001b[38;5;124mmean\u001b[39m\u001b[38;5;124m\"\u001b[39m, ndim\u001b[38;5;241m=\u001b[39m\u001b[38;5;241m1\u001b[39m))\n\u001b[1;32m   6542\u001b[0m \u001b[38;5;28;01mdef\u001b[39;00m \u001b[38;5;21mmean\u001b[39m(\n\u001b[1;32m   6543\u001b[0m     \u001b[38;5;28mself\u001b[39m,\n\u001b[0;32m   (...)\u001b[0m\n\u001b[1;32m   6547\u001b[0m     \u001b[38;5;241m*\u001b[39m\u001b[38;5;241m*\u001b[39mkwargs,\n\u001b[1;32m   6548\u001b[0m ):\n\u001b[0;32m-> 6549\u001b[0m     \u001b[38;5;28;01mreturn\u001b[39;00m \u001b[43mNDFrame\u001b[49m\u001b[38;5;241;43m.\u001b[39;49m\u001b[43mmean\u001b[49m\u001b[43m(\u001b[49m\u001b[38;5;28;43mself\u001b[39;49m\u001b[43m,\u001b[49m\u001b[43m \u001b[49m\u001b[43maxis\u001b[49m\u001b[43m,\u001b[49m\u001b[43m \u001b[49m\u001b[43mskipna\u001b[49m\u001b[43m,\u001b[49m\u001b[43m \u001b[49m\u001b[43mnumeric_only\u001b[49m\u001b[43m,\u001b[49m\u001b[43m \u001b[49m\u001b[38;5;241;43m*\u001b[39;49m\u001b[38;5;241;43m*\u001b[39;49m\u001b[43mkwargs\u001b[49m\u001b[43m)\u001b[49m\n",
      "File \u001b[0;32m~/Library/Python/3.9/lib/python/site-packages/pandas/core/generic.py:12420\u001b[0m, in \u001b[0;36mNDFrame.mean\u001b[0;34m(self, axis, skipna, numeric_only, **kwargs)\u001b[0m\n\u001b[1;32m  12413\u001b[0m \u001b[38;5;28;01mdef\u001b[39;00m \u001b[38;5;21mmean\u001b[39m(\n\u001b[1;32m  12414\u001b[0m     \u001b[38;5;28mself\u001b[39m,\n\u001b[1;32m  12415\u001b[0m     axis: Axis \u001b[38;5;241m|\u001b[39m \u001b[38;5;28;01mNone\u001b[39;00m \u001b[38;5;241m=\u001b[39m \u001b[38;5;241m0\u001b[39m,\n\u001b[0;32m   (...)\u001b[0m\n\u001b[1;32m  12418\u001b[0m     \u001b[38;5;241m*\u001b[39m\u001b[38;5;241m*\u001b[39mkwargs,\n\u001b[1;32m  12419\u001b[0m ) \u001b[38;5;241m-\u001b[39m\u001b[38;5;241m>\u001b[39m Series \u001b[38;5;241m|\u001b[39m \u001b[38;5;28mfloat\u001b[39m:\n\u001b[0;32m> 12420\u001b[0m     \u001b[38;5;28;01mreturn\u001b[39;00m \u001b[38;5;28;43mself\u001b[39;49m\u001b[38;5;241;43m.\u001b[39;49m\u001b[43m_stat_function\u001b[49m\u001b[43m(\u001b[49m\n\u001b[1;32m  12421\u001b[0m \u001b[43m        \u001b[49m\u001b[38;5;124;43m\"\u001b[39;49m\u001b[38;5;124;43mmean\u001b[39;49m\u001b[38;5;124;43m\"\u001b[39;49m\u001b[43m,\u001b[49m\u001b[43m \u001b[49m\u001b[43mnanops\u001b[49m\u001b[38;5;241;43m.\u001b[39;49m\u001b[43mnanmean\u001b[49m\u001b[43m,\u001b[49m\u001b[43m \u001b[49m\u001b[43maxis\u001b[49m\u001b[43m,\u001b[49m\u001b[43m \u001b[49m\u001b[43mskipna\u001b[49m\u001b[43m,\u001b[49m\u001b[43m \u001b[49m\u001b[43mnumeric_only\u001b[49m\u001b[43m,\u001b[49m\u001b[43m \u001b[49m\u001b[38;5;241;43m*\u001b[39;49m\u001b[38;5;241;43m*\u001b[39;49m\u001b[43mkwargs\u001b[49m\n\u001b[1;32m  12422\u001b[0m \u001b[43m    \u001b[49m\u001b[43m)\u001b[49m\n",
      "File \u001b[0;32m~/Library/Python/3.9/lib/python/site-packages/pandas/core/generic.py:12377\u001b[0m, in \u001b[0;36mNDFrame._stat_function\u001b[0;34m(self, name, func, axis, skipna, numeric_only, **kwargs)\u001b[0m\n\u001b[1;32m  12373\u001b[0m nv\u001b[38;5;241m.\u001b[39mvalidate_func(name, (), kwargs)\n\u001b[1;32m  12375\u001b[0m validate_bool_kwarg(skipna, \u001b[38;5;124m\"\u001b[39m\u001b[38;5;124mskipna\u001b[39m\u001b[38;5;124m\"\u001b[39m, none_allowed\u001b[38;5;241m=\u001b[39m\u001b[38;5;28;01mFalse\u001b[39;00m)\n\u001b[0;32m> 12377\u001b[0m \u001b[38;5;28;01mreturn\u001b[39;00m \u001b[38;5;28;43mself\u001b[39;49m\u001b[38;5;241;43m.\u001b[39;49m\u001b[43m_reduce\u001b[49m\u001b[43m(\u001b[49m\n\u001b[1;32m  12378\u001b[0m \u001b[43m    \u001b[49m\u001b[43mfunc\u001b[49m\u001b[43m,\u001b[49m\u001b[43m \u001b[49m\u001b[43mname\u001b[49m\u001b[38;5;241;43m=\u001b[39;49m\u001b[43mname\u001b[49m\u001b[43m,\u001b[49m\u001b[43m \u001b[49m\u001b[43maxis\u001b[49m\u001b[38;5;241;43m=\u001b[39;49m\u001b[43maxis\u001b[49m\u001b[43m,\u001b[49m\u001b[43m \u001b[49m\u001b[43mskipna\u001b[49m\u001b[38;5;241;43m=\u001b[39;49m\u001b[43mskipna\u001b[49m\u001b[43m,\u001b[49m\u001b[43m \u001b[49m\u001b[43mnumeric_only\u001b[49m\u001b[38;5;241;43m=\u001b[39;49m\u001b[43mnumeric_only\u001b[49m\n\u001b[1;32m  12379\u001b[0m \u001b[43m\u001b[49m\u001b[43m)\u001b[49m\n",
      "File \u001b[0;32m~/Library/Python/3.9/lib/python/site-packages/pandas/core/series.py:6443\u001b[0m, in \u001b[0;36mSeries._reduce\u001b[0;34m(self, op, name, axis, skipna, numeric_only, filter_type, **kwds)\u001b[0m\n\u001b[1;32m   6439\u001b[0m     \u001b[38;5;28mself\u001b[39m\u001b[38;5;241m.\u001b[39m_get_axis_number(axis)\n\u001b[1;32m   6441\u001b[0m \u001b[38;5;28;01mif\u001b[39;00m \u001b[38;5;28misinstance\u001b[39m(delegate, ExtensionArray):\n\u001b[1;32m   6442\u001b[0m     \u001b[38;5;66;03m# dispatch to ExtensionArray interface\u001b[39;00m\n\u001b[0;32m-> 6443\u001b[0m     \u001b[38;5;28;01mreturn\u001b[39;00m \u001b[43mdelegate\u001b[49m\u001b[38;5;241;43m.\u001b[39;49m\u001b[43m_reduce\u001b[49m\u001b[43m(\u001b[49m\u001b[43mname\u001b[49m\u001b[43m,\u001b[49m\u001b[43m \u001b[49m\u001b[43mskipna\u001b[49m\u001b[38;5;241;43m=\u001b[39;49m\u001b[43mskipna\u001b[49m\u001b[43m,\u001b[49m\u001b[43m \u001b[49m\u001b[38;5;241;43m*\u001b[39;49m\u001b[38;5;241;43m*\u001b[39;49m\u001b[43mkwds\u001b[49m\u001b[43m)\u001b[49m\n\u001b[1;32m   6445\u001b[0m \u001b[38;5;28;01melse\u001b[39;00m:\n\u001b[1;32m   6446\u001b[0m     \u001b[38;5;66;03m# dispatch to numpy arrays\u001b[39;00m\n\u001b[1;32m   6447\u001b[0m     \u001b[38;5;28;01mif\u001b[39;00m numeric_only \u001b[38;5;129;01mand\u001b[39;00m \u001b[38;5;28mself\u001b[39m\u001b[38;5;241m.\u001b[39mdtype\u001b[38;5;241m.\u001b[39mkind \u001b[38;5;129;01mnot\u001b[39;00m \u001b[38;5;129;01min\u001b[39;00m \u001b[38;5;124m\"\u001b[39m\u001b[38;5;124miufcb\u001b[39m\u001b[38;5;124m\"\u001b[39m:\n\u001b[1;32m   6448\u001b[0m         \u001b[38;5;66;03m# i.e. not is_numeric_dtype(self.dtype)\u001b[39;00m\n",
      "File \u001b[0;32m~/Library/Python/3.9/lib/python/site-packages/pandas/core/arrays/string_.py:523\u001b[0m, in \u001b[0;36mStringArray._reduce\u001b[0;34m(self, name, skipna, axis, **kwargs)\u001b[0m\n\u001b[1;32m    520\u001b[0m \u001b[38;5;28;01mif\u001b[39;00m name \u001b[38;5;129;01min\u001b[39;00m [\u001b[38;5;124m\"\u001b[39m\u001b[38;5;124mmin\u001b[39m\u001b[38;5;124m\"\u001b[39m, \u001b[38;5;124m\"\u001b[39m\u001b[38;5;124mmax\u001b[39m\u001b[38;5;124m\"\u001b[39m]:\n\u001b[1;32m    521\u001b[0m     \u001b[38;5;28;01mreturn\u001b[39;00m \u001b[38;5;28mgetattr\u001b[39m(\u001b[38;5;28mself\u001b[39m, name)(skipna\u001b[38;5;241m=\u001b[39mskipna, axis\u001b[38;5;241m=\u001b[39maxis)\n\u001b[0;32m--> 523\u001b[0m \u001b[38;5;28;01mraise\u001b[39;00m \u001b[38;5;167;01mTypeError\u001b[39;00m(\u001b[38;5;124mf\u001b[39m\u001b[38;5;124m\"\u001b[39m\u001b[38;5;124mCannot perform reduction \u001b[39m\u001b[38;5;124m'\u001b[39m\u001b[38;5;132;01m{\u001b[39;00mname\u001b[38;5;132;01m}\u001b[39;00m\u001b[38;5;124m'\u001b[39m\u001b[38;5;124m with string dtype\u001b[39m\u001b[38;5;124m\"\u001b[39m)\n",
      "\u001b[0;31mTypeError\u001b[0m: Cannot perform reduction 'mean' with string dtype"
     ]
    }
   ],
   "source": [
    "series.astype(\"string\").mean() # error"
   ]
  },
  {
   "cell_type": "code",
   "execution_count": 43,
   "id": "d6c058c0-aabb-450b-bf59-1f93a5aacbc5",
   "metadata": {},
   "outputs": [
    {
     "data": {
      "text/plain": [
       "0    a\n",
       "1    b\n",
       "2    c\n",
       "dtype: object"
      ]
     },
     "execution_count": 43,
     "metadata": {},
     "output_type": "execute_result"
    }
   ],
   "source": [
    "string_series = pd.Series(['a','b','c'])\n",
    "string_series"
   ]
  },
  {
   "cell_type": "code",
   "execution_count": 44,
   "id": "f68d419f-b2a3-4b8b-88f5-7c0f68442c09",
   "metadata": {},
   "outputs": [
    {
     "ename": "ValueError",
     "evalue": "invalid literal for int() with base 10: 'a'",
     "output_type": "error",
     "traceback": [
      "\u001b[0;31m---------------------------------------------------------------------------\u001b[0m",
      "\u001b[0;31mValueError\u001b[0m                                Traceback (most recent call last)",
      "Cell \u001b[0;32mIn[44], line 1\u001b[0m\n\u001b[0;32m----> 1\u001b[0m \u001b[43mstring_series\u001b[49m\u001b[38;5;241;43m.\u001b[39;49m\u001b[43mastype\u001b[49m\u001b[43m(\u001b[49m\u001b[38;5;124;43m\"\u001b[39;49m\u001b[38;5;124;43mint\u001b[39;49m\u001b[38;5;124;43m\"\u001b[39;49m\u001b[43m)\u001b[49m\n",
      "File \u001b[0;32m~/Library/Python/3.9/lib/python/site-packages/pandas/core/generic.py:6643\u001b[0m, in \u001b[0;36mNDFrame.astype\u001b[0;34m(self, dtype, copy, errors)\u001b[0m\n\u001b[1;32m   6637\u001b[0m     results \u001b[38;5;241m=\u001b[39m [\n\u001b[1;32m   6638\u001b[0m         ser\u001b[38;5;241m.\u001b[39mastype(dtype, copy\u001b[38;5;241m=\u001b[39mcopy, errors\u001b[38;5;241m=\u001b[39merrors) \u001b[38;5;28;01mfor\u001b[39;00m _, ser \u001b[38;5;129;01min\u001b[39;00m \u001b[38;5;28mself\u001b[39m\u001b[38;5;241m.\u001b[39mitems()\n\u001b[1;32m   6639\u001b[0m     ]\n\u001b[1;32m   6641\u001b[0m \u001b[38;5;28;01melse\u001b[39;00m:\n\u001b[1;32m   6642\u001b[0m     \u001b[38;5;66;03m# else, only a single dtype is given\u001b[39;00m\n\u001b[0;32m-> 6643\u001b[0m     new_data \u001b[38;5;241m=\u001b[39m \u001b[38;5;28;43mself\u001b[39;49m\u001b[38;5;241;43m.\u001b[39;49m\u001b[43m_mgr\u001b[49m\u001b[38;5;241;43m.\u001b[39;49m\u001b[43mastype\u001b[49m\u001b[43m(\u001b[49m\u001b[43mdtype\u001b[49m\u001b[38;5;241;43m=\u001b[39;49m\u001b[43mdtype\u001b[49m\u001b[43m,\u001b[49m\u001b[43m \u001b[49m\u001b[43mcopy\u001b[49m\u001b[38;5;241;43m=\u001b[39;49m\u001b[43mcopy\u001b[49m\u001b[43m,\u001b[49m\u001b[43m \u001b[49m\u001b[43merrors\u001b[49m\u001b[38;5;241;43m=\u001b[39;49m\u001b[43merrors\u001b[49m\u001b[43m)\u001b[49m\n\u001b[1;32m   6644\u001b[0m     res \u001b[38;5;241m=\u001b[39m \u001b[38;5;28mself\u001b[39m\u001b[38;5;241m.\u001b[39m_constructor_from_mgr(new_data, axes\u001b[38;5;241m=\u001b[39mnew_data\u001b[38;5;241m.\u001b[39maxes)\n\u001b[1;32m   6645\u001b[0m     \u001b[38;5;28;01mreturn\u001b[39;00m res\u001b[38;5;241m.\u001b[39m__finalize__(\u001b[38;5;28mself\u001b[39m, method\u001b[38;5;241m=\u001b[39m\u001b[38;5;124m\"\u001b[39m\u001b[38;5;124mastype\u001b[39m\u001b[38;5;124m\"\u001b[39m)\n",
      "File \u001b[0;32m~/Library/Python/3.9/lib/python/site-packages/pandas/core/internals/managers.py:430\u001b[0m, in \u001b[0;36mBaseBlockManager.astype\u001b[0;34m(self, dtype, copy, errors)\u001b[0m\n\u001b[1;32m    427\u001b[0m \u001b[38;5;28;01melif\u001b[39;00m using_copy_on_write():\n\u001b[1;32m    428\u001b[0m     copy \u001b[38;5;241m=\u001b[39m \u001b[38;5;28;01mFalse\u001b[39;00m\n\u001b[0;32m--> 430\u001b[0m \u001b[38;5;28;01mreturn\u001b[39;00m \u001b[38;5;28;43mself\u001b[39;49m\u001b[38;5;241;43m.\u001b[39;49m\u001b[43mapply\u001b[49m\u001b[43m(\u001b[49m\n\u001b[1;32m    431\u001b[0m \u001b[43m    \u001b[49m\u001b[38;5;124;43m\"\u001b[39;49m\u001b[38;5;124;43mastype\u001b[39;49m\u001b[38;5;124;43m\"\u001b[39;49m\u001b[43m,\u001b[49m\n\u001b[1;32m    432\u001b[0m \u001b[43m    \u001b[49m\u001b[43mdtype\u001b[49m\u001b[38;5;241;43m=\u001b[39;49m\u001b[43mdtype\u001b[49m\u001b[43m,\u001b[49m\n\u001b[1;32m    433\u001b[0m \u001b[43m    \u001b[49m\u001b[43mcopy\u001b[49m\u001b[38;5;241;43m=\u001b[39;49m\u001b[43mcopy\u001b[49m\u001b[43m,\u001b[49m\n\u001b[1;32m    434\u001b[0m \u001b[43m    \u001b[49m\u001b[43merrors\u001b[49m\u001b[38;5;241;43m=\u001b[39;49m\u001b[43merrors\u001b[49m\u001b[43m,\u001b[49m\n\u001b[1;32m    435\u001b[0m \u001b[43m    \u001b[49m\u001b[43musing_cow\u001b[49m\u001b[38;5;241;43m=\u001b[39;49m\u001b[43musing_copy_on_write\u001b[49m\u001b[43m(\u001b[49m\u001b[43m)\u001b[49m\u001b[43m,\u001b[49m\n\u001b[1;32m    436\u001b[0m \u001b[43m\u001b[49m\u001b[43m)\u001b[49m\n",
      "File \u001b[0;32m~/Library/Python/3.9/lib/python/site-packages/pandas/core/internals/managers.py:363\u001b[0m, in \u001b[0;36mBaseBlockManager.apply\u001b[0;34m(self, f, align_keys, **kwargs)\u001b[0m\n\u001b[1;32m    361\u001b[0m         applied \u001b[38;5;241m=\u001b[39m b\u001b[38;5;241m.\u001b[39mapply(f, \u001b[38;5;241m*\u001b[39m\u001b[38;5;241m*\u001b[39mkwargs)\n\u001b[1;32m    362\u001b[0m     \u001b[38;5;28;01melse\u001b[39;00m:\n\u001b[0;32m--> 363\u001b[0m         applied \u001b[38;5;241m=\u001b[39m \u001b[38;5;28;43mgetattr\u001b[39;49m\u001b[43m(\u001b[49m\u001b[43mb\u001b[49m\u001b[43m,\u001b[49m\u001b[43m \u001b[49m\u001b[43mf\u001b[49m\u001b[43m)\u001b[49m\u001b[43m(\u001b[49m\u001b[38;5;241;43m*\u001b[39;49m\u001b[38;5;241;43m*\u001b[39;49m\u001b[43mkwargs\u001b[49m\u001b[43m)\u001b[49m\n\u001b[1;32m    364\u001b[0m     result_blocks \u001b[38;5;241m=\u001b[39m extend_blocks(applied, result_blocks)\n\u001b[1;32m    366\u001b[0m out \u001b[38;5;241m=\u001b[39m \u001b[38;5;28mtype\u001b[39m(\u001b[38;5;28mself\u001b[39m)\u001b[38;5;241m.\u001b[39mfrom_blocks(result_blocks, \u001b[38;5;28mself\u001b[39m\u001b[38;5;241m.\u001b[39maxes)\n",
      "File \u001b[0;32m~/Library/Python/3.9/lib/python/site-packages/pandas/core/internals/blocks.py:758\u001b[0m, in \u001b[0;36mBlock.astype\u001b[0;34m(self, dtype, copy, errors, using_cow, squeeze)\u001b[0m\n\u001b[1;32m    755\u001b[0m         \u001b[38;5;28;01mraise\u001b[39;00m \u001b[38;5;167;01mValueError\u001b[39;00m(\u001b[38;5;124m\"\u001b[39m\u001b[38;5;124mCan not squeeze with more than one column.\u001b[39m\u001b[38;5;124m\"\u001b[39m)\n\u001b[1;32m    756\u001b[0m     values \u001b[38;5;241m=\u001b[39m values[\u001b[38;5;241m0\u001b[39m, :]  \u001b[38;5;66;03m# type: ignore[call-overload]\u001b[39;00m\n\u001b[0;32m--> 758\u001b[0m new_values \u001b[38;5;241m=\u001b[39m \u001b[43mastype_array_safe\u001b[49m\u001b[43m(\u001b[49m\u001b[43mvalues\u001b[49m\u001b[43m,\u001b[49m\u001b[43m \u001b[49m\u001b[43mdtype\u001b[49m\u001b[43m,\u001b[49m\u001b[43m \u001b[49m\u001b[43mcopy\u001b[49m\u001b[38;5;241;43m=\u001b[39;49m\u001b[43mcopy\u001b[49m\u001b[43m,\u001b[49m\u001b[43m \u001b[49m\u001b[43merrors\u001b[49m\u001b[38;5;241;43m=\u001b[39;49m\u001b[43merrors\u001b[49m\u001b[43m)\u001b[49m\n\u001b[1;32m    760\u001b[0m new_values \u001b[38;5;241m=\u001b[39m maybe_coerce_values(new_values)\n\u001b[1;32m    762\u001b[0m refs \u001b[38;5;241m=\u001b[39m \u001b[38;5;28;01mNone\u001b[39;00m\n",
      "File \u001b[0;32m~/Library/Python/3.9/lib/python/site-packages/pandas/core/dtypes/astype.py:237\u001b[0m, in \u001b[0;36mastype_array_safe\u001b[0;34m(values, dtype, copy, errors)\u001b[0m\n\u001b[1;32m    234\u001b[0m     dtype \u001b[38;5;241m=\u001b[39m dtype\u001b[38;5;241m.\u001b[39mnumpy_dtype\n\u001b[1;32m    236\u001b[0m \u001b[38;5;28;01mtry\u001b[39;00m:\n\u001b[0;32m--> 237\u001b[0m     new_values \u001b[38;5;241m=\u001b[39m \u001b[43mastype_array\u001b[49m\u001b[43m(\u001b[49m\u001b[43mvalues\u001b[49m\u001b[43m,\u001b[49m\u001b[43m \u001b[49m\u001b[43mdtype\u001b[49m\u001b[43m,\u001b[49m\u001b[43m \u001b[49m\u001b[43mcopy\u001b[49m\u001b[38;5;241;43m=\u001b[39;49m\u001b[43mcopy\u001b[49m\u001b[43m)\u001b[49m\n\u001b[1;32m    238\u001b[0m \u001b[38;5;28;01mexcept\u001b[39;00m (\u001b[38;5;167;01mValueError\u001b[39;00m, \u001b[38;5;167;01mTypeError\u001b[39;00m):\n\u001b[1;32m    239\u001b[0m     \u001b[38;5;66;03m# e.g. _astype_nansafe can fail on object-dtype of strings\u001b[39;00m\n\u001b[1;32m    240\u001b[0m     \u001b[38;5;66;03m#  trying to convert to float\u001b[39;00m\n\u001b[1;32m    241\u001b[0m     \u001b[38;5;28;01mif\u001b[39;00m errors \u001b[38;5;241m==\u001b[39m \u001b[38;5;124m\"\u001b[39m\u001b[38;5;124mignore\u001b[39m\u001b[38;5;124m\"\u001b[39m:\n",
      "File \u001b[0;32m~/Library/Python/3.9/lib/python/site-packages/pandas/core/dtypes/astype.py:182\u001b[0m, in \u001b[0;36mastype_array\u001b[0;34m(values, dtype, copy)\u001b[0m\n\u001b[1;32m    179\u001b[0m     values \u001b[38;5;241m=\u001b[39m values\u001b[38;5;241m.\u001b[39mastype(dtype, copy\u001b[38;5;241m=\u001b[39mcopy)\n\u001b[1;32m    181\u001b[0m \u001b[38;5;28;01melse\u001b[39;00m:\n\u001b[0;32m--> 182\u001b[0m     values \u001b[38;5;241m=\u001b[39m \u001b[43m_astype_nansafe\u001b[49m\u001b[43m(\u001b[49m\u001b[43mvalues\u001b[49m\u001b[43m,\u001b[49m\u001b[43m \u001b[49m\u001b[43mdtype\u001b[49m\u001b[43m,\u001b[49m\u001b[43m \u001b[49m\u001b[43mcopy\u001b[49m\u001b[38;5;241;43m=\u001b[39;49m\u001b[43mcopy\u001b[49m\u001b[43m)\u001b[49m\n\u001b[1;32m    184\u001b[0m \u001b[38;5;66;03m# in pandas we don't store numpy str dtypes, so convert to object\u001b[39;00m\n\u001b[1;32m    185\u001b[0m \u001b[38;5;28;01mif\u001b[39;00m \u001b[38;5;28misinstance\u001b[39m(dtype, np\u001b[38;5;241m.\u001b[39mdtype) \u001b[38;5;129;01mand\u001b[39;00m \u001b[38;5;28missubclass\u001b[39m(values\u001b[38;5;241m.\u001b[39mdtype\u001b[38;5;241m.\u001b[39mtype, \u001b[38;5;28mstr\u001b[39m):\n",
      "File \u001b[0;32m~/Library/Python/3.9/lib/python/site-packages/pandas/core/dtypes/astype.py:133\u001b[0m, in \u001b[0;36m_astype_nansafe\u001b[0;34m(arr, dtype, copy, skipna)\u001b[0m\n\u001b[1;32m    129\u001b[0m     \u001b[38;5;28;01mraise\u001b[39;00m \u001b[38;5;167;01mValueError\u001b[39;00m(msg)\n\u001b[1;32m    131\u001b[0m \u001b[38;5;28;01mif\u001b[39;00m copy \u001b[38;5;129;01mor\u001b[39;00m arr\u001b[38;5;241m.\u001b[39mdtype \u001b[38;5;241m==\u001b[39m \u001b[38;5;28mobject\u001b[39m \u001b[38;5;129;01mor\u001b[39;00m dtype \u001b[38;5;241m==\u001b[39m \u001b[38;5;28mobject\u001b[39m:\n\u001b[1;32m    132\u001b[0m     \u001b[38;5;66;03m# Explicit copy, or required since NumPy can't view from / to object.\u001b[39;00m\n\u001b[0;32m--> 133\u001b[0m     \u001b[38;5;28;01mreturn\u001b[39;00m \u001b[43marr\u001b[49m\u001b[38;5;241;43m.\u001b[39;49m\u001b[43mastype\u001b[49m\u001b[43m(\u001b[49m\u001b[43mdtype\u001b[49m\u001b[43m,\u001b[49m\u001b[43m \u001b[49m\u001b[43mcopy\u001b[49m\u001b[38;5;241;43m=\u001b[39;49m\u001b[38;5;28;43;01mTrue\u001b[39;49;00m\u001b[43m)\u001b[49m\n\u001b[1;32m    135\u001b[0m \u001b[38;5;28;01mreturn\u001b[39;00m arr\u001b[38;5;241m.\u001b[39mastype(dtype, copy\u001b[38;5;241m=\u001b[39mcopy)\n",
      "\u001b[0;31mValueError\u001b[0m: invalid literal for int() with base 10: 'a'"
     ]
    }
   ],
   "source": [
    "string_series.astype(\"int\") # error"
   ]
  },
  {
   "cell_type": "markdown",
   "id": "7b7a8bcd-06af-4138-a900-cfb89ace4adb",
   "metadata": {},
   "source": [
    "### Exercise 1"
   ]
  },
  {
   "cell_type": "code",
   "execution_count": 401,
   "id": "92153e73-ba17-4bd7-b31f-e839db7c1bea",
   "metadata": {},
   "outputs": [
    {
     "data": {
      "text/html": [
       "<div>\n",
       "<style scoped>\n",
       "    .dataframe tbody tr th:only-of-type {\n",
       "        vertical-align: middle;\n",
       "    }\n",
       "\n",
       "    .dataframe tbody tr th {\n",
       "        vertical-align: top;\n",
       "    }\n",
       "\n",
       "    .dataframe thead th {\n",
       "        text-align: right;\n",
       "    }\n",
       "</style>\n",
       "<table border=\"1\" class=\"dataframe\">\n",
       "  <thead>\n",
       "    <tr style=\"text-align: right;\">\n",
       "      <th></th>\n",
       "      <th>date</th>\n",
       "      <th>dcoilwtico</th>\n",
       "    </tr>\n",
       "  </thead>\n",
       "  <tbody>\n",
       "    <tr>\n",
       "      <th>1</th>\n",
       "      <td>2013-01-02</td>\n",
       "      <td>93.14</td>\n",
       "    </tr>\n",
       "    <tr>\n",
       "      <th>2</th>\n",
       "      <td>2013-01-03</td>\n",
       "      <td>92.97</td>\n",
       "    </tr>\n",
       "    <tr>\n",
       "      <th>3</th>\n",
       "      <td>2013-01-04</td>\n",
       "      <td>93.12</td>\n",
       "    </tr>\n",
       "    <tr>\n",
       "      <th>4</th>\n",
       "      <td>2013-01-07</td>\n",
       "      <td>93.20</td>\n",
       "    </tr>\n",
       "    <tr>\n",
       "      <th>5</th>\n",
       "      <td>2013-01-08</td>\n",
       "      <td>93.21</td>\n",
       "    </tr>\n",
       "  </tbody>\n",
       "</table>\n",
       "</div>"
      ],
      "text/plain": [
       "         date  dcoilwtico\n",
       "1  2013-01-02       93.14\n",
       "2  2013-01-03       92.97\n",
       "3  2013-01-04       93.12\n",
       "4  2013-01-07       93.20\n",
       "5  2013-01-08       93.21"
      ]
     },
     "execution_count": 401,
     "metadata": {},
     "output_type": "execute_result"
    }
   ],
   "source": [
    "# create a Dataframe from the oil file, drop missing values\n",
    "oil = pd.read_csv(\"./retail/oil.csv\").dropna()\n",
    "\n",
    "oil.head()"
   ]
  },
  {
   "cell_type": "code",
   "execution_count": 48,
   "id": "96714ec1-8042-4d0d-a303-49cdb265340d",
   "metadata": {},
   "outputs": [
    {
     "data": {
      "text/plain": [
       "array([52.22, 51.44, 51.98, 52.01, 52.82, 54.01, 53.8 , 53.75, 52.36,\n",
       "       53.26, 53.77, 53.98, 51.95, 50.82, 52.19, 53.01, 52.36, 52.45,\n",
       "       51.12, 51.39, 52.33, 52.77, 52.38, 52.14, 53.24, 53.18, 52.63,\n",
       "       52.75, 53.9 , 53.55, 53.81, 53.01, 52.19, 52.37, 52.99, 53.84,\n",
       "       52.96, 53.21, 53.11, 53.41, 53.41, 54.02, 53.61, 54.48, 53.99,\n",
       "       54.04, 54.  , 53.82, 52.63, 53.33, 53.19, 52.68, 49.83, 48.75,\n",
       "       48.05, 47.95, 47.24, 48.34, 48.3 , 48.34, 47.79, 47.02, 47.29,\n",
       "       47.  , 47.3 , 47.02, 48.36, 49.47, 50.3 , 50.54, 50.25, 50.99,\n",
       "       51.14, 51.69, 52.25, 53.06, 53.38, 53.12, 53.19, 52.62, 52.46,\n",
       "       50.49, 50.26, 49.64, 48.9 , 49.22, 49.22, 48.96, 49.31, 48.83,\n",
       "       47.65, 47.79, 45.55, 46.23, 46.46, 45.84, 47.28, 47.81, 47.83,\n",
       "       48.86])"
      ]
     },
     "execution_count": 48,
     "metadata": {},
     "output_type": "execute_result"
    }
   ],
   "source": [
    "# grab 100 rows from oil prices \n",
    "oil_array = np.array(oil[\"dcoilwtico\"].iloc[1000:1100])\n",
    "oil_array"
   ]
  },
  {
   "cell_type": "code",
   "execution_count": 402,
   "id": "a72abcea-43db-4b7f-af0a-9eab6c9f1d11",
   "metadata": {},
   "outputs": [
    {
     "data": {
      "text/plain": [
       "0     52.22\n",
       "1     51.44\n",
       "2     51.98\n",
       "3     52.01\n",
       "4     52.82\n",
       "      ...  \n",
       "95    45.84\n",
       "96    47.28\n",
       "97    47.81\n",
       "98    47.83\n",
       "99    48.86\n",
       "Name: oil prices, Length: 100, dtype: float64"
      ]
     },
     "execution_count": 402,
     "metadata": {},
     "output_type": "execute_result"
    }
   ],
   "source": [
    "# convert oil_array into panda oil_series\n",
    "oil_series = pd.Series(oil_array, name=\"oil prices\")\n",
    "oil_series"
   ]
  },
  {
   "cell_type": "code",
   "execution_count": 52,
   "id": "9f960b68-ee35-4ed8-b05f-b3cd211b4122",
   "metadata": {},
   "outputs": [
    {
     "data": {
      "text/plain": [
       "array([52.22, 51.44, 51.98, 52.01, 52.82, 54.01, 53.8 , 53.75, 52.36,\n",
       "       53.26, 53.77, 53.98, 51.95, 50.82, 52.19, 53.01, 52.36, 52.45,\n",
       "       51.12, 51.39, 52.33, 52.77, 52.38, 52.14, 53.24, 53.18, 52.63,\n",
       "       52.75, 53.9 , 53.55, 53.81, 53.01, 52.19, 52.37, 52.99, 53.84,\n",
       "       52.96, 53.21, 53.11, 53.41, 53.41, 54.02, 53.61, 54.48, 53.99,\n",
       "       54.04, 54.  , 53.82, 52.63, 53.33, 53.19, 52.68, 49.83, 48.75,\n",
       "       48.05, 47.95, 47.24, 48.34, 48.3 , 48.34, 47.79, 47.02, 47.29,\n",
       "       47.  , 47.3 , 47.02, 48.36, 49.47, 50.3 , 50.54, 50.25, 50.99,\n",
       "       51.14, 51.69, 52.25, 53.06, 53.38, 53.12, 53.19, 52.62, 52.46,\n",
       "       50.49, 50.26, 49.64, 48.9 , 49.22, 49.22, 48.96, 49.31, 48.83,\n",
       "       47.65, 47.79, 45.55, 46.23, 46.46, 45.84, 47.28, 47.81, 47.83,\n",
       "       48.86])"
      ]
     },
     "execution_count": 52,
     "metadata": {},
     "output_type": "execute_result"
    }
   ],
   "source": [
    "oil_series.values"
   ]
  },
  {
   "cell_type": "code",
   "execution_count": 53,
   "id": "5f41bac3-1518-41d6-bd60-09d2df836fd3",
   "metadata": {},
   "outputs": [
    {
     "data": {
      "text/plain": [
       "'oil prices'"
      ]
     },
     "execution_count": 53,
     "metadata": {},
     "output_type": "execute_result"
    }
   ],
   "source": [
    "oil_series.name"
   ]
  },
  {
   "cell_type": "code",
   "execution_count": 54,
   "id": "d69f0728-7375-4b31-9272-93f3b4e81ecd",
   "metadata": {},
   "outputs": [
    {
     "data": {
      "text/plain": [
       "RangeIndex(start=0, stop=100, step=1)"
      ]
     },
     "execution_count": 54,
     "metadata": {},
     "output_type": "execute_result"
    }
   ],
   "source": [
    "oil_series.index"
   ]
  },
  {
   "cell_type": "code",
   "execution_count": 55,
   "id": "73e0a2d7-fa82-42f3-8139-699c82389989",
   "metadata": {},
   "outputs": [
    {
     "data": {
      "text/plain": [
       "dtype('float64')"
      ]
     },
     "execution_count": 55,
     "metadata": {},
     "output_type": "execute_result"
    }
   ],
   "source": [
    "oil_series.dtype"
   ]
  },
  {
   "cell_type": "code",
   "execution_count": 58,
   "id": "686cc86f-9ca4-4222-925f-db15d3a6fab6",
   "metadata": {},
   "outputs": [
    {
     "data": {
      "text/plain": [
       "100"
      ]
     },
     "execution_count": 58,
     "metadata": {},
     "output_type": "execute_result"
    }
   ],
   "source": [
    "oil_series.size"
   ]
  },
  {
   "cell_type": "code",
   "execution_count": 56,
   "id": "08b55e72-c1a5-44be-9209-263949ad0e5d",
   "metadata": {},
   "outputs": [
    {
     "data": {
      "text/plain": [
       "np.float64(51.128299999999996)"
      ]
     },
     "execution_count": 56,
     "metadata": {},
     "output_type": "execute_result"
    }
   ],
   "source": [
    "# take the mean of values array\n",
    "oil_series.values.mean()"
   ]
  },
  {
   "cell_type": "code",
   "execution_count": 59,
   "id": "27d08abe-99db-4c7b-8b83-99e1981dd2cb",
   "metadata": {},
   "outputs": [
    {
     "data": {
      "text/plain": [
       "np.float64(51.128299999999996)"
      ]
     },
     "execution_count": 59,
     "metadata": {},
     "output_type": "execute_result"
    }
   ],
   "source": [
    "oil_series.mean()"
   ]
  },
  {
   "cell_type": "code",
   "execution_count": 57,
   "id": "105328f4-7357-484e-b018-7c4b2f665203",
   "metadata": {},
   "outputs": [
    {
     "data": {
      "text/plain": [
       "np.float64(50.66)"
      ]
     },
     "execution_count": 57,
     "metadata": {},
     "output_type": "execute_result"
    }
   ],
   "source": [
    "#convert the series to integers and recalculate the mean\n",
    "oil_series.astype(\"int\").mean()"
   ]
  },
  {
   "cell_type": "markdown",
   "id": "378ddd6e-58d2-4794-baba-dcf0311f59db",
   "metadata": {},
   "source": [
    "### Index \n",
    "-- pandas allows custom index"
   ]
  },
  {
   "cell_type": "code",
   "execution_count": 61,
   "id": "b40b7574-03b3-4e97-ad88-1225df48fb7e",
   "metadata": {},
   "outputs": [
    {
     "data": {
      "text/plain": [
       "0      0\n",
       "1      5\n",
       "2    155\n",
       "3      0\n",
       "4    518\n",
       "Name: Sales, dtype: int64"
      ]
     },
     "execution_count": 61,
     "metadata": {},
     "output_type": "execute_result"
    }
   ],
   "source": [
    "sales = [0,5,155,0,518]\n",
    "sales_series = pd.Series(sales , name = \"Sales\")\n",
    "sales_series"
   ]
  },
  {
   "cell_type": "code",
   "execution_count": 62,
   "id": "32c1a7f8-bd91-4f8d-8604-f352f2824488",
   "metadata": {},
   "outputs": [
    {
     "data": {
      "text/plain": [
       "np.int64(155)"
      ]
     },
     "execution_count": 62,
     "metadata": {},
     "output_type": "execute_result"
    }
   ],
   "source": [
    "sales_series[2]"
   ]
  },
  {
   "cell_type": "code",
   "execution_count": 63,
   "id": "90439a86-861a-4bbe-b020-61ad1604aacd",
   "metadata": {},
   "outputs": [
    {
     "data": {
      "text/plain": [
       "2    155\n",
       "3      0\n",
       "Name: Sales, dtype: int64"
      ]
     },
     "execution_count": 63,
     "metadata": {},
     "output_type": "execute_result"
    }
   ],
   "source": [
    "sales_series[2:4]"
   ]
  },
  {
   "cell_type": "code",
   "execution_count": 64,
   "id": "b9c60d4a-564b-4e7a-9f83-16643b2b247e",
   "metadata": {},
   "outputs": [
    {
     "data": {
      "text/plain": [
       "coffe        0\n",
       "banana       5\n",
       "tea        155\n",
       "coconut      0\n",
       "sugar      518\n",
       "Name: Sales, dtype: int64"
      ]
     },
     "execution_count": 64,
     "metadata": {},
     "output_type": "execute_result"
    }
   ],
   "source": [
    "sales = [0,5,155,0,518]\n",
    "items = [\"coffe\",\"banana\",\"tea\",\"coconut\",\"sugar\"]\n",
    "sales_series = pd.Series(sales ,index=items, name = \"Sales\")\n",
    "sales_series"
   ]
  },
  {
   "cell_type": "code",
   "execution_count": 65,
   "id": "64dfa200-7183-437a-9b64-bf2ea3fa2950",
   "metadata": {},
   "outputs": [
    {
     "data": {
      "text/plain": [
       "np.int64(155)"
      ]
     },
     "execution_count": 65,
     "metadata": {},
     "output_type": "execute_result"
    }
   ],
   "source": [
    "sales_series[\"tea\"]"
   ]
  },
  {
   "cell_type": "code",
   "execution_count": 67,
   "id": "4a591e46-dade-40f9-bedb-3c03868d788a",
   "metadata": {},
   "outputs": [
    {
     "data": {
      "text/plain": [
       "banana       5\n",
       "tea        155\n",
       "coconut      0\n",
       "Name: Sales, dtype: int64"
      ]
     },
     "execution_count": 67,
     "metadata": {},
     "output_type": "execute_result"
    }
   ],
   "source": [
    "sales_series[\"banana\":\"coconut\"] # stop point is inclusive"
   ]
  },
  {
   "cell_type": "code",
   "execution_count": 68,
   "id": "560420e6-94ac-4762-b7dc-293a50642045",
   "metadata": {},
   "outputs": [
    {
     "data": {
      "text/plain": [
       "0    0\n",
       "1    1\n",
       "2    2\n",
       "3    3\n",
       "4    4\n",
       "dtype: int64"
      ]
     },
     "execution_count": 68,
     "metadata": {},
     "output_type": "execute_result"
    }
   ],
   "source": [
    "my_series = pd.Series(range(5))\n",
    "\n",
    "my_series"
   ]
  },
  {
   "cell_type": "code",
   "execution_count": 69,
   "id": "019c6615-e579-4a06-a0cf-5adf45279fe6",
   "metadata": {},
   "outputs": [
    {
     "data": {
      "text/plain": [
       "np.int64(3)"
      ]
     },
     "execution_count": 69,
     "metadata": {},
     "output_type": "execute_result"
    }
   ],
   "source": [
    "my_series[3]"
   ]
  },
  {
   "cell_type": "code",
   "execution_count": 70,
   "id": "7bb41f9c-a6d2-4ec1-8b46-f3e55e87baa2",
   "metadata": {},
   "outputs": [
    {
     "data": {
      "text/plain": [
       "1    1\n",
       "2    2\n",
       "dtype: int64"
      ]
     },
     "execution_count": 70,
     "metadata": {},
     "output_type": "execute_result"
    }
   ],
   "source": [
    "my_series[1:3]"
   ]
  },
  {
   "cell_type": "code",
   "execution_count": 72,
   "id": "314f01aa-9656-4818-a98a-421968d983d2",
   "metadata": {},
   "outputs": [
    {
     "data": {
      "text/plain": [
       "1    1\n",
       "3    3\n",
       "dtype: int64"
      ]
     },
     "execution_count": 72,
     "metadata": {},
     "output_type": "execute_result"
    }
   ],
   "source": [
    "my_series[1::2] # step 2"
   ]
  },
  {
   "cell_type": "code",
   "execution_count": 73,
   "id": "07a6bb21-097c-4f49-8e85-8fc3f0c32e18",
   "metadata": {},
   "outputs": [
    {
     "data": {
      "text/plain": [
       "Day 0    0\n",
       "Day 1    1\n",
       "Day 2    2\n",
       "Day 3    3\n",
       "Day 4    4\n",
       "dtype: int64"
      ]
     },
     "execution_count": 73,
     "metadata": {},
     "output_type": "execute_result"
    }
   ],
   "source": [
    "my_series = pd.Series(range(5), index = [\"Day 0\", \"Day 1\",\"Day 2\",\"Day 3\",\"Day 4\"])\n",
    "\n",
    "my_series"
   ]
  },
  {
   "cell_type": "code",
   "execution_count": 74,
   "id": "62f8e47c-4c92-4cb3-a263-631edde944fc",
   "metadata": {},
   "outputs": [
    {
     "data": {
      "text/plain": [
       "np.int64(2)"
      ]
     },
     "execution_count": 74,
     "metadata": {},
     "output_type": "execute_result"
    }
   ],
   "source": [
    "my_series[\"Day 2\"]"
   ]
  },
  {
   "cell_type": "code",
   "execution_count": 75,
   "id": "607b2d53-f63d-4c02-847e-1e4d27ecc742",
   "metadata": {},
   "outputs": [
    {
     "data": {
      "text/plain": [
       "Day 2    2\n",
       "Day 3    3\n",
       "Day 4    4\n",
       "dtype: int64"
      ]
     },
     "execution_count": 75,
     "metadata": {},
     "output_type": "execute_result"
    }
   ],
   "source": [
    "my_series[\"Day 2\":\"Day 4\"]"
   ]
  },
  {
   "cell_type": "code",
   "execution_count": 76,
   "id": "d325d8e5-13ce-4e01-aae2-420b0283b24a",
   "metadata": {},
   "outputs": [
    {
     "data": {
      "text/plain": [
       "Day 0    0\n",
       "Day 2    2\n",
       "Day 4    4\n",
       "dtype: int64"
      ]
     },
     "execution_count": 76,
     "metadata": {},
     "output_type": "execute_result"
    }
   ],
   "source": [
    "my_series[::2]"
   ]
  },
  {
   "cell_type": "markdown",
   "id": "8fb82d4d-cdff-4161-a4c6-73c6d5a28f3a",
   "metadata": {},
   "source": [
    "### iloc method\n",
    "- efficient then slicing\n",
    "- works on non integer index\n",
    "- df.iloc[row position, column position] -- row posiiton - 0 single row , nultiple row , range of row"
   ]
  },
  {
   "cell_type": "code",
   "execution_count": 77,
   "id": "e4846186-481f-4488-89c4-5540a80f025d",
   "metadata": {},
   "outputs": [
    {
     "data": {
      "text/plain": [
       "coffe        0\n",
       "banana       5\n",
       "tea        155\n",
       "coconut      0\n",
       "sugar      518\n",
       "Name: Sales, dtype: int64"
      ]
     },
     "execution_count": 77,
     "metadata": {},
     "output_type": "execute_result"
    }
   ],
   "source": [
    "sales_series"
   ]
  },
  {
   "cell_type": "code",
   "execution_count": 79,
   "id": "cf54d3f1-f1f1-4157-aa4a-bf61b5b65400",
   "metadata": {},
   "outputs": [
    {
     "data": {
      "text/plain": [
       "np.int64(155)"
      ]
     },
     "execution_count": 79,
     "metadata": {},
     "output_type": "execute_result"
    }
   ],
   "source": [
    "sales_series.iloc[2]"
   ]
  },
  {
   "cell_type": "code",
   "execution_count": 81,
   "id": "048af705-024d-4574-a8de-7c75fa81f14b",
   "metadata": {},
   "outputs": [
    {
     "data": {
      "text/plain": [
       "tea        155\n",
       "coconut      0\n",
       "Name: Sales, dtype: int64"
      ]
     },
     "execution_count": 81,
     "metadata": {},
     "output_type": "execute_result"
    }
   ],
   "source": [
    "sales_series.iloc[2:4] # exclude stop point"
   ]
  },
  {
   "cell_type": "code",
   "execution_count": 82,
   "id": "7db38583-041d-48a1-8862-f835ac99db31",
   "metadata": {},
   "outputs": [
    {
     "data": {
      "text/plain": [
       "Day 0    0\n",
       "Day 1    1\n",
       "Day 2    2\n",
       "Day 3    3\n",
       "Day 4    4\n",
       "dtype: int64"
      ]
     },
     "execution_count": 82,
     "metadata": {},
     "output_type": "execute_result"
    }
   ],
   "source": [
    "my_series"
   ]
  },
  {
   "cell_type": "code",
   "execution_count": 83,
   "id": "5d36df6b-1c74-4cd8-b1db-07001543b722",
   "metadata": {},
   "outputs": [
    {
     "data": {
      "text/plain": [
       "np.int64(2)"
      ]
     },
     "execution_count": 83,
     "metadata": {},
     "output_type": "execute_result"
    }
   ],
   "source": [
    "my_series.iloc[2]"
   ]
  },
  {
   "cell_type": "code",
   "execution_count": 86,
   "id": "c56214eb-486f-4e15-bea3-1240f2f72654",
   "metadata": {},
   "outputs": [
    {
     "data": {
      "text/plain": [
       "Day 1    1\n",
       "Day 3    3\n",
       "Day 4    4\n",
       "dtype: int64"
      ]
     },
     "execution_count": 86,
     "metadata": {},
     "output_type": "execute_result"
    }
   ],
   "source": [
    "my_series.iloc[[1,3,4]]"
   ]
  },
  {
   "cell_type": "code",
   "execution_count": 89,
   "id": "e8342c7c-b66b-4062-8909-7cc84be67aef",
   "metadata": {},
   "outputs": [
    {
     "data": {
      "text/plain": [
       "Day 1    1\n",
       "Day 2    2\n",
       "Day 3    3\n",
       "Day 4    4\n",
       "dtype: int64"
      ]
     },
     "execution_count": 89,
     "metadata": {},
     "output_type": "execute_result"
    }
   ],
   "source": [
    "my_series.iloc[1:]"
   ]
  },
  {
   "cell_type": "markdown",
   "id": "4a3e9371-4c0f-4248-9f71-b34d711b0902",
   "metadata": {},
   "source": [
    "### loc method\n",
    "- df.loc[row label , column label] -- single roe , multiple rows , range of rows"
   ]
  },
  {
   "cell_type": "code",
   "execution_count": 90,
   "id": "88cd1be2-8cb7-461f-8153-af451b22f243",
   "metadata": {},
   "outputs": [
    {
     "data": {
      "text/plain": [
       "coffe        0\n",
       "banana       5\n",
       "tea        155\n",
       "coconut      0\n",
       "sugar      518\n",
       "Name: Sales, dtype: int64"
      ]
     },
     "execution_count": 90,
     "metadata": {},
     "output_type": "execute_result"
    }
   ],
   "source": [
    "sales_series"
   ]
  },
  {
   "cell_type": "code",
   "execution_count": 91,
   "id": "2e01364f-f6a8-45f8-9aab-d166e95af756",
   "metadata": {},
   "outputs": [
    {
     "data": {
      "text/plain": [
       "np.int64(155)"
      ]
     },
     "execution_count": 91,
     "metadata": {},
     "output_type": "execute_result"
    }
   ],
   "source": [
    "sales_series.loc[\"tea\"]"
   ]
  },
  {
   "cell_type": "code",
   "execution_count": 92,
   "id": "4243a0f5-f1e1-419d-91d9-91d5e9643f43",
   "metadata": {},
   "outputs": [
    {
     "data": {
      "text/plain": [
       "banana       5\n",
       "tea        155\n",
       "coconut      0\n",
       "Name: Sales, dtype: int64"
      ]
     },
     "execution_count": 92,
     "metadata": {},
     "output_type": "execute_result"
    }
   ],
   "source": [
    "sales_series.loc[\"banana\":\"coconut\"]"
   ]
  },
  {
   "cell_type": "code",
   "execution_count": 93,
   "id": "e994fad7-f963-4942-8be9-74852cd2589b",
   "metadata": {},
   "outputs": [
    {
     "data": {
      "text/plain": [
       "Day 0    0\n",
       "Day 1    1\n",
       "Day 2    2\n",
       "Day 3    3\n",
       "Day 4    4\n",
       "dtype: int64"
      ]
     },
     "execution_count": 93,
     "metadata": {},
     "output_type": "execute_result"
    }
   ],
   "source": [
    "my_series"
   ]
  },
  {
   "cell_type": "code",
   "execution_count": 95,
   "id": "12074351-2f0d-46a3-8623-2d88d11c876b",
   "metadata": {},
   "outputs": [
    {
     "data": {
      "text/plain": [
       "np.int64(2)"
      ]
     },
     "execution_count": 95,
     "metadata": {},
     "output_type": "execute_result"
    }
   ],
   "source": [
    "my_series.loc[\"Day 2\"]"
   ]
  },
  {
   "cell_type": "code",
   "execution_count": 96,
   "id": "853437c5-1438-4c6b-9bc1-751bae053fd0",
   "metadata": {},
   "outputs": [
    {
     "data": {
      "text/plain": [
       "Day 1    1\n",
       "Day 2    2\n",
       "Day 3    3\n",
       "dtype: int64"
      ]
     },
     "execution_count": 96,
     "metadata": {},
     "output_type": "execute_result"
    }
   ],
   "source": [
    "my_series[\"Day 1\":\"Day 3\"]"
   ]
  },
  {
   "cell_type": "code",
   "execution_count": 97,
   "id": "eb3c11cc-51db-49f4-9447-af4875993723",
   "metadata": {},
   "outputs": [],
   "source": [
    "my_series.index = [0,2,3,100,5]"
   ]
  },
  {
   "cell_type": "code",
   "execution_count": 98,
   "id": "323a8cbc-3470-481d-b675-df71e1d80b7a",
   "metadata": {},
   "outputs": [
    {
     "data": {
      "text/plain": [
       "0      0\n",
       "2      1\n",
       "3      2\n",
       "100    3\n",
       "5      4\n",
       "dtype: int64"
      ]
     },
     "execution_count": 98,
     "metadata": {},
     "output_type": "execute_result"
    }
   ],
   "source": [
    "my_series"
   ]
  },
  {
   "cell_type": "code",
   "execution_count": 105,
   "id": "c5fbd02f-041c-4b91-b3d1-7f939abdde35",
   "metadata": {},
   "outputs": [
    {
     "data": {
      "text/plain": [
       "0      0\n",
       "2      1\n",
       "100    3\n",
       "5      4\n",
       "dtype: int64"
      ]
     },
     "execution_count": 105,
     "metadata": {},
     "output_type": "execute_result"
    }
   ],
   "source": [
    "my_series[ my_series != 2]"
   ]
  },
  {
   "cell_type": "code",
   "execution_count": 99,
   "id": "941fc075-25eb-4d63-8ffa-03de716113ca",
   "metadata": {},
   "outputs": [
    {
     "data": {
      "text/plain": [
       "0    0\n",
       "2    1\n",
       "3    2\n",
       "dtype: int64"
      ]
     },
     "execution_count": 99,
     "metadata": {},
     "output_type": "execute_result"
    }
   ],
   "source": [
    "my_series.loc[0:3]"
   ]
  },
  {
   "cell_type": "code",
   "execution_count": 102,
   "id": "fd7201ee-13a5-4dc4-b186-48cf9827f792",
   "metadata": {},
   "outputs": [
    {
     "data": {
      "text/plain": [
       "0      0\n",
       "2      1\n",
       "3      2\n",
       "100    3\n",
       "5      4\n",
       "dtype: int64"
      ]
     },
     "execution_count": 102,
     "metadata": {},
     "output_type": "execute_result"
    }
   ],
   "source": [
    "my_series.loc[0:5] # numbers doesnt mean much in loc "
   ]
  },
  {
   "cell_type": "code",
   "execution_count": 104,
   "id": "8d9edcdc-a719-40a2-8b4c-d1a954a41920",
   "metadata": {},
   "outputs": [
    {
     "data": {
      "text/plain": [
       "0    0\n",
       "1    1\n",
       "2    2\n",
       "3    3\n",
       "dtype: int64"
      ]
     },
     "execution_count": 104,
     "metadata": {},
     "output_type": "execute_result"
    }
   ],
   "source": [
    "my_series.reset_index(drop=True).loc[:3]"
   ]
  },
  {
   "cell_type": "markdown",
   "id": "26d3c416-f790-4a87-9309-077af4ddbe12",
   "metadata": {},
   "source": [
    "### duplicate index value\n",
    "-- loc returns all duplicates"
   ]
  },
  {
   "cell_type": "code",
   "execution_count": 108,
   "id": "91ef905d-046e-41e8-b8c7-55a35cdd5eb6",
   "metadata": {},
   "outputs": [
    {
     "data": {
      "text/plain": [
       "coffee       0\n",
       "coffee       5\n",
       "tea        155\n",
       "coconut      0\n",
       "sugar      518\n",
       "Name: Sales, dtype: int64"
      ]
     },
     "execution_count": 108,
     "metadata": {},
     "output_type": "execute_result"
    }
   ],
   "source": [
    "sales = [0,5,155,0,518]\n",
    "items = [\"coffee\",\"coffee\",\"tea\",\"coconut\",\"sugar\"]\n",
    "sales_series = pd.Series(sales ,index=items, name = \"Sales\")\n",
    "sales_series"
   ]
  },
  {
   "cell_type": "code",
   "execution_count": 109,
   "id": "1a62351c-5dbb-43d5-b1b2-fb4c24862e85",
   "metadata": {},
   "outputs": [
    {
     "data": {
      "text/plain": [
       "coffee    0\n",
       "coffee    5\n",
       "Name: Sales, dtype: int64"
      ]
     },
     "execution_count": 109,
     "metadata": {},
     "output_type": "execute_result"
    }
   ],
   "source": [
    "sales_series.loc[\"coffee\"] # returns duplicate values"
   ]
  },
  {
   "cell_type": "code",
   "execution_count": 110,
   "id": "1bb2da73-b16c-415b-9e70-e27958bddecd",
   "metadata": {},
   "outputs": [
    {
     "data": {
      "text/html": [
       "<div>\n",
       "<style scoped>\n",
       "    .dataframe tbody tr th:only-of-type {\n",
       "        vertical-align: middle;\n",
       "    }\n",
       "\n",
       "    .dataframe tbody tr th {\n",
       "        vertical-align: top;\n",
       "    }\n",
       "\n",
       "    .dataframe thead th {\n",
       "        text-align: right;\n",
       "    }\n",
       "</style>\n",
       "<table border=\"1\" class=\"dataframe\">\n",
       "  <thead>\n",
       "    <tr style=\"text-align: right;\">\n",
       "      <th></th>\n",
       "      <th>index</th>\n",
       "      <th>Sales</th>\n",
       "    </tr>\n",
       "  </thead>\n",
       "  <tbody>\n",
       "    <tr>\n",
       "      <th>0</th>\n",
       "      <td>coffee</td>\n",
       "      <td>0</td>\n",
       "    </tr>\n",
       "    <tr>\n",
       "      <th>1</th>\n",
       "      <td>coffee</td>\n",
       "      <td>5</td>\n",
       "    </tr>\n",
       "    <tr>\n",
       "      <th>2</th>\n",
       "      <td>tea</td>\n",
       "      <td>155</td>\n",
       "    </tr>\n",
       "    <tr>\n",
       "      <th>3</th>\n",
       "      <td>coconut</td>\n",
       "      <td>0</td>\n",
       "    </tr>\n",
       "    <tr>\n",
       "      <th>4</th>\n",
       "      <td>sugar</td>\n",
       "      <td>518</td>\n",
       "    </tr>\n",
       "  </tbody>\n",
       "</table>\n",
       "</div>"
      ],
      "text/plain": [
       "     index  Sales\n",
       "0   coffee      0\n",
       "1   coffee      5\n",
       "2      tea    155\n",
       "3  coconut      0\n",
       "4    sugar    518"
      ]
     },
     "execution_count": 110,
     "metadata": {},
     "output_type": "execute_result"
    }
   ],
   "source": [
    "sales_series.reset_index()"
   ]
  },
  {
   "cell_type": "code",
   "execution_count": 111,
   "id": "8f8a0a8d-ead0-464f-b3e4-17997738193f",
   "metadata": {},
   "outputs": [
    {
     "data": {
      "text/plain": [
       "0      0\n",
       "1      5\n",
       "2    155\n",
       "3      0\n",
       "4    518\n",
       "Name: Sales, dtype: int64"
      ]
     },
     "execution_count": 111,
     "metadata": {},
     "output_type": "execute_result"
    }
   ],
   "source": [
    "sales_series.reset_index(drop=True)"
   ]
  },
  {
   "cell_type": "code",
   "execution_count": 114,
   "id": "e11340ba-eb26-41a5-a03e-be04911785c7",
   "metadata": {},
   "outputs": [
    {
     "data": {
      "text/plain": [
       "Day 0    0\n",
       "Day 0    1\n",
       "Day 0    2\n",
       "Day 2    3\n",
       "Day 2    4\n",
       "dtype: int64"
      ]
     },
     "execution_count": 114,
     "metadata": {},
     "output_type": "execute_result"
    }
   ],
   "source": [
    "my_series = pd.Series(range(5), index = [\"Day 0\", \"Day 0\",\"Day 0\",\"Day 2\",\"Day 2\"])\n",
    "\n",
    "my_series"
   ]
  },
  {
   "cell_type": "code",
   "execution_count": 115,
   "id": "797ef86e-8935-459f-a700-624bbd11cb5a",
   "metadata": {},
   "outputs": [
    {
     "data": {
      "text/plain": [
       "Day 0    0\n",
       "Day 0    1\n",
       "Day 0    2\n",
       "dtype: int64"
      ]
     },
     "execution_count": 115,
     "metadata": {},
     "output_type": "execute_result"
    }
   ],
   "source": [
    "my_series[\"Day 0\"]"
   ]
  },
  {
   "cell_type": "code",
   "execution_count": 116,
   "id": "57cdce87-4a00-412b-8c73-7b0f37f229f6",
   "metadata": {},
   "outputs": [
    {
     "name": "stderr",
     "output_type": "stream",
     "text": [
      "/var/folders/vz/kll226bs5z166d_j4rg4kj2m0000gn/T/ipykernel_7848/133280790.py:1: FutureWarning: Series.__getitem__ treating keys as positions is deprecated. In a future version, integer keys will always be treated as labels (consistent with DataFrame behavior). To access a value by position, use `ser.iloc[pos]`\n",
      "  my_series[\"Day 0\"][1]\n"
     ]
    },
    {
     "data": {
      "text/plain": [
       "np.int64(1)"
      ]
     },
     "execution_count": 116,
     "metadata": {},
     "output_type": "execute_result"
    }
   ],
   "source": [
    "my_series[\"Day 0\"][1]"
   ]
  },
  {
   "cell_type": "code",
   "execution_count": 118,
   "id": "e0102e29-4cb9-4851-bc2f-3c0efc7b477f",
   "metadata": {},
   "outputs": [
    {
     "data": {
      "text/plain": [
       "2    2\n",
       "3    3\n",
       "4    4\n",
       "dtype: int64"
      ]
     },
     "execution_count": 118,
     "metadata": {},
     "output_type": "execute_result"
    }
   ],
   "source": [
    "my_series.reset_index(drop=True).loc[2:4]"
   ]
  },
  {
   "cell_type": "markdown",
   "id": "1977197e-f8e5-4495-a75b-93d3b5d1bd08",
   "metadata": {},
   "source": [
    "### Exercise 2"
   ]
  },
  {
   "cell_type": "code",
   "execution_count": 397,
   "id": "9fdd21ce-5156-44bd-869c-55f43db0fec1",
   "metadata": {},
   "outputs": [
    {
     "data": {
      "text/html": [
       "<div>\n",
       "<style scoped>\n",
       "    .dataframe tbody tr th:only-of-type {\n",
       "        vertical-align: middle;\n",
       "    }\n",
       "\n",
       "    .dataframe tbody tr th {\n",
       "        vertical-align: top;\n",
       "    }\n",
       "\n",
       "    .dataframe thead th {\n",
       "        text-align: right;\n",
       "    }\n",
       "</style>\n",
       "<table border=\"1\" class=\"dataframe\">\n",
       "  <thead>\n",
       "    <tr style=\"text-align: right;\">\n",
       "      <th></th>\n",
       "      <th>date</th>\n",
       "      <th>dcoilwtico</th>\n",
       "    </tr>\n",
       "  </thead>\n",
       "  <tbody>\n",
       "    <tr>\n",
       "      <th>1</th>\n",
       "      <td>2013-01-02</td>\n",
       "      <td>93.14</td>\n",
       "    </tr>\n",
       "    <tr>\n",
       "      <th>2</th>\n",
       "      <td>2013-01-03</td>\n",
       "      <td>92.97</td>\n",
       "    </tr>\n",
       "    <tr>\n",
       "      <th>3</th>\n",
       "      <td>2013-01-04</td>\n",
       "      <td>93.12</td>\n",
       "    </tr>\n",
       "    <tr>\n",
       "      <th>4</th>\n",
       "      <td>2013-01-07</td>\n",
       "      <td>93.20</td>\n",
       "    </tr>\n",
       "    <tr>\n",
       "      <th>5</th>\n",
       "      <td>2013-01-08</td>\n",
       "      <td>93.21</td>\n",
       "    </tr>\n",
       "  </tbody>\n",
       "</table>\n",
       "</div>"
      ],
      "text/plain": [
       "         date  dcoilwtico\n",
       "1  2013-01-02       93.14\n",
       "2  2013-01-03       92.97\n",
       "3  2013-01-04       93.12\n",
       "4  2013-01-07       93.20\n",
       "5  2013-01-08       93.21"
      ]
     },
     "execution_count": 397,
     "metadata": {},
     "output_type": "execute_result"
    }
   ],
   "source": [
    "# create a Dataframe from the oil file, drop missing values\n",
    "oil = pd.read_csv(\"./retail/oil.csv\").dropna()\n",
    "\n",
    "oil.head()"
   ]
  },
  {
   "cell_type": "code",
   "execution_count": 398,
   "id": "36e5b298-4371-459a-bf50-d6bdc91327bf",
   "metadata": {},
   "outputs": [],
   "source": [
    "oil_array = np.array(oil[\"dcoilwtico\"].iloc[1000:1100])\n",
    "\n",
    "date = np.array(oil[\"date\"].iloc[1000:1100])"
   ]
  },
  {
   "cell_type": "code",
   "execution_count": 450,
   "id": "11bedba4-8896-4d85-8d94-3cd982cb0755",
   "metadata": {},
   "outputs": [
    {
     "data": {
      "text/plain": [
       "2016-12-20    52.22\n",
       "2016-12-21    51.44\n",
       "2016-12-22    51.98\n",
       "2016-12-23    52.01\n",
       "2016-12-27    52.82\n",
       "              ...  \n",
       "2017-05-09    45.84\n",
       "2017-05-10    47.28\n",
       "2017-05-11    47.81\n",
       "2017-05-12    47.83\n",
       "2017-05-15    48.86\n",
       "Name: oil_series, Length: 100, dtype: float64"
      ]
     },
     "execution_count": 450,
     "metadata": {},
     "output_type": "execute_result"
    }
   ],
   "source": [
    "oil_series = pd.Series(oil_array, index=date, name = \"oil_series\")\n",
    "\n",
    "oil_series"
   ]
  },
  {
   "cell_type": "code",
   "execution_count": 139,
   "id": "274e9a62-f131-4dcd-81e9-4759f8fda9b5",
   "metadata": {},
   "outputs": [
    {
     "data": {
      "text/plain": [
       "np.float64(52.92)"
      ]
     },
     "execution_count": 139,
     "metadata": {},
     "output_type": "execute_result"
    }
   ],
   "source": [
    "# mean of first 10 \n",
    "oil_series[1:11].mean()"
   ]
  },
  {
   "cell_type": "code",
   "execution_count": 132,
   "id": "520432a7-40e6-40ad-af02-4fb911939b3f",
   "metadata": {},
   "outputs": [
    {
     "data": {
      "text/plain": [
       "np.float64(52.765)"
      ]
     },
     "execution_count": 132,
     "metadata": {},
     "output_type": "execute_result"
    }
   ],
   "source": [
    "oil_series.iloc[:10].mean()"
   ]
  },
  {
   "cell_type": "code",
   "execution_count": 133,
   "id": "8be22ece-0736-4f7a-a722-51ffeb4c8a67",
   "metadata": {},
   "outputs": [
    {
     "data": {
      "text/plain": [
       "np.float64(47.13)"
      ]
     },
     "execution_count": 133,
     "metadata": {},
     "output_type": "execute_result"
    }
   ],
   "source": [
    "# mean of last 10 elements \n",
    "oil_series.iloc[-10:].mean()"
   ]
  },
  {
   "cell_type": "code",
   "execution_count": 135,
   "id": "64cf8326-d0d1-42fd-a335-9d8e19497316",
   "metadata": {},
   "outputs": [
    {
     "data": {
      "text/plain": [
       "2017-01-03    52.36\n",
       "2017-01-04    53.26\n",
       "2017-01-05    53.77\n",
       "2017-01-06    53.98\n",
       "Name: oil_series, dtype: float64"
      ]
     },
     "execution_count": 135,
     "metadata": {},
     "output_type": "execute_result"
    }
   ],
   "source": [
    "# grab all prices from jan 1st 2017- jan 7th 2017 (inclusive) and reset the index to integers\n",
    "oil_series.loc[\"2017-01-01\":\"2017-01-07\"]"
   ]
  },
  {
   "cell_type": "code",
   "execution_count": 136,
   "id": "8493098f-4c2b-46eb-8d80-aa7d814e4be3",
   "metadata": {},
   "outputs": [
    {
     "data": {
      "text/html": [
       "<div>\n",
       "<style scoped>\n",
       "    .dataframe tbody tr th:only-of-type {\n",
       "        vertical-align: middle;\n",
       "    }\n",
       "\n",
       "    .dataframe tbody tr th {\n",
       "        vertical-align: top;\n",
       "    }\n",
       "\n",
       "    .dataframe thead th {\n",
       "        text-align: right;\n",
       "    }\n",
       "</style>\n",
       "<table border=\"1\" class=\"dataframe\">\n",
       "  <thead>\n",
       "    <tr style=\"text-align: right;\">\n",
       "      <th></th>\n",
       "      <th>index</th>\n",
       "      <th>oil_series</th>\n",
       "    </tr>\n",
       "  </thead>\n",
       "  <tbody>\n",
       "    <tr>\n",
       "      <th>0</th>\n",
       "      <td>2017-01-03</td>\n",
       "      <td>52.36</td>\n",
       "    </tr>\n",
       "    <tr>\n",
       "      <th>1</th>\n",
       "      <td>2017-01-04</td>\n",
       "      <td>53.26</td>\n",
       "    </tr>\n",
       "    <tr>\n",
       "      <th>2</th>\n",
       "      <td>2017-01-05</td>\n",
       "      <td>53.77</td>\n",
       "    </tr>\n",
       "    <tr>\n",
       "      <th>3</th>\n",
       "      <td>2017-01-06</td>\n",
       "      <td>53.98</td>\n",
       "    </tr>\n",
       "  </tbody>\n",
       "</table>\n",
       "</div>"
      ],
      "text/plain": [
       "        index  oil_series\n",
       "0  2017-01-03       52.36\n",
       "1  2017-01-04       53.26\n",
       "2  2017-01-05       53.77\n",
       "3  2017-01-06       53.98"
      ]
     },
     "execution_count": 136,
     "metadata": {},
     "output_type": "execute_result"
    }
   ],
   "source": [
    "oil_series.loc[\"2017-01-01\":\"2017-01-07\"].reset_index()"
   ]
  },
  {
   "cell_type": "code",
   "execution_count": 137,
   "id": "1f116529-a266-4a40-866b-a04fdef248fb",
   "metadata": {},
   "outputs": [
    {
     "data": {
      "text/plain": [
       "0    52.36\n",
       "1    53.26\n",
       "2    53.77\n",
       "3    53.98\n",
       "Name: oil_series, dtype: float64"
      ]
     },
     "execution_count": 137,
     "metadata": {},
     "output_type": "execute_result"
    }
   ],
   "source": [
    "oil_series.loc[\"2017-01-01\":\"2017-01-07\"].reset_index(drop=True)"
   ]
  },
  {
   "cell_type": "markdown",
   "id": "dd8f060e-c069-4fe1-a1a4-3c1c3cf8fe0a",
   "metadata": {},
   "source": [
    "### Filtering series\n",
    "- pass logical test into a .loc[] accessor\n",
    "- == .eq()\n",
    "- != .ne()\n",
    "- in .isin()\n",
    "- not in ~.isin()"
   ]
  },
  {
   "cell_type": "code",
   "execution_count": 140,
   "id": "1cfbf5fb-649d-4a6a-9841-897d8e19a3b0",
   "metadata": {},
   "outputs": [
    {
     "data": {
      "text/plain": [
       "coffee       0\n",
       "coffee       5\n",
       "tea        155\n",
       "coconut      0\n",
       "sugar      518\n",
       "Name: Sales, dtype: int64"
      ]
     },
     "execution_count": 140,
     "metadata": {},
     "output_type": "execute_result"
    }
   ],
   "source": [
    "sales_series"
   ]
  },
  {
   "cell_type": "code",
   "execution_count": 141,
   "id": "62b6e8bd-4b23-49c3-9637-1bd16dcb9f0a",
   "metadata": {},
   "outputs": [
    {
     "data": {
      "text/plain": [
       "coffee      5\n",
       "tea       155\n",
       "sugar     518\n",
       "Name: Sales, dtype: int64"
      ]
     },
     "execution_count": 141,
     "metadata": {},
     "output_type": "execute_result"
    }
   ],
   "source": [
    "sales_series.loc[sales_series > 0] # sales_series > 0 return bollean array"
   ]
  },
  {
   "cell_type": "code",
   "execution_count": 143,
   "id": "f3c66c3b-2059-4f27-bc27-cf8ecbaa248f",
   "metadata": {},
   "outputs": [
    {
     "data": {
      "text/plain": [
       "coffee    5\n",
       "Name: Sales, dtype: int64"
      ]
     },
     "execution_count": 143,
     "metadata": {},
     "output_type": "execute_result"
    }
   ],
   "source": [
    "mask = (sales_series > 0) & (sales_series.index == \"coffee\")\n",
    "\n",
    "sales_series[mask]"
   ]
  },
  {
   "cell_type": "markdown",
   "id": "cccd0839-a7d0-481a-b56b-57756aee629e",
   "metadata": {},
   "source": [
    "### logical operators and methods \n",
    "- operators and methods\n",
    "- methods are good for chaining"
   ]
  },
  {
   "cell_type": "code",
   "execution_count": 144,
   "id": "1f515cbb-918e-4d40-8709-b48849a13901",
   "metadata": {},
   "outputs": [
    {
     "data": {
      "text/plain": [
       "coffee       0\n",
       "coffee       5\n",
       "tea        155\n",
       "coconut      0\n",
       "sugar      518\n",
       "Name: Sales, dtype: int64"
      ]
     },
     "execution_count": 144,
     "metadata": {},
     "output_type": "execute_result"
    }
   ],
   "source": [
    "sales_series"
   ]
  },
  {
   "cell_type": "code",
   "execution_count": 146,
   "id": "a3a0ecf3-00c7-4965-a9de-c1da4a3eb0c6",
   "metadata": {},
   "outputs": [
    {
     "data": {
      "text/plain": [
       "coffee     False\n",
       "coffee      True\n",
       "tea        False\n",
       "coconut    False\n",
       "sugar      False\n",
       "Name: Sales, dtype: bool"
      ]
     },
     "execution_count": 146,
     "metadata": {},
     "output_type": "execute_result"
    }
   ],
   "source": [
    "sales_series == 5 # returns array "
   ]
  },
  {
   "cell_type": "code",
   "execution_count": 149,
   "id": "50b6ff42-29f3-4b6e-ae3c-e09626ce4601",
   "metadata": {},
   "outputs": [
    {
     "data": {
      "text/plain": [
       "coffee     False\n",
       "coffee      True\n",
       "tea         True\n",
       "coconut    False\n",
       "sugar       True\n",
       "Name: Sales, dtype: bool"
      ]
     },
     "execution_count": 149,
     "metadata": {},
     "output_type": "execute_result"
    }
   ],
   "source": [
    "sales_series.ge(5)"
   ]
  },
  {
   "cell_type": "code",
   "execution_count": 151,
   "id": "546bdec5-e776-4b16-93ce-7cc255ab72e8",
   "metadata": {},
   "outputs": [
    {
     "data": {
      "text/plain": [
       "np.float64(0.6)"
      ]
     },
     "execution_count": 151,
     "metadata": {},
     "output_type": "execute_result"
    }
   ],
   "source": [
    "sales_series.ge(5).mean() # chaining operation"
   ]
  },
  {
   "cell_type": "code",
   "execution_count": 152,
   "id": "ce79b272-a9cf-4fa2-b472-9573e85a8538",
   "metadata": {},
   "outputs": [
    {
     "data": {
      "text/plain": [
       "coffee       0\n",
       "coffee       5\n",
       "tea        155\n",
       "coconut      0\n",
       "sugar      518\n",
       "Name: Sales, dtype: int64"
      ]
     },
     "execution_count": 152,
     "metadata": {},
     "output_type": "execute_result"
    }
   ],
   "source": [
    "# membership test \n",
    "sales_series"
   ]
  },
  {
   "cell_type": "code",
   "execution_count": 153,
   "id": "6c0a7c9b-7f95-481b-8e1d-f9ce6898d76a",
   "metadata": {},
   "outputs": [
    {
     "data": {
      "text/plain": [
       "array([ True,  True,  True, False, False])"
      ]
     },
     "execution_count": 153,
     "metadata": {},
     "output_type": "execute_result"
    }
   ],
   "source": [
    "sales_series.index.isin([\"coffee\",\"tea\"])"
   ]
  },
  {
   "cell_type": "code",
   "execution_count": 156,
   "id": "3faa1516-d18e-44b3-8ca2-684769dc19c3",
   "metadata": {},
   "outputs": [
    {
     "data": {
      "text/plain": [
       "array([False, False, False,  True,  True])"
      ]
     },
     "execution_count": 156,
     "metadata": {},
     "output_type": "execute_result"
    }
   ],
   "source": [
    "~sales_series.index.isin([\"coffee\",\"tea\"]) # invert booleanvalues"
   ]
  },
  {
   "cell_type": "code",
   "execution_count": 157,
   "id": "b9fd243a-c318-43d2-89f7-53feb7f1405e",
   "metadata": {},
   "outputs": [
    {
     "data": {
      "text/plain": [
       "Day 0    0\n",
       "Day 0    1\n",
       "Day 0    2\n",
       "Day 2    3\n",
       "Day 2    4\n",
       "dtype: int64"
      ]
     },
     "execution_count": 157,
     "metadata": {},
     "output_type": "execute_result"
    }
   ],
   "source": [
    "my_series"
   ]
  },
  {
   "cell_type": "code",
   "execution_count": 158,
   "id": "a7e28c96-2844-44f8-8445-efcc511a095d",
   "metadata": {},
   "outputs": [
    {
     "data": {
      "text/plain": [
       "Day 0    False\n",
       "Day 0    False\n",
       "Day 0     True\n",
       "Day 2    False\n",
       "Day 2    False\n",
       "dtype: bool"
      ]
     },
     "execution_count": 158,
     "metadata": {},
     "output_type": "execute_result"
    }
   ],
   "source": [
    "my_series == 2"
   ]
  },
  {
   "cell_type": "code",
   "execution_count": 159,
   "id": "fd39aa4a-85bc-42d0-8532-74880a185a65",
   "metadata": {},
   "outputs": [
    {
     "data": {
      "text/plain": [
       "Day 0     True\n",
       "Day 0     True\n",
       "Day 0    False\n",
       "Day 2     True\n",
       "Day 2     True\n",
       "dtype: bool"
      ]
     },
     "execution_count": 159,
     "metadata": {},
     "output_type": "execute_result"
    }
   ],
   "source": [
    "my_series !=2"
   ]
  },
  {
   "cell_type": "code",
   "execution_count": 162,
   "id": "c63b95fb-bbed-4905-abc1-c072f4ef204f",
   "metadata": {},
   "outputs": [
    {
     "data": {
      "text/plain": [
       "Day 0    0\n",
       "Day 0    1\n",
       "Day 2    3\n",
       "Day 2    4\n",
       "dtype: int64"
      ]
     },
     "execution_count": 162,
     "metadata": {},
     "output_type": "execute_result"
    }
   ],
   "source": [
    "my_series.loc[my_series !=2]"
   ]
  },
  {
   "cell_type": "code",
   "execution_count": 163,
   "id": "71ffb78b-da9c-4d17-b4e0-da03de073dfa",
   "metadata": {},
   "outputs": [
    {
     "data": {
      "text/plain": [
       "Day 0    2\n",
       "dtype: int64"
      ]
     },
     "execution_count": 163,
     "metadata": {},
     "output_type": "execute_result"
    }
   ],
   "source": [
    "my_series.loc[~(my_series !=2)]"
   ]
  },
  {
   "cell_type": "code",
   "execution_count": 166,
   "id": "847376b9-0bc0-400b-b5c9-650e42d00fe0",
   "metadata": {},
   "outputs": [
    {
     "data": {
      "text/plain": [
       "Day 0    1\n",
       "Day 0    2\n",
       "dtype: int64"
      ]
     },
     "execution_count": 166,
     "metadata": {},
     "output_type": "execute_result"
    }
   ],
   "source": [
    "my_series.loc[my_series.isin([1,2])]"
   ]
  },
  {
   "cell_type": "code",
   "execution_count": 167,
   "id": "2cd996fd-bfd1-4769-9b00-8518ddd4ed01",
   "metadata": {},
   "outputs": [
    {
     "data": {
      "text/plain": [
       "Day 0    0\n",
       "Day 2    3\n",
       "Day 2    4\n",
       "dtype: int64"
      ]
     },
     "execution_count": 167,
     "metadata": {},
     "output_type": "execute_result"
    }
   ],
   "source": [
    "my_series.loc[~my_series.isin([1,2])]"
   ]
  },
  {
   "cell_type": "code",
   "execution_count": 168,
   "id": "d54179af-5649-41b8-b206-e69f133d32a0",
   "metadata": {},
   "outputs": [
    {
     "data": {
      "text/plain": [
       "Day 2    3\n",
       "Day 2    4\n",
       "dtype: int64"
      ]
     },
     "execution_count": 168,
     "metadata": {},
     "output_type": "execute_result"
    }
   ],
   "source": [
    "my_series.loc[(my_series > 2)]"
   ]
  },
  {
   "cell_type": "code",
   "execution_count": 169,
   "id": "b069cd48-6bd7-404c-9441-4135843b1ad4",
   "metadata": {},
   "outputs": [
    {
     "data": {
      "text/plain": [
       "Day 0    0\n",
       "Day 0    1\n",
       "Day 0    2\n",
       "dtype: int64"
      ]
     },
     "execution_count": 169,
     "metadata": {},
     "output_type": "execute_result"
    }
   ],
   "source": [
    "my_series.loc[~(my_series > 2)] # parenthesis required"
   ]
  },
  {
   "cell_type": "code",
   "execution_count": 170,
   "id": "c6268cd6-ba93-46e1-b5cf-f7441fbd2716",
   "metadata": {},
   "outputs": [
    {
     "data": {
      "text/plain": [
       "Day 0    0\n",
       "Day 0    1\n",
       "Day 0    2\n",
       "dtype: int64"
      ]
     },
     "execution_count": 170,
     "metadata": {},
     "output_type": "execute_result"
    }
   ],
   "source": [
    "my_series.loc[~my_series.gt(2)] # parenthesis not required"
   ]
  },
  {
   "cell_type": "code",
   "execution_count": 172,
   "id": "6b872f8c-7b38-469c-9f60-93e441436ed5",
   "metadata": {},
   "outputs": [
    {
     "data": {
      "text/plain": [
       "Day 0    0\n",
       "Day 0    1\n",
       "Day 0    2\n",
       "Day 2    3\n",
       "Day 2    4\n",
       "dtype: int64"
      ]
     },
     "execution_count": 172,
     "metadata": {},
     "output_type": "execute_result"
    }
   ],
   "source": [
    "my_series"
   ]
  },
  {
   "cell_type": "code",
   "execution_count": 180,
   "id": "047aab6a-0263-4062-ac85-744baec01fac",
   "metadata": {},
   "outputs": [],
   "source": [
    "mask = (my_series.isin([1,2])) | (my_series > 2)"
   ]
  },
  {
   "cell_type": "code",
   "execution_count": 181,
   "id": "0876f6c2-d273-4092-8d53-4e03d556302f",
   "metadata": {},
   "outputs": [
    {
     "data": {
      "text/plain": [
       "Day 0    1\n",
       "Day 0    2\n",
       "Day 2    3\n",
       "Day 2    4\n",
       "dtype: int64"
      ]
     },
     "execution_count": 181,
     "metadata": {},
     "output_type": "execute_result"
    }
   ],
   "source": [
    "my_series.loc[mask]"
   ]
  },
  {
   "cell_type": "code",
   "execution_count": 176,
   "id": "1fc4f551-84ee-4e22-a80f-214174e3f4c7",
   "metadata": {},
   "outputs": [],
   "source": [
    "mask = (my_series.isin([1,2])) & (my_series > 2)"
   ]
  },
  {
   "cell_type": "code",
   "execution_count": 178,
   "id": "732175e4-6100-4db1-bad4-c5b4625a7758",
   "metadata": {},
   "outputs": [
    {
     "data": {
      "text/plain": [
       "Series([], dtype: int64)"
      ]
     },
     "execution_count": 178,
     "metadata": {},
     "output_type": "execute_result"
    }
   ],
   "source": [
    "my_series.loc[mask]"
   ]
  },
  {
   "cell_type": "code",
   "execution_count": 182,
   "id": "41e006de-230b-4622-90cf-de26bd9156c9",
   "metadata": {},
   "outputs": [
    {
     "ename": "ValueError",
     "evalue": "The truth value of a Series is ambiguous. Use a.empty, a.bool(), a.item(), a.any() or a.all().",
     "output_type": "error",
     "traceback": [
      "\u001b[0;31m---------------------------------------------------------------------------\u001b[0m",
      "\u001b[0;31mValueError\u001b[0m                                Traceback (most recent call last)",
      "\u001b[0;32m/var/folders/vz/kll226bs5z166d_j4rg4kj2m0000gn/T/ipykernel_7848/4025923419.py\u001b[0m in \u001b[0;36m?\u001b[0;34m()\u001b[0m\n\u001b[0;32m----> 1\u001b[0;31m \u001b[0mmy_series\u001b[0m \u001b[0;32min\u001b[0m \u001b[0;34m[\u001b[0m\u001b[0;36m1\u001b[0m\u001b[0;34m,\u001b[0m\u001b[0;36m2\u001b[0m\u001b[0;34m]\u001b[0m\u001b[0;34m\u001b[0m\u001b[0;34m\u001b[0m\u001b[0m\n\u001b[0m",
      "\u001b[0;32m~/Library/Python/3.9/lib/python/site-packages/pandas/core/generic.py\u001b[0m in \u001b[0;36m?\u001b[0;34m(self)\u001b[0m\n\u001b[1;32m   1575\u001b[0m     \u001b[0;34m@\u001b[0m\u001b[0mfinal\u001b[0m\u001b[0;34m\u001b[0m\u001b[0;34m\u001b[0m\u001b[0m\n\u001b[1;32m   1576\u001b[0m     \u001b[0;32mdef\u001b[0m \u001b[0m__nonzero__\u001b[0m\u001b[0;34m(\u001b[0m\u001b[0mself\u001b[0m\u001b[0;34m)\u001b[0m \u001b[0;34m->\u001b[0m \u001b[0mNoReturn\u001b[0m\u001b[0;34m:\u001b[0m\u001b[0;34m\u001b[0m\u001b[0;34m\u001b[0m\u001b[0m\n\u001b[0;32m-> 1577\u001b[0;31m         raise ValueError(\n\u001b[0m\u001b[1;32m   1578\u001b[0m             \u001b[0;34mf\"The truth value of a {type(self).__name__} is ambiguous. \"\u001b[0m\u001b[0;34m\u001b[0m\u001b[0;34m\u001b[0m\u001b[0m\n\u001b[1;32m   1579\u001b[0m             \u001b[0;34m\"Use a.empty, a.bool(), a.item(), a.any() or a.all().\"\u001b[0m\u001b[0;34m\u001b[0m\u001b[0;34m\u001b[0m\u001b[0m\n\u001b[1;32m   1580\u001b[0m         )\n",
      "\u001b[0;31mValueError\u001b[0m: The truth value of a Series is ambiguous. Use a.empty, a.bool(), a.item(), a.any() or a.all()."
     ]
    }
   ],
   "source": [
    "my_series in [1,2]"
   ]
  },
  {
   "cell_type": "code",
   "execution_count": 184,
   "id": "24767b2f-8247-4caa-8a09-c7949d2e2854",
   "metadata": {},
   "outputs": [
    {
     "data": {
      "text/plain": [
       "Day 0    False\n",
       "Day 0     True\n",
       "Day 0     True\n",
       "Day 2    False\n",
       "Day 2    False\n",
       "dtype: bool"
      ]
     },
     "execution_count": 184,
     "metadata": {},
     "output_type": "execute_result"
    }
   ],
   "source": [
    "my_series.isin([1,2] )"
   ]
  },
  {
   "cell_type": "markdown",
   "id": "ad541e77-d77b-481f-8671-6da43baf91ac",
   "metadata": {},
   "source": [
    "### sorting series\n",
    "- by their values\n",
    "- or by index"
   ]
  },
  {
   "cell_type": "code",
   "execution_count": 185,
   "id": "7bb3c0a8-567b-4b43-ac9c-bf42501b2086",
   "metadata": {},
   "outputs": [
    {
     "data": {
      "text/plain": [
       "coffee       0\n",
       "coconut      0\n",
       "coffee       5\n",
       "tea        155\n",
       "sugar      518\n",
       "Name: Sales, dtype: int64"
      ]
     },
     "execution_count": 185,
     "metadata": {},
     "output_type": "execute_result"
    }
   ],
   "source": [
    "sales_series.sort_values()"
   ]
  },
  {
   "cell_type": "code",
   "execution_count": 186,
   "id": "ac2326d7-d84f-4263-8453-4a67d2d6d455",
   "metadata": {},
   "outputs": [
    {
     "data": {
      "text/plain": [
       "sugar      518\n",
       "tea        155\n",
       "coffee       5\n",
       "coffee       0\n",
       "coconut      0\n",
       "Name: Sales, dtype: int64"
      ]
     },
     "execution_count": 186,
     "metadata": {},
     "output_type": "execute_result"
    }
   ],
   "source": [
    "sales_series.sort_values(ascending=False)"
   ]
  },
  {
   "cell_type": "code",
   "execution_count": 188,
   "id": "f6f693a6-7314-4bea-bb6b-918039f5c44b",
   "metadata": {},
   "outputs": [
    {
     "data": {
      "text/plain": [
       "coconut      0\n",
       "coffee       0\n",
       "coffee       5\n",
       "sugar      518\n",
       "tea        155\n",
       "Name: Sales, dtype: int64"
      ]
     },
     "execution_count": 188,
     "metadata": {},
     "output_type": "execute_result"
    }
   ],
   "source": [
    "sales_series.sort_index()"
   ]
  },
  {
   "cell_type": "code",
   "execution_count": 189,
   "id": "02baede6-3c7d-4388-93bf-3c4301d341fc",
   "metadata": {},
   "outputs": [
    {
     "data": {
      "text/plain": [
       "tea        155\n",
       "sugar      518\n",
       "coffee       0\n",
       "coffee       5\n",
       "coconut      0\n",
       "Name: Sales, dtype: int64"
      ]
     },
     "execution_count": 189,
     "metadata": {},
     "output_type": "execute_result"
    }
   ],
   "source": [
    "sales_series.sort_index(ascending=False)"
   ]
  },
  {
   "cell_type": "code",
   "execution_count": 190,
   "id": "1868fa30-d8f4-4dcf-9a28-b3cc455c71b4",
   "metadata": {},
   "outputs": [
    {
     "data": {
      "text/plain": [
       "Day 0    0\n",
       "Day 0    1\n",
       "Day 0    2\n",
       "Day 2    3\n",
       "Day 2    4\n",
       "dtype: int64"
      ]
     },
     "execution_count": 190,
     "metadata": {},
     "output_type": "execute_result"
    }
   ],
   "source": [
    "my_series"
   ]
  },
  {
   "cell_type": "code",
   "execution_count": 191,
   "id": "aa512980-f170-4e26-b8b8-5cf474758142",
   "metadata": {},
   "outputs": [
    {
     "data": {
      "text/plain": [
       "Day 0    0\n",
       "Day 0    1\n",
       "Day 0    2\n",
       "Day 2    3\n",
       "Day 2    4\n",
       "dtype: int64"
      ]
     },
     "execution_count": 191,
     "metadata": {},
     "output_type": "execute_result"
    }
   ],
   "source": [
    "my_series.sort_values()"
   ]
  },
  {
   "cell_type": "code",
   "execution_count": 192,
   "id": "d5eca801-80ac-4514-a53e-58879ca72f82",
   "metadata": {},
   "outputs": [
    {
     "data": {
      "text/plain": [
       "Day 2    4\n",
       "Day 2    3\n",
       "Day 0    2\n",
       "Day 0    1\n",
       "Day 0    0\n",
       "dtype: int64"
      ]
     },
     "execution_count": 192,
     "metadata": {},
     "output_type": "execute_result"
    }
   ],
   "source": [
    "my_series.sort_values(ascending=False)"
   ]
  },
  {
   "cell_type": "code",
   "execution_count": 193,
   "id": "0e7a9f22-ae7d-439e-bad2-f10747ce50a6",
   "metadata": {},
   "outputs": [],
   "source": [
    "my_series2 = my_series.sort_values(ascending=False)"
   ]
  },
  {
   "cell_type": "code",
   "execution_count": 194,
   "id": "58fa3025-6be7-4d8f-a0b7-05fad04669bc",
   "metadata": {},
   "outputs": [
    {
     "data": {
      "text/plain": [
       "Day 2    4\n",
       "Day 2    3\n",
       "Day 0    2\n",
       "Day 0    1\n",
       "Day 0    0\n",
       "dtype: int64"
      ]
     },
     "execution_count": 194,
     "metadata": {},
     "output_type": "execute_result"
    }
   ],
   "source": [
    "my_series2"
   ]
  },
  {
   "cell_type": "code",
   "execution_count": 195,
   "id": "1dd55a59-82be-46f1-b341-0cb965167fc1",
   "metadata": {},
   "outputs": [
    {
     "data": {
      "text/plain": [
       "Day 0    0\n",
       "Day 0    1\n",
       "Day 0    2\n",
       "Day 2    3\n",
       "Day 2    4\n",
       "dtype: int64"
      ]
     },
     "execution_count": 195,
     "metadata": {},
     "output_type": "execute_result"
    }
   ],
   "source": [
    "my_series"
   ]
  },
  {
   "cell_type": "code",
   "execution_count": 196,
   "id": "ece058ec-1ea3-48ba-876f-d65a2799a737",
   "metadata": {},
   "outputs": [],
   "source": [
    "my_series.sort_values(ascending=False, inplace=True)"
   ]
  },
  {
   "cell_type": "code",
   "execution_count": 197,
   "id": "f54d2950-30f6-448d-97fc-03a62ec0f7de",
   "metadata": {},
   "outputs": [
    {
     "data": {
      "text/plain": [
       "Day 2    4\n",
       "Day 2    3\n",
       "Day 0    2\n",
       "Day 0    1\n",
       "Day 0    0\n",
       "dtype: int64"
      ]
     },
     "execution_count": 197,
     "metadata": {},
     "output_type": "execute_result"
    }
   ],
   "source": [
    "my_series"
   ]
  },
  {
   "cell_type": "code",
   "execution_count": 198,
   "id": "0e51bae7-e769-4532-9d36-7ed9b6c8c8a5",
   "metadata": {},
   "outputs": [
    {
     "data": {
      "text/plain": [
       "Day 0    2\n",
       "Day 0    1\n",
       "Day 0    0\n",
       "Day 2    4\n",
       "Day 2    3\n",
       "dtype: int64"
      ]
     },
     "execution_count": 198,
     "metadata": {},
     "output_type": "execute_result"
    }
   ],
   "source": [
    "my_series.sort_index()"
   ]
  },
  {
   "cell_type": "code",
   "execution_count": 199,
   "id": "ce9d5fc4-9fd3-4e27-b280-b3b03471ed8f",
   "metadata": {},
   "outputs": [
    {
     "data": {
      "text/plain": [
       "Day 2    4\n",
       "Day 2    3\n",
       "Day 0    2\n",
       "Day 0    1\n",
       "Day 0    0\n",
       "dtype: int64"
      ]
     },
     "execution_count": 199,
     "metadata": {},
     "output_type": "execute_result"
    }
   ],
   "source": [
    "my_series.sort_index(ascending=False)"
   ]
  },
  {
   "cell_type": "markdown",
   "id": "a41d9586-3019-428f-9f69-e14f17d63984",
   "metadata": {},
   "source": [
    "### Exercise 3"
   ]
  },
  {
   "cell_type": "code",
   "execution_count": 200,
   "id": "31482614-07d0-4c54-90d0-680ca27926fe",
   "metadata": {},
   "outputs": [
    {
     "data": {
      "text/plain": [
       "2016-12-20    52.22\n",
       "2016-12-21    51.44\n",
       "2016-12-22    51.98\n",
       "2016-12-23    52.01\n",
       "2016-12-27    52.82\n",
       "              ...  \n",
       "2017-05-09    45.84\n",
       "2017-05-10    47.28\n",
       "2017-05-11    47.81\n",
       "2017-05-12    47.83\n",
       "2017-05-15    48.86\n",
       "Name: oil_series, Length: 100, dtype: float64"
      ]
     },
     "execution_count": 200,
     "metadata": {},
     "output_type": "execute_result"
    }
   ],
   "source": [
    "oil_series"
   ]
  },
  {
   "cell_type": "code",
   "execution_count": 203,
   "id": "a2f1954f-0eee-4e3e-9475-8aaa2fc36898",
   "metadata": {},
   "outputs": [
    {
     "data": {
      "text/plain": [
       "2017-05-04    45.55\n",
       "2017-05-09    45.84\n",
       "2017-05-05    46.23\n",
       "2017-05-08    46.46\n",
       "2017-03-23    47.00\n",
       "2017-03-21    47.02\n",
       "2017-03-27    47.02\n",
       "2017-03-14    47.24\n",
       "2017-05-10    47.28\n",
       "2017-03-22    47.29\n",
       "Name: oil_series, dtype: float64"
      ]
     },
     "execution_count": 203,
     "metadata": {},
     "output_type": "execute_result"
    }
   ],
   "source": [
    "oil_series.sort_values().iloc[:10]"
   ]
  },
  {
   "cell_type": "code",
   "execution_count": 205,
   "id": "db9c7b9a-95cf-4fd5-8507-4e79906535a4",
   "metadata": {},
   "outputs": [
    {
     "data": {
      "text/plain": [
       "2017-05-10    47.28\n",
       "2017-05-09    45.84\n",
       "2017-05-08    46.46\n",
       "2017-05-05    46.23\n",
       "2017-05-04    45.55\n",
       "2017-03-27    47.02\n",
       "2017-03-23    47.00\n",
       "2017-03-22    47.29\n",
       "2017-03-21    47.02\n",
       "2017-03-14    47.24\n",
       "Name: oil_series, dtype: float64"
      ]
     },
     "execution_count": 205,
     "metadata": {},
     "output_type": "execute_result"
    }
   ],
   "source": [
    "# get 10 lowest prices sort them by date starting with most recent and ending with the oldest\n",
    "oil_series.sort_values().iloc[:10].sort_index(ascending=False)"
   ]
  },
  {
   "cell_type": "code",
   "execution_count": 208,
   "id": "c1b7cd41-98f8-4b21-b3f7-5d32a1482d1b",
   "metadata": {},
   "outputs": [],
   "source": [
    "# use date list . select only rows with these dates and had price of less than 50 $ per barrel\n",
    "dates = [\n",
    "    \"2016-12-22\",\n",
    "    \"2017-05-03\",\n",
    "    \"2017-01-06\",\n",
    "    \"2017-03-05\",\n",
    "    \"2017-02-12\",\n",
    "    \"2017-03-21\",\n",
    "    \"2017-04-14\",\n",
    "    \"2017-04-15\",\n",
    "]"
   ]
  },
  {
   "cell_type": "code",
   "execution_count": 206,
   "id": "57124550-b4a1-4525-bcc8-53807c437c10",
   "metadata": {},
   "outputs": [
    {
     "data": {
      "text/plain": [
       "2016-12-20    52.22\n",
       "2016-12-21    51.44\n",
       "2016-12-22    51.98\n",
       "2016-12-23    52.01\n",
       "2016-12-27    52.82\n",
       "              ...  \n",
       "2017-05-09    45.84\n",
       "2017-05-10    47.28\n",
       "2017-05-11    47.81\n",
       "2017-05-12    47.83\n",
       "2017-05-15    48.86\n",
       "Name: oil_series, Length: 100, dtype: float64"
      ]
     },
     "execution_count": 206,
     "metadata": {},
     "output_type": "execute_result"
    }
   ],
   "source": [
    "oil_series"
   ]
  },
  {
   "cell_type": "code",
   "execution_count": 209,
   "id": "57124394-e6c3-484a-9925-a3404083207e",
   "metadata": {},
   "outputs": [
    {
     "data": {
      "text/plain": [
       "2016-12-20    False\n",
       "2016-12-21    False\n",
       "2016-12-22    False\n",
       "2016-12-23    False\n",
       "2016-12-27    False\n",
       "              ...  \n",
       "2017-05-09    False\n",
       "2017-05-10    False\n",
       "2017-05-11    False\n",
       "2017-05-12    False\n",
       "2017-05-15    False\n",
       "Name: oil_series, Length: 100, dtype: bool"
      ]
     },
     "execution_count": 209,
     "metadata": {},
     "output_type": "execute_result"
    }
   ],
   "source": [
    "oil_series.isin(dates)"
   ]
  },
  {
   "cell_type": "code",
   "execution_count": 215,
   "id": "49058bc6-792f-440b-a8e6-db97fe8efb91",
   "metadata": {},
   "outputs": [],
   "source": [
    "mask = (oil_series.index.isin(dates)) #& (oil_series <= 50)"
   ]
  },
  {
   "cell_type": "code",
   "execution_count": 216,
   "id": "68f069a4-4fc6-4d09-99dd-8dd73b31e645",
   "metadata": {},
   "outputs": [
    {
     "data": {
      "text/plain": [
       "2016-12-22    51.98\n",
       "2017-01-06    53.98\n",
       "2017-03-21    47.02\n",
       "2017-05-03    47.79\n",
       "Name: oil_series, dtype: float64"
      ]
     },
     "execution_count": 216,
     "metadata": {},
     "output_type": "execute_result"
    }
   ],
   "source": [
    "oil_series.loc[mask]"
   ]
  },
  {
   "cell_type": "code",
   "execution_count": 217,
   "id": "789d1e04-ddd2-44f9-9a6e-a4344f58e470",
   "metadata": {},
   "outputs": [],
   "source": [
    "mask = (oil_series.index.isin(dates)) & (oil_series <= 50)"
   ]
  },
  {
   "cell_type": "code",
   "execution_count": 218,
   "id": "c28fec3f-42ee-465d-8b23-df6a67523745",
   "metadata": {},
   "outputs": [
    {
     "data": {
      "text/plain": [
       "2017-03-21    47.02\n",
       "2017-05-03    47.79\n",
       "Name: oil_series, dtype: float64"
      ]
     },
     "execution_count": 218,
     "metadata": {},
     "output_type": "execute_result"
    }
   ],
   "source": [
    "oil_series.loc[mask]"
   ]
  },
  {
   "cell_type": "markdown",
   "id": "7af1f9f3-2aba-495f-accc-30b65cda9247",
   "metadata": {},
   "source": [
    "### arithmetic operators & methods\n",
    "python operator , pandas method \n",
    "- + .add()\n",
    "- - .sub()\n",
    "- * .mul()\n",
    "- / .div()\n",
    "- // .floordiv()\n",
    "- % .mod()\n",
    "- ** .pow()"
   ]
  },
  {
   "cell_type": "code",
   "execution_count": 221,
   "id": "b1720a2f-57f5-4fcd-b503-feae4bf1cfd2",
   "metadata": {},
   "outputs": [],
   "source": [
    "monday_sales = pd.Series([0,5,155,0,518], name=\"monday_sales\")"
   ]
  },
  {
   "cell_type": "code",
   "execution_count": 222,
   "id": "4c3c2947-db20-4bff-9037-50e6ef206f31",
   "metadata": {},
   "outputs": [
    {
     "data": {
      "text/plain": [
       "0      0\n",
       "1      5\n",
       "2    155\n",
       "3      0\n",
       "4    518\n",
       "Name: monday_sales, dtype: int64"
      ]
     },
     "execution_count": 222,
     "metadata": {},
     "output_type": "execute_result"
    }
   ],
   "source": [
    "monday_sales"
   ]
  },
  {
   "cell_type": "code",
   "execution_count": 223,
   "id": "270d1429-deb1-464e-9a7c-6964bb279df8",
   "metadata": {},
   "outputs": [
    {
     "data": {
      "text/plain": [
       "0      2\n",
       "1      7\n",
       "2    157\n",
       "3      2\n",
       "4    520\n",
       "Name: monday_sales, dtype: int64"
      ]
     },
     "execution_count": 223,
     "metadata": {},
     "output_type": "execute_result"
    }
   ],
   "source": [
    "monday_sales + 2"
   ]
  },
  {
   "cell_type": "code",
   "execution_count": 224,
   "id": "e090526d-bcd0-47fa-acb6-fe559b844e14",
   "metadata": {},
   "outputs": [
    {
     "data": {
      "text/plain": [
       "0      2\n",
       "1      7\n",
       "2    157\n",
       "3      2\n",
       "4    520\n",
       "Name: monday_sales, dtype: int64"
      ]
     },
     "execution_count": 224,
     "metadata": {},
     "output_type": "execute_result"
    }
   ],
   "source": [
    "monday_sales.add(2)"
   ]
  },
  {
   "cell_type": "code",
   "execution_count": 225,
   "id": "8f8d71dd-fe4f-4503-a65c-911fdd8de2e0",
   "metadata": {},
   "outputs": [
    {
     "data": {
      "text/plain": [
       "0      $0.0\n",
       "1      $5.0\n",
       "2    $155.0\n",
       "3      $0.0\n",
       "4    $518.0\n",
       "Name: monday_sales, dtype: string"
      ]
     },
     "execution_count": 225,
     "metadata": {},
     "output_type": "execute_result"
    }
   ],
   "source": [
    "\"$\" + monday_sales.astype(\"float\").astype(\"string\")"
   ]
  },
  {
   "cell_type": "code",
   "execution_count": 228,
   "id": "09056725-4e09-4175-8ac9-5ee62e095cc2",
   "metadata": {},
   "outputs": [
    {
     "data": {
      "text/plain": [
       "day 0    1.0\n",
       "day 1    NaN\n",
       "day 2    2.0\n",
       "day 3    3.0\n",
       "day 4    4.0\n",
       "dtype: float64"
      ]
     },
     "execution_count": 228,
     "metadata": {},
     "output_type": "execute_result"
    }
   ],
   "source": [
    "my_series = pd.Series([1,np.nan, 2, 3, 4] , index=[\"day 0\", \"day 1\",\"day 2\",\"day 3\",\"day 4\"])\n",
    "\n",
    "my_series"
   ]
  },
  {
   "cell_type": "code",
   "execution_count": 229,
   "id": "4cef97b7-79c7-483e-bdb8-94191f4aedd3",
   "metadata": {},
   "outputs": [
    {
     "data": {
      "text/plain": [
       "day 0    2.0\n",
       "day 1    NaN\n",
       "day 2    3.0\n",
       "day 3    4.0\n",
       "day 4    5.0\n",
       "dtype: float64"
      ]
     },
     "execution_count": 229,
     "metadata": {},
     "output_type": "execute_result"
    }
   ],
   "source": [
    "my_series + 1"
   ]
  },
  {
   "cell_type": "code",
   "execution_count": 231,
   "id": "b44104fc-daa4-4c48-b586-5befabef9bb4",
   "metadata": {},
   "outputs": [],
   "source": [
    "my_series2 = my_series.add(1 , fill_value=0).astype(\"int\")"
   ]
  },
  {
   "cell_type": "code",
   "execution_count": 233,
   "id": "dacded7f-09e6-4553-9042-178eb39141d4",
   "metadata": {},
   "outputs": [
    {
     "data": {
      "text/plain": [
       "day 0    1.0\n",
       "day 1    0.5\n",
       "day 2    1.5\n",
       "day 3    2.0\n",
       "day 4    2.5\n",
       "dtype: float64"
      ]
     },
     "execution_count": 233,
     "metadata": {},
     "output_type": "execute_result"
    }
   ],
   "source": [
    "my_series2 / 2"
   ]
  },
  {
   "cell_type": "code",
   "execution_count": 234,
   "id": "f58739ba-d3f6-40bd-9566-2a036c7e2ecc",
   "metadata": {},
   "outputs": [
    {
     "data": {
      "text/plain": [
       "day 0     4\n",
       "day 1     2\n",
       "day 2     6\n",
       "day 3     8\n",
       "day 4    10\n",
       "dtype: int64"
      ]
     },
     "execution_count": 234,
     "metadata": {},
     "output_type": "execute_result"
    }
   ],
   "source": [
    "my_series2 * 2"
   ]
  },
  {
   "cell_type": "code",
   "execution_count": 235,
   "id": "0945b71f-64db-46b5-9016-b8625bebfa1d",
   "metadata": {},
   "outputs": [
    {
     "data": {
      "text/plain": [
       "day 0    1\n",
       "day 1    0\n",
       "day 2    1\n",
       "day 3    2\n",
       "day 4    2\n",
       "dtype: int64"
      ]
     },
     "execution_count": 235,
     "metadata": {},
     "output_type": "execute_result"
    }
   ],
   "source": [
    "my_series2 // 2"
   ]
  },
  {
   "cell_type": "code",
   "execution_count": 236,
   "id": "ea9d7a26-4e4a-4e2a-a579-618bb3d6121a",
   "metadata": {},
   "outputs": [
    {
     "data": {
      "text/plain": [
       "day 0    3.0\n",
       "day 1    NaN\n",
       "day 2    5.0\n",
       "day 3    7.0\n",
       "day 4    9.0\n",
       "dtype: float64"
      ]
     },
     "execution_count": 236,
     "metadata": {},
     "output_type": "execute_result"
    }
   ],
   "source": [
    "my_series + my_series2"
   ]
  },
  {
   "cell_type": "code",
   "execution_count": 237,
   "id": "3a0eaac2-c966-44f2-b2fa-1bbebb2e0887",
   "metadata": {},
   "outputs": [
    {
     "data": {
      "text/plain": [
       "day 0    3.0\n",
       "day 1    1.0\n",
       "day 2    5.0\n",
       "day 3    7.0\n",
       "day 4    9.0\n",
       "dtype: float64"
      ]
     },
     "execution_count": 237,
     "metadata": {},
     "output_type": "execute_result"
    }
   ],
   "source": [
    "my_series.add(my_series2, fill_value=0)"
   ]
  },
  {
   "cell_type": "code",
   "execution_count": 238,
   "id": "56c1a484-c72f-4a44-a168-5b8ed2ce37c2",
   "metadata": {},
   "outputs": [
    {
     "data": {
      "text/plain": [
       "day 0    2.5\n",
       "day 1    NaN\n",
       "day 2    4.0\n",
       "day 3    5.5\n",
       "day 4    7.0\n",
       "dtype: float64"
      ]
     },
     "execution_count": 238,
     "metadata": {},
     "output_type": "execute_result"
    }
   ],
   "source": [
    "(my_series + my_series2 * 2)/2"
   ]
  },
  {
   "cell_type": "markdown",
   "id": "4c51b551-808d-4175-ad05-e60d6d2a3844",
   "metadata": {},
   "source": [
    "### string methods \n",
    "- .strip(), .lstrip, .rstrip()\n",
    "- .upper(), .lower()\n",
    "- .slice(start:stop:step)\n",
    "- .count(\"string\")\n",
    "- .contains(\"string\")\n",
    "- .replace(\"a\",\"b\")\n",
    "- .split(\"delimiter\",expand=True)\n",
    "- .len()\n",
    "- .startswith(\"string\"),.endwith(\"string\")"
   ]
  },
  {
   "cell_type": "code",
   "execution_count": 240,
   "id": "b669d55e-3933-44d5-b307-bf548751c9ab",
   "metadata": {},
   "outputs": [
    {
     "data": {
      "text/plain": [
       "0     $3.99\n",
       "1     $5.99\n",
       "2    $22.99\n",
       "3     $7.99\n",
       "4    $33.99\n",
       "dtype: object"
      ]
     },
     "execution_count": 240,
     "metadata": {},
     "output_type": "execute_result"
    }
   ],
   "source": [
    "prices = pd.Series([\"$3.99\",\"$5.99\",\"$22.99\",\"$7.99\",\"$33.99\"])\n",
    "\n",
    "prices"
   ]
  },
  {
   "cell_type": "code",
   "execution_count": 241,
   "id": "c87199bb-6ba0-4f9b-8569-a0a98b881031",
   "metadata": {},
   "outputs": [
    {
     "data": {
      "text/plain": [
       "0     True\n",
       "1    False\n",
       "2    False\n",
       "3    False\n",
       "4     True\n",
       "dtype: bool"
      ]
     },
     "execution_count": 241,
     "metadata": {},
     "output_type": "execute_result"
    }
   ],
   "source": [
    "prices.str.contains(\"3\")"
   ]
  },
  {
   "cell_type": "code",
   "execution_count": 242,
   "id": "9d33286e-ff9d-42d2-8341-91c436aab5e8",
   "metadata": {},
   "outputs": [
    {
     "data": {
      "text/plain": [
       "0     3.99\n",
       "1     5.99\n",
       "2    22.99\n",
       "3     7.99\n",
       "4    33.99\n",
       "dtype: float64"
      ]
     },
     "execution_count": 242,
     "metadata": {},
     "output_type": "execute_result"
    }
   ],
   "source": [
    "prices.str.strip(\"$\").astype(\"float\")"
   ]
  },
  {
   "cell_type": "code",
   "execution_count": 245,
   "id": "199e2986-5795-4646-b0af-c79cbd90096d",
   "metadata": {},
   "outputs": [
    {
     "data": {
      "text/plain": [
       "0    day 0\n",
       "1    day 1\n",
       "2    day 2\n",
       "3    day 3\n",
       "4    day 4\n",
       "dtype: object"
      ]
     },
     "execution_count": 245,
     "metadata": {},
     "output_type": "execute_result"
    }
   ],
   "source": [
    "string_series = pd.Series([\"day 0\", \"day 1\",\"day 2\",\"day 3\",\"day 4\"])\n",
    "\n",
    "string_series"
   ]
  },
  {
   "cell_type": "code",
   "execution_count": 246,
   "id": "318aad05-d776-4247-ab83-a360f9fee63a",
   "metadata": {},
   "outputs": [
    {
     "data": {
      "text/plain": [
       "0    False\n",
       "1     True\n",
       "2    False\n",
       "3    False\n",
       "4    False\n",
       "dtype: bool"
      ]
     },
     "execution_count": 246,
     "metadata": {},
     "output_type": "execute_result"
    }
   ],
   "source": [
    "string_series.str.contains(\"1\")"
   ]
  },
  {
   "cell_type": "code",
   "execution_count": 247,
   "id": "af6b3c89-805e-447f-ad39-c24f899830d4",
   "metadata": {},
   "outputs": [
    {
     "data": {
      "text/plain": [
       "0    DAY 0\n",
       "1    DAY 1\n",
       "2    DAY 2\n",
       "3    DAY 3\n",
       "4    DAY 4\n",
       "dtype: object"
      ]
     },
     "execution_count": 247,
     "metadata": {},
     "output_type": "execute_result"
    }
   ],
   "source": [
    "string_series.str.upper() #contains(\"1\")"
   ]
  },
  {
   "cell_type": "code",
   "execution_count": 248,
   "id": "a396e413-bb8d-4def-abed-47e68778b1ff",
   "metadata": {},
   "outputs": [
    {
     "data": {
      "text/plain": [
       "0    False\n",
       "1     True\n",
       "2    False\n",
       "3    False\n",
       "4    False\n",
       "dtype: bool"
      ]
     },
     "execution_count": 248,
     "metadata": {},
     "output_type": "execute_result"
    }
   ],
   "source": [
    "string_series.str.upper().str.contains(\"DAY 1\")"
   ]
  },
  {
   "cell_type": "code",
   "execution_count": 249,
   "id": "ccd6fcc7-590c-4b8c-bff4-12bc008e1c8b",
   "metadata": {},
   "outputs": [
    {
     "data": {
      "text/plain": [
       "0    0\n",
       "1    1\n",
       "2    2\n",
       "3    3\n",
       "4    4\n",
       "dtype: int64"
      ]
     },
     "execution_count": 249,
     "metadata": {},
     "output_type": "execute_result"
    }
   ],
   "source": [
    "string_series.str.strip('day').astype('int')"
   ]
  },
  {
   "cell_type": "code",
   "execution_count": 250,
   "id": "cbbc43e4-61d2-4b32-adb7-70bbc4b27699",
   "metadata": {},
   "outputs": [
    {
     "data": {
      "text/plain": [
       "0    0\n",
       "1    1\n",
       "2    2\n",
       "3    3\n",
       "4    4\n",
       "dtype: int64"
      ]
     },
     "execution_count": 250,
     "metadata": {},
     "output_type": "execute_result"
    }
   ],
   "source": [
    "string_series.str[-1].astype('int')"
   ]
  },
  {
   "cell_type": "code",
   "execution_count": 251,
   "id": "29a624aa-f2da-424d-a657-6af612ad6f4f",
   "metadata": {},
   "outputs": [
    {
     "data": {
      "text/plain": [
       "0    ay\n",
       "1    ay\n",
       "2    ay\n",
       "3    ay\n",
       "4    ay\n",
       "dtype: object"
      ]
     },
     "execution_count": 251,
     "metadata": {},
     "output_type": "execute_result"
    }
   ],
   "source": [
    "string_series.str[1:3]"
   ]
  },
  {
   "cell_type": "code",
   "execution_count": 252,
   "id": "5398a11e-57e5-43ce-8b44-44c746929284",
   "metadata": {},
   "outputs": [
    {
     "data": {
      "text/plain": [
       "0    [day, 0]\n",
       "1    [day, 1]\n",
       "2    [day, 2]\n",
       "3    [day, 3]\n",
       "4    [day, 4]\n",
       "dtype: object"
      ]
     },
     "execution_count": 252,
     "metadata": {},
     "output_type": "execute_result"
    }
   ],
   "source": [
    "string_series.str.split(' ')"
   ]
  },
  {
   "cell_type": "code",
   "execution_count": 253,
   "id": "d0031ec4-8f37-4675-9484-0531beb6746d",
   "metadata": {},
   "outputs": [
    {
     "data": {
      "text/html": [
       "<div>\n",
       "<style scoped>\n",
       "    .dataframe tbody tr th:only-of-type {\n",
       "        vertical-align: middle;\n",
       "    }\n",
       "\n",
       "    .dataframe tbody tr th {\n",
       "        vertical-align: top;\n",
       "    }\n",
       "\n",
       "    .dataframe thead th {\n",
       "        text-align: right;\n",
       "    }\n",
       "</style>\n",
       "<table border=\"1\" class=\"dataframe\">\n",
       "  <thead>\n",
       "    <tr style=\"text-align: right;\">\n",
       "      <th></th>\n",
       "      <th>0</th>\n",
       "      <th>1</th>\n",
       "    </tr>\n",
       "  </thead>\n",
       "  <tbody>\n",
       "    <tr>\n",
       "      <th>0</th>\n",
       "      <td>day</td>\n",
       "      <td>0</td>\n",
       "    </tr>\n",
       "    <tr>\n",
       "      <th>1</th>\n",
       "      <td>day</td>\n",
       "      <td>1</td>\n",
       "    </tr>\n",
       "    <tr>\n",
       "      <th>2</th>\n",
       "      <td>day</td>\n",
       "      <td>2</td>\n",
       "    </tr>\n",
       "    <tr>\n",
       "      <th>3</th>\n",
       "      <td>day</td>\n",
       "      <td>3</td>\n",
       "    </tr>\n",
       "    <tr>\n",
       "      <th>4</th>\n",
       "      <td>day</td>\n",
       "      <td>4</td>\n",
       "    </tr>\n",
       "  </tbody>\n",
       "</table>\n",
       "</div>"
      ],
      "text/plain": [
       "     0  1\n",
       "0  day  0\n",
       "1  day  1\n",
       "2  day  2\n",
       "3  day  3\n",
       "4  day  4"
      ]
     },
     "execution_count": 253,
     "metadata": {},
     "output_type": "execute_result"
    }
   ],
   "source": [
    "string_series.str.split(' ', expand=True)"
   ]
  },
  {
   "cell_type": "markdown",
   "id": "763b7a4c-660e-495f-aad6-ba20562b03f7",
   "metadata": {},
   "source": [
    "### Exercise 4 "
   ]
  },
  {
   "cell_type": "code",
   "execution_count": 264,
   "id": "a80e3273-463a-44fc-92c3-49f8dbbfffec",
   "metadata": {},
   "outputs": [
    {
     "data": {
      "text/plain": [
       "2016-12-20    52.22\n",
       "2016-12-21    51.44\n",
       "2016-12-22    51.98\n",
       "2016-12-23    52.01\n",
       "2016-12-27    52.82\n",
       "              ...  \n",
       "2017-05-09    45.84\n",
       "2017-05-10    47.28\n",
       "2017-05-11    47.81\n",
       "2017-05-12    47.83\n",
       "2017-05-15    48.86\n",
       "Name: oil_series, Length: 100, dtype: float64"
      ]
     },
     "execution_count": 264,
     "metadata": {},
     "output_type": "execute_result"
    }
   ],
   "source": [
    "# increase the prices in the oil series by 10% and then add an additional 2 dollars / barrel on top of that\n",
    "oil_series"
   ]
  },
  {
   "cell_type": "code",
   "execution_count": 256,
   "id": "fa265e09-b75d-4c73-8325-fcf4a61f12c9",
   "metadata": {},
   "outputs": [
    {
     "data": {
      "text/plain": [
       "2016-12-20    59.442\n",
       "2016-12-21    58.584\n",
       "2016-12-22    59.178\n",
       "2016-12-23    59.211\n",
       "2016-12-27    60.102\n",
       "               ...  \n",
       "2017-05-09    52.424\n",
       "2017-05-10    54.008\n",
       "2017-05-11    54.591\n",
       "2017-05-12    54.613\n",
       "2017-05-15    55.746\n",
       "Name: oil_series, Length: 100, dtype: float64"
      ]
     },
     "execution_count": 256,
     "metadata": {},
     "output_type": "execute_result"
    }
   ],
   "source": [
    "new_oil_series = (oil_series + (oil_series * .1 )) + 2\n",
    "\n",
    "new_oil_series"
   ]
  },
  {
   "cell_type": "code",
   "execution_count": 259,
   "id": "f2be330e-62f9-4a85-9baf-ef8ec87d8c24",
   "metadata": {},
   "outputs": [
    {
     "data": {
      "text/plain": [
       "np.float64(54.48)"
      ]
     },
     "execution_count": 259,
     "metadata": {},
     "output_type": "execute_result"
    }
   ],
   "source": [
    "# create a series that represents the % diff bet each price in the original oil_series and max_price\n",
    "max_oil_price = oil_series.max()\n",
    "\n",
    "max_oil_price"
   ]
  },
  {
   "cell_type": "code",
   "execution_count": 272,
   "id": "79144cc2-ab21-42b5-b499-6422deb50bf5",
   "metadata": {},
   "outputs": [
    {
     "data": {
      "text/plain": [
       "2016-12-20   -0.041483\n",
       "2016-12-21   -0.055800\n",
       "2016-12-22   -0.045888\n",
       "2016-12-23   -0.045338\n",
       "2016-12-27   -0.030470\n",
       "                ...   \n",
       "2017-05-09   -0.158590\n",
       "2017-05-10   -0.132159\n",
       "2017-05-11   -0.122430\n",
       "2017-05-12   -0.122063\n",
       "2017-05-15   -0.103157\n",
       "Name: oil_series, Length: 100, dtype: float64"
      ]
     },
     "execution_count": 272,
     "metadata": {},
     "output_type": "execute_result"
    }
   ],
   "source": [
    "(oil_series - max_oil_price)/max_oil_price # % difference "
   ]
  },
  {
   "cell_type": "code",
   "execution_count": 271,
   "id": "3a5a1b97-78ef-49ec-9bb3-f4b5bbcaf281",
   "metadata": {},
   "outputs": [
    {
     "data": {
      "text/plain": [
       "Index([12, 12, 12, 12, 12, 12, 12, 12,  1,  1,  1,  1,  1,  1,  1,  1,  1,  1,\n",
       "        1,  1,  1,  1,  1,  1,  1,  1,  1,  1,  2,  2,  2,  2,  2,  2,  2,  2,\n",
       "        2,  2,  2,  2,  2,  2,  2,  2,  2,  2,  2,  3,  3,  3,  3,  3,  3,  3,\n",
       "        3,  3,  3,  3,  3,  3,  3,  3,  3,  3,  3,  3,  3,  3,  3,  3,  4,  4,\n",
       "        4,  4,  4,  4,  4,  4,  4,  4,  4,  4,  4,  4,  4,  4,  4,  4,  4,  5,\n",
       "        5,  5,  5,  5,  5,  5,  5,  5,  5,  5],\n",
       "      dtype='int64')"
      ]
     },
     "execution_count": 271,
     "metadata": {},
     "output_type": "execute_result"
    }
   ],
   "source": [
    "# extract month from the string dates and store them as integers\n",
    "oil_series.index.str.slice(5,7).astype('int')"
   ]
  },
  {
   "cell_type": "code",
   "execution_count": 274,
   "id": "34ba40ed-987b-46ea-bb84-b8e008c5b1ae",
   "metadata": {},
   "outputs": [
    {
     "data": {
      "text/plain": [
       "0     12\n",
       "1     12\n",
       "2     12\n",
       "3     12\n",
       "4     12\n",
       "      ..\n",
       "95     5\n",
       "96     5\n",
       "97     5\n",
       "98     5\n",
       "99     5\n",
       "Length: 100, dtype: int64"
      ]
     },
     "execution_count": 274,
     "metadata": {},
     "output_type": "execute_result"
    }
   ],
   "source": [
    "pd.Series(oil_series.index.str[5:7].astype('int'))"
   ]
  },
  {
   "cell_type": "markdown",
   "id": "901b6235-3368-4dd7-92ed-f9575b2f30eb",
   "metadata": {},
   "source": [
    "### Numeric series aggregation\n",
    "- .argmax(), .argmin() - returns the index for the smallest or largest values"
   ]
  },
  {
   "cell_type": "code",
   "execution_count": 275,
   "id": "bb649179-de9e-47fa-b63e-14e143553516",
   "metadata": {},
   "outputs": [
    {
     "data": {
      "text/plain": [
       "coffee       0\n",
       "coffee       5\n",
       "tea        155\n",
       "coconut      0\n",
       "sugar      518\n",
       "Name: Sales, dtype: int64"
      ]
     },
     "execution_count": 275,
     "metadata": {},
     "output_type": "execute_result"
    }
   ],
   "source": [
    "sales_series"
   ]
  },
  {
   "cell_type": "code",
   "execution_count": 276,
   "id": "91cbd51b-af68-4db0-a7a3-db4d40f91389",
   "metadata": {},
   "outputs": [
    {
     "data": {
      "text/plain": [
       "np.int64(678)"
      ]
     },
     "execution_count": 276,
     "metadata": {},
     "output_type": "execute_result"
    }
   ],
   "source": [
    "sales_series.sum()"
   ]
  },
  {
   "cell_type": "code",
   "execution_count": 277,
   "id": "744009cb-f54e-486b-a837-19ec3d6927b9",
   "metadata": {},
   "outputs": [
    {
     "data": {
      "text/plain": [
       "np.int64(5)"
      ]
     },
     "execution_count": 277,
     "metadata": {},
     "output_type": "execute_result"
    }
   ],
   "source": [
    "sales_series.loc[\"coffee\"].sum()"
   ]
  },
  {
   "cell_type": "code",
   "execution_count": 278,
   "id": "229fd24d-2604-4cfe-ac70-3076d11c719b",
   "metadata": {},
   "outputs": [
    {
     "data": {
      "text/plain": [
       "0.25      0.0\n",
       "0.50      5.0\n",
       "0.75    155.0\n",
       "Name: Sales, dtype: float64"
      ]
     },
     "execution_count": 278,
     "metadata": {},
     "output_type": "execute_result"
    }
   ],
   "source": [
    "sales_series.quantile([0.25, 0.50, 0.75])"
   ]
  },
  {
   "cell_type": "code",
   "execution_count": 283,
   "id": "459c1643-794c-4172-b88a-a3127a0f1dab",
   "metadata": {},
   "outputs": [
    {
     "data": {
      "text/plain": [
       "0     770\n",
       "1    2111\n",
       "2    2358\n",
       "3    3487\n",
       "4    1922\n",
       "Name: transactions, dtype: int64"
      ]
     },
     "execution_count": 283,
     "metadata": {},
     "output_type": "execute_result"
    }
   ],
   "source": [
    "transactions = pd.read_csv(\"./retail/transactions.csv\")\n",
    "\n",
    "transactions_series = pd.Series(transactions[\"transactions\"])\n",
    "\n",
    "transactions_series.iloc[:5]"
   ]
  },
  {
   "cell_type": "code",
   "execution_count": 284,
   "id": "b9a9f73c-348e-44e9-9928-27afbc66153e",
   "metadata": {},
   "outputs": [
    {
     "data": {
      "text/plain": [
       "np.int64(83488)"
      ]
     },
     "execution_count": 284,
     "metadata": {},
     "output_type": "execute_result"
    }
   ],
   "source": [
    "transactions_series.count()"
   ]
  },
  {
   "cell_type": "code",
   "execution_count": 285,
   "id": "15c64034-d52c-4ebb-8518-91d159a97968",
   "metadata": {},
   "outputs": [
    {
     "data": {
      "text/plain": [
       "np.int64(8359)"
      ]
     },
     "execution_count": 285,
     "metadata": {},
     "output_type": "execute_result"
    }
   ],
   "source": [
    "transactions_series.max()"
   ]
  },
  {
   "cell_type": "code",
   "execution_count": 286,
   "id": "9cdd9b76-6ecc-41e8-87ec-733ca59f93fd",
   "metadata": {},
   "outputs": [
    {
     "data": {
      "text/plain": [
       "np.int64(5)"
      ]
     },
     "execution_count": 286,
     "metadata": {},
     "output_type": "execute_result"
    }
   ],
   "source": [
    "transactions_series.min()"
   ]
  },
  {
   "cell_type": "code",
   "execution_count": 287,
   "id": "c4df975f-6a2a-443a-b801-3413d7ce8c64",
   "metadata": {},
   "outputs": [
    {
     "data": {
      "text/plain": [
       "np.int64(141478945)"
      ]
     },
     "execution_count": 287,
     "metadata": {},
     "output_type": "execute_result"
    }
   ],
   "source": [
    "transactions_series.sum()"
   ]
  },
  {
   "cell_type": "code",
   "execution_count": 288,
   "id": "4b906db6-420f-468d-8d21-e876d96ff80a",
   "metadata": {},
   "outputs": [
    {
     "data": {
      "text/plain": [
       "np.float64(1694.6021583940208)"
      ]
     },
     "execution_count": 288,
     "metadata": {},
     "output_type": "execute_result"
    }
   ],
   "source": [
    "transactions_series.mean()"
   ]
  },
  {
   "cell_type": "code",
   "execution_count": 290,
   "id": "1ded82c1-e57f-4aa0-8b10-31affe50d5db",
   "metadata": {},
   "outputs": [
    {
     "data": {
      "text/plain": [
       "0.5    1393\n",
       "Name: transactions, dtype: int64"
      ]
     },
     "execution_count": 290,
     "metadata": {},
     "output_type": "execute_result"
    }
   ],
   "source": [
    "transactions_series.quantile([.5], interpolation=\"nearest\")"
   ]
  },
  {
   "cell_type": "code",
   "execution_count": 291,
   "id": "ef6559ed-5e31-4ff4-874e-06fb0399cae6",
   "metadata": {},
   "outputs": [
    {
     "data": {
      "text/plain": [
       "0     770\n",
       "1    2111\n",
       "2    2358\n",
       "3    3487\n",
       "4    1922\n",
       "Name: transactions, dtype: int64"
      ]
     },
     "execution_count": 291,
     "metadata": {},
     "output_type": "execute_result"
    }
   ],
   "source": [
    "transactions_series.iloc[:5] #quantile([.5], interpolation=\"nearest\")"
   ]
  },
  {
   "cell_type": "code",
   "execution_count": 293,
   "id": "fc46a133-980a-4765-acfa-ed1cc05a6443",
   "metadata": {},
   "outputs": [
    {
     "data": {
      "text/plain": [
       "0.5    2111.0\n",
       "Name: transactions, dtype: float64"
      ]
     },
     "execution_count": 293,
     "metadata": {},
     "output_type": "execute_result"
    }
   ],
   "source": [
    "transactions_series.iloc[:5].quantile([.5])"
   ]
  },
  {
   "cell_type": "code",
   "execution_count": 294,
   "id": "28e7bcdd-4799-4fc8-92a7-9aaef34c1f8a",
   "metadata": {},
   "outputs": [
    {
     "data": {
      "text/plain": [
       "0.4    2035.4\n",
       "Name: transactions, dtype: float64"
      ]
     },
     "execution_count": 294,
     "metadata": {},
     "output_type": "execute_result"
    }
   ],
   "source": [
    "transactions_series.iloc[:5].quantile([.4])"
   ]
  },
  {
   "cell_type": "code",
   "execution_count": 295,
   "id": "c6d206f4-fbd8-418f-9b13-f5fa2b483847",
   "metadata": {},
   "outputs": [
    {
     "data": {
      "text/plain": [
       "0.4    2111\n",
       "Name: transactions, dtype: int64"
      ]
     },
     "execution_count": 295,
     "metadata": {},
     "output_type": "execute_result"
    }
   ],
   "source": [
    "transactions_series.iloc[:5].quantile([.4], interpolation=\"nearest\")"
   ]
  },
  {
   "cell_type": "markdown",
   "id": "182f5fc6-9b52-4b0a-bee6-04f156aec14c",
   "metadata": {},
   "source": [
    "### categorical series aggregation"
   ]
  },
  {
   "cell_type": "code",
   "execution_count": 296,
   "id": "31fda560-cb27-4b86-9921-8eecaf980882",
   "metadata": {},
   "outputs": [
    {
     "data": {
      "text/plain": [
       "coffee       0\n",
       "coffee       5\n",
       "tea        155\n",
       "coconut      0\n",
       "sugar      518\n",
       "Name: Sales, dtype: int64"
      ]
     },
     "execution_count": 296,
     "metadata": {},
     "output_type": "execute_result"
    }
   ],
   "source": [
    "sales_series"
   ]
  },
  {
   "cell_type": "code",
   "execution_count": 306,
   "id": "d97b778e-287d-44eb-a17c-f001680b0369",
   "metadata": {},
   "outputs": [
    {
     "data": {
      "text/plain": [
       "0     coffee\n",
       "1     coffee\n",
       "2        tea\n",
       "3    coconut\n",
       "4      sugar\n",
       "dtype: object"
      ]
     },
     "execution_count": 306,
     "metadata": {},
     "output_type": "execute_result"
    }
   ],
   "source": [
    "items = pd.Series(sales_series.index.astype('str'))\n",
    "\n",
    "items"
   ]
  },
  {
   "cell_type": "code",
   "execution_count": 307,
   "id": "65723a46-28da-4e34-bc72-79ad23dbc0cd",
   "metadata": {},
   "outputs": [
    {
     "data": {
      "text/plain": [
       "coffee     2\n",
       "tea        1\n",
       "coconut    1\n",
       "sugar      1\n",
       "Name: count, dtype: int64"
      ]
     },
     "execution_count": 307,
     "metadata": {},
     "output_type": "execute_result"
    }
   ],
   "source": [
    "items.value_counts()"
   ]
  },
  {
   "cell_type": "code",
   "execution_count": 308,
   "id": "f54aa83a-42a2-4455-bc96-b9f7697c80f8",
   "metadata": {},
   "outputs": [
    {
     "data": {
      "text/plain": [
       "coffee     0.4\n",
       "tea        0.2\n",
       "coconut    0.2\n",
       "sugar      0.2\n",
       "Name: proportion, dtype: float64"
      ]
     },
     "execution_count": 308,
     "metadata": {},
     "output_type": "execute_result"
    }
   ],
   "source": [
    "items.value_counts(normalize=True)"
   ]
  },
  {
   "cell_type": "code",
   "execution_count": 309,
   "id": "08bb7a39-50ca-4648-8f02-91a1732d19c8",
   "metadata": {},
   "outputs": [
    {
     "data": {
      "text/plain": [
       "array(['coffee', 'tea', 'coconut', 'sugar'], dtype=object)"
      ]
     },
     "execution_count": 309,
     "metadata": {},
     "output_type": "execute_result"
    }
   ],
   "source": [
    "items.unique()"
   ]
  },
  {
   "cell_type": "code",
   "execution_count": 310,
   "id": "3be4a6cd-f4f1-439b-9e68-e6202b67bab2",
   "metadata": {},
   "outputs": [
    {
     "data": {
      "text/plain": [
       "4"
      ]
     },
     "execution_count": 310,
     "metadata": {},
     "output_type": "execute_result"
    }
   ],
   "source": [
    "items.nunique()"
   ]
  },
  {
   "cell_type": "code",
   "execution_count": 311,
   "id": "cf6c4cf4-6806-46a7-b490-7d6c7566c654",
   "metadata": {},
   "outputs": [
    {
     "data": {
      "text/plain": [
       "0    day 0\n",
       "1    day 1\n",
       "2    day 2\n",
       "3    day 3\n",
       "4    day 4\n",
       "dtype: object"
      ]
     },
     "execution_count": 311,
     "metadata": {},
     "output_type": "execute_result"
    }
   ],
   "source": [
    "string_series"
   ]
  },
  {
   "cell_type": "code",
   "execution_count": 312,
   "id": "d3a94fe5-9185-4742-8388-f09f0097a6d1",
   "metadata": {},
   "outputs": [
    {
     "data": {
      "text/plain": [
       "5"
      ]
     },
     "execution_count": 312,
     "metadata": {},
     "output_type": "execute_result"
    }
   ],
   "source": [
    "string_series.nunique()"
   ]
  },
  {
   "cell_type": "code",
   "execution_count": 313,
   "id": "9bd0660c-904a-4a0d-abe7-c56f95534600",
   "metadata": {},
   "outputs": [
    {
     "data": {
      "text/plain": [
       "array(['day 0', 'day 1', 'day 2', 'day 3', 'day 4'], dtype=object)"
      ]
     },
     "execution_count": 313,
     "metadata": {},
     "output_type": "execute_result"
    }
   ],
   "source": [
    "string_series.unique()"
   ]
  },
  {
   "cell_type": "code",
   "execution_count": 315,
   "id": "9ad6064e-f786-4f2e-bed9-fc685b467278",
   "metadata": {},
   "outputs": [
    {
     "data": {
      "text/plain": [
       "day 0    0.2\n",
       "day 1    0.2\n",
       "day 2    0.2\n",
       "day 3    0.2\n",
       "day 4    0.2\n",
       "Name: proportion, dtype: float64"
      ]
     },
     "execution_count": 315,
     "metadata": {},
     "output_type": "execute_result"
    }
   ],
   "source": [
    "string_series.value_counts(normalize=True)"
   ]
  },
  {
   "cell_type": "markdown",
   "id": "d3c8e15e-36ca-4114-940d-1d01171a27a5",
   "metadata": {},
   "source": [
    "### Assignment 5 - series aggregations"
   ]
  },
  {
   "cell_type": "code",
   "execution_count": 321,
   "id": "176baaab-490c-4b59-bbc0-36daf151c4b2",
   "metadata": {},
   "outputs": [
    {
     "data": {
      "text/plain": [
       "2016-12-20    52.22\n",
       "2016-12-21    51.44\n",
       "2016-12-22    51.98\n",
       "2016-12-23    52.01\n",
       "2016-12-27    52.82\n",
       "              ...  \n",
       "2017-05-09    45.84\n",
       "2017-05-10    47.28\n",
       "2017-05-11    47.81\n",
       "2017-05-12    47.83\n",
       "2017-05-15    48.86\n",
       "Name: oil_series, Length: 100, dtype: float64"
      ]
     },
     "execution_count": 321,
     "metadata": {},
     "output_type": "execute_result"
    }
   ],
   "source": [
    "# calculate the sum and mean of prices in the month of march \n",
    "oil_series.where(oil_series.index.str.slice(5,7).astype('int') == 3,oil_series)"
   ]
  },
  {
   "cell_type": "code",
   "execution_count": 335,
   "id": "cce96224-0b8a-46eb-8e12-8ba524310434",
   "metadata": {},
   "outputs": [],
   "source": [
    "oil_seriel_march = oil_series[oil_series.index.str[5:7].astype('int').isin([3])]"
   ]
  },
  {
   "cell_type": "code",
   "execution_count": 348,
   "id": "22f0cc08-7823-4f10-8d74-605351bee5a2",
   "metadata": {},
   "outputs": [
    {
     "data": {
      "text/plain": [
       "np.float64(49.32782608695651)"
      ]
     },
     "execution_count": 348,
     "metadata": {},
     "output_type": "execute_result"
    }
   ],
   "source": [
    "oil_seriel_march.mean()"
   ]
  },
  {
   "cell_type": "code",
   "execution_count": 346,
   "id": "43594e54-55d8-4ab5-9e57-ebcd84228c55",
   "metadata": {},
   "outputs": [
    {
     "data": {
      "text/plain": [
       "np.float64(1134.54)"
      ]
     },
     "execution_count": 346,
     "metadata": {},
     "output_type": "execute_result"
    }
   ],
   "source": [
    "oil_seriel_march.sum().round(2)"
   ]
  },
  {
   "cell_type": "code",
   "execution_count": 330,
   "id": "f923b7d3-eae2-4d6a-9a18-c3101703e4e2",
   "metadata": {},
   "outputs": [
    {
     "data": {
      "text/plain": [
       "np.int64(39)"
      ]
     },
     "execution_count": 330,
     "metadata": {},
     "output_type": "execute_result"
    }
   ],
   "source": [
    "oil_series[oil_series.index.str[5:7].astype('int').isin([1,2])].count()"
   ]
  },
  {
   "cell_type": "code",
   "execution_count": 340,
   "id": "4b132200-aece-4bc2-95e4-8e7311261f5c",
   "metadata": {},
   "outputs": [
    {
     "data": {
      "text/plain": [
       "0.1    47.30\n",
       "0.9    53.81\n",
       "Name: oil_series, dtype: float64"
      ]
     },
     "execution_count": 340,
     "metadata": {},
     "output_type": "execute_result"
    }
   ],
   "source": [
    "# calculate 10th , 90th percentile across all data \n",
    "oil_series.quantile([.1,.9], interpolation=\"nearest\")"
   ]
  },
  {
   "cell_type": "code",
   "execution_count": 349,
   "id": "0994109f-27ab-49c4-8806-fa5102bf71a4",
   "metadata": {},
   "outputs": [
    {
     "data": {
      "text/plain": [
       "oil_series\n",
       "53    0.26\n",
       "52    0.22\n",
       "47    0.13\n",
       "48    0.10\n",
       "51    0.07\n",
       "50    0.07\n",
       "49    0.06\n",
       "54    0.05\n",
       "45    0.02\n",
       "46    0.02\n",
       "Name: proportion, dtype: float64"
      ]
     },
     "execution_count": 349,
     "metadata": {},
     "output_type": "execute_result"
    }
   ],
   "source": [
    "# finally how often integer dollar value (eg 51, 52) occur in the data \n",
    "oil_series.astype('int').value_counts(normalize=True)"
   ]
  },
  {
   "cell_type": "markdown",
   "id": "03e1d2d4-ba54-4996-9e6c-4600c594e20b",
   "metadata": {},
   "source": [
    "### Missing Data \n",
    "-- numpy NaN value \n",
    "-- pandas as NA\n",
    "-- pandas allows storing missing values as integers , instead of needing to convert to float"
   ]
  },
  {
   "cell_type": "code",
   "execution_count": 350,
   "id": "413abace-781d-4fc4-98c5-53dd15df54da",
   "metadata": {},
   "outputs": [
    {
     "data": {
      "text/plain": [
       "0      0.0\n",
       "1      5.0\n",
       "2    155.0\n",
       "3      NaN\n",
       "4    518.0\n",
       "Name: Sales, dtype: float64"
      ]
     },
     "execution_count": 350,
     "metadata": {},
     "output_type": "execute_result"
    }
   ],
   "source": [
    "sales = [0, 5, 155, np.nan, 518]\n",
    "\n",
    "sales_series = pd.Series(sales, name=\"Sales\")\n",
    "\n",
    "sales_series"
   ]
  },
  {
   "cell_type": "code",
   "execution_count": 351,
   "id": "b62c6b25-2a94-42c9-a0b6-c6c80e4aba0a",
   "metadata": {},
   "outputs": [
    {
     "data": {
      "text/plain": [
       "0      2.0\n",
       "1      7.0\n",
       "2    157.0\n",
       "3      NaN\n",
       "4    520.0\n",
       "Name: Sales, dtype: float64"
      ]
     },
     "execution_count": 351,
     "metadata": {},
     "output_type": "execute_result"
    }
   ],
   "source": [
    "sales_series + 2"
   ]
  },
  {
   "cell_type": "code",
   "execution_count": 352,
   "id": "5010acbf-3133-4c95-b2f7-f4cc4a98ec6e",
   "metadata": {},
   "outputs": [
    {
     "data": {
      "text/plain": [
       "0      2.0\n",
       "1      7.0\n",
       "2    157.0\n",
       "3      2.0\n",
       "4    520.0\n",
       "Name: Sales, dtype: float64"
      ]
     },
     "execution_count": 352,
     "metadata": {},
     "output_type": "execute_result"
    }
   ],
   "source": [
    "sales_series.add(2, fill_value=0)"
   ]
  },
  {
   "cell_type": "code",
   "execution_count": 354,
   "id": "73d1ad49-44ff-4f81-82d4-1094db094565",
   "metadata": {},
   "outputs": [
    {
     "data": {
      "text/plain": [
       "0       0\n",
       "1       5\n",
       "2     155\n",
       "3    <NA>\n",
       "4     518\n",
       "Name: Sales, dtype: Int16"
      ]
     },
     "execution_count": 354,
     "metadata": {},
     "output_type": "execute_result"
    }
   ],
   "source": [
    "sales = [0, 5, 155, pd.NA, 518]\n",
    "\n",
    "sales_series = pd.Series(sales, name=\"Sales\", dtype = \"Int16\")\n",
    "\n",
    "sales_series"
   ]
  },
  {
   "cell_type": "markdown",
   "id": "5ec8058d-3a94-42e5-9fd2-4b4693c77fd3",
   "metadata": {},
   "source": [
    "### identifying missing data \n",
    "- .isna() and .value_counts() "
   ]
  },
  {
   "cell_type": "code",
   "execution_count": 356,
   "id": "d2866f7c-3510-451c-be2e-317251337969",
   "metadata": {},
   "outputs": [
    {
     "data": {
      "text/plain": [
       "0    COMPLETE\n",
       "1        <NA>\n",
       "2        <NA>\n",
       "3        <NA>\n",
       "4    COMPLETE\n",
       "dtype: object"
      ]
     },
     "execution_count": 356,
     "metadata": {},
     "output_type": "execute_result"
    }
   ],
   "source": [
    "checklist = pd.Series(['COMPLETE', pd.NA, pd.NA,pd.NA,'COMPLETE'])\n",
    "\n",
    "checklist"
   ]
  },
  {
   "cell_type": "code",
   "execution_count": 357,
   "id": "7303585f-6723-4ed7-b4c0-36ac372a4844",
   "metadata": {},
   "outputs": [
    {
     "data": {
      "text/plain": [
       "0    False\n",
       "1     True\n",
       "2     True\n",
       "3     True\n",
       "4    False\n",
       "dtype: bool"
      ]
     },
     "execution_count": 357,
     "metadata": {},
     "output_type": "execute_result"
    }
   ],
   "source": [
    "checklist.isna()"
   ]
  },
  {
   "cell_type": "code",
   "execution_count": 358,
   "id": "f3f4e22b-25a9-4a53-b6c7-510a49a09a79",
   "metadata": {},
   "outputs": [
    {
     "data": {
      "text/plain": [
       "np.int64(3)"
      ]
     },
     "execution_count": 358,
     "metadata": {},
     "output_type": "execute_result"
    }
   ],
   "source": [
    "checklist.isna().sum()"
   ]
  },
  {
   "cell_type": "code",
   "execution_count": 359,
   "id": "618d623a-06ec-4e18-a2fc-7bc99755f31d",
   "metadata": {},
   "outputs": [
    {
     "data": {
      "text/plain": [
       "COMPLETE    2\n",
       "Name: count, dtype: int64"
      ]
     },
     "execution_count": 359,
     "metadata": {},
     "output_type": "execute_result"
    }
   ],
   "source": [
    "checklist.value_counts()"
   ]
  },
  {
   "cell_type": "code",
   "execution_count": 360,
   "id": "af1310ac-f0f7-48b8-9c51-37c2ededf294",
   "metadata": {},
   "outputs": [
    {
     "data": {
      "text/plain": [
       "<NA>        3\n",
       "COMPLETE    2\n",
       "Name: count, dtype: int64"
      ]
     },
     "execution_count": 360,
     "metadata": {},
     "output_type": "execute_result"
    }
   ],
   "source": [
    "checklist.value_counts(dropna=False)"
   ]
  },
  {
   "cell_type": "markdown",
   "id": "29b370d7-48e7-43c7-bbb8-18933df8541a",
   "metadata": {},
   "source": [
    "### Handling missing data \n",
    "-dropna\n",
    "- fillna()"
   ]
  },
  {
   "cell_type": "code",
   "execution_count": 361,
   "id": "9ed2aedd-472c-47cb-b5a8-62c17c333185",
   "metadata": {},
   "outputs": [
    {
     "data": {
      "text/plain": [
       "0    COMPLETE\n",
       "1        <NA>\n",
       "2        <NA>\n",
       "3        <NA>\n",
       "4    COMPLETE\n",
       "dtype: object"
      ]
     },
     "execution_count": 361,
     "metadata": {},
     "output_type": "execute_result"
    }
   ],
   "source": [
    "checklist"
   ]
  },
  {
   "cell_type": "code",
   "execution_count": 362,
   "id": "c867dae0-c725-4451-9b30-cf33efa388e3",
   "metadata": {},
   "outputs": [
    {
     "data": {
      "text/plain": [
       "0    COMPLETE\n",
       "4    COMPLETE\n",
       "dtype: object"
      ]
     },
     "execution_count": 362,
     "metadata": {},
     "output_type": "execute_result"
    }
   ],
   "source": [
    "checklist.dropna() # index will have gap"
   ]
  },
  {
   "cell_type": "code",
   "execution_count": 363,
   "id": "3815a75d-2438-42ad-b335-b954213d1460",
   "metadata": {},
   "outputs": [
    {
     "data": {
      "text/plain": [
       "0      COMPLETE\n",
       "1    INCOMPLETE\n",
       "2    INCOMPLETE\n",
       "3    INCOMPLETE\n",
       "4      COMPLETE\n",
       "dtype: object"
      ]
     },
     "execution_count": 363,
     "metadata": {},
     "output_type": "execute_result"
    }
   ],
   "source": [
    "checklist.fillna(\"INCOMPLETE\")"
   ]
  },
  {
   "cell_type": "code",
   "execution_count": 364,
   "id": "32069da3-b66f-41bc-9130-338a74ba7e3f",
   "metadata": {},
   "outputs": [
    {
     "data": {
      "text/plain": [
       "0       0\n",
       "1       5\n",
       "2     155\n",
       "3    <NA>\n",
       "4     518\n",
       "Name: Sales, dtype: Int16"
      ]
     },
     "execution_count": 364,
     "metadata": {},
     "output_type": "execute_result"
    }
   ],
   "source": [
    "sales_series"
   ]
  },
  {
   "cell_type": "code",
   "execution_count": 365,
   "id": "cca17d5b-68a8-4504-b45d-ce45f0684d36",
   "metadata": {},
   "outputs": [
    {
     "data": {
      "text/plain": [
       "0      0\n",
       "1      5\n",
       "2    155\n",
       "4    518\n",
       "Name: Sales, dtype: Int16"
      ]
     },
     "execution_count": 365,
     "metadata": {},
     "output_type": "execute_result"
    }
   ],
   "source": [
    "sales_series.dropna()"
   ]
  },
  {
   "cell_type": "code",
   "execution_count": 366,
   "id": "1bc6d609-713a-472c-9ebd-93e20da34648",
   "metadata": {},
   "outputs": [
    {
     "data": {
      "text/plain": [
       "0      0\n",
       "1      5\n",
       "2    155\n",
       "3      0\n",
       "4    518\n",
       "Name: Sales, dtype: Int16"
      ]
     },
     "execution_count": 366,
     "metadata": {},
     "output_type": "execute_result"
    }
   ],
   "source": [
    "sales_series.fillna(0)"
   ]
  },
  {
   "cell_type": "code",
   "execution_count": 368,
   "id": "d624653b-1885-4893-9551-007e4047788f",
   "metadata": {},
   "outputs": [
    {
     "data": {
      "text/plain": [
       "0      0\n",
       "1      5\n",
       "2    155\n",
       "3    169\n",
       "4    518\n",
       "Name: Sales, dtype: Int16"
      ]
     },
     "execution_count": 368,
     "metadata": {},
     "output_type": "execute_result"
    }
   ],
   "source": [
    "sales_series.fillna(sales_series.mean().astype('int'))"
   ]
  },
  {
   "cell_type": "code",
   "execution_count": 371,
   "id": "200c62d4-8381-474a-84d6-f3835797c5a1",
   "metadata": {},
   "outputs": [
    {
     "data": {
      "text/plain": [
       "0   NaN\n",
       "1   NaN\n",
       "2   NaN\n",
       "3   NaN\n",
       "4   NaN\n",
       "dtype: float64"
      ]
     },
     "execution_count": 371,
     "metadata": {},
     "output_type": "execute_result"
    }
   ],
   "source": [
    "my_series = pd.Series([np.nan] * 5)\n",
    "\n",
    "my_series"
   ]
  },
  {
   "cell_type": "code",
   "execution_count": 372,
   "id": "7726ab3a-83a1-4eb2-8a9a-c3197efbad43",
   "metadata": {},
   "outputs": [
    {
     "data": {
      "text/plain": [
       "np.int64(5)"
      ]
     },
     "execution_count": 372,
     "metadata": {},
     "output_type": "execute_result"
    }
   ],
   "source": [
    "my_series.isna().sum()"
   ]
  },
  {
   "cell_type": "code",
   "execution_count": 373,
   "id": "35c09126-2a06-4569-bc46-8a14bc6f3953",
   "metadata": {},
   "outputs": [
    {
     "data": {
      "text/plain": [
       "0    True\n",
       "1    True\n",
       "2    True\n",
       "3    True\n",
       "4    True\n",
       "dtype: bool"
      ]
     },
     "execution_count": 373,
     "metadata": {},
     "output_type": "execute_result"
    }
   ],
   "source": [
    "my_series.isna()"
   ]
  },
  {
   "cell_type": "code",
   "execution_count": 374,
   "id": "722178d0-a95c-4ad2-9de7-2e2245c2304a",
   "metadata": {},
   "outputs": [
    {
     "data": {
      "text/plain": [
       "np.float64(1.0)"
      ]
     },
     "execution_count": 374,
     "metadata": {},
     "output_type": "execute_result"
    }
   ],
   "source": [
    "my_series.isna().mean()"
   ]
  },
  {
   "cell_type": "code",
   "execution_count": 375,
   "id": "ecbd5f93-88ee-40d2-928b-6a4592d2944b",
   "metadata": {},
   "outputs": [
    {
     "ename": "IntCastingNaNError",
     "evalue": "Cannot convert non-finite values (NA or inf) to integer",
     "output_type": "error",
     "traceback": [
      "\u001b[0;31m---------------------------------------------------------------------------\u001b[0m",
      "\u001b[0;31mIntCastingNaNError\u001b[0m                        Traceback (most recent call last)",
      "Cell \u001b[0;32mIn[375], line 1\u001b[0m\n\u001b[0;32m----> 1\u001b[0m \u001b[43mmy_series\u001b[49m\u001b[38;5;241;43m.\u001b[39;49m\u001b[43mastype\u001b[49m\u001b[43m(\u001b[49m\u001b[38;5;124;43m'\u001b[39;49m\u001b[38;5;124;43mint\u001b[39;49m\u001b[38;5;124;43m'\u001b[39;49m\u001b[43m)\u001b[49m\n",
      "File \u001b[0;32m~/Library/Python/3.9/lib/python/site-packages/pandas/core/generic.py:6643\u001b[0m, in \u001b[0;36mNDFrame.astype\u001b[0;34m(self, dtype, copy, errors)\u001b[0m\n\u001b[1;32m   6637\u001b[0m     results \u001b[38;5;241m=\u001b[39m [\n\u001b[1;32m   6638\u001b[0m         ser\u001b[38;5;241m.\u001b[39mastype(dtype, copy\u001b[38;5;241m=\u001b[39mcopy, errors\u001b[38;5;241m=\u001b[39merrors) \u001b[38;5;28;01mfor\u001b[39;00m _, ser \u001b[38;5;129;01min\u001b[39;00m \u001b[38;5;28mself\u001b[39m\u001b[38;5;241m.\u001b[39mitems()\n\u001b[1;32m   6639\u001b[0m     ]\n\u001b[1;32m   6641\u001b[0m \u001b[38;5;28;01melse\u001b[39;00m:\n\u001b[1;32m   6642\u001b[0m     \u001b[38;5;66;03m# else, only a single dtype is given\u001b[39;00m\n\u001b[0;32m-> 6643\u001b[0m     new_data \u001b[38;5;241m=\u001b[39m \u001b[38;5;28;43mself\u001b[39;49m\u001b[38;5;241;43m.\u001b[39;49m\u001b[43m_mgr\u001b[49m\u001b[38;5;241;43m.\u001b[39;49m\u001b[43mastype\u001b[49m\u001b[43m(\u001b[49m\u001b[43mdtype\u001b[49m\u001b[38;5;241;43m=\u001b[39;49m\u001b[43mdtype\u001b[49m\u001b[43m,\u001b[49m\u001b[43m \u001b[49m\u001b[43mcopy\u001b[49m\u001b[38;5;241;43m=\u001b[39;49m\u001b[43mcopy\u001b[49m\u001b[43m,\u001b[49m\u001b[43m \u001b[49m\u001b[43merrors\u001b[49m\u001b[38;5;241;43m=\u001b[39;49m\u001b[43merrors\u001b[49m\u001b[43m)\u001b[49m\n\u001b[1;32m   6644\u001b[0m     res \u001b[38;5;241m=\u001b[39m \u001b[38;5;28mself\u001b[39m\u001b[38;5;241m.\u001b[39m_constructor_from_mgr(new_data, axes\u001b[38;5;241m=\u001b[39mnew_data\u001b[38;5;241m.\u001b[39maxes)\n\u001b[1;32m   6645\u001b[0m     \u001b[38;5;28;01mreturn\u001b[39;00m res\u001b[38;5;241m.\u001b[39m__finalize__(\u001b[38;5;28mself\u001b[39m, method\u001b[38;5;241m=\u001b[39m\u001b[38;5;124m\"\u001b[39m\u001b[38;5;124mastype\u001b[39m\u001b[38;5;124m\"\u001b[39m)\n",
      "File \u001b[0;32m~/Library/Python/3.9/lib/python/site-packages/pandas/core/internals/managers.py:430\u001b[0m, in \u001b[0;36mBaseBlockManager.astype\u001b[0;34m(self, dtype, copy, errors)\u001b[0m\n\u001b[1;32m    427\u001b[0m \u001b[38;5;28;01melif\u001b[39;00m using_copy_on_write():\n\u001b[1;32m    428\u001b[0m     copy \u001b[38;5;241m=\u001b[39m \u001b[38;5;28;01mFalse\u001b[39;00m\n\u001b[0;32m--> 430\u001b[0m \u001b[38;5;28;01mreturn\u001b[39;00m \u001b[38;5;28;43mself\u001b[39;49m\u001b[38;5;241;43m.\u001b[39;49m\u001b[43mapply\u001b[49m\u001b[43m(\u001b[49m\n\u001b[1;32m    431\u001b[0m \u001b[43m    \u001b[49m\u001b[38;5;124;43m\"\u001b[39;49m\u001b[38;5;124;43mastype\u001b[39;49m\u001b[38;5;124;43m\"\u001b[39;49m\u001b[43m,\u001b[49m\n\u001b[1;32m    432\u001b[0m \u001b[43m    \u001b[49m\u001b[43mdtype\u001b[49m\u001b[38;5;241;43m=\u001b[39;49m\u001b[43mdtype\u001b[49m\u001b[43m,\u001b[49m\n\u001b[1;32m    433\u001b[0m \u001b[43m    \u001b[49m\u001b[43mcopy\u001b[49m\u001b[38;5;241;43m=\u001b[39;49m\u001b[43mcopy\u001b[49m\u001b[43m,\u001b[49m\n\u001b[1;32m    434\u001b[0m \u001b[43m    \u001b[49m\u001b[43merrors\u001b[49m\u001b[38;5;241;43m=\u001b[39;49m\u001b[43merrors\u001b[49m\u001b[43m,\u001b[49m\n\u001b[1;32m    435\u001b[0m \u001b[43m    \u001b[49m\u001b[43musing_cow\u001b[49m\u001b[38;5;241;43m=\u001b[39;49m\u001b[43musing_copy_on_write\u001b[49m\u001b[43m(\u001b[49m\u001b[43m)\u001b[49m\u001b[43m,\u001b[49m\n\u001b[1;32m    436\u001b[0m \u001b[43m\u001b[49m\u001b[43m)\u001b[49m\n",
      "File \u001b[0;32m~/Library/Python/3.9/lib/python/site-packages/pandas/core/internals/managers.py:363\u001b[0m, in \u001b[0;36mBaseBlockManager.apply\u001b[0;34m(self, f, align_keys, **kwargs)\u001b[0m\n\u001b[1;32m    361\u001b[0m         applied \u001b[38;5;241m=\u001b[39m b\u001b[38;5;241m.\u001b[39mapply(f, \u001b[38;5;241m*\u001b[39m\u001b[38;5;241m*\u001b[39mkwargs)\n\u001b[1;32m    362\u001b[0m     \u001b[38;5;28;01melse\u001b[39;00m:\n\u001b[0;32m--> 363\u001b[0m         applied \u001b[38;5;241m=\u001b[39m \u001b[38;5;28;43mgetattr\u001b[39;49m\u001b[43m(\u001b[49m\u001b[43mb\u001b[49m\u001b[43m,\u001b[49m\u001b[43m \u001b[49m\u001b[43mf\u001b[49m\u001b[43m)\u001b[49m\u001b[43m(\u001b[49m\u001b[38;5;241;43m*\u001b[39;49m\u001b[38;5;241;43m*\u001b[39;49m\u001b[43mkwargs\u001b[49m\u001b[43m)\u001b[49m\n\u001b[1;32m    364\u001b[0m     result_blocks \u001b[38;5;241m=\u001b[39m extend_blocks(applied, result_blocks)\n\u001b[1;32m    366\u001b[0m out \u001b[38;5;241m=\u001b[39m \u001b[38;5;28mtype\u001b[39m(\u001b[38;5;28mself\u001b[39m)\u001b[38;5;241m.\u001b[39mfrom_blocks(result_blocks, \u001b[38;5;28mself\u001b[39m\u001b[38;5;241m.\u001b[39maxes)\n",
      "File \u001b[0;32m~/Library/Python/3.9/lib/python/site-packages/pandas/core/internals/blocks.py:758\u001b[0m, in \u001b[0;36mBlock.astype\u001b[0;34m(self, dtype, copy, errors, using_cow, squeeze)\u001b[0m\n\u001b[1;32m    755\u001b[0m         \u001b[38;5;28;01mraise\u001b[39;00m \u001b[38;5;167;01mValueError\u001b[39;00m(\u001b[38;5;124m\"\u001b[39m\u001b[38;5;124mCan not squeeze with more than one column.\u001b[39m\u001b[38;5;124m\"\u001b[39m)\n\u001b[1;32m    756\u001b[0m     values \u001b[38;5;241m=\u001b[39m values[\u001b[38;5;241m0\u001b[39m, :]  \u001b[38;5;66;03m# type: ignore[call-overload]\u001b[39;00m\n\u001b[0;32m--> 758\u001b[0m new_values \u001b[38;5;241m=\u001b[39m \u001b[43mastype_array_safe\u001b[49m\u001b[43m(\u001b[49m\u001b[43mvalues\u001b[49m\u001b[43m,\u001b[49m\u001b[43m \u001b[49m\u001b[43mdtype\u001b[49m\u001b[43m,\u001b[49m\u001b[43m \u001b[49m\u001b[43mcopy\u001b[49m\u001b[38;5;241;43m=\u001b[39;49m\u001b[43mcopy\u001b[49m\u001b[43m,\u001b[49m\u001b[43m \u001b[49m\u001b[43merrors\u001b[49m\u001b[38;5;241;43m=\u001b[39;49m\u001b[43merrors\u001b[49m\u001b[43m)\u001b[49m\n\u001b[1;32m    760\u001b[0m new_values \u001b[38;5;241m=\u001b[39m maybe_coerce_values(new_values)\n\u001b[1;32m    762\u001b[0m refs \u001b[38;5;241m=\u001b[39m \u001b[38;5;28;01mNone\u001b[39;00m\n",
      "File \u001b[0;32m~/Library/Python/3.9/lib/python/site-packages/pandas/core/dtypes/astype.py:237\u001b[0m, in \u001b[0;36mastype_array_safe\u001b[0;34m(values, dtype, copy, errors)\u001b[0m\n\u001b[1;32m    234\u001b[0m     dtype \u001b[38;5;241m=\u001b[39m dtype\u001b[38;5;241m.\u001b[39mnumpy_dtype\n\u001b[1;32m    236\u001b[0m \u001b[38;5;28;01mtry\u001b[39;00m:\n\u001b[0;32m--> 237\u001b[0m     new_values \u001b[38;5;241m=\u001b[39m \u001b[43mastype_array\u001b[49m\u001b[43m(\u001b[49m\u001b[43mvalues\u001b[49m\u001b[43m,\u001b[49m\u001b[43m \u001b[49m\u001b[43mdtype\u001b[49m\u001b[43m,\u001b[49m\u001b[43m \u001b[49m\u001b[43mcopy\u001b[49m\u001b[38;5;241;43m=\u001b[39;49m\u001b[43mcopy\u001b[49m\u001b[43m)\u001b[49m\n\u001b[1;32m    238\u001b[0m \u001b[38;5;28;01mexcept\u001b[39;00m (\u001b[38;5;167;01mValueError\u001b[39;00m, \u001b[38;5;167;01mTypeError\u001b[39;00m):\n\u001b[1;32m    239\u001b[0m     \u001b[38;5;66;03m# e.g. _astype_nansafe can fail on object-dtype of strings\u001b[39;00m\n\u001b[1;32m    240\u001b[0m     \u001b[38;5;66;03m#  trying to convert to float\u001b[39;00m\n\u001b[1;32m    241\u001b[0m     \u001b[38;5;28;01mif\u001b[39;00m errors \u001b[38;5;241m==\u001b[39m \u001b[38;5;124m\"\u001b[39m\u001b[38;5;124mignore\u001b[39m\u001b[38;5;124m\"\u001b[39m:\n",
      "File \u001b[0;32m~/Library/Python/3.9/lib/python/site-packages/pandas/core/dtypes/astype.py:182\u001b[0m, in \u001b[0;36mastype_array\u001b[0;34m(values, dtype, copy)\u001b[0m\n\u001b[1;32m    179\u001b[0m     values \u001b[38;5;241m=\u001b[39m values\u001b[38;5;241m.\u001b[39mastype(dtype, copy\u001b[38;5;241m=\u001b[39mcopy)\n\u001b[1;32m    181\u001b[0m \u001b[38;5;28;01melse\u001b[39;00m:\n\u001b[0;32m--> 182\u001b[0m     values \u001b[38;5;241m=\u001b[39m \u001b[43m_astype_nansafe\u001b[49m\u001b[43m(\u001b[49m\u001b[43mvalues\u001b[49m\u001b[43m,\u001b[49m\u001b[43m \u001b[49m\u001b[43mdtype\u001b[49m\u001b[43m,\u001b[49m\u001b[43m \u001b[49m\u001b[43mcopy\u001b[49m\u001b[38;5;241;43m=\u001b[39;49m\u001b[43mcopy\u001b[49m\u001b[43m)\u001b[49m\n\u001b[1;32m    184\u001b[0m \u001b[38;5;66;03m# in pandas we don't store numpy str dtypes, so convert to object\u001b[39;00m\n\u001b[1;32m    185\u001b[0m \u001b[38;5;28;01mif\u001b[39;00m \u001b[38;5;28misinstance\u001b[39m(dtype, np\u001b[38;5;241m.\u001b[39mdtype) \u001b[38;5;129;01mand\u001b[39;00m \u001b[38;5;28missubclass\u001b[39m(values\u001b[38;5;241m.\u001b[39mdtype\u001b[38;5;241m.\u001b[39mtype, \u001b[38;5;28mstr\u001b[39m):\n",
      "File \u001b[0;32m~/Library/Python/3.9/lib/python/site-packages/pandas/core/dtypes/astype.py:101\u001b[0m, in \u001b[0;36m_astype_nansafe\u001b[0;34m(arr, dtype, copy, skipna)\u001b[0m\n\u001b[1;32m     96\u001b[0m     \u001b[38;5;28;01mreturn\u001b[39;00m lib\u001b[38;5;241m.\u001b[39mensure_string_array(\n\u001b[1;32m     97\u001b[0m         arr, skipna\u001b[38;5;241m=\u001b[39mskipna, convert_na_value\u001b[38;5;241m=\u001b[39m\u001b[38;5;28;01mFalse\u001b[39;00m\n\u001b[1;32m     98\u001b[0m     )\u001b[38;5;241m.\u001b[39mreshape(shape)\n\u001b[1;32m    100\u001b[0m \u001b[38;5;28;01melif\u001b[39;00m np\u001b[38;5;241m.\u001b[39missubdtype(arr\u001b[38;5;241m.\u001b[39mdtype, np\u001b[38;5;241m.\u001b[39mfloating) \u001b[38;5;129;01mand\u001b[39;00m dtype\u001b[38;5;241m.\u001b[39mkind \u001b[38;5;129;01min\u001b[39;00m \u001b[38;5;124m\"\u001b[39m\u001b[38;5;124miu\u001b[39m\u001b[38;5;124m\"\u001b[39m:\n\u001b[0;32m--> 101\u001b[0m     \u001b[38;5;28;01mreturn\u001b[39;00m \u001b[43m_astype_float_to_int_nansafe\u001b[49m\u001b[43m(\u001b[49m\u001b[43marr\u001b[49m\u001b[43m,\u001b[49m\u001b[43m \u001b[49m\u001b[43mdtype\u001b[49m\u001b[43m,\u001b[49m\u001b[43m \u001b[49m\u001b[43mcopy\u001b[49m\u001b[43m)\u001b[49m\n\u001b[1;32m    103\u001b[0m \u001b[38;5;28;01melif\u001b[39;00m arr\u001b[38;5;241m.\u001b[39mdtype \u001b[38;5;241m==\u001b[39m \u001b[38;5;28mobject\u001b[39m:\n\u001b[1;32m    104\u001b[0m     \u001b[38;5;66;03m# if we have a datetime/timedelta array of objects\u001b[39;00m\n\u001b[1;32m    105\u001b[0m     \u001b[38;5;66;03m# then coerce to datetime64[ns] and use DatetimeArray.astype\u001b[39;00m\n\u001b[1;32m    107\u001b[0m     \u001b[38;5;28;01mif\u001b[39;00m lib\u001b[38;5;241m.\u001b[39mis_np_dtype(dtype, \u001b[38;5;124m\"\u001b[39m\u001b[38;5;124mM\u001b[39m\u001b[38;5;124m\"\u001b[39m):\n",
      "File \u001b[0;32m~/Library/Python/3.9/lib/python/site-packages/pandas/core/dtypes/astype.py:145\u001b[0m, in \u001b[0;36m_astype_float_to_int_nansafe\u001b[0;34m(values, dtype, copy)\u001b[0m\n\u001b[1;32m    141\u001b[0m \u001b[38;5;250m\u001b[39m\u001b[38;5;124;03m\"\"\"\u001b[39;00m\n\u001b[1;32m    142\u001b[0m \u001b[38;5;124;03mastype with a check preventing converting NaN to an meaningless integer value.\u001b[39;00m\n\u001b[1;32m    143\u001b[0m \u001b[38;5;124;03m\"\"\"\u001b[39;00m\n\u001b[1;32m    144\u001b[0m \u001b[38;5;28;01mif\u001b[39;00m \u001b[38;5;129;01mnot\u001b[39;00m np\u001b[38;5;241m.\u001b[39misfinite(values)\u001b[38;5;241m.\u001b[39mall():\n\u001b[0;32m--> 145\u001b[0m     \u001b[38;5;28;01mraise\u001b[39;00m IntCastingNaNError(\n\u001b[1;32m    146\u001b[0m         \u001b[38;5;124m\"\u001b[39m\u001b[38;5;124mCannot convert non-finite values (NA or inf) to integer\u001b[39m\u001b[38;5;124m\"\u001b[39m\n\u001b[1;32m    147\u001b[0m     )\n\u001b[1;32m    148\u001b[0m \u001b[38;5;28;01mif\u001b[39;00m dtype\u001b[38;5;241m.\u001b[39mkind \u001b[38;5;241m==\u001b[39m \u001b[38;5;124m\"\u001b[39m\u001b[38;5;124mu\u001b[39m\u001b[38;5;124m\"\u001b[39m:\n\u001b[1;32m    149\u001b[0m     \u001b[38;5;66;03m# GH#45151\u001b[39;00m\n\u001b[1;32m    150\u001b[0m     \u001b[38;5;28;01mif\u001b[39;00m \u001b[38;5;129;01mnot\u001b[39;00m (values \u001b[38;5;241m>\u001b[39m\u001b[38;5;241m=\u001b[39m \u001b[38;5;241m0\u001b[39m)\u001b[38;5;241m.\u001b[39mall():\n",
      "\u001b[0;31mIntCastingNaNError\u001b[0m: Cannot convert non-finite values (NA or inf) to integer"
     ]
    }
   ],
   "source": [
    "my_series.astype('int')"
   ]
  },
  {
   "cell_type": "code",
   "execution_count": 376,
   "id": "f93ef1f7-93ec-4c9a-aa18-7c54a0ad2ac7",
   "metadata": {},
   "outputs": [
    {
     "data": {
      "text/plain": [
       "0    <NA>\n",
       "1    <NA>\n",
       "2    <NA>\n",
       "3    <NA>\n",
       "4    <NA>\n",
       "dtype: object"
      ]
     },
     "execution_count": 376,
     "metadata": {},
     "output_type": "execute_result"
    }
   ],
   "source": [
    "my_series = pd.Series([pd.NA] * 5)\n",
    "my_series"
   ]
  },
  {
   "cell_type": "code",
   "execution_count": 378,
   "id": "89396c85-fea0-4a8a-80ed-922ff9ebd2fe",
   "metadata": {},
   "outputs": [
    {
     "data": {
      "text/plain": [
       "0    <NA>\n",
       "1    <NA>\n",
       "2    <NA>\n",
       "3    <NA>\n",
       "4    <NA>\n",
       "dtype: Int64"
      ]
     },
     "execution_count": 378,
     "metadata": {},
     "output_type": "execute_result"
    }
   ],
   "source": [
    "my_series = my_series.astype(\"Int64\")\n",
    "\n",
    "my_series"
   ]
  },
  {
   "cell_type": "code",
   "execution_count": 379,
   "id": "242c3db3-3fed-46ec-9b3c-98439ea8e31e",
   "metadata": {},
   "outputs": [
    {
     "data": {
      "text/plain": [
       "np.int64(5)"
      ]
     },
     "execution_count": 379,
     "metadata": {},
     "output_type": "execute_result"
    }
   ],
   "source": [
    "my_series.isna().sum()"
   ]
  },
  {
   "cell_type": "code",
   "execution_count": 380,
   "id": "18ac66d5-7924-47a3-9310-57006bc4cfa2",
   "metadata": {},
   "outputs": [
    {
     "data": {
      "text/plain": [
       "Series([], Name: count, dtype: Int64)"
      ]
     },
     "execution_count": 380,
     "metadata": {},
     "output_type": "execute_result"
    }
   ],
   "source": [
    "my_series.value_counts()"
   ]
  },
  {
   "cell_type": "code",
   "execution_count": 381,
   "id": "da98a6ab-d81a-4bae-b95b-09a1639e7620",
   "metadata": {},
   "outputs": [
    {
     "data": {
      "text/plain": [
       "<NA>    5\n",
       "Name: count, dtype: Int64"
      ]
     },
     "execution_count": 381,
     "metadata": {},
     "output_type": "execute_result"
    }
   ],
   "source": [
    "my_series.value_counts(dropna = False)"
   ]
  },
  {
   "cell_type": "code",
   "execution_count": 382,
   "id": "291129fe-5cf2-464f-a294-63bf580867bc",
   "metadata": {},
   "outputs": [],
   "source": [
    "my_series = pd.Series(range(5))"
   ]
  },
  {
   "cell_type": "code",
   "execution_count": 383,
   "id": "a885787a-5c7e-462b-8980-d1ddeb5a868f",
   "metadata": {},
   "outputs": [
    {
     "data": {
      "text/plain": [
       "0    0\n",
       "1    1\n",
       "2    2\n",
       "3    3\n",
       "4    4\n",
       "dtype: int64"
      ]
     },
     "execution_count": 383,
     "metadata": {},
     "output_type": "execute_result"
    }
   ],
   "source": [
    "my_series"
   ]
  },
  {
   "cell_type": "code",
   "execution_count": 384,
   "id": "44787f9f-80bb-4018-af2e-b44c73796a05",
   "metadata": {},
   "outputs": [],
   "source": [
    "my_series.loc[1:2] = pd.NA"
   ]
  },
  {
   "cell_type": "code",
   "execution_count": 385,
   "id": "1fb7d716-782c-4b39-8430-811cafad984e",
   "metadata": {},
   "outputs": [
    {
     "data": {
      "text/plain": [
       "0    0.0\n",
       "1    NaN\n",
       "2    NaN\n",
       "3    3.0\n",
       "4    4.0\n",
       "dtype: float64"
      ]
     },
     "execution_count": 385,
     "metadata": {},
     "output_type": "execute_result"
    }
   ],
   "source": [
    "my_series"
   ]
  },
  {
   "cell_type": "code",
   "execution_count": 386,
   "id": "81597bdc-ed25-4a63-9a94-5c58deabebd5",
   "metadata": {},
   "outputs": [
    {
     "data": {
      "text/plain": [
       "0    False\n",
       "1     True\n",
       "2     True\n",
       "3    False\n",
       "4    False\n",
       "dtype: bool"
      ]
     },
     "execution_count": 386,
     "metadata": {},
     "output_type": "execute_result"
    }
   ],
   "source": [
    "my_series.isna()"
   ]
  },
  {
   "cell_type": "code",
   "execution_count": 387,
   "id": "0c15a545-02f6-496f-884a-8b35e8cbed31",
   "metadata": {},
   "outputs": [
    {
     "data": {
      "text/plain": [
       "NaN    2\n",
       "0.0    1\n",
       "3.0    1\n",
       "4.0    1\n",
       "Name: count, dtype: int64"
      ]
     },
     "execution_count": 387,
     "metadata": {},
     "output_type": "execute_result"
    }
   ],
   "source": [
    "my_series.value_counts(dropna=False)"
   ]
  },
  {
   "cell_type": "code",
   "execution_count": 388,
   "id": "d4671516-b5ce-475d-8246-a5a7376cde03",
   "metadata": {},
   "outputs": [
    {
     "data": {
      "text/plain": [
       "0    0.0\n",
       "1    0.0\n",
       "2    0.0\n",
       "3    3.0\n",
       "4    4.0\n",
       "dtype: float64"
      ]
     },
     "execution_count": 388,
     "metadata": {},
     "output_type": "execute_result"
    }
   ],
   "source": [
    "my_series.fillna(0)"
   ]
  },
  {
   "cell_type": "code",
   "execution_count": 389,
   "id": "6507f83d-6da8-420f-8eee-538198ba6f43",
   "metadata": {},
   "outputs": [
    {
     "data": {
      "text/plain": [
       "0    0.000000\n",
       "1    2.333333\n",
       "2    2.333333\n",
       "3    3.000000\n",
       "4    4.000000\n",
       "dtype: float64"
      ]
     },
     "execution_count": 389,
     "metadata": {},
     "output_type": "execute_result"
    }
   ],
   "source": [
    "my_series.fillna(my_series.mean())"
   ]
  },
  {
   "cell_type": "code",
   "execution_count": 390,
   "id": "7a06bcc5-de58-41b3-8860-cf49d4087bea",
   "metadata": {},
   "outputs": [
    {
     "data": {
      "text/plain": [
       "0    0.0\n",
       "3    3.0\n",
       "4    4.0\n",
       "dtype: float64"
      ]
     },
     "execution_count": 390,
     "metadata": {},
     "output_type": "execute_result"
    }
   ],
   "source": [
    "my_series.dropna()"
   ]
  },
  {
   "cell_type": "code",
   "execution_count": 391,
   "id": "c789520b-77d8-4f5c-a9c4-01061bd3b4d2",
   "metadata": {},
   "outputs": [
    {
     "data": {
      "text/plain": [
       "0    0.0\n",
       "1    3.0\n",
       "2    4.0\n",
       "dtype: float64"
      ]
     },
     "execution_count": 391,
     "metadata": {},
     "output_type": "execute_result"
    }
   ],
   "source": [
    "my_series.dropna().reset_index(drop=True)"
   ]
  },
  {
   "cell_type": "markdown",
   "id": "b4532eb4-c080-4b00-95ca-826ea089c473",
   "metadata": {},
   "source": [
    "### Exercise 6:Missing Data\n",
    "# errors prices filled with missing values"
   ]
  },
  {
   "cell_type": "code",
   "execution_count": 404,
   "id": "9ad3ca09-69e0-4485-b1f1-b54e72594b7d",
   "metadata": {},
   "outputs": [
    {
     "data": {
      "text/plain": [
       "0     52.22\n",
       "1       NaN\n",
       "2     51.98\n",
       "3     52.01\n",
       "4     52.82\n",
       "      ...  \n",
       "95    45.84\n",
       "96    47.28\n",
       "97    47.81\n",
       "98      NaN\n",
       "99    48.86\n",
       "Name: oil prices, Length: 100, dtype: float64"
      ]
     },
     "execution_count": 404,
     "metadata": {},
     "output_type": "execute_result"
    }
   ],
   "source": [
    "oil_series_missing = oil_series.where(~oil_series.isin([51.44, 47.83]),np.nan)\n",
    "oil_series_missing"
   ]
  },
  {
   "cell_type": "code",
   "execution_count": 417,
   "id": "55616bb4-0b5c-4713-9912-637aa527a3f1",
   "metadata": {},
   "outputs": [
    {
     "data": {
      "text/plain": [
       "np.int64(2)"
      ]
     },
     "execution_count": 417,
     "metadata": {},
     "output_type": "execute_result"
    }
   ],
   "source": [
    "# count missing values\n",
    "oil_series_missing.isna().sum()"
   ]
  },
  {
   "cell_type": "code",
   "execution_count": 416,
   "id": "a492d206-70e8-4780-b54b-8a36cb3aa9b6",
   "metadata": {},
   "outputs": [
    {
     "data": {
      "text/plain": [
       "0     52.220\n",
       "1     52.205\n",
       "2     51.980\n",
       "3     52.010\n",
       "4     52.820\n",
       "       ...  \n",
       "95    45.840\n",
       "96    47.280\n",
       "97    47.810\n",
       "98    52.205\n",
       "99    48.860\n",
       "Name: oil prices, Length: 100, dtype: float64"
      ]
     },
     "execution_count": 416,
     "metadata": {},
     "output_type": "execute_result"
    }
   ],
   "source": [
    "#fill the missing value with median\n",
    "#oil_series_missing.where(oil_series_missing.isin(['NaN']))\n",
    "oil_series_missing.fillna(oil_series_missing.median())"
   ]
  },
  {
   "cell_type": "markdown",
   "id": "5684f3f3-3c36-445b-8992-b28fc76d2085",
   "metadata": {},
   "source": [
    "### apply method \n",
    "- function is not vectorized , so its not as efficient as native functions "
   ]
  },
  {
   "cell_type": "code",
   "execution_count": 424,
   "id": "6706d44e-ce00-4d62-961b-bd4474cf2c48",
   "metadata": {},
   "outputs": [
    {
     "data": {
      "text/plain": [
       "0     3.99\n",
       "1     5.99\n",
       "2    22.99\n",
       "3     7.99\n",
       "4    33.99\n",
       "dtype: float64"
      ]
     },
     "execution_count": 424,
     "metadata": {},
     "output_type": "execute_result"
    }
   ],
   "source": [
    "clean_wholesale = pd.Series([3.99,5.99,22.99,7.99,33.99])\n",
    "\n",
    "clean_wholesale"
   ]
  },
  {
   "cell_type": "code",
   "execution_count": 425,
   "id": "a95571fb-9325-4628-a734-8ee114f28a29",
   "metadata": {},
   "outputs": [],
   "source": [
    "def discount(price):\n",
    "    if price > 20 :\n",
    "        return round(price * 0.9,2)\n",
    "    return price    "
   ]
  },
  {
   "cell_type": "code",
   "execution_count": 426,
   "id": "3e295dce-aa7c-452a-aea7-5deb10e2af79",
   "metadata": {},
   "outputs": [
    {
     "data": {
      "text/plain": [
       "0     3.99\n",
       "1     5.99\n",
       "2    20.69\n",
       "3     7.99\n",
       "4    30.59\n",
       "dtype: float64"
      ]
     },
     "execution_count": 426,
     "metadata": {},
     "output_type": "execute_result"
    }
   ],
   "source": [
    "clean_wholesale.apply(discount)"
   ]
  },
  {
   "cell_type": "code",
   "execution_count": 427,
   "id": "e6fc0655-e727-473c-bb7e-1aaec99e2711",
   "metadata": {},
   "outputs": [
    {
     "data": {
      "text/plain": [
       "0     3.99\n",
       "1     5.99\n",
       "2    20.69\n",
       "3     7.99\n",
       "4    30.59\n",
       "dtype: float64"
      ]
     },
     "execution_count": 427,
     "metadata": {},
     "output_type": "execute_result"
    }
   ],
   "source": [
    "clean_wholesale.apply(lambda x: round(x * 0.9,2) if x > 20 else x)"
   ]
  },
  {
   "cell_type": "code",
   "execution_count": 428,
   "id": "88d4b1e4-c3cf-4911-b333-f8886f5359b5",
   "metadata": {},
   "outputs": [
    {
     "data": {
      "text/plain": [
       "0    day 0\n",
       "1    day 1\n",
       "2    day 2\n",
       "3    day 3\n",
       "4    day 4\n",
       "dtype: object"
      ]
     },
     "execution_count": 428,
     "metadata": {},
     "output_type": "execute_result"
    }
   ],
   "source": [
    "string_series"
   ]
  },
  {
   "cell_type": "code",
   "execution_count": 429,
   "id": "4ec3800b-6ebd-48fc-a3f8-981465000e9d",
   "metadata": {},
   "outputs": [
    {
     "data": {
      "text/plain": [
       "0    0\n",
       "1    1\n",
       "2    2\n",
       "3    3\n",
       "4    4\n",
       "dtype: object"
      ]
     },
     "execution_count": 429,
     "metadata": {},
     "output_type": "execute_result"
    }
   ],
   "source": [
    "string_series.apply( lambda x : x[-1])"
   ]
  },
  {
   "cell_type": "code",
   "execution_count": 430,
   "id": "d011681b-701d-4658-8aad-3db78a4706bc",
   "metadata": {},
   "outputs": [
    {
     "data": {
      "text/plain": [
       "0    0\n",
       "1    1\n",
       "2    2\n",
       "3    3\n",
       "4    4\n",
       "dtype: object"
      ]
     },
     "execution_count": 430,
     "metadata": {},
     "output_type": "execute_result"
    }
   ],
   "source": [
    "string_series.str[-1]"
   ]
  },
  {
   "cell_type": "code",
   "execution_count": 431,
   "id": "63d3addf-9686-4e14-a4fb-7d63066de5b6",
   "metadata": {},
   "outputs": [],
   "source": [
    "def search(string, looking_for):\n",
    "    if looking_for in string :\n",
    "        return \"Found it!\"\n",
    "    return \"Nope\""
   ]
  },
  {
   "cell_type": "code",
   "execution_count": 432,
   "id": "65644352-76a5-438b-95f1-4df5e1e33041",
   "metadata": {},
   "outputs": [
    {
     "data": {
      "text/plain": [
       "0         Nope\n",
       "1         Nope\n",
       "2    Found it!\n",
       "3         Nope\n",
       "4         Nope\n",
       "dtype: object"
      ]
     },
     "execution_count": 432,
     "metadata": {},
     "output_type": "execute_result"
    }
   ],
   "source": [
    "string_series.apply(search, args='2')"
   ]
  },
  {
   "cell_type": "markdown",
   "id": "b469f6da-ef39-4606-a208-0fcb095affb1",
   "metadata": {},
   "source": [
    "### where different then numpy\n",
    "df.where(logical test, value if False, inplace=False) # no true value "
   ]
  },
  {
   "cell_type": "code",
   "execution_count": 435,
   "id": "e4c20934-841a-40be-afea-d32edb84b7f4",
   "metadata": {},
   "outputs": [
    {
     "data": {
      "text/plain": [
       "0     3.99\n",
       "1     5.99\n",
       "2    22.99\n",
       "3     7.99\n",
       "4    33.99\n",
       "dtype: float64"
      ]
     },
     "execution_count": 435,
     "metadata": {},
     "output_type": "execute_result"
    }
   ],
   "source": [
    "clean_wholesale"
   ]
  },
  {
   "cell_type": "code",
   "execution_count": 434,
   "id": "12733de4-345a-4d9a-a1bf-360a153b8ce1",
   "metadata": {},
   "outputs": [
    {
     "data": {
      "text/plain": [
       "0     3.99\n",
       "1     5.99\n",
       "2    20.69\n",
       "3     7.99\n",
       "4    30.59\n",
       "dtype: float64"
      ]
     },
     "execution_count": 434,
     "metadata": {},
     "output_type": "execute_result"
    }
   ],
   "source": [
    "clean_wholesale.where(clean_wholesale<=20, round(clean_wholesale * 0.9,2))"
   ]
  },
  {
   "cell_type": "code",
   "execution_count": 436,
   "id": "fd5a1900-eac1-4149-bc89-5bf1f140bdb7",
   "metadata": {},
   "outputs": [
    {
     "data": {
      "text/plain": [
       "0     3.99\n",
       "1     5.99\n",
       "2    20.69\n",
       "3     7.99\n",
       "4    30.59\n",
       "dtype: float64"
      ]
     },
     "execution_count": 436,
     "metadata": {},
     "output_type": "execute_result"
    }
   ],
   "source": [
    "clean_wholesale.where(~(clean_wholesale > 20), round(clean_wholesale * 0.9,2))"
   ]
  },
  {
   "cell_type": "code",
   "execution_count": 438,
   "id": "0ba6db4d-86f8-49a5-b9e2-6c926f461d6e",
   "metadata": {},
   "outputs": [
    {
     "data": {
      "text/plain": [
       "0     0.00\n",
       "1     0.00\n",
       "2    20.69\n",
       "3     0.00\n",
       "4    30.59\n",
       "dtype: float64"
      ]
     },
     "execution_count": 438,
     "metadata": {},
     "output_type": "execute_result"
    }
   ],
   "source": [
    "# chaining where\n",
    "(clean_wholesale\n",
    "      .where(~(clean_wholesale > 20), round(clean_wholesale * 0.9,2))\n",
    "      .where(clean_wholesale > 10 , 0)\n",
    ")"
   ]
  },
  {
   "cell_type": "code",
   "execution_count": 439,
   "id": "641c480f-7b3a-4950-88c6-13d6075197ce",
   "metadata": {},
   "outputs": [
    {
     "data": {
      "text/plain": [
       "0     3.99\n",
       "1     5.99\n",
       "2    22.99\n",
       "3     7.99\n",
       "4    33.99\n",
       "dtype: float64"
      ]
     },
     "execution_count": 439,
     "metadata": {},
     "output_type": "execute_result"
    }
   ],
   "source": [
    "clean_wholesale"
   ]
  },
  {
   "cell_type": "code",
   "execution_count": 440,
   "id": "931af7b1-4c11-49c6-9c38-0d160b326930",
   "metadata": {},
   "outputs": [
    {
     "data": {
      "text/plain": [
       "array(['Normal Price', 'Normal Price', 'Discounted', 'Normal Price',\n",
       "       'Discounted'], dtype='<U12')"
      ]
     },
     "execution_count": 440,
     "metadata": {},
     "output_type": "execute_result"
    }
   ],
   "source": [
    "np.where(clean_wholesale > 20, \"Discounted\", \"Normal Price\")"
   ]
  },
  {
   "cell_type": "code",
   "execution_count": 443,
   "id": "040bb4d7-57db-4579-af72-3bc6afa5f0c6",
   "metadata": {},
   "outputs": [
    {
     "data": {
      "text/plain": [
       "0     Nope\n",
       "1     Nope\n",
       "2    day 2\n",
       "3     Nope\n",
       "4     Nope\n",
       "dtype: object"
      ]
     },
     "execution_count": 443,
     "metadata": {},
     "output_type": "execute_result"
    }
   ],
   "source": [
    "string_series.where(string_series.str.contains('2'),\"Nope\")"
   ]
  },
  {
   "cell_type": "code",
   "execution_count": 444,
   "id": "d7c380a3-4c84-4479-b0fe-3479771b8ae3",
   "metadata": {},
   "outputs": [
    {
     "data": {
      "text/plain": [
       "0    Found it!\n",
       "1    Found it!\n",
       "2        day 2\n",
       "3    Found it!\n",
       "4    Found it!\n",
       "dtype: object"
      ]
     },
     "execution_count": 444,
     "metadata": {},
     "output_type": "execute_result"
    }
   ],
   "source": [
    "string_series.where(\n",
    "    string_series.str.contains('2'),\"Nope\").where(\n",
    "    string_series.str.contains(\"2\"), \"Found it!\")"
   ]
  },
  {
   "cell_type": "code",
   "execution_count": 446,
   "id": "3bcf4abc-aeb9-4238-834b-9e65f46f5055",
   "metadata": {},
   "outputs": [
    {
     "data": {
      "text/plain": [
       "0         Nope\n",
       "1         Nope\n",
       "2    Found it!\n",
       "3         Nope\n",
       "4         Nope\n",
       "dtype: object"
      ]
     },
     "execution_count": 446,
     "metadata": {},
     "output_type": "execute_result"
    }
   ],
   "source": [
    "pd.Series(np.where(string_series.str.contains('2'),\"Found it!\",\"Nope\"))"
   ]
  },
  {
   "cell_type": "markdown",
   "id": "98926520-7c14-4b60-9532-9cc71102b275",
   "metadata": {},
   "source": [
    "### Exercise 7"
   ]
  },
  {
   "cell_type": "code",
   "execution_count": 465,
   "id": "fc2e44eb-74dc-4916-a227-c92c9653540e",
   "metadata": {},
   "outputs": [
    {
     "data": {
      "text/plain": [
       "2016-12-20    52.22\n",
       "2016-12-21      NaN\n",
       "2016-12-22    51.98\n",
       "2016-12-23    52.01\n",
       "2016-12-27    52.82\n",
       "              ...  \n",
       "2017-05-09    45.84\n",
       "2017-05-10    47.28\n",
       "2017-05-11    47.81\n",
       "2017-05-12      NaN\n",
       "2017-05-15    48.86\n",
       "Name: oil_series, Length: 100, dtype: float64"
      ]
     },
     "execution_count": 465,
     "metadata": {},
     "output_type": "execute_result"
    }
   ],
   "source": [
    "oil_series = oil_series.where(~oil_series.isin([51.44, 47.83]), np.nan)\n",
    "oil_series"
   ]
  },
  {
   "cell_type": "code",
   "execution_count": 466,
   "id": "5390c1ba-6f32-4af5-891f-a65de2c8fc08",
   "metadata": {},
   "outputs": [],
   "source": [
    "# write a function that outputs 'buy' if price is less then 90th percentile and wait if it higher or missing\n",
    "# 90_p = np.percentile(oil_series.astype('int'),90)\n",
    "# 90_p\n",
    "def buy_condition(price, limit):\n",
    "    if price < limit:\n",
    "        return 'Buy'\n",
    "    return 'Wait'    "
   ]
  },
  {
   "cell_type": "code",
   "execution_count": 467,
   "id": "fa6186ff-6abb-44c4-b9e1-ced679e0e2d2",
   "metadata": {},
   "outputs": [
    {
     "data": {
      "text/plain": [
       "2016-12-20     Buy\n",
       "2016-12-21    Wait\n",
       "2016-12-22     Buy\n",
       "2016-12-23     Buy\n",
       "2016-12-27     Buy\n",
       "              ... \n",
       "2017-05-09     Buy\n",
       "2017-05-10     Buy\n",
       "2017-05-11     Buy\n",
       "2017-05-12    Wait\n",
       "2017-05-15     Buy\n",
       "Name: oil_series, Length: 100, dtype: object"
      ]
     },
     "execution_count": 467,
     "metadata": {},
     "output_type": "execute_result"
    }
   ],
   "source": [
    "oil_series.apply(buy_condition, args=(oil_series.quantile(.9),))"
   ]
  },
  {
   "cell_type": "code",
   "execution_count": 468,
   "id": "ff23341a-2781-4a2f-8064-e738846fc6a2",
   "metadata": {},
   "outputs": [
    {
     "data": {
      "text/plain": [
       "array([57.442,    nan, 57.178, 46.809, 58.102, 59.411, 59.18 , 59.125,\n",
       "       57.596, 58.586, 59.147, 59.378, 57.145, 55.902, 57.409, 58.311,\n",
       "       57.596, 57.695, 56.232, 56.529, 57.563, 58.047, 57.618, 57.354,\n",
       "       58.564, 58.498, 57.893, 58.025, 59.29 , 58.905, 59.191, 58.311,\n",
       "       57.409, 57.607, 58.289, 59.224, 58.256, 58.531, 58.421, 58.751,\n",
       "       58.751, 59.422, 58.971, 59.928, 59.389, 59.444, 59.4  , 59.202,\n",
       "       57.893, 58.663, 58.509, 57.948, 54.813, 53.625, 52.855, 52.745,\n",
       "       51.964, 53.174, 53.13 , 53.174, 52.569, 51.722, 52.019, 51.7  ,\n",
       "       52.03 , 51.722, 53.196, 54.417, 55.33 , 55.594, 55.275, 56.089,\n",
       "       56.254, 56.859, 57.475, 58.366, 58.718, 58.432, 58.509, 57.882,\n",
       "       57.706, 55.539, 55.286, 54.604, 53.79 , 54.142, 54.142, 53.856,\n",
       "       54.241, 53.713, 52.415, 52.569, 50.105, 50.853, 51.106, 50.424,\n",
       "       42.552, 52.591,    nan, 53.746])"
      ]
     },
     "execution_count": 468,
     "metadata": {},
     "output_type": "execute_result"
    }
   ],
   "source": [
    "# create a series that multiplies price by .9 if date is '2016-12-23' or '2017-05-10' and 1.1 for all other dates\n",
    "np.where(oil_series.index.isin(['2016-12-23','2017-05-10']), oil_series * .9 , oil_series * 1.1)"
   ]
  },
  {
   "cell_type": "code",
   "execution_count": 470,
   "id": "36eba8cd-cbd5-4b6a-9ef8-eb2bf095e35b",
   "metadata": {},
   "outputs": [
    {
     "data": {
      "text/html": [
       "<div>\n",
       "<style scoped>\n",
       "    .dataframe tbody tr th:only-of-type {\n",
       "        vertical-align: middle;\n",
       "    }\n",
       "\n",
       "    .dataframe tbody tr th {\n",
       "        vertical-align: top;\n",
       "    }\n",
       "\n",
       "    .dataframe thead th {\n",
       "        text-align: right;\n",
       "    }\n",
       "</style>\n",
       "<table border=\"1\" class=\"dataframe\">\n",
       "  <thead>\n",
       "    <tr style=\"text-align: right;\">\n",
       "      <th></th>\n",
       "      <th>oil_series</th>\n",
       "    </tr>\n",
       "  </thead>\n",
       "  <tbody>\n",
       "    <tr>\n",
       "      <th>2016-12-20</th>\n",
       "      <td>52.22</td>\n",
       "    </tr>\n",
       "    <tr>\n",
       "      <th>2016-12-21</th>\n",
       "      <td>NaN</td>\n",
       "    </tr>\n",
       "    <tr>\n",
       "      <th>2016-12-22</th>\n",
       "      <td>51.98</td>\n",
       "    </tr>\n",
       "    <tr>\n",
       "      <th>2016-12-23</th>\n",
       "      <td>52.01</td>\n",
       "    </tr>\n",
       "    <tr>\n",
       "      <th>2016-12-27</th>\n",
       "      <td>52.82</td>\n",
       "    </tr>\n",
       "    <tr>\n",
       "      <th>...</th>\n",
       "      <td>...</td>\n",
       "    </tr>\n",
       "    <tr>\n",
       "      <th>2017-05-09</th>\n",
       "      <td>45.84</td>\n",
       "    </tr>\n",
       "    <tr>\n",
       "      <th>2017-05-10</th>\n",
       "      <td>47.28</td>\n",
       "    </tr>\n",
       "    <tr>\n",
       "      <th>2017-05-11</th>\n",
       "      <td>47.81</td>\n",
       "    </tr>\n",
       "    <tr>\n",
       "      <th>2017-05-12</th>\n",
       "      <td>NaN</td>\n",
       "    </tr>\n",
       "    <tr>\n",
       "      <th>2017-05-15</th>\n",
       "      <td>48.86</td>\n",
       "    </tr>\n",
       "  </tbody>\n",
       "</table>\n",
       "<p>100 rows × 1 columns</p>\n",
       "</div>"
      ],
      "text/plain": [
       "            oil_series\n",
       "2016-12-20       52.22\n",
       "2016-12-21         NaN\n",
       "2016-12-22       51.98\n",
       "2016-12-23       52.01\n",
       "2016-12-27       52.82\n",
       "...                ...\n",
       "2017-05-09       45.84\n",
       "2017-05-10       47.28\n",
       "2017-05-11       47.81\n",
       "2017-05-12         NaN\n",
       "2017-05-15       48.86\n",
       "\n",
       "[100 rows x 1 columns]"
      ]
     },
     "execution_count": 470,
     "metadata": {},
     "output_type": "execute_result"
    }
   ],
   "source": [
    "df = pd.DataFrame(oil_series)\n",
    "df"
   ]
  },
  {
   "cell_type": "code",
   "execution_count": 472,
   "id": "42038573-6e27-4628-9fb1-ffb4ace79b9c",
   "metadata": {},
   "outputs": [],
   "source": [
    "df[\"new_price\"] = np.where(oil_series.index.isin(['2016-12-23','2017-05-10']), oil_series * .9 , oil_series * 1.1)"
   ]
  },
  {
   "cell_type": "code",
   "execution_count": 473,
   "id": "6fadc3bf-00fa-4b70-b403-0d6169c7b544",
   "metadata": {},
   "outputs": [
    {
     "data": {
      "text/html": [
       "<div>\n",
       "<style scoped>\n",
       "    .dataframe tbody tr th:only-of-type {\n",
       "        vertical-align: middle;\n",
       "    }\n",
       "\n",
       "    .dataframe tbody tr th {\n",
       "        vertical-align: top;\n",
       "    }\n",
       "\n",
       "    .dataframe thead th {\n",
       "        text-align: right;\n",
       "    }\n",
       "</style>\n",
       "<table border=\"1\" class=\"dataframe\">\n",
       "  <thead>\n",
       "    <tr style=\"text-align: right;\">\n",
       "      <th></th>\n",
       "      <th>oil_series</th>\n",
       "      <th>new_price</th>\n",
       "    </tr>\n",
       "  </thead>\n",
       "  <tbody>\n",
       "    <tr>\n",
       "      <th>2016-12-20</th>\n",
       "      <td>52.22</td>\n",
       "      <td>57.442</td>\n",
       "    </tr>\n",
       "    <tr>\n",
       "      <th>2016-12-21</th>\n",
       "      <td>NaN</td>\n",
       "      <td>NaN</td>\n",
       "    </tr>\n",
       "    <tr>\n",
       "      <th>2016-12-22</th>\n",
       "      <td>51.98</td>\n",
       "      <td>57.178</td>\n",
       "    </tr>\n",
       "    <tr>\n",
       "      <th>2016-12-23</th>\n",
       "      <td>52.01</td>\n",
       "      <td>46.809</td>\n",
       "    </tr>\n",
       "    <tr>\n",
       "      <th>2016-12-27</th>\n",
       "      <td>52.82</td>\n",
       "      <td>58.102</td>\n",
       "    </tr>\n",
       "    <tr>\n",
       "      <th>...</th>\n",
       "      <td>...</td>\n",
       "      <td>...</td>\n",
       "    </tr>\n",
       "    <tr>\n",
       "      <th>2017-05-09</th>\n",
       "      <td>45.84</td>\n",
       "      <td>50.424</td>\n",
       "    </tr>\n",
       "    <tr>\n",
       "      <th>2017-05-10</th>\n",
       "      <td>47.28</td>\n",
       "      <td>42.552</td>\n",
       "    </tr>\n",
       "    <tr>\n",
       "      <th>2017-05-11</th>\n",
       "      <td>47.81</td>\n",
       "      <td>52.591</td>\n",
       "    </tr>\n",
       "    <tr>\n",
       "      <th>2017-05-12</th>\n",
       "      <td>NaN</td>\n",
       "      <td>NaN</td>\n",
       "    </tr>\n",
       "    <tr>\n",
       "      <th>2017-05-15</th>\n",
       "      <td>48.86</td>\n",
       "      <td>53.746</td>\n",
       "    </tr>\n",
       "  </tbody>\n",
       "</table>\n",
       "<p>100 rows × 2 columns</p>\n",
       "</div>"
      ],
      "text/plain": [
       "            oil_series  new_price\n",
       "2016-12-20       52.22     57.442\n",
       "2016-12-21         NaN        NaN\n",
       "2016-12-22       51.98     57.178\n",
       "2016-12-23       52.01     46.809\n",
       "2016-12-27       52.82     58.102\n",
       "...                ...        ...\n",
       "2017-05-09       45.84     50.424\n",
       "2017-05-10       47.28     42.552\n",
       "2017-05-11       47.81     52.591\n",
       "2017-05-12         NaN        NaN\n",
       "2017-05-15       48.86     53.746\n",
       "\n",
       "[100 rows x 2 columns]"
      ]
     },
     "execution_count": 473,
     "metadata": {},
     "output_type": "execute_result"
    }
   ],
   "source": [
    "df"
   ]
  }
 ],
 "metadata": {
  "kernelspec": {
   "display_name": "Python 3 (ipykernel)",
   "language": "python",
   "name": "python3"
  },
  "language_info": {
   "codemirror_mode": {
    "name": "ipython",
    "version": 3
   },
   "file_extension": ".py",
   "mimetype": "text/x-python",
   "name": "python",
   "nbconvert_exporter": "python",
   "pygments_lexer": "ipython3",
   "version": "3.9.6"
  }
 },
 "nbformat": 4,
 "nbformat_minor": 5
}
