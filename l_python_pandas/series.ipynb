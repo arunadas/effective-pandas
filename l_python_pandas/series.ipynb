{
 "cells": [
  {
   "cell_type": "code",
   "execution_count": 3,
   "id": "a991cf13-dd78-4022-8055-c28ad1f6241a",
   "metadata": {},
   "outputs": [],
   "source": [
    "import pandas as pd\n",
    "import numpy as np"
   ]
  },
  {
   "cell_type": "code",
   "execution_count": 2,
   "id": "522ac0dc-d5f4-493f-8ce2-b91731d2eedf",
   "metadata": {},
   "outputs": [
    {
     "data": {
      "text/plain": [
       "'2.2.3'"
      ]
     },
     "execution_count": 2,
     "metadata": {},
     "output_type": "execute_result"
    }
   ],
   "source": [
    "pd.__version__"
   ]
  },
  {
   "cell_type": "code",
   "execution_count": 4,
   "id": "d4c1865f-ce7b-464f-848f-121a9c38da82",
   "metadata": {},
   "outputs": [
    {
     "data": {
      "text/plain": [
       "'2.0.2'"
      ]
     },
     "execution_count": 4,
     "metadata": {},
     "output_type": "execute_result"
    }
   ],
   "source": [
    "np.__version__"
   ]
  },
  {
   "cell_type": "markdown",
   "id": "82dde01f-2a5f-4404-a06a-a9ac081ed232",
   "metadata": {},
   "source": [
    "### Series - the pandas equivalent of a column of data (like sql) . numpy array column with additional features\n",
    "series are build on top of numpy array \n",
    "index and optional name . 2 or more series together is dataframe"
   ]
  },
  {
   "cell_type": "code",
   "execution_count": 6,
   "id": "bd8f441c-3172-498d-85ca-9f162fa2c268",
   "metadata": {},
   "outputs": [
    {
     "data": {
      "text/plain": [
       "0       0\n",
       "1       5\n",
       "2     155\n",
       "3       0\n",
       "4     518\n",
       "5       0\n",
       "6    1827\n",
       "7     616\n",
       "8     317\n",
       "9     325\n",
       "Name: Sales, dtype: int64"
      ]
     },
     "execution_count": 6,
     "metadata": {},
     "output_type": "execute_result"
    }
   ],
   "source": [
    "sales = [0,5,155,0,518,0,1827,616,317,325]\n",
    "\n",
    "sales_series = pd.Series(sales, name=\"Sales\")\n",
    "\n",
    "sales_series"
   ]
  },
  {
   "cell_type": "markdown",
   "id": "71101d7c-3b23-4f0f-b3a7-7ba0f514f63d",
   "metadata": {},
   "source": [
    "# properties of series \n",
    "- index\n",
    "- values\n",
    "- name\n",
    "- dtype"
   ]
  },
  {
   "cell_type": "code",
   "execution_count": 7,
   "id": "d567296f-0f58-4e46-9193-68e6331bb25f",
   "metadata": {},
   "outputs": [
    {
     "data": {
      "text/plain": [
       "array([   0,    5,  155,    0,  518,    0, 1827,  616,  317,  325])"
      ]
     },
     "execution_count": 7,
     "metadata": {},
     "output_type": "execute_result"
    }
   ],
   "source": [
    "sales_series.values"
   ]
  },
  {
   "cell_type": "code",
   "execution_count": null,
   "id": "a9852b92-1c11-4659-96cb-dd3ae5127f26",
   "metadata": {},
   "outputs": [],
   "source": [
    "sales_series."
   ]
  }
 ],
 "metadata": {
  "kernelspec": {
   "display_name": "Python 3 (ipykernel)",
   "language": "python",
   "name": "python3"
  },
  "language_info": {
   "codemirror_mode": {
    "name": "ipython",
    "version": 3
   },
   "file_extension": ".py",
   "mimetype": "text/x-python",
   "name": "python",
   "nbconvert_exporter": "python",
   "pygments_lexer": "ipython3",
   "version": "3.9.6"
  }
 },
 "nbformat": 4,
 "nbformat_minor": 5
}
