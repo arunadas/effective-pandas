{
 "cells": [
  {
   "cell_type": "code",
   "execution_count": 1,
   "id": "8f2770be-a5cf-42ec-a5ab-5238c2210791",
   "metadata": {},
   "outputs": [],
   "source": [
    "import numpy as np"
   ]
  },
  {
   "cell_type": "code",
   "execution_count": 2,
   "id": "36e7dde2-824e-4812-bd65-705c38298f46",
   "metadata": {},
   "outputs": [],
   "source": [
    "sales = [0,5,155,0,518,0,1827,616,317,325]"
   ]
  },
  {
   "cell_type": "code",
   "execution_count": 3,
   "id": "c994e259-3f79-43a5-833b-041dc7db74d3",
   "metadata": {},
   "outputs": [
    {
     "data": {
      "text/plain": [
       "[0, 5, 155, 0, 518, 0, 1827, 616, 317, 325]"
      ]
     },
     "execution_count": 3,
     "metadata": {},
     "output_type": "execute_result"
    }
   ],
   "source": [
    "# sales python list or tuples\n",
    "sales"
   ]
  },
  {
   "cell_type": "code",
   "execution_count": 4,
   "id": "7e18a27d-00cc-49d6-9c9a-40d1f2a84a40",
   "metadata": {},
   "outputs": [],
   "source": [
    "sales_array = np.array(sales)"
   ]
  },
  {
   "cell_type": "code",
   "execution_count": 5,
   "id": "17c0dc1c-3d37-46d6-b26c-3772f7f7d31f",
   "metadata": {},
   "outputs": [
    {
     "data": {
      "text/plain": [
       "array([   0,    5,  155,    0,  518,    0, 1827,  616,  317,  325])"
      ]
     },
     "execution_count": 5,
     "metadata": {},
     "output_type": "execute_result"
    }
   ],
   "source": [
    "sales_array"
   ]
  },
  {
   "cell_type": "markdown",
   "id": "83fa3752-22b5-4e68-b292-3c3fc144d10e",
   "metadata": {},
   "source": [
    "# array properties\n",
    "- ndim\n",
    "- shape\n",
    "- size\n",
    "- dtype\n",
    "  #properties of the array"
   ]
  },
  {
   "cell_type": "code",
   "execution_count": 6,
   "id": "280c72fd-5693-4404-a26a-7921ff5ee953",
   "metadata": {},
   "outputs": [
    {
     "data": {
      "text/plain": [
       "numpy.ndarray"
      ]
     },
     "execution_count": 6,
     "metadata": {},
     "output_type": "execute_result"
    }
   ],
   "source": [
    "type(sales_array)"
   ]
  },
  {
   "cell_type": "code",
   "execution_count": 9,
   "id": "057f6c5b-1d00-4e70-b915-e03f92e58138",
   "metadata": {},
   "outputs": [
    {
     "name": "stdout",
     "output_type": "stream",
     "text": [
      "ndim : 1\n",
      "shape : (10,)\n",
      "size : 10\n",
      "dtype : int64\n"
     ]
    }
   ],
   "source": [
    "print(f\"ndim : {sales_array.ndim}\")\n",
    "print(f\"shape : {sales_array.shape}\")\n",
    "print(f\"size : {sales_array.size}\")\n",
    "print(f\"dtype : {sales_array.dtype}\")"
   ]
  },
  {
   "cell_type": "markdown",
   "id": "28df443b-f96f-4411-b59e-95f9347da09f",
   "metadata": {},
   "source": [
    "# 2 D Array"
   ]
  },
  {
   "cell_type": "code",
   "execution_count": 10,
   "id": "a67d90c4-d154-4cbc-9941-ac4832a3432f",
   "metadata": {},
   "outputs": [],
   "source": [
    "# has to be of same length\n",
    "sales = [[0,5,155,0,518], [0,1827,616,317,325]]"
   ]
  },
  {
   "cell_type": "code",
   "execution_count": 11,
   "id": "106b28c0-5726-44bf-b7ea-bd5ed7a1ffdd",
   "metadata": {},
   "outputs": [],
   "source": [
    "sales_2dArray = np.array(sales)"
   ]
  },
  {
   "cell_type": "code",
   "execution_count": 12,
   "id": "49a35795-1e28-46fd-b4be-23f8336842ee",
   "metadata": {},
   "outputs": [
    {
     "data": {
      "text/plain": [
       "array([[   0,    5,  155,    0,  518],\n",
       "       [   0, 1827,  616,  317,  325]])"
      ]
     },
     "execution_count": 12,
     "metadata": {},
     "output_type": "execute_result"
    }
   ],
   "source": [
    "sales_2dArray"
   ]
  },
  {
   "cell_type": "code",
   "execution_count": 13,
   "id": "9217220b-270f-4ec2-9f4b-d5d528677229",
   "metadata": {},
   "outputs": [
    {
     "name": "stdout",
     "output_type": "stream",
     "text": [
      "ndim : 2\n",
      "shape : (2, 5)\n",
      "size : 10\n",
      "dtype : int64\n"
     ]
    }
   ],
   "source": [
    "print(f\"ndim : {sales_2dArray.ndim}\")\n",
    "print(f\"shape : {sales_2dArray.shape}\")\n",
    "print(f\"size : {sales_2dArray.size}\")\n",
    "print(f\"dtype : {sales_2dArray.dtype}\")"
   ]
  },
  {
   "cell_type": "code",
   "execution_count": 14,
   "id": "2b98fd99-4ef7-43ef-9290-a1e46bb6ca1f",
   "metadata": {},
   "outputs": [],
   "source": [
    "array = np.array(range(5))"
   ]
  },
  {
   "cell_type": "code",
   "execution_count": 15,
   "id": "77f93f92-b485-49d3-aa81-1b8f31665e93",
   "metadata": {},
   "outputs": [
    {
     "data": {
      "text/plain": [
       "array([0, 1, 2, 3, 4])"
      ]
     },
     "execution_count": 15,
     "metadata": {},
     "output_type": "execute_result"
    }
   ],
   "source": [
    "array"
   ]
  },
  {
   "cell_type": "code",
   "execution_count": 20,
   "id": "6034cc15-fa0b-42a4-92b9-55445a8aab3b",
   "metadata": {},
   "outputs": [],
   "source": [
    "array_2d = np.array([range(5),range(5)])"
   ]
  },
  {
   "cell_type": "code",
   "execution_count": 22,
   "id": "37683455-d2b4-4274-8dc9-0127dd5ff91d",
   "metadata": {},
   "outputs": [
    {
     "data": {
      "text/plain": [
       "array([[1, 2, 3, 4, 5],\n",
       "       [1, 2, 3, 4, 5]])"
      ]
     },
     "execution_count": 22,
     "metadata": {},
     "output_type": "execute_result"
    }
   ],
   "source": [
    "array_2d + 1"
   ]
  },
  {
   "cell_type": "code",
   "execution_count": 24,
   "id": "a90c8d98-b388-49c8-87dd-53b5f6372ebb",
   "metadata": {},
   "outputs": [
    {
     "data": {
      "text/plain": [
       "array([[0, 0],\n",
       "       [1, 1],\n",
       "       [2, 2],\n",
       "       [3, 3],\n",
       "       [4, 4]])"
      ]
     },
     "execution_count": 24,
     "metadata": {},
     "output_type": "execute_result"
    }
   ],
   "source": [
    "array_2d.T"
   ]
  },
  {
   "cell_type": "code",
   "execution_count": 25,
   "id": "de424dc4-3ca1-4ffb-8091-19209117cbee",
   "metadata": {},
   "outputs": [
    {
     "data": {
      "text/plain": [
       "2"
      ]
     },
     "execution_count": 25,
     "metadata": {},
     "output_type": "execute_result"
    }
   ],
   "source": [
    "array_2d.T.ndim"
   ]
  },
  {
   "cell_type": "code",
   "execution_count": 27,
   "id": "186cbb7b-09c8-4896-891a-c05c6656dd4d",
   "metadata": {},
   "outputs": [
    {
     "data": {
      "text/plain": [
       "2"
      ]
     },
     "execution_count": 27,
     "metadata": {},
     "output_type": "execute_result"
    }
   ],
   "source": [
    "array_2d.ndim"
   ]
  },
  {
   "cell_type": "code",
   "execution_count": 28,
   "id": "8d10441f-5d0f-4a49-8118-3f9aa84b1037",
   "metadata": {},
   "outputs": [
    {
     "data": {
      "text/plain": [
       "dtype('int64')"
      ]
     },
     "execution_count": 28,
     "metadata": {},
     "output_type": "execute_result"
    }
   ],
   "source": [
    "array_2d.dtype"
   ]
  },
  {
   "cell_type": "code",
   "execution_count": 29,
   "id": "21d2ae47-c10a-42fa-8763-491626e78b94",
   "metadata": {},
   "outputs": [
    {
     "data": {
      "text/plain": [
       "array(['I', 'love', 'pandas'], dtype='<U6')"
      ]
     },
     "execution_count": 29,
     "metadata": {},
     "output_type": "execute_result"
    }
   ],
   "source": [
    "np.array(['I','love','pandas'])"
   ]
  },
  {
   "cell_type": "markdown",
   "id": "33a3c8f4-0799-46ee-beee-e62b8196194c",
   "metadata": {},
   "source": [
    "# Exercise 1"
   ]
  },
  {
   "cell_type": "code",
   "execution_count": 34,
   "id": "79e6a329-854b-47a6-8a50-3873aecb0535",
   "metadata": {},
   "outputs": [
    {
     "data": {
      "text/plain": [
       "array([ 10,  20,  30,  40,  50,  60,  70,  80,  90, 100])"
      ]
     },
     "execution_count": 34,
     "metadata": {},
     "output_type": "execute_result"
    }
   ],
   "source": [
    "# convert below list into array and observe it's properties\n",
    "my_list = [ x*10 for x in range(1,11)]\n",
    "my_array = np.array(my_list)\n",
    "my_array"
   ]
  },
  {
   "cell_type": "code",
   "execution_count": 35,
   "id": "d0746238-0027-4b0f-ac04-33cc2ac8ce29",
   "metadata": {},
   "outputs": [
    {
     "name": "stdout",
     "output_type": "stream",
     "text": [
      "ndim : 1\n",
      "shape : (10,)\n",
      "size : 10\n",
      "dtype : int64\n"
     ]
    }
   ],
   "source": [
    "print(f\"ndim : {my_array.ndim}\")\n",
    "print(f\"shape : {my_array.shape}\")\n",
    "print(f\"size : {my_array.size}\")\n",
    "print(f\"dtype : {my_array.dtype}\")"
   ]
  },
  {
   "cell_type": "code",
   "execution_count": 36,
   "id": "a541c7be-9494-422a-908d-c26c15e7fa69",
   "metadata": {},
   "outputs": [
    {
     "data": {
      "text/plain": [
       "array([[ 10,  20,  30,  40,  50],\n",
       "       [ 60,  70,  80,  90, 100]])"
      ]
     },
     "execution_count": 36,
     "metadata": {},
     "output_type": "execute_result"
    }
   ],
   "source": [
    "my_array.reshape(2,5)"
   ]
  },
  {
   "cell_type": "code",
   "execution_count": 37,
   "id": "219e7924-8e32-4afa-a55c-450b7f2e7a2a",
   "metadata": {},
   "outputs": [
    {
     "data": {
      "text/plain": [
       "2"
      ]
     },
     "execution_count": 37,
     "metadata": {},
     "output_type": "execute_result"
    }
   ],
   "source": [
    "my_array.reshape(2,5).ndim"
   ]
  },
  {
   "cell_type": "markdown",
   "id": "0e1ffcc5-f3c6-403b-ab4a-0b08e68e21c7",
   "metadata": {},
   "source": [
    "# Create arrays \n",
    "- ones\n",
    "- zeros\n",
    "- arrange\n",
    "- linshape\n",
    "- reshape"
   ]
  },
  {
   "cell_type": "code",
   "execution_count": 41,
   "id": "12ee8b6d-bc69-4014-b5cf-7047a9499d5d",
   "metadata": {},
   "outputs": [
    {
     "data": {
      "text/plain": [
       "array([1., 1., 1., 1., 1., 1., 1., 1., 1., 1., 1., 1., 1., 1., 1.])"
      ]
     },
     "execution_count": 41,
     "metadata": {},
     "output_type": "execute_result"
    }
   ],
   "source": [
    "# np.ones((rows,cols),dtype)\n",
    "np.ones(15)"
   ]
  },
  {
   "cell_type": "code",
   "execution_count": 42,
   "id": "91d20099-2d61-48f6-9cff-d7e1ee899aa2",
   "metadata": {},
   "outputs": [
    {
     "data": {
      "text/plain": [
       "array([[1.],\n",
       "       [1.],\n",
       "       [1.],\n",
       "       [1.],\n",
       "       [1.],\n",
       "       [1.],\n",
       "       [1.],\n",
       "       [1.],\n",
       "       [1.],\n",
       "       [1.],\n",
       "       [1.],\n",
       "       [1.],\n",
       "       [1.],\n",
       "       [1.],\n",
       "       [1.]])"
      ]
     },
     "execution_count": 42,
     "metadata": {},
     "output_type": "execute_result"
    }
   ],
   "source": [
    "np.ones(15).reshape(15,1)"
   ]
  },
  {
   "cell_type": "code",
   "execution_count": 44,
   "id": "41963f2b-d87c-40fd-903c-800bb2282fd2",
   "metadata": {},
   "outputs": [
    {
     "data": {
      "text/plain": [
       "array([1, 1])"
      ]
     },
     "execution_count": 44,
     "metadata": {},
     "output_type": "execute_result"
    }
   ],
   "source": [
    "np.ones(2,dtype='int')"
   ]
  },
  {
   "cell_type": "code",
   "execution_count": 45,
   "id": "2a508d6e-49c5-430b-9e44-707105c046f0",
   "metadata": {},
   "outputs": [
    {
     "data": {
      "text/plain": [
       "array([[0, 0, 0, 0, 0, 0, 0, 0, 0, 0, 0, 0, 0, 0, 0, 0, 0, 0, 0, 0],\n",
       "       [0, 0, 0, 0, 0, 0, 0, 0, 0, 0, 0, 0, 0, 0, 0, 0, 0, 0, 0, 0],\n",
       "       [0, 0, 0, 0, 0, 0, 0, 0, 0, 0, 0, 0, 0, 0, 0, 0, 0, 0, 0, 0],\n",
       "       [0, 0, 0, 0, 0, 0, 0, 0, 0, 0, 0, 0, 0, 0, 0, 0, 0, 0, 0, 0],\n",
       "       [0, 0, 0, 0, 0, 0, 0, 0, 0, 0, 0, 0, 0, 0, 0, 0, 0, 0, 0, 0]])"
      ]
     },
     "execution_count": 45,
     "metadata": {},
     "output_type": "execute_result"
    }
   ],
   "source": [
    "# np.zeros((rows,cols),dtype))\n",
    "np.zeros(100,'int').reshape(5,20)"
   ]
  },
  {
   "cell_type": "code",
   "execution_count": 46,
   "id": "1c5f5fe9-d0e6-44c1-a3ca-e03eca122cc0",
   "metadata": {},
   "outputs": [
    {
     "data": {
      "text/plain": [
       "array([[0, 0, 0, 0, 0, 0, 0, 0, 0, 0, 0, 0, 0, 0, 0, 0, 0, 0, 0, 0],\n",
       "       [0, 0, 0, 0, 0, 0, 0, 0, 0, 0, 0, 0, 0, 0, 0, 0, 0, 0, 0, 0],\n",
       "       [0, 0, 0, 0, 0, 0, 0, 0, 0, 0, 0, 0, 0, 0, 0, 0, 0, 0, 0, 0],\n",
       "       [0, 0, 0, 0, 0, 0, 0, 0, 0, 0, 0, 0, 0, 0, 0, 0, 0, 0, 0, 0],\n",
       "       [0, 0, 0, 0, 0, 0, 0, 0, 0, 0, 0, 0, 0, 0, 0, 0, 0, 0, 0, 0]])"
      ]
     },
     "execution_count": 46,
     "metadata": {},
     "output_type": "execute_result"
    }
   ],
   "source": [
    "np.zeros((5,20),'int')"
   ]
  },
  {
   "cell_type": "code",
   "execution_count": 49,
   "id": "a775797e-33c0-44be-9bdd-3c15e7168df4",
   "metadata": {},
   "outputs": [
    {
     "data": {
      "text/plain": [
       "array([[0, 0, 0, 0, 0],\n",
       "       [0, 0, 0, 0, 0],\n",
       "       [0, 0, 0, 0, 0],\n",
       "       [0, 0, 0, 0, 0],\n",
       "       [0, 0, 0, 0, 0],\n",
       "       [0, 0, 0, 0, 0],\n",
       "       [0, 0, 0, 0, 0],\n",
       "       [0, 0, 0, 0, 0],\n",
       "       [0, 0, 0, 0, 0],\n",
       "       [0, 0, 0, 0, 0],\n",
       "       [0, 0, 0, 0, 0],\n",
       "       [0, 0, 0, 0, 0],\n",
       "       [0, 0, 0, 0, 0],\n",
       "       [0, 0, 0, 0, 0],\n",
       "       [0, 0, 0, 0, 0],\n",
       "       [0, 0, 0, 0, 0],\n",
       "       [0, 0, 0, 0, 0],\n",
       "       [0, 0, 0, 0, 0],\n",
       "       [0, 0, 0, 0, 0],\n",
       "       [0, 0, 0, 0, 0]])"
      ]
     },
     "execution_count": 49,
     "metadata": {},
     "output_type": "execute_result"
    }
   ],
   "source": [
    "np.zeros((5,20),'int').T"
   ]
  },
  {
   "cell_type": "code",
   "execution_count": 47,
   "id": "c6300f1a-c684-4601-a4c9-d96b31240926",
   "metadata": {},
   "outputs": [
    {
     "data": {
      "text/plain": [
       "array([[1., 0., 0., 0., 0., 0., 0., 0., 0., 0.],\n",
       "       [0., 1., 0., 0., 0., 0., 0., 0., 0., 0.],\n",
       "       [0., 0., 1., 0., 0., 0., 0., 0., 0., 0.],\n",
       "       [0., 0., 0., 1., 0., 0., 0., 0., 0., 0.],\n",
       "       [0., 0., 0., 0., 1., 0., 0., 0., 0., 0.],\n",
       "       [0., 0., 0., 0., 0., 1., 0., 0., 0., 0.],\n",
       "       [0., 0., 0., 0., 0., 0., 1., 0., 0., 0.],\n",
       "       [0., 0., 0., 0., 0., 0., 0., 1., 0., 0.],\n",
       "       [0., 0., 0., 0., 0., 0., 0., 0., 1., 0.],\n",
       "       [0., 0., 0., 0., 0., 0., 0., 0., 0., 1.]])"
      ]
     },
     "execution_count": 47,
     "metadata": {},
     "output_type": "execute_result"
    }
   ],
   "source": [
    "np.identity(10)"
   ]
  },
  {
   "cell_type": "code",
   "execution_count": 48,
   "id": "46885608-1b6a-41fa-aeef-0a3674f49fad",
   "metadata": {},
   "outputs": [
    {
     "data": {
      "text/plain": [
       "array([[1., 0., 0., 0., 0., 0., 0., 0., 0., 0.],\n",
       "       [0., 1., 0., 0., 0., 0., 0., 0., 0., 0.],\n",
       "       [0., 0., 1., 0., 0., 0., 0., 0., 0., 0.],\n",
       "       [0., 0., 0., 1., 0., 0., 0., 0., 0., 0.],\n",
       "       [0., 0., 0., 0., 1., 0., 0., 0., 0., 0.],\n",
       "       [0., 0., 0., 0., 0., 1., 0., 0., 0., 0.],\n",
       "       [0., 0., 0., 0., 0., 0., 1., 0., 0., 0.],\n",
       "       [0., 0., 0., 0., 0., 0., 0., 1., 0., 0.],\n",
       "       [0., 0., 0., 0., 0., 0., 0., 0., 1., 0.],\n",
       "       [0., 0., 0., 0., 0., 0., 0., 0., 0., 1.]])"
      ]
     },
     "execution_count": 48,
     "metadata": {},
     "output_type": "execute_result"
    }
   ],
   "source": [
    "np.identity(10).T"
   ]
  },
  {
   "cell_type": "code",
   "execution_count": 50,
   "id": "7071eedb-8fba-4a19-8805-15612bbdb3b0",
   "metadata": {},
   "outputs": [
    {
     "data": {
      "text/plain": [
       "array([5, 6, 7, 8, 9])"
      ]
     },
     "execution_count": 50,
     "metadata": {},
     "output_type": "execute_result"
    }
   ],
   "source": [
    "#np.arange(start,stop,step) -- start is 0 and step is 1 by default {stop is not inclusive } s\n",
    "# same as range in base python\n",
    "np.arange(5,10)"
   ]
  },
  {
   "cell_type": "code",
   "execution_count": 53,
   "id": "d8062c37-1c0c-4ba3-8c2a-58ecdbea6e9a",
   "metadata": {},
   "outputs": [
    {
     "data": {
      "text/plain": [
       "array([[0, 1],\n",
       "       [2, 3],\n",
       "       [4, 5],\n",
       "       [6, 7],\n",
       "       [8, 9]])"
      ]
     },
     "execution_count": 53,
     "metadata": {},
     "output_type": "execute_result"
    }
   ],
   "source": [
    "np.arange(10).reshape(5,2)"
   ]
  },
  {
   "cell_type": "code",
   "execution_count": null,
   "id": "a9231e5e-6cd6-49f3-82db-b1111d0d3e1c",
   "metadata": {},
   "outputs": [],
   "source": [
    "# linspace create an array for equal space \n",
    "# helpful in chart indexes \n",
    "# stop is inclusive \n",
    "# np.linspace(start, stop, n)"
   ]
  },
  {
   "cell_type": "code",
   "execution_count": 58,
   "id": "f4147ac5-3f41-4725-a9e6-035d35997666",
   "metadata": {},
   "outputs": [
    {
     "data": {
      "text/plain": [
       "array([  0.,  10.,  20.,  30.,  40.,  50.,  60.,  70.,  80.,  90., 100.])"
      ]
     },
     "execution_count": 58,
     "metadata": {},
     "output_type": "execute_result"
    }
   ],
   "source": [
    "np.linspace(0, 100, 11)"
   ]
  },
  {
   "cell_type": "code",
   "execution_count": 59,
   "id": "8bf6a875-529d-41b3-816a-58eefa7e6560",
   "metadata": {},
   "outputs": [
    {
     "data": {
      "text/plain": [
       "array([0. , 0.1, 0.2, 0.3, 0.4, 0.5, 0.6, 0.7, 0.8, 0.9, 1. ])"
      ]
     },
     "execution_count": 59,
     "metadata": {},
     "output_type": "execute_result"
    }
   ],
   "source": [
    "np.linspace(0,1,11)"
   ]
  },
  {
   "cell_type": "code",
   "execution_count": 60,
   "id": "d376d41a-ca97-43af-ad4b-8f43ef2fc100",
   "metadata": {},
   "outputs": [
    {
     "data": {
      "text/plain": [
       "array([ 8., 16., 24., 32., 40., 48., 56., 64.])"
      ]
     },
     "execution_count": 60,
     "metadata": {},
     "output_type": "execute_result"
    }
   ],
   "source": [
    "np.linspace(8, 64 , 8)"
   ]
  },
  {
   "cell_type": "code",
   "execution_count": 61,
   "id": "181f5868-e6d7-4f41-a14b-01c0deaea927",
   "metadata": {},
   "outputs": [
    {
     "data": {
      "text/plain": [
       "array([ 0.,  8., 16., 24., 32., 40., 48., 56., 64.])"
      ]
     },
     "execution_count": 61,
     "metadata": {},
     "output_type": "execute_result"
    }
   ],
   "source": [
    "np.linspace(0, 64 , 9)"
   ]
  },
  {
   "cell_type": "code",
   "execution_count": null,
   "id": "571258de-26a0-4404-a75d-bc3df8a9cccc",
   "metadata": {},
   "outputs": [],
   "source": [
    "# reshape\n",
    "# generate an error if shape is not compatible "
   ]
  },
  {
   "cell_type": "markdown",
   "id": "7c9f1e71-3ecc-4a93-8169-df4539c93505",
   "metadata": {},
   "source": [
    "# random number arrays\n",
    "-default_rng - seed is reproducible np.defalut_rng(seed)\n",
    "- random methos uniform distribution bet 0 and 1 rng.random(n)\n",
    "- normal (distribution) returns n random numbers from a normal distribution with a given mean and standard deviation rng.normal(mean, stdev,n)\n",
    "- (rng) is the standard variable name for the default_rng number generator"
   ]
  },
  {
   "cell_type": "code",
   "execution_count": 66,
   "id": "dc79099d-326c-4591-a133-3244f8329e0c",
   "metadata": {},
   "outputs": [
    {
     "data": {
      "text/plain": [
       "array([0.22733602, 0.31675834, 0.79736546, 0.67625467, 0.39110955,\n",
       "       0.33281393, 0.59830875, 0.18673419, 0.67275604, 0.94180287])"
      ]
     },
     "execution_count": 66,
     "metadata": {},
     "output_type": "execute_result"
    }
   ],
   "source": [
    "from numpy.random import default_rng\n",
    "\n",
    "rng = default_rng(12345)\n",
    "\n",
    "random_array = rng.random(10)\n",
    "random_array"
   ]
  },
  {
   "cell_type": "code",
   "execution_count": 63,
   "id": "c7056909-e712-4051-842c-f58f70d826e4",
   "metadata": {},
   "outputs": [
    {
     "data": {
      "text/plain": [
       "array([0.39682145, 0.86568572, 0.46040359, 0.30599848, 0.57381588,\n",
       "       0.08888468, 0.88194347, 0.73228387, 0.73215182, 0.56233394])"
      ]
     },
     "execution_count": 63,
     "metadata": {},
     "output_type": "execute_result"
    }
   ],
   "source": [
    "rng = np.random.default_rng(616)\n",
    "rng.random(10)"
   ]
  },
  {
   "cell_type": "code",
   "execution_count": 64,
   "id": "6cc329dc-687a-44f1-813c-13ea689a040b",
   "metadata": {},
   "outputs": [
    {
     "data": {
      "text/plain": [
       "array([8, 3, 6, 0, 3, 3, 1, 2, 2, 4, 9, 1, 2, 5, 1, 8, 9, 0, 3, 1, 5, 8,\n",
       "       0, 6, 1, 7, 0, 7, 6, 0, 3, 7, 1, 9, 4, 1, 6, 1, 4, 4, 9, 5, 3, 4,\n",
       "       7, 8, 3, 3, 5, 0, 4, 9, 9, 5, 6, 5, 8, 2, 3, 0, 0, 8, 3, 8, 4, 8,\n",
       "       8, 9, 7, 3, 8, 4, 9, 2, 6, 3, 0, 3, 2, 0, 0, 4, 9, 5, 4, 1, 8, 2,\n",
       "       7, 7, 1, 2, 2, 4, 1, 6, 7, 3, 7, 5])"
      ]
     },
     "execution_count": 64,
     "metadata": {},
     "output_type": "execute_result"
    }
   ],
   "source": [
    "rng.integers(0,10,100)"
   ]
  },
  {
   "cell_type": "code",
   "execution_count": 65,
   "id": "80c4e9c3-a446-4aaf-8f99-25eeaa6a5e42",
   "metadata": {},
   "outputs": [
    {
     "data": {
      "text/plain": [
       "array([53.53115044, 46.35468178, 46.1580894 , 52.89177118, 45.90693639,\n",
       "       44.51748741, 57.41467712, 51.82624671, 53.9032125 , 53.21454641])"
      ]
     },
     "execution_count": 65,
     "metadata": {},
     "output_type": "execute_result"
    }
   ],
   "source": [
    "rng.normal(50,5,10)"
   ]
  },
  {
   "cell_type": "code",
   "execution_count": 68,
   "id": "272b2f22-2da7-4c89-9fa0-992ab9eba8bb",
   "metadata": {},
   "outputs": [
    {
     "data": {
      "text/plain": [
       "array([3.57617496, 6.26372846, 4.12933826, 4.74082677, 4.92465669,\n",
       "       4.25911535, 3.6322073 , 5.6488928 , 5.36105811, 3.04713694])"
      ]
     },
     "execution_count": 68,
     "metadata": {},
     "output_type": "execute_result"
    }
   ],
   "source": [
    "rng = default_rng(12345)\n",
    "mean , stddev = 5, 1\n",
    "random_normal = rng.normal(mean, stddev, size=10)\n",
    "random_normal"
   ]
  },
  {
   "cell_type": "markdown",
   "id": "371275ff-4a44-4026-ad96-61d8ab315181",
   "metadata": {},
   "source": [
    "# Exercise 2"
   ]
  },
  {
   "cell_type": "code",
   "execution_count": 74,
   "id": "dcce7e42-6868-4de0-ab22-b8a31118723e",
   "metadata": {},
   "outputs": [
    {
     "data": {
      "text/plain": [
       "array([[ 10.,  20.],\n",
       "       [ 30.,  40.],\n",
       "       [ 50.,  60.],\n",
       "       [ 70.,  80.],\n",
       "       [ 90., 100.]])"
      ]
     },
     "execution_count": 74,
     "metadata": {},
     "output_type": "execute_result"
    }
   ],
   "source": [
    "np_array = np.linspace(10,100,10).reshape(5,2)\n",
    "np_array"
   ]
  },
  {
   "cell_type": "code",
   "execution_count": 85,
   "id": "3f218e47-aa1a-4fef-8f5d-3484ed5e0956",
   "metadata": {},
   "outputs": [
    {
     "data": {
      "text/plain": [
       "array([[ 10,  20],\n",
       "       [ 30,  40],\n",
       "       [ 50,  60],\n",
       "       [ 70,  80],\n",
       "       [ 90, 100]])"
      ]
     },
     "execution_count": 85,
     "metadata": {},
     "output_type": "execute_result"
    }
   ],
   "source": [
    "np_array = np.arange(10,101,10).reshape(5,2)\n",
    "np_array"
   ]
  },
  {
   "cell_type": "code",
   "execution_count": 88,
   "id": "85b1dfdf-512f-4227-8591-01d7c802c2dc",
   "metadata": {},
   "outputs": [
    {
     "data": {
      "text/plain": [
       "array([[ 10,  20],\n",
       "       [ 30,  40],\n",
       "       [ 50,  60],\n",
       "       [ 70,  80],\n",
       "       [ 90, 100]])"
      ]
     },
     "execution_count": 88,
     "metadata": {},
     "output_type": "execute_result"
    }
   ],
   "source": [
    "np_array = (np.arange(1,11)*10).reshape(5,2)\n",
    "np_array"
   ]
  },
  {
   "cell_type": "code",
   "execution_count": 89,
   "id": "0685a7a1-4e15-457c-b887-247cbe5b27f4",
   "metadata": {},
   "outputs": [
    {
     "data": {
      "text/plain": [
       "array([[0.24742606, 0.09299006, 0.61176337],\n",
       "       [0.06066207, 0.66103343, 0.75515778],\n",
       "       [0.1108689 , 0.04305584, 0.41441747]])"
      ]
     },
     "execution_count": 89,
     "metadata": {},
     "output_type": "execute_result"
    }
   ],
   "source": [
    "from numpy.random import default_rng\n",
    "\n",
    "rng = default_rng(2022)\n",
    "\n",
    "random_array = rng.random(9).reshape(3,3)\n",
    "random_array"
   ]
  },
  {
   "cell_type": "code",
   "execution_count": 91,
   "id": "3a800acf-6683-40f4-a514-9a8ae80c372a",
   "metadata": {},
   "outputs": [
    {
     "data": {
      "text/plain": [
       "array([[0.24742606, 0.09299006, 0.61176337],\n",
       "       [0.06066207, 0.66103343, 0.75515778],\n",
       "       [0.1108689 , 0.04305584, 0.41441747]])"
      ]
     },
     "execution_count": 91,
     "metadata": {},
     "output_type": "execute_result"
    }
   ],
   "source": [
    "from numpy.random import default_rng\n",
    "\n",
    "rng = default_rng(2022)\n",
    "\n",
    "random_array = rng.random([3,3])\n",
    "random_array"
   ]
  },
  {
   "cell_type": "markdown",
   "id": "36777090-149c-4cc0-989f-74c9b2c75b6f",
   "metadata": {},
   "source": [
    "# indexing and slicing \n",
    "- array[index] (0-indexed)\n",
    "- array[start:stop:step size]"
   ]
  },
  {
   "cell_type": "code",
   "execution_count": 92,
   "id": "fa2c1830-8650-4ca3-8483-0bb3d08abd43",
   "metadata": {},
   "outputs": [],
   "source": [
    "product_array = np.array(['fruits','vegetables','cereal','dairy','eggs','snacks','beverages','coffee','tea','spices'])"
   ]
  },
  {
   "cell_type": "code",
   "execution_count": 93,
   "id": "be6caf34-0c93-4aa7-9a4a-74df1605f376",
   "metadata": {},
   "outputs": [
    {
     "data": {
      "text/plain": [
       "array(['fruits', 'vegetables', 'cereal', 'dairy', 'eggs', 'snacks',\n",
       "       'beverages', 'coffee', 'tea', 'spices'], dtype='<U10')"
      ]
     },
     "execution_count": 93,
     "metadata": {},
     "output_type": "execute_result"
    }
   ],
   "source": [
    "product_array"
   ]
  },
  {
   "cell_type": "code",
   "execution_count": 94,
   "id": "b9eb9608-cf43-4fd1-834a-71dc2b629ada",
   "metadata": {},
   "outputs": [
    {
     "name": "stdout",
     "output_type": "stream",
     "text": [
      "vegetables\n"
     ]
    }
   ],
   "source": [
    "print(product_array[1])"
   ]
  },
  {
   "cell_type": "code",
   "execution_count": 95,
   "id": "baccbf4a-b08c-4271-be25-a3bea32bdaa6",
   "metadata": {},
   "outputs": [
    {
     "name": "stdout",
     "output_type": "stream",
     "text": [
      "spices\n"
     ]
    }
   ],
   "source": [
    "print(product_array[-1])"
   ]
  },
  {
   "cell_type": "code",
   "execution_count": 96,
   "id": "7d14d171-7aae-4478-a0de-ac5dfadf10dc",
   "metadata": {},
   "outputs": [
    {
     "name": "stdout",
     "output_type": "stream",
     "text": [
      "['fruits' 'vegetables' 'cereal' 'dairy' 'eggs']\n"
     ]
    }
   ],
   "source": [
    "print(product_array[:5])"
   ]
  },
  {
   "cell_type": "code",
   "execution_count": 99,
   "id": "6f256ea5-1864-48a9-ba95-513d2d39346b",
   "metadata": {},
   "outputs": [
    {
     "name": "stdout",
     "output_type": "stream",
     "text": [
      "['snacks' 'coffee' 'spices']\n"
     ]
    }
   ],
   "source": [
    "print(product_array[5::2])"
   ]
  },
  {
   "cell_type": "markdown",
   "id": "a3dc0124-be93-4aa8-8bfe-374331227e7a",
   "metadata": {},
   "source": [
    "# indexing and slicing 2d array\n",
    "- array[row index, column index]\n",
    "- array[start:stop:step size, start:stop:step size]"
   ]
  },
  {
   "cell_type": "code",
   "execution_count": 101,
   "id": "a4845730-dd5d-4394-b5a9-41bfa5530f36",
   "metadata": {},
   "outputs": [
    {
     "data": {
      "text/plain": [
       "array([['fruits', 'vegetables', 'cereal', 'dairy', 'eggs'],\n",
       "       ['snacks', 'beverages', 'coffee', 'tea', 'spices']], dtype='<U10')"
      ]
     },
     "execution_count": 101,
     "metadata": {},
     "output_type": "execute_result"
    }
   ],
   "source": [
    "product_array2D = product_array.reshape(2,5)\n",
    "product_array2D"
   ]
  },
  {
   "cell_type": "code",
   "execution_count": 104,
   "id": "3c15b0fb-b730-4a67-9666-e8bbd26ef8f7",
   "metadata": {},
   "outputs": [
    {
     "data": {
      "text/plain": [
       "np.str_('coffee')"
      ]
     },
     "execution_count": 104,
     "metadata": {},
     "output_type": "execute_result"
    }
   ],
   "source": [
    "product_array2D[1,2]"
   ]
  },
  {
   "cell_type": "code",
   "execution_count": 105,
   "id": "29c8cbc3-0435-4172-ba5a-01758d01abf4",
   "metadata": {},
   "outputs": [
    {
     "data": {
      "text/plain": [
       "array([['cereal', 'dairy', 'eggs'],\n",
       "       ['coffee', 'tea', 'spices']], dtype='<U10')"
      ]
     },
     "execution_count": 105,
     "metadata": {},
     "output_type": "execute_result"
    }
   ],
   "source": [
    "product_array2D[:, 2:]"
   ]
  },
  {
   "cell_type": "code",
   "execution_count": 106,
   "id": "0b2d8037-7f33-4b96-8814-5e383a78a229",
   "metadata": {},
   "outputs": [
    {
     "data": {
      "text/plain": [
       "array([['snacks', 'beverages', 'coffee', 'tea', 'spices']], dtype='<U10')"
      ]
     },
     "execution_count": 106,
     "metadata": {},
     "output_type": "execute_result"
    }
   ],
   "source": [
    "product_array2D[1:,:]"
   ]
  }
 ],
 "metadata": {
  "kernelspec": {
   "display_name": "Python 3 (ipykernel)",
   "language": "python",
   "name": "python3"
  },
  "language_info": {
   "codemirror_mode": {
    "name": "ipython",
    "version": 3
   },
   "file_extension": ".py",
   "mimetype": "text/x-python",
   "name": "python",
   "nbconvert_exporter": "python",
   "pygments_lexer": "ipython3",
   "version": "3.9.6"
  }
 },
 "nbformat": 4,
 "nbformat_minor": 5
}
