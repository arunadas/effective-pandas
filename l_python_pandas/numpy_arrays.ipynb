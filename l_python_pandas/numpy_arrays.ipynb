{
 "cells": [
  {
   "cell_type": "code",
   "execution_count": 1,
   "id": "8f2770be-a5cf-42ec-a5ab-5238c2210791",
   "metadata": {},
   "outputs": [],
   "source": [
    "import numpy as np"
   ]
  },
  {
   "cell_type": "code",
   "execution_count": 2,
   "id": "36e7dde2-824e-4812-bd65-705c38298f46",
   "metadata": {},
   "outputs": [],
   "source": [
    "sales = [0,5,155,0,518,0,1827,616,317,325]"
   ]
  },
  {
   "cell_type": "code",
   "execution_count": 3,
   "id": "c994e259-3f79-43a5-833b-041dc7db74d3",
   "metadata": {},
   "outputs": [
    {
     "data": {
      "text/plain": [
       "[0, 5, 155, 0, 518, 0, 1827, 616, 317, 325]"
      ]
     },
     "execution_count": 3,
     "metadata": {},
     "output_type": "execute_result"
    }
   ],
   "source": [
    "# sales python list or tuples\n",
    "sales"
   ]
  },
  {
   "cell_type": "code",
   "execution_count": 4,
   "id": "7e18a27d-00cc-49d6-9c9a-40d1f2a84a40",
   "metadata": {},
   "outputs": [],
   "source": [
    "sales_array = np.array(sales)"
   ]
  },
  {
   "cell_type": "code",
   "execution_count": 5,
   "id": "17c0dc1c-3d37-46d6-b26c-3772f7f7d31f",
   "metadata": {},
   "outputs": [
    {
     "data": {
      "text/plain": [
       "array([   0,    5,  155,    0,  518,    0, 1827,  616,  317,  325])"
      ]
     },
     "execution_count": 5,
     "metadata": {},
     "output_type": "execute_result"
    }
   ],
   "source": [
    "sales_array"
   ]
  },
  {
   "cell_type": "markdown",
   "id": "83fa3752-22b5-4e68-b292-3c3fc144d10e",
   "metadata": {},
   "source": [
    "# array properties\n",
    "- ndim\n",
    "- shape\n",
    "- size\n",
    "- dtype\n",
    "  #properties of the array"
   ]
  },
  {
   "cell_type": "code",
   "execution_count": 6,
   "id": "280c72fd-5693-4404-a26a-7921ff5ee953",
   "metadata": {},
   "outputs": [
    {
     "data": {
      "text/plain": [
       "numpy.ndarray"
      ]
     },
     "execution_count": 6,
     "metadata": {},
     "output_type": "execute_result"
    }
   ],
   "source": [
    "type(sales_array)"
   ]
  },
  {
   "cell_type": "code",
   "execution_count": 7,
   "id": "057f6c5b-1d00-4e70-b915-e03f92e58138",
   "metadata": {},
   "outputs": [
    {
     "name": "stdout",
     "output_type": "stream",
     "text": [
      "ndim : 1\n",
      "shape : (10,)\n",
      "size : 10\n",
      "dtype : int64\n"
     ]
    }
   ],
   "source": [
    "print(f\"ndim : {sales_array.ndim}\")\n",
    "print(f\"shape : {sales_array.shape}\")\n",
    "print(f\"size : {sales_array.size}\")\n",
    "print(f\"dtype : {sales_array.dtype}\")"
   ]
  },
  {
   "cell_type": "markdown",
   "id": "28df443b-f96f-4411-b59e-95f9347da09f",
   "metadata": {},
   "source": [
    "# 2 D Array"
   ]
  },
  {
   "cell_type": "code",
   "execution_count": 8,
   "id": "a67d90c4-d154-4cbc-9941-ac4832a3432f",
   "metadata": {},
   "outputs": [],
   "source": [
    "# has to be of same length\n",
    "sales = [[0,5,155,0,518], [0,1827,616,317,325]]"
   ]
  },
  {
   "cell_type": "code",
   "execution_count": 9,
   "id": "106b28c0-5726-44bf-b7ea-bd5ed7a1ffdd",
   "metadata": {},
   "outputs": [],
   "source": [
    "sales_2dArray = np.array(sales)"
   ]
  },
  {
   "cell_type": "code",
   "execution_count": 10,
   "id": "49a35795-1e28-46fd-b4be-23f8336842ee",
   "metadata": {},
   "outputs": [
    {
     "data": {
      "text/plain": [
       "array([[   0,    5,  155,    0,  518],\n",
       "       [   0, 1827,  616,  317,  325]])"
      ]
     },
     "execution_count": 10,
     "metadata": {},
     "output_type": "execute_result"
    }
   ],
   "source": [
    "sales_2dArray"
   ]
  },
  {
   "cell_type": "code",
   "execution_count": 11,
   "id": "9217220b-270f-4ec2-9f4b-d5d528677229",
   "metadata": {},
   "outputs": [
    {
     "name": "stdout",
     "output_type": "stream",
     "text": [
      "ndim : 2\n",
      "shape : (2, 5)\n",
      "size : 10\n",
      "dtype : int64\n"
     ]
    }
   ],
   "source": [
    "print(f\"ndim : {sales_2dArray.ndim}\")\n",
    "print(f\"shape : {sales_2dArray.shape}\")\n",
    "print(f\"size : {sales_2dArray.size}\")\n",
    "print(f\"dtype : {sales_2dArray.dtype}\")"
   ]
  },
  {
   "cell_type": "code",
   "execution_count": 12,
   "id": "2b98fd99-4ef7-43ef-9290-a1e46bb6ca1f",
   "metadata": {},
   "outputs": [],
   "source": [
    "array = np.array(range(5))"
   ]
  },
  {
   "cell_type": "code",
   "execution_count": 13,
   "id": "77f93f92-b485-49d3-aa81-1b8f31665e93",
   "metadata": {},
   "outputs": [
    {
     "data": {
      "text/plain": [
       "array([0, 1, 2, 3, 4])"
      ]
     },
     "execution_count": 13,
     "metadata": {},
     "output_type": "execute_result"
    }
   ],
   "source": [
    "array"
   ]
  },
  {
   "cell_type": "code",
   "execution_count": 14,
   "id": "6034cc15-fa0b-42a4-92b9-55445a8aab3b",
   "metadata": {},
   "outputs": [],
   "source": [
    "array_2d = np.array([range(5),range(5)])"
   ]
  },
  {
   "cell_type": "code",
   "execution_count": 16,
   "id": "37683455-d2b4-4274-8dc9-0127dd5ff91d",
   "metadata": {},
   "outputs": [
    {
     "data": {
      "text/plain": [
       "array([[1, 2, 3, 4, 5],\n",
       "       [1, 2, 3, 4, 5]])"
      ]
     },
     "execution_count": 16,
     "metadata": {},
     "output_type": "execute_result"
    }
   ],
   "source": [
    "array_2d + 1"
   ]
  },
  {
   "cell_type": "code",
   "execution_count": 17,
   "id": "a90c8d98-b388-49c8-87dd-53b5f6372ebb",
   "metadata": {},
   "outputs": [
    {
     "data": {
      "text/plain": [
       "array([[0, 0],\n",
       "       [1, 1],\n",
       "       [2, 2],\n",
       "       [3, 3],\n",
       "       [4, 4]])"
      ]
     },
     "execution_count": 17,
     "metadata": {},
     "output_type": "execute_result"
    }
   ],
   "source": [
    "array_2d.T"
   ]
  },
  {
   "cell_type": "code",
   "execution_count": 18,
   "id": "de424dc4-3ca1-4ffb-8091-19209117cbee",
   "metadata": {},
   "outputs": [
    {
     "data": {
      "text/plain": [
       "2"
      ]
     },
     "execution_count": 18,
     "metadata": {},
     "output_type": "execute_result"
    }
   ],
   "source": [
    "array_2d.T.ndim"
   ]
  },
  {
   "cell_type": "code",
   "execution_count": 19,
   "id": "186cbb7b-09c8-4896-891a-c05c6656dd4d",
   "metadata": {},
   "outputs": [
    {
     "data": {
      "text/plain": [
       "2"
      ]
     },
     "execution_count": 19,
     "metadata": {},
     "output_type": "execute_result"
    }
   ],
   "source": [
    "array_2d.ndim"
   ]
  },
  {
   "cell_type": "code",
   "execution_count": 20,
   "id": "8d10441f-5d0f-4a49-8118-3f9aa84b1037",
   "metadata": {},
   "outputs": [
    {
     "data": {
      "text/plain": [
       "dtype('int64')"
      ]
     },
     "execution_count": 20,
     "metadata": {},
     "output_type": "execute_result"
    }
   ],
   "source": [
    "array_2d.dtype"
   ]
  },
  {
   "cell_type": "code",
   "execution_count": 21,
   "id": "21d2ae47-c10a-42fa-8763-491626e78b94",
   "metadata": {},
   "outputs": [
    {
     "data": {
      "text/plain": [
       "array(['I', 'love', 'pandas'], dtype='<U6')"
      ]
     },
     "execution_count": 21,
     "metadata": {},
     "output_type": "execute_result"
    }
   ],
   "source": [
    "np.array(['I','love','pandas'])"
   ]
  },
  {
   "cell_type": "markdown",
   "id": "33a3c8f4-0799-46ee-beee-e62b8196194c",
   "metadata": {},
   "source": [
    "# Exercise 1"
   ]
  },
  {
   "cell_type": "code",
   "execution_count": 22,
   "id": "79e6a329-854b-47a6-8a50-3873aecb0535",
   "metadata": {},
   "outputs": [
    {
     "data": {
      "text/plain": [
       "array([ 10,  20,  30,  40,  50,  60,  70,  80,  90, 100])"
      ]
     },
     "execution_count": 22,
     "metadata": {},
     "output_type": "execute_result"
    }
   ],
   "source": [
    "# convert below list into array and observe it's properties\n",
    "my_list = [ x*10 for x in range(1,11)]\n",
    "my_array = np.array(my_list)\n",
    "my_array"
   ]
  },
  {
   "cell_type": "code",
   "execution_count": 23,
   "id": "d0746238-0027-4b0f-ac04-33cc2ac8ce29",
   "metadata": {},
   "outputs": [
    {
     "name": "stdout",
     "output_type": "stream",
     "text": [
      "ndim : 1\n",
      "shape : (10,)\n",
      "size : 10\n",
      "dtype : int64\n"
     ]
    }
   ],
   "source": [
    "print(f\"ndim : {my_array.ndim}\")\n",
    "print(f\"shape : {my_array.shape}\")\n",
    "print(f\"size : {my_array.size}\")\n",
    "print(f\"dtype : {my_array.dtype}\")"
   ]
  },
  {
   "cell_type": "code",
   "execution_count": 24,
   "id": "a541c7be-9494-422a-908d-c26c15e7fa69",
   "metadata": {},
   "outputs": [
    {
     "data": {
      "text/plain": [
       "array([[ 10,  20,  30,  40,  50],\n",
       "       [ 60,  70,  80,  90, 100]])"
      ]
     },
     "execution_count": 24,
     "metadata": {},
     "output_type": "execute_result"
    }
   ],
   "source": [
    "my_array.reshape(2,5)"
   ]
  },
  {
   "cell_type": "code",
   "execution_count": 25,
   "id": "219e7924-8e32-4afa-a55c-450b7f2e7a2a",
   "metadata": {},
   "outputs": [
    {
     "data": {
      "text/plain": [
       "2"
      ]
     },
     "execution_count": 25,
     "metadata": {},
     "output_type": "execute_result"
    }
   ],
   "source": [
    "my_array.reshape(2,5).ndim"
   ]
  },
  {
   "cell_type": "markdown",
   "id": "0e1ffcc5-f3c6-403b-ab4a-0b08e68e21c7",
   "metadata": {},
   "source": [
    "# Create arrays \n",
    "- ones\n",
    "- zeros\n",
    "- arrange\n",
    "- linshape\n",
    "- reshape"
   ]
  },
  {
   "cell_type": "code",
   "execution_count": 26,
   "id": "12ee8b6d-bc69-4014-b5cf-7047a9499d5d",
   "metadata": {},
   "outputs": [
    {
     "data": {
      "text/plain": [
       "array([1., 1., 1., 1., 1., 1., 1., 1., 1., 1., 1., 1., 1., 1., 1.])"
      ]
     },
     "execution_count": 26,
     "metadata": {},
     "output_type": "execute_result"
    }
   ],
   "source": [
    "# np.ones((rows,cols),dtype)\n",
    "np.ones(15)"
   ]
  },
  {
   "cell_type": "code",
   "execution_count": 27,
   "id": "91d20099-2d61-48f6-9cff-d7e1ee899aa2",
   "metadata": {},
   "outputs": [
    {
     "data": {
      "text/plain": [
       "array([[1.],\n",
       "       [1.],\n",
       "       [1.],\n",
       "       [1.],\n",
       "       [1.],\n",
       "       [1.],\n",
       "       [1.],\n",
       "       [1.],\n",
       "       [1.],\n",
       "       [1.],\n",
       "       [1.],\n",
       "       [1.],\n",
       "       [1.],\n",
       "       [1.],\n",
       "       [1.]])"
      ]
     },
     "execution_count": 27,
     "metadata": {},
     "output_type": "execute_result"
    }
   ],
   "source": [
    "np.ones(15).reshape(15,1)"
   ]
  },
  {
   "cell_type": "code",
   "execution_count": 28,
   "id": "41963f2b-d87c-40fd-903c-800bb2282fd2",
   "metadata": {},
   "outputs": [
    {
     "data": {
      "text/plain": [
       "array([1, 1])"
      ]
     },
     "execution_count": 28,
     "metadata": {},
     "output_type": "execute_result"
    }
   ],
   "source": [
    "np.ones(2,dtype='int')"
   ]
  },
  {
   "cell_type": "code",
   "execution_count": 29,
   "id": "2a508d6e-49c5-430b-9e44-707105c046f0",
   "metadata": {},
   "outputs": [
    {
     "data": {
      "text/plain": [
       "array([[0, 0, 0, 0, 0, 0, 0, 0, 0, 0, 0, 0, 0, 0, 0, 0, 0, 0, 0, 0],\n",
       "       [0, 0, 0, 0, 0, 0, 0, 0, 0, 0, 0, 0, 0, 0, 0, 0, 0, 0, 0, 0],\n",
       "       [0, 0, 0, 0, 0, 0, 0, 0, 0, 0, 0, 0, 0, 0, 0, 0, 0, 0, 0, 0],\n",
       "       [0, 0, 0, 0, 0, 0, 0, 0, 0, 0, 0, 0, 0, 0, 0, 0, 0, 0, 0, 0],\n",
       "       [0, 0, 0, 0, 0, 0, 0, 0, 0, 0, 0, 0, 0, 0, 0, 0, 0, 0, 0, 0]])"
      ]
     },
     "execution_count": 29,
     "metadata": {},
     "output_type": "execute_result"
    }
   ],
   "source": [
    "# np.zeros((rows,cols),dtype))\n",
    "np.zeros(100,'int').reshape(5,20)"
   ]
  },
  {
   "cell_type": "code",
   "execution_count": 30,
   "id": "1c5f5fe9-d0e6-44c1-a3ca-e03eca122cc0",
   "metadata": {},
   "outputs": [
    {
     "data": {
      "text/plain": [
       "array([[0, 0, 0, 0, 0, 0, 0, 0, 0, 0, 0, 0, 0, 0, 0, 0, 0, 0, 0, 0],\n",
       "       [0, 0, 0, 0, 0, 0, 0, 0, 0, 0, 0, 0, 0, 0, 0, 0, 0, 0, 0, 0],\n",
       "       [0, 0, 0, 0, 0, 0, 0, 0, 0, 0, 0, 0, 0, 0, 0, 0, 0, 0, 0, 0],\n",
       "       [0, 0, 0, 0, 0, 0, 0, 0, 0, 0, 0, 0, 0, 0, 0, 0, 0, 0, 0, 0],\n",
       "       [0, 0, 0, 0, 0, 0, 0, 0, 0, 0, 0, 0, 0, 0, 0, 0, 0, 0, 0, 0]])"
      ]
     },
     "execution_count": 30,
     "metadata": {},
     "output_type": "execute_result"
    }
   ],
   "source": [
    "np.zeros((5,20),'int')"
   ]
  },
  {
   "cell_type": "code",
   "execution_count": 31,
   "id": "a775797e-33c0-44be-9bdd-3c15e7168df4",
   "metadata": {},
   "outputs": [
    {
     "data": {
      "text/plain": [
       "array([[0, 0, 0, 0, 0],\n",
       "       [0, 0, 0, 0, 0],\n",
       "       [0, 0, 0, 0, 0],\n",
       "       [0, 0, 0, 0, 0],\n",
       "       [0, 0, 0, 0, 0],\n",
       "       [0, 0, 0, 0, 0],\n",
       "       [0, 0, 0, 0, 0],\n",
       "       [0, 0, 0, 0, 0],\n",
       "       [0, 0, 0, 0, 0],\n",
       "       [0, 0, 0, 0, 0],\n",
       "       [0, 0, 0, 0, 0],\n",
       "       [0, 0, 0, 0, 0],\n",
       "       [0, 0, 0, 0, 0],\n",
       "       [0, 0, 0, 0, 0],\n",
       "       [0, 0, 0, 0, 0],\n",
       "       [0, 0, 0, 0, 0],\n",
       "       [0, 0, 0, 0, 0],\n",
       "       [0, 0, 0, 0, 0],\n",
       "       [0, 0, 0, 0, 0],\n",
       "       [0, 0, 0, 0, 0]])"
      ]
     },
     "execution_count": 31,
     "metadata": {},
     "output_type": "execute_result"
    }
   ],
   "source": [
    "np.zeros((5,20),'int').T"
   ]
  },
  {
   "cell_type": "code",
   "execution_count": 32,
   "id": "c6300f1a-c684-4601-a4c9-d96b31240926",
   "metadata": {},
   "outputs": [
    {
     "data": {
      "text/plain": [
       "array([[1., 0., 0., 0., 0., 0., 0., 0., 0., 0.],\n",
       "       [0., 1., 0., 0., 0., 0., 0., 0., 0., 0.],\n",
       "       [0., 0., 1., 0., 0., 0., 0., 0., 0., 0.],\n",
       "       [0., 0., 0., 1., 0., 0., 0., 0., 0., 0.],\n",
       "       [0., 0., 0., 0., 1., 0., 0., 0., 0., 0.],\n",
       "       [0., 0., 0., 0., 0., 1., 0., 0., 0., 0.],\n",
       "       [0., 0., 0., 0., 0., 0., 1., 0., 0., 0.],\n",
       "       [0., 0., 0., 0., 0., 0., 0., 1., 0., 0.],\n",
       "       [0., 0., 0., 0., 0., 0., 0., 0., 1., 0.],\n",
       "       [0., 0., 0., 0., 0., 0., 0., 0., 0., 1.]])"
      ]
     },
     "execution_count": 32,
     "metadata": {},
     "output_type": "execute_result"
    }
   ],
   "source": [
    "np.identity(10)"
   ]
  },
  {
   "cell_type": "code",
   "execution_count": 33,
   "id": "46885608-1b6a-41fa-aeef-0a3674f49fad",
   "metadata": {},
   "outputs": [
    {
     "data": {
      "text/plain": [
       "array([[1., 0., 0., 0., 0., 0., 0., 0., 0., 0.],\n",
       "       [0., 1., 0., 0., 0., 0., 0., 0., 0., 0.],\n",
       "       [0., 0., 1., 0., 0., 0., 0., 0., 0., 0.],\n",
       "       [0., 0., 0., 1., 0., 0., 0., 0., 0., 0.],\n",
       "       [0., 0., 0., 0., 1., 0., 0., 0., 0., 0.],\n",
       "       [0., 0., 0., 0., 0., 1., 0., 0., 0., 0.],\n",
       "       [0., 0., 0., 0., 0., 0., 1., 0., 0., 0.],\n",
       "       [0., 0., 0., 0., 0., 0., 0., 1., 0., 0.],\n",
       "       [0., 0., 0., 0., 0., 0., 0., 0., 1., 0.],\n",
       "       [0., 0., 0., 0., 0., 0., 0., 0., 0., 1.]])"
      ]
     },
     "execution_count": 33,
     "metadata": {},
     "output_type": "execute_result"
    }
   ],
   "source": [
    "np.identity(10).T"
   ]
  },
  {
   "cell_type": "code",
   "execution_count": 34,
   "id": "7071eedb-8fba-4a19-8805-15612bbdb3b0",
   "metadata": {},
   "outputs": [
    {
     "data": {
      "text/plain": [
       "array([5, 6, 7, 8, 9])"
      ]
     },
     "execution_count": 34,
     "metadata": {},
     "output_type": "execute_result"
    }
   ],
   "source": [
    "#np.arange(start,stop,step) -- start is 0 and step is 1 by default {stop is not inclusive } s\n",
    "# same as range in base python\n",
    "np.arange(5,10)"
   ]
  },
  {
   "cell_type": "code",
   "execution_count": 35,
   "id": "d8062c37-1c0c-4ba3-8c2a-58ecdbea6e9a",
   "metadata": {},
   "outputs": [
    {
     "data": {
      "text/plain": [
       "array([[0, 1],\n",
       "       [2, 3],\n",
       "       [4, 5],\n",
       "       [6, 7],\n",
       "       [8, 9]])"
      ]
     },
     "execution_count": 35,
     "metadata": {},
     "output_type": "execute_result"
    }
   ],
   "source": [
    "np.arange(10).reshape(5,2)"
   ]
  },
  {
   "cell_type": "code",
   "execution_count": 36,
   "id": "a9231e5e-6cd6-49f3-82db-b1111d0d3e1c",
   "metadata": {},
   "outputs": [],
   "source": [
    "# linspace create an array for equal space \n",
    "# helpful in chart indexes \n",
    "# stop is inclusive \n",
    "# np.linspace(start, stop, n)"
   ]
  },
  {
   "cell_type": "code",
   "execution_count": 37,
   "id": "f4147ac5-3f41-4725-a9e6-035d35997666",
   "metadata": {},
   "outputs": [
    {
     "data": {
      "text/plain": [
       "array([  0.,  10.,  20.,  30.,  40.,  50.,  60.,  70.,  80.,  90., 100.])"
      ]
     },
     "execution_count": 37,
     "metadata": {},
     "output_type": "execute_result"
    }
   ],
   "source": [
    "np.linspace(0, 100, 11)"
   ]
  },
  {
   "cell_type": "code",
   "execution_count": 38,
   "id": "8bf6a875-529d-41b3-816a-58eefa7e6560",
   "metadata": {},
   "outputs": [
    {
     "data": {
      "text/plain": [
       "array([0. , 0.1, 0.2, 0.3, 0.4, 0.5, 0.6, 0.7, 0.8, 0.9, 1. ])"
      ]
     },
     "execution_count": 38,
     "metadata": {},
     "output_type": "execute_result"
    }
   ],
   "source": [
    "np.linspace(0,1,11)"
   ]
  },
  {
   "cell_type": "code",
   "execution_count": 39,
   "id": "d376d41a-ca97-43af-ad4b-8f43ef2fc100",
   "metadata": {},
   "outputs": [
    {
     "data": {
      "text/plain": [
       "array([ 8., 16., 24., 32., 40., 48., 56., 64.])"
      ]
     },
     "execution_count": 39,
     "metadata": {},
     "output_type": "execute_result"
    }
   ],
   "source": [
    "np.linspace(8, 64 , 8)"
   ]
  },
  {
   "cell_type": "code",
   "execution_count": 40,
   "id": "181f5868-e6d7-4f41-a14b-01c0deaea927",
   "metadata": {},
   "outputs": [
    {
     "data": {
      "text/plain": [
       "array([ 0.,  8., 16., 24., 32., 40., 48., 56., 64.])"
      ]
     },
     "execution_count": 40,
     "metadata": {},
     "output_type": "execute_result"
    }
   ],
   "source": [
    "np.linspace(0, 64 , 9)"
   ]
  },
  {
   "cell_type": "code",
   "execution_count": 41,
   "id": "571258de-26a0-4404-a75d-bc3df8a9cccc",
   "metadata": {},
   "outputs": [],
   "source": [
    "# reshape\n",
    "# generate an error if shape is not compatible "
   ]
  },
  {
   "cell_type": "markdown",
   "id": "7c9f1e71-3ecc-4a93-8169-df4539c93505",
   "metadata": {},
   "source": [
    "# random number arrays\n",
    "-default_rng - seed is reproducible np.defalut_rng(seed)\n",
    "- random methos uniform distribution bet 0 and 1 rng.random(n)\n",
    "- normal (distribution) returns n random numbers from a normal distribution with a given mean and standard deviation rng.normal(mean, stdev,n)\n",
    "- (rng) is the standard variable name for the default_rng number generator"
   ]
  },
  {
   "cell_type": "code",
   "execution_count": 42,
   "id": "dc79099d-326c-4591-a133-3244f8329e0c",
   "metadata": {},
   "outputs": [
    {
     "data": {
      "text/plain": [
       "array([0.22733602, 0.31675834, 0.79736546, 0.67625467, 0.39110955,\n",
       "       0.33281393, 0.59830875, 0.18673419, 0.67275604, 0.94180287])"
      ]
     },
     "execution_count": 42,
     "metadata": {},
     "output_type": "execute_result"
    }
   ],
   "source": [
    "from numpy.random import default_rng\n",
    "\n",
    "rng = default_rng(12345)\n",
    "\n",
    "random_array = rng.random(10)\n",
    "random_array"
   ]
  },
  {
   "cell_type": "code",
   "execution_count": 43,
   "id": "c7056909-e712-4051-842c-f58f70d826e4",
   "metadata": {},
   "outputs": [
    {
     "data": {
      "text/plain": [
       "array([0.39682145, 0.86568572, 0.46040359, 0.30599848, 0.57381588,\n",
       "       0.08888468, 0.88194347, 0.73228387, 0.73215182, 0.56233394])"
      ]
     },
     "execution_count": 43,
     "metadata": {},
     "output_type": "execute_result"
    }
   ],
   "source": [
    "rng = np.random.default_rng(616)\n",
    "rng.random(10)"
   ]
  },
  {
   "cell_type": "code",
   "execution_count": 44,
   "id": "6cc329dc-687a-44f1-813c-13ea689a040b",
   "metadata": {},
   "outputs": [
    {
     "data": {
      "text/plain": [
       "array([8, 3, 6, 0, 3, 3, 1, 2, 2, 4, 9, 1, 2, 5, 1, 8, 9, 0, 3, 1, 5, 8,\n",
       "       0, 6, 1, 7, 0, 7, 6, 0, 3, 7, 1, 9, 4, 1, 6, 1, 4, 4, 9, 5, 3, 4,\n",
       "       7, 8, 3, 3, 5, 0, 4, 9, 9, 5, 6, 5, 8, 2, 3, 0, 0, 8, 3, 8, 4, 8,\n",
       "       8, 9, 7, 3, 8, 4, 9, 2, 6, 3, 0, 3, 2, 0, 0, 4, 9, 5, 4, 1, 8, 2,\n",
       "       7, 7, 1, 2, 2, 4, 1, 6, 7, 3, 7, 5])"
      ]
     },
     "execution_count": 44,
     "metadata": {},
     "output_type": "execute_result"
    }
   ],
   "source": [
    "rng.integers(0,10,100)"
   ]
  },
  {
   "cell_type": "code",
   "execution_count": 45,
   "id": "80c4e9c3-a446-4aaf-8f99-25eeaa6a5e42",
   "metadata": {},
   "outputs": [
    {
     "data": {
      "text/plain": [
       "array([53.53115044, 46.35468178, 46.1580894 , 52.89177118, 45.90693639,\n",
       "       44.51748741, 57.41467712, 51.82624671, 53.9032125 , 53.21454641])"
      ]
     },
     "execution_count": 45,
     "metadata": {},
     "output_type": "execute_result"
    }
   ],
   "source": [
    "rng.normal(50,5,10)"
   ]
  },
  {
   "cell_type": "code",
   "execution_count": 46,
   "id": "272b2f22-2da7-4c89-9fa0-992ab9eba8bb",
   "metadata": {},
   "outputs": [
    {
     "data": {
      "text/plain": [
       "array([3.57617496, 6.26372846, 4.12933826, 4.74082677, 4.92465669,\n",
       "       4.25911535, 3.6322073 , 5.6488928 , 5.36105811, 3.04713694])"
      ]
     },
     "execution_count": 46,
     "metadata": {},
     "output_type": "execute_result"
    }
   ],
   "source": [
    "rng = default_rng(12345)\n",
    "mean , stddev = 5, 1\n",
    "random_normal = rng.normal(mean, stddev, size=10)\n",
    "random_normal"
   ]
  },
  {
   "cell_type": "markdown",
   "id": "371275ff-4a44-4026-ad96-61d8ab315181",
   "metadata": {},
   "source": [
    "# Exercise 2"
   ]
  },
  {
   "cell_type": "code",
   "execution_count": 47,
   "id": "dcce7e42-6868-4de0-ab22-b8a31118723e",
   "metadata": {},
   "outputs": [
    {
     "data": {
      "text/plain": [
       "array([[ 10.,  20.],\n",
       "       [ 30.,  40.],\n",
       "       [ 50.,  60.],\n",
       "       [ 70.,  80.],\n",
       "       [ 90., 100.]])"
      ]
     },
     "execution_count": 47,
     "metadata": {},
     "output_type": "execute_result"
    }
   ],
   "source": [
    "np_array = np.linspace(10,100,10).reshape(5,2)\n",
    "np_array"
   ]
  },
  {
   "cell_type": "code",
   "execution_count": 48,
   "id": "3f218e47-aa1a-4fef-8f5d-3484ed5e0956",
   "metadata": {},
   "outputs": [
    {
     "data": {
      "text/plain": [
       "array([[ 10,  20],\n",
       "       [ 30,  40],\n",
       "       [ 50,  60],\n",
       "       [ 70,  80],\n",
       "       [ 90, 100]])"
      ]
     },
     "execution_count": 48,
     "metadata": {},
     "output_type": "execute_result"
    }
   ],
   "source": [
    "np_array = np.arange(10,101,10).reshape(5,2)\n",
    "np_array"
   ]
  },
  {
   "cell_type": "code",
   "execution_count": 49,
   "id": "85b1dfdf-512f-4227-8591-01d7c802c2dc",
   "metadata": {},
   "outputs": [
    {
     "data": {
      "text/plain": [
       "array([[ 10,  20],\n",
       "       [ 30,  40],\n",
       "       [ 50,  60],\n",
       "       [ 70,  80],\n",
       "       [ 90, 100]])"
      ]
     },
     "execution_count": 49,
     "metadata": {},
     "output_type": "execute_result"
    }
   ],
   "source": [
    "np_array = (np.arange(1,11)*10).reshape(5,2)\n",
    "np_array"
   ]
  },
  {
   "cell_type": "code",
   "execution_count": 50,
   "id": "0685a7a1-4e15-457c-b887-247cbe5b27f4",
   "metadata": {},
   "outputs": [
    {
     "data": {
      "text/plain": [
       "array([[0.24742606, 0.09299006, 0.61176337],\n",
       "       [0.06066207, 0.66103343, 0.75515778],\n",
       "       [0.1108689 , 0.04305584, 0.41441747]])"
      ]
     },
     "execution_count": 50,
     "metadata": {},
     "output_type": "execute_result"
    }
   ],
   "source": [
    "from numpy.random import default_rng\n",
    "\n",
    "rng = default_rng(2022)\n",
    "\n",
    "random_array = rng.random(9).reshape(3,3)\n",
    "random_array"
   ]
  },
  {
   "cell_type": "code",
   "execution_count": 51,
   "id": "3a800acf-6683-40f4-a514-9a8ae80c372a",
   "metadata": {},
   "outputs": [
    {
     "data": {
      "text/plain": [
       "array([[0.24742606, 0.09299006, 0.61176337],\n",
       "       [0.06066207, 0.66103343, 0.75515778],\n",
       "       [0.1108689 , 0.04305584, 0.41441747]])"
      ]
     },
     "execution_count": 51,
     "metadata": {},
     "output_type": "execute_result"
    }
   ],
   "source": [
    "from numpy.random import default_rng\n",
    "\n",
    "rng = default_rng(2022)\n",
    "\n",
    "random_array = rng.random([3,3])\n",
    "random_array"
   ]
  },
  {
   "cell_type": "markdown",
   "id": "36777090-149c-4cc0-989f-74c9b2c75b6f",
   "metadata": {},
   "source": [
    "# indexing and slicing \n",
    "- array[index] (0-indexed)\n",
    "- array[start:stop:step size]"
   ]
  },
  {
   "cell_type": "code",
   "execution_count": 52,
   "id": "fa2c1830-8650-4ca3-8483-0bb3d08abd43",
   "metadata": {},
   "outputs": [],
   "source": [
    "product_array = np.array(['fruits','vegetables','cereal','dairy','eggs','snacks','beverages','coffee','tea','spices'])"
   ]
  },
  {
   "cell_type": "code",
   "execution_count": 53,
   "id": "be6caf34-0c93-4aa7-9a4a-74df1605f376",
   "metadata": {},
   "outputs": [
    {
     "data": {
      "text/plain": [
       "array(['fruits', 'vegetables', 'cereal', 'dairy', 'eggs', 'snacks',\n",
       "       'beverages', 'coffee', 'tea', 'spices'], dtype='<U10')"
      ]
     },
     "execution_count": 53,
     "metadata": {},
     "output_type": "execute_result"
    }
   ],
   "source": [
    "product_array"
   ]
  },
  {
   "cell_type": "code",
   "execution_count": 54,
   "id": "b9eb9608-cf43-4fd1-834a-71dc2b629ada",
   "metadata": {},
   "outputs": [
    {
     "name": "stdout",
     "output_type": "stream",
     "text": [
      "vegetables\n"
     ]
    }
   ],
   "source": [
    "print(product_array[1])"
   ]
  },
  {
   "cell_type": "code",
   "execution_count": 55,
   "id": "baccbf4a-b08c-4271-be25-a3bea32bdaa6",
   "metadata": {},
   "outputs": [
    {
     "name": "stdout",
     "output_type": "stream",
     "text": [
      "spices\n"
     ]
    }
   ],
   "source": [
    "print(product_array[-1])"
   ]
  },
  {
   "cell_type": "code",
   "execution_count": 56,
   "id": "7d14d171-7aae-4478-a0de-ac5dfadf10dc",
   "metadata": {},
   "outputs": [
    {
     "name": "stdout",
     "output_type": "stream",
     "text": [
      "['fruits' 'vegetables' 'cereal' 'dairy' 'eggs']\n"
     ]
    }
   ],
   "source": [
    "print(product_array[:5])"
   ]
  },
  {
   "cell_type": "code",
   "execution_count": 57,
   "id": "6f256ea5-1864-48a9-ba95-513d2d39346b",
   "metadata": {},
   "outputs": [
    {
     "name": "stdout",
     "output_type": "stream",
     "text": [
      "['snacks' 'coffee' 'spices']\n"
     ]
    }
   ],
   "source": [
    "print(product_array[5::2])"
   ]
  },
  {
   "cell_type": "markdown",
   "id": "a3dc0124-be93-4aa8-8bfe-374331227e7a",
   "metadata": {},
   "source": [
    "# indexing and slicing 2d array\n",
    "- array[row index, column index]\n",
    "- array[start:stop:step size, start:stop:step size]"
   ]
  },
  {
   "cell_type": "code",
   "execution_count": 58,
   "id": "a4845730-dd5d-4394-b5a9-41bfa5530f36",
   "metadata": {},
   "outputs": [
    {
     "data": {
      "text/plain": [
       "array([['fruits', 'vegetables', 'cereal', 'dairy', 'eggs'],\n",
       "       ['snacks', 'beverages', 'coffee', 'tea', 'spices']], dtype='<U10')"
      ]
     },
     "execution_count": 58,
     "metadata": {},
     "output_type": "execute_result"
    }
   ],
   "source": [
    "product_array2D = product_array.reshape(2,5)\n",
    "product_array2D"
   ]
  },
  {
   "cell_type": "code",
   "execution_count": 59,
   "id": "3c15b0fb-b730-4a67-9666-e8bbd26ef8f7",
   "metadata": {},
   "outputs": [
    {
     "data": {
      "text/plain": [
       "np.str_('coffee')"
      ]
     },
     "execution_count": 59,
     "metadata": {},
     "output_type": "execute_result"
    }
   ],
   "source": [
    "product_array2D[1,2]"
   ]
  },
  {
   "cell_type": "code",
   "execution_count": 60,
   "id": "29c8cbc3-0435-4172-ba5a-01758d01abf4",
   "metadata": {},
   "outputs": [
    {
     "data": {
      "text/plain": [
       "array([['cereal', 'dairy', 'eggs'],\n",
       "       ['coffee', 'tea', 'spices']], dtype='<U10')"
      ]
     },
     "execution_count": 60,
     "metadata": {},
     "output_type": "execute_result"
    }
   ],
   "source": [
    "product_array2D[:, 2:]"
   ]
  },
  {
   "cell_type": "code",
   "execution_count": 61,
   "id": "0b2d8037-7f33-4b96-8814-5e383a78a229",
   "metadata": {},
   "outputs": [
    {
     "data": {
      "text/plain": [
       "array([['snacks', 'beverages', 'coffee', 'tea', 'spices']], dtype='<U10')"
      ]
     },
     "execution_count": 61,
     "metadata": {},
     "output_type": "execute_result"
    }
   ],
   "source": [
    "product_array2D[1:,:]"
   ]
  },
  {
   "cell_type": "code",
   "execution_count": 62,
   "id": "f24510ba-7059-4737-ada1-eb4d00ecb84e",
   "metadata": {},
   "outputs": [
    {
     "data": {
      "text/plain": [
       "array([ 0,  1,  2,  3,  4,  5,  6,  7,  8,  9, 10, 11])"
      ]
     },
     "execution_count": 62,
     "metadata": {},
     "output_type": "execute_result"
    }
   ],
   "source": [
    "#integer \n",
    "integer_array = np.arange(12)\n",
    "integer_array"
   ]
  },
  {
   "cell_type": "code",
   "execution_count": 63,
   "id": "c8fe70ab-253d-4186-98ac-ab3f8748f209",
   "metadata": {},
   "outputs": [
    {
     "data": {
      "text/plain": [
       "np.int64(2)"
      ]
     },
     "execution_count": 63,
     "metadata": {},
     "output_type": "execute_result"
    }
   ],
   "source": [
    "integer_array[2]"
   ]
  },
  {
   "cell_type": "code",
   "execution_count": 64,
   "id": "a9677846-804e-481f-ba82-2f8d5dab371e",
   "metadata": {},
   "outputs": [
    {
     "data": {
      "text/plain": [
       "np.int64(10)"
      ]
     },
     "execution_count": 64,
     "metadata": {},
     "output_type": "execute_result"
    }
   ],
   "source": [
    "integer_array[-2]"
   ]
  },
  {
   "cell_type": "code",
   "execution_count": 65,
   "id": "9b3732fd-7950-4ed8-b129-f39544832b9d",
   "metadata": {},
   "outputs": [
    {
     "data": {
      "text/plain": [
       "array([0, 1, 2, 3, 4])"
      ]
     },
     "execution_count": 65,
     "metadata": {},
     "output_type": "execute_result"
    }
   ],
   "source": [
    "integer_array[:5]"
   ]
  },
  {
   "cell_type": "code",
   "execution_count": 66,
   "id": "2546ba11-ae7a-4ffe-b82b-6a2395bece86",
   "metadata": {},
   "outputs": [
    {
     "data": {
      "text/plain": [
       "array([ 5,  6,  7,  8,  9, 10, 11])"
      ]
     },
     "execution_count": 66,
     "metadata": {},
     "output_type": "execute_result"
    }
   ],
   "source": [
    "integer_array[5:]"
   ]
  },
  {
   "cell_type": "code",
   "execution_count": 67,
   "id": "7ed5f667-2ce2-42d3-8135-533fbcea1bbc",
   "metadata": {},
   "outputs": [
    {
     "data": {
      "text/plain": [
       "array([ 0,  1,  2,  3,  4,  5,  6,  7,  8,  9, 10, 11])"
      ]
     },
     "execution_count": 67,
     "metadata": {},
     "output_type": "execute_result"
    }
   ],
   "source": [
    "integer_array[:]"
   ]
  },
  {
   "cell_type": "code",
   "execution_count": 68,
   "id": "09ba2283-283d-4db7-91d0-5aff83b29907",
   "metadata": {},
   "outputs": [
    {
     "data": {
      "text/plain": [
       "array([ 0,  2,  4,  6,  8, 10])"
      ]
     },
     "execution_count": 68,
     "metadata": {},
     "output_type": "execute_result"
    }
   ],
   "source": [
    "integer_array[::2]"
   ]
  },
  {
   "cell_type": "code",
   "execution_count": 69,
   "id": "57fabf3e-ee33-413e-9fab-136e44a11dac",
   "metadata": {},
   "outputs": [
    {
     "data": {
      "text/plain": [
       "array([[ 0,  1,  2,  3],\n",
       "       [ 4,  5,  6,  7],\n",
       "       [ 8,  9, 10, 11]])"
      ]
     },
     "execution_count": 69,
     "metadata": {},
     "output_type": "execute_result"
    }
   ],
   "source": [
    "new_array = integer_array.reshape(3,4)\n",
    "new_array"
   ]
  },
  {
   "cell_type": "code",
   "execution_count": 70,
   "id": "c70cf33f-ad02-4f3c-9eb6-437e8cdc9e3c",
   "metadata": {},
   "outputs": [
    {
     "data": {
      "text/plain": [
       "array([[ 0,  1,  2,  3],\n",
       "       [ 4,  5,  6,  7],\n",
       "       [ 8,  9, 10, 11]])"
      ]
     },
     "execution_count": 70,
     "metadata": {},
     "output_type": "execute_result"
    }
   ],
   "source": [
    "# entire array \n",
    "new_array[:,:]"
   ]
  },
  {
   "cell_type": "code",
   "execution_count": 71,
   "id": "ff10a9df-269b-4af1-8922-6fd5f26fec4e",
   "metadata": {},
   "outputs": [
    {
     "data": {
      "text/plain": [
       "array([[ 4,  5,  6,  7],\n",
       "       [ 8,  9, 10, 11]])"
      ]
     },
     "execution_count": 71,
     "metadata": {},
     "output_type": "execute_result"
    }
   ],
   "source": [
    "# exclude top array \n",
    "new_array[1:,:]"
   ]
  },
  {
   "cell_type": "code",
   "execution_count": 72,
   "id": "2a9013a6-c175-45de-b79c-a0633a4d9d6a",
   "metadata": {},
   "outputs": [
    {
     "data": {
      "text/plain": [
       "array([ 3,  7, 11])"
      ]
     },
     "execution_count": 72,
     "metadata": {},
     "output_type": "execute_result"
    }
   ],
   "source": [
    "# last colummn \n",
    "new_array[:,3]"
   ]
  },
  {
   "cell_type": "code",
   "execution_count": 73,
   "id": "22feeaa1-76d2-4688-898e-1c2c1e1f4fc6",
   "metadata": {},
   "outputs": [
    {
     "data": {
      "text/plain": [
       "array([[ 1,  2,  3],\n",
       "       [ 5,  6,  7],\n",
       "       [ 9, 10, 11]])"
      ]
     },
     "execution_count": 73,
     "metadata": {},
     "output_type": "execute_result"
    }
   ],
   "source": [
    "# only exclude 1st column \n",
    "new_array[:,1:]"
   ]
  },
  {
   "cell_type": "code",
   "execution_count": 74,
   "id": "46be22bb-ea17-4a1d-9ce3-4b1cec4b067d",
   "metadata": {},
   "outputs": [
    {
     "data": {
      "text/plain": [
       "np.int64(9)"
      ]
     },
     "execution_count": 74,
     "metadata": {},
     "output_type": "execute_result"
    }
   ],
   "source": [
    "# grid value from array \n",
    "new_array[2,1]"
   ]
  },
  {
   "cell_type": "markdown",
   "id": "30074216-5526-4007-bda5-09e60fe8021e",
   "metadata": {},
   "source": [
    "# Excercise 3 \n",
    "random_array"
   ]
  },
  {
   "cell_type": "code",
   "execution_count": 75,
   "id": "f85205e4-efce-4b7f-963e-1e6c6e4f8c38",
   "metadata": {},
   "outputs": [
    {
     "data": {
      "text/plain": [
       "array([[0.24742606, 0.09299006, 0.61176337],\n",
       "       [0.06066207, 0.66103343, 0.75515778],\n",
       "       [0.1108689 , 0.04305584, 0.41441747]])"
      ]
     },
     "execution_count": 75,
     "metadata": {},
     "output_type": "execute_result"
    }
   ],
   "source": [
    "random_array"
   ]
  },
  {
   "cell_type": "code",
   "execution_count": 76,
   "id": "2d8a9026-2feb-47f9-b837-490404f35bff",
   "metadata": {},
   "outputs": [
    {
     "data": {
      "text/plain": [
       "array([[0.24742606, 0.09299006, 0.61176337],\n",
       "       [0.06066207, 0.66103343, 0.75515778]])"
      ]
     },
     "execution_count": 76,
     "metadata": {},
     "output_type": "execute_result"
    }
   ],
   "source": [
    "# first 2 rows \n",
    "random_array[:2,:]"
   ]
  },
  {
   "cell_type": "code",
   "execution_count": 77,
   "id": "336ea022-bc0d-4381-bd75-2f9a54bfa648",
   "metadata": {},
   "outputs": [
    {
     "data": {
      "text/plain": [
       "array([[0.24742606],\n",
       "       [0.06066207],\n",
       "       [0.1108689 ]])"
      ]
     },
     "execution_count": 77,
     "metadata": {},
     "output_type": "execute_result"
    }
   ],
   "source": [
    "# first column \n",
    "random_array[:,:1]"
   ]
  },
  {
   "cell_type": "code",
   "execution_count": 78,
   "id": "5d28f487-5a0e-41e2-b3f9-730166a8bba6",
   "metadata": {},
   "outputs": [
    {
     "data": {
      "text/plain": [
       "array([0.24742606, 0.06066207, 0.1108689 ])"
      ]
     },
     "execution_count": 78,
     "metadata": {},
     "output_type": "execute_result"
    }
   ],
   "source": [
    "random_array[:,0] # transpose as a row "
   ]
  },
  {
   "cell_type": "code",
   "execution_count": 79,
   "id": "c1f03bfc-3926-4a63-9c0b-99f2e184cb83",
   "metadata": {},
   "outputs": [
    {
     "data": {
      "text/plain": [
       "np.float64(0.04305584439252108)"
      ]
     },
     "execution_count": 79,
     "metadata": {},
     "output_type": "execute_result"
    }
   ],
   "source": [
    "#second number in third row \n",
    "random_array[2,1]"
   ]
  },
  {
   "cell_type": "markdown",
   "id": "155510dc-9f2f-4bca-80df-e6e9bb0ca9fa",
   "metadata": {},
   "source": [
    "### Array operation \n",
    "- vectorization and broadcasting , element the looping although happening in c and not in base phython"
   ]
  },
  {
   "cell_type": "code",
   "execution_count": 80,
   "id": "83126eca-949b-4275-8592-d2e10b61ce31",
   "metadata": {},
   "outputs": [
    {
     "data": {
      "text/plain": [
       "array([[   0,    5,  155,    0,  518],\n",
       "       [   0, 1827,  616,  317,  325]])"
      ]
     },
     "execution_count": 80,
     "metadata": {},
     "output_type": "execute_result"
    }
   ],
   "source": [
    "sales = [[0,5, 155, 0 , 518],[0,1827,616,317,325]]\n",
    "\n",
    "sales_array = np.array(sales)\n",
    "sales_array"
   ]
  },
  {
   "cell_type": "code",
   "execution_count": 81,
   "id": "89d74e4a-7103-4c03-bbba-970e683c58d8",
   "metadata": {},
   "outputs": [
    {
     "data": {
      "text/plain": [
       "array([[   2,    7,  157,    2,  520],\n",
       "       [   2, 1829,  618,  319,  327]])"
      ]
     },
     "execution_count": 81,
     "metadata": {},
     "output_type": "execute_result"
    }
   ],
   "source": [
    "sales_array + 2 # adds to every element in the array"
   ]
  },
  {
   "cell_type": "code",
   "execution_count": 82,
   "id": "ec2e03ea-9e98-4cea-ace3-3db1b071a7c9",
   "metadata": {},
   "outputs": [
    {
     "data": {
      "text/plain": [
       "array([     0,   9135,  95480,      0, 168350])"
      ]
     },
     "execution_count": 82,
     "metadata": {},
     "output_type": "execute_result"
    }
   ],
   "source": [
    "quantity = sales_array[0, :]\n",
    "price = sales_array[1, :]\n",
    "\n",
    "quantity * price # multiple element vice "
   ]
  },
  {
   "cell_type": "code",
   "execution_count": 83,
   "id": "2154587b-8b7f-4f66-ab5b-823343be3815",
   "metadata": {},
   "outputs": [
    {
     "data": {
      "text/plain": [
       "array([39, 39, 93, 86, 48, 46, 48, 30, 11, 57])"
      ]
     },
     "execution_count": 83,
     "metadata": {},
     "output_type": "execute_result"
    }
   ],
   "source": [
    "rng = np.random.default_rng(616)\n",
    "\n",
    "inventory = rng.integers(0, 100, 10)\n",
    "\n",
    "inventory"
   ]
  },
  {
   "cell_type": "code",
   "execution_count": 84,
   "id": "6e37f569-f4a1-41c5-a837-8176b474198d",
   "metadata": {},
   "outputs": [
    {
     "data": {
      "text/plain": [
       "array([ 15,  15,  69,  62,  24,  22,  24,   6, -13,  33])"
      ]
     },
     "execution_count": 84,
     "metadata": {},
     "output_type": "execute_result"
    }
   ],
   "source": [
    "inventory - 24"
   ]
  },
  {
   "cell_type": "code",
   "execution_count": 85,
   "id": "d73c92db-f7ce-458c-acf1-9da3a1a2e3dd",
   "metadata": {},
   "outputs": [
    {
     "data": {
      "text/plain": [
       "array([19.5, 19.5, 46.5, 43. , 24. , 23. , 24. , 15. ,  5.5, 28.5])"
      ]
     },
     "execution_count": 85,
     "metadata": {},
     "output_type": "execute_result"
    }
   ],
   "source": [
    "inventory / 2"
   ]
  },
  {
   "cell_type": "code",
   "execution_count": 86,
   "id": "f8ed7175-c603-40cc-8b4a-096d58c196a7",
   "metadata": {},
   "outputs": [
    {
     "data": {
      "text/plain": [
       "dtype('float64')"
      ]
     },
     "execution_count": 86,
     "metadata": {},
     "output_type": "execute_result"
    }
   ],
   "source": [
    "(inventory / 2).dtype"
   ]
  },
  {
   "cell_type": "code",
   "execution_count": 87,
   "id": "a892caea-f14f-46d6-a3c2-05adbdd8ecc1",
   "metadata": {},
   "outputs": [
    {
     "data": {
      "text/plain": [
       "array([10.09, 10.88, 10.73, 10.73, 10.56, 10.34, 10.06, 10.36, 10.2 ,\n",
       "       10.43, 10.1 ])"
      ]
     },
     "execution_count": 87,
     "metadata": {},
     "output_type": "execute_result"
    }
   ],
   "source": [
    "price = (rng.random(11) + 10).round(2)\n",
    "\n",
    "price"
   ]
  },
  {
   "cell_type": "code",
   "execution_count": 88,
   "id": "c1f280ed-223e-4d67-8ce6-8b67b2db367a",
   "metadata": {},
   "outputs": [
    {
     "ename": "ValueError",
     "evalue": "operands could not be broadcast together with shapes (11,) (10,) ",
     "output_type": "error",
     "traceback": [
      "\u001b[0;31m---------------------------------------------------------------------------\u001b[0m",
      "\u001b[0;31mValueError\u001b[0m                                Traceback (most recent call last)",
      "Cell \u001b[0;32mIn[88], line 1\u001b[0m\n\u001b[0;32m----> 1\u001b[0m \u001b[43mprice\u001b[49m\u001b[43m \u001b[49m\u001b[38;5;241;43m*\u001b[39;49m\u001b[43m \u001b[49m\u001b[43minventory\u001b[49m\n",
      "\u001b[0;31mValueError\u001b[0m: operands could not be broadcast together with shapes (11,) (10,) "
     ]
    }
   ],
   "source": [
    "price * inventory"
   ]
  },
  {
   "cell_type": "code",
   "execution_count": 89,
   "id": "87170e33-4d37-4e50-be77-3847cdb2cf68",
   "metadata": {},
   "outputs": [
    {
     "data": {
      "text/plain": [
       "array([10.52, 10.8 , 10.08, 10.15, 10.9 , 10.66, 10.73, 10.77, 10.03,\n",
       "       10.78])"
      ]
     },
     "execution_count": 89,
     "metadata": {},
     "output_type": "execute_result"
    }
   ],
   "source": [
    "price = (rng.random(10) + 10).round(2)\n",
    "\n",
    "price"
   ]
  },
  {
   "cell_type": "code",
   "execution_count": 90,
   "id": "3e989580-34ff-4885-bcd8-352776a96ec9",
   "metadata": {},
   "outputs": [
    {
     "data": {
      "text/plain": [
       "array([410.28, 421.2 , 937.44, 872.9 , 523.2 , 490.36, 515.04, 323.1 ,\n",
       "       110.33, 614.46])"
      ]
     },
     "execution_count": 90,
     "metadata": {},
     "output_type": "execute_result"
    }
   ],
   "source": [
    "price * inventory"
   ]
  },
  {
   "cell_type": "code",
   "execution_count": 91,
   "id": "5d74496d-7ffa-4fe5-89ab-33da35293f1c",
   "metadata": {},
   "outputs": [
    {
     "data": {
      "text/plain": [
       "np.float64(5218.31)"
      ]
     },
     "execution_count": 91,
     "metadata": {},
     "output_type": "execute_result"
    }
   ],
   "source": [
    "(price * inventory).sum()"
   ]
  },
  {
   "cell_type": "code",
   "execution_count": 92,
   "id": "a0467cde-3512-4fe2-8423-7b9045325bac",
   "metadata": {},
   "outputs": [
    {
     "data": {
      "text/plain": [
       "[np.int64(39),\n",
       " np.int64(39),\n",
       " np.int64(93),\n",
       " np.int64(86),\n",
       " np.int64(48),\n",
       " np.int64(46),\n",
       " np.int64(48),\n",
       " np.int64(30),\n",
       " np.int64(11),\n",
       " np.int64(57)]"
      ]
     },
     "execution_count": 92,
     "metadata": {},
     "output_type": "execute_result"
    }
   ],
   "source": [
    "inventory_list = list(inventory)\n",
    "\n",
    "inventory_list"
   ]
  },
  {
   "cell_type": "code",
   "execution_count": 93,
   "id": "f77a8d22-356f-4263-85dc-1361b6045123",
   "metadata": {},
   "outputs": [
    {
     "ename": "TypeError",
     "evalue": "can only concatenate list (not \"int\") to list",
     "output_type": "error",
     "traceback": [
      "\u001b[0;31m---------------------------------------------------------------------------\u001b[0m",
      "\u001b[0;31mTypeError\u001b[0m                                 Traceback (most recent call last)",
      "Cell \u001b[0;32mIn[93], line 1\u001b[0m\n\u001b[0;32m----> 1\u001b[0m \u001b[43minventory_list\u001b[49m\u001b[43m \u001b[49m\u001b[38;5;241;43m+\u001b[39;49m\u001b[43m \u001b[49m\u001b[38;5;241;43m2\u001b[39;49m\n",
      "\u001b[0;31mTypeError\u001b[0m: can only concatenate list (not \"int\") to list"
     ]
    }
   ],
   "source": [
    "inventory_list + 2"
   ]
  },
  {
   "cell_type": "code",
   "execution_count": 94,
   "id": "521a5ddb-4b74-4cab-87ec-6a71a94b0f0e",
   "metadata": {},
   "outputs": [
    {
     "data": {
      "text/plain": [
       "[np.int64(41),\n",
       " np.int64(41),\n",
       " np.int64(95),\n",
       " np.int64(88),\n",
       " np.int64(50),\n",
       " np.int64(48),\n",
       " np.int64(50),\n",
       " np.int64(32),\n",
       " np.int64(13),\n",
       " np.int64(59)]"
      ]
     },
     "execution_count": 94,
     "metadata": {},
     "output_type": "execute_result"
    }
   ],
   "source": [
    "new_inventory = []\n",
    "\n",
    "for x in inventory_list:\n",
    "    new_inventory.append(x + 2)\n",
    "\n",
    "new_inventory"
   ]
  },
  {
   "cell_type": "code",
   "execution_count": 95,
   "id": "afed7304-05b5-4d88-a769-138c47767a86",
   "metadata": {},
   "outputs": [
    {
     "data": {
      "text/plain": [
       "[np.int64(41),\n",
       " np.int64(41),\n",
       " np.int64(95),\n",
       " np.int64(88),\n",
       " np.int64(50),\n",
       " np.int64(48),\n",
       " np.int64(50),\n",
       " np.int64(32),\n",
       " np.int64(13),\n",
       " np.int64(59)]"
      ]
     },
     "execution_count": 95,
     "metadata": {},
     "output_type": "execute_result"
    }
   ],
   "source": [
    " [x + 2 for x in inventory_list]"
   ]
  },
  {
   "cell_type": "code",
   "execution_count": 96,
   "id": "321565f7-9be4-4493-b588-fae630ebc776",
   "metadata": {},
   "outputs": [
    {
     "data": {
      "text/plain": [
       "[np.float64(410.28),\n",
       " np.float64(421.20000000000005),\n",
       " np.float64(937.44),\n",
       " np.float64(872.9),\n",
       " np.float64(523.2),\n",
       " np.float64(490.36),\n",
       " np.float64(515.04),\n",
       " np.float64(323.09999999999997),\n",
       " np.float64(110.33),\n",
       " np.float64(614.4599999999999)]"
      ]
     },
     "execution_count": 96,
     "metadata": {},
     "output_type": "execute_result"
    }
   ],
   "source": [
    "[x * y for x , y in zip(inventory_list , price)]"
   ]
  },
  {
   "cell_type": "markdown",
   "id": "ffde8ac9-3fcf-498a-bb07-16c02d669472",
   "metadata": {},
   "source": [
    "### Exercise 4"
   ]
  },
  {
   "cell_type": "code",
   "execution_count": 97,
   "id": "df80e1cf-e149-4994-9e01-f9970f47e971",
   "metadata": {},
   "outputs": [
    {
     "data": {
      "text/plain": [
       "array([ 10.99,  11.99,  27.49, 104.99,   9.99,  54.99])"
      ]
     },
     "execution_count": 97,
     "metadata": {},
     "output_type": "execute_result"
    }
   ],
   "source": [
    "prices = np.array([5.99, 6.99, 22.49, 99.99, 4.99, 49.99])\n",
    "\n",
    "total = prices + 5\n",
    "\n",
    "total"
   ]
  },
  {
   "cell_type": "code",
   "execution_count": 98,
   "id": "df5be2ed-3398-4f5d-a759-1e2e1c5d0c65",
   "metadata": {},
   "outputs": [
    {
     "data": {
      "text/plain": [
       "array([0.24742606, 0.09299006, 0.61176337, 0.06066207, 0.66103343,\n",
       "       0.75515778])"
      ]
     },
     "execution_count": 98,
     "metadata": {},
     "output_type": "execute_result"
    }
   ],
   "source": [
    "# grap 1st 6 elements of random array \n",
    "#discount_pct = random_array.flatten()[:6]\n",
    "discount_pct = random_array[:2,:].reshape(6)\n",
    "discount_pct\n"
   ]
  },
  {
   "cell_type": "code",
   "execution_count": 99,
   "id": "80afbacb-d505-468c-bad8-b826849ef9e0",
   "metadata": {},
   "outputs": [
    {
     "data": {
      "text/plain": [
       "array([0.75257394, 0.90700994, 0.38823663, 0.93933793, 0.33896657,\n",
       "       0.24484222])"
      ]
     },
     "execution_count": 99,
     "metadata": {},
     "output_type": "execute_result"
    }
   ],
   "source": [
    "# subtract 1 from discount_pct to get pct_owed\n",
    "\n",
    "pct_owed = 1 - discount_pct \n",
    "\n",
    "pct_owed"
   ]
  },
  {
   "cell_type": "code",
   "execution_count": 100,
   "id": "73e70a39-4636-426d-b599-c067be472e26",
   "metadata": {},
   "outputs": [
    {
     "data": {
      "text/plain": [
       "array([ 8.27, 10.88, 10.67, 98.62,  3.39, 13.46])"
      ]
     },
     "execution_count": 100,
     "metadata": {},
     "output_type": "execute_result"
    }
   ],
   "source": [
    "final_owed = (total * pct_owed).round(2)\n",
    "\n",
    "final_owed"
   ]
  },
  {
   "cell_type": "markdown",
   "id": "9e9bdbec-839e-4455-b350-a442adc49493",
   "metadata": {},
   "source": [
    "### filter arrays "
   ]
  },
  {
   "cell_type": "code",
   "execution_count": 101,
   "id": "78ca790f-f46b-47b3-8f07-e0fd611bc0d0",
   "metadata": {},
   "outputs": [
    {
     "data": {
      "text/plain": [
       "array([[   0,    5,  155,    0,  518],\n",
       "       [   0, 1827,  616,  317,  325]])"
      ]
     },
     "execution_count": 101,
     "metadata": {},
     "output_type": "execute_result"
    }
   ],
   "source": [
    "sales_array"
   ]
  },
  {
   "cell_type": "code",
   "execution_count": 102,
   "id": "48b60b62-e3df-4902-8cff-65bb4e3d6b54",
   "metadata": {},
   "outputs": [
    {
     "data": {
      "text/plain": [
       "array([[False,  True,  True, False,  True],\n",
       "       [False,  True,  True,  True,  True]])"
      ]
     },
     "execution_count": 102,
     "metadata": {},
     "output_type": "execute_result"
    }
   ],
   "source": [
    "sales_array != 0"
   ]
  },
  {
   "cell_type": "code",
   "execution_count": 103,
   "id": "f8c1fb56-f722-4708-8405-7095fb27e725",
   "metadata": {},
   "outputs": [
    {
     "data": {
      "text/plain": [
       "array([   5,  155,  518, 1827,  616,  317,  325])"
      ]
     },
     "execution_count": 103,
     "metadata": {},
     "output_type": "execute_result"
    }
   ],
   "source": [
    "sales_array[ sales_array != 0]"
   ]
  },
  {
   "cell_type": "code",
   "execution_count": 104,
   "id": "3c6773e9-1f36-4dc8-b025-1e9f8c6c72a1",
   "metadata": {},
   "outputs": [
    {
     "data": {
      "text/plain": [
       "array([  0,   5,   0,   0, 616])"
      ]
     },
     "execution_count": 104,
     "metadata": {},
     "output_type": "execute_result"
    }
   ],
   "source": [
    "# multiple logical tests\n",
    "sales_array[(sales_array == 616) | (sales_array < 100)]"
   ]
  },
  {
   "cell_type": "code",
   "execution_count": 105,
   "id": "7c6fca9d-b0b5-4de2-8c70-1ce06fadbc7f",
   "metadata": {},
   "outputs": [
    {
     "data": {
      "text/plain": [
       "array([155, 317, 325])"
      ]
     },
     "execution_count": 105,
     "metadata": {},
     "output_type": "execute_result"
    }
   ],
   "source": [
    "sales_array[(sales_array > 100) & (sales_array < 500)]"
   ]
  },
  {
   "cell_type": "code",
   "execution_count": 106,
   "id": "43be4d79-2b9e-4f07-83f5-262bd75fca53",
   "metadata": {},
   "outputs": [],
   "source": [
    "mask = (sales_array > 100) & (sales_array < 500)"
   ]
  },
  {
   "cell_type": "code",
   "execution_count": 107,
   "id": "96d37557-4778-4eb6-b7a7-1c54b7f6d613",
   "metadata": {},
   "outputs": [
    {
     "data": {
      "text/plain": [
       "array([155, 317, 325])"
      ]
     },
     "execution_count": 107,
     "metadata": {},
     "output_type": "execute_result"
    }
   ],
   "source": [
    "sales_array[mask]"
   ]
  },
  {
   "cell_type": "code",
   "execution_count": 114,
   "id": "08ab3fc6-9bb3-49a5-aaa7-6de4be1b73f3",
   "metadata": {},
   "outputs": [],
   "source": [
    "# filter arrays based on values in other arrays\n",
    "sales_array = np.array([  0,   5, 155,   0, 518])"
   ]
  },
  {
   "cell_type": "code",
   "execution_count": 115,
   "id": "16fc8cc4-28a5-4e10-ad75-9fbe29f15055",
   "metadata": {},
   "outputs": [
    {
     "data": {
      "text/plain": [
       "array([  0,   5, 155,   0, 518])"
      ]
     },
     "execution_count": 115,
     "metadata": {},
     "output_type": "execute_result"
    }
   ],
   "source": [
    "sales_array"
   ]
  },
  {
   "cell_type": "code",
   "execution_count": 116,
   "id": "4b8bbd48-c4e9-48bb-a6f2-c135358ccc06",
   "metadata": {},
   "outputs": [
    {
     "data": {
      "text/plain": [
       "array(['fruits', 'vegetables', 'cereal', 'dairy', 'eggs', 'snacks',\n",
       "       'beverages', 'coffee', 'tea', 'spices'], dtype='<U10')"
      ]
     },
     "execution_count": 116,
     "metadata": {},
     "output_type": "execute_result"
    }
   ],
   "source": [
    "product_array"
   ]
  },
  {
   "cell_type": "code",
   "execution_count": 118,
   "id": "a7e32f30-3387-4168-b77c-47af5e826850",
   "metadata": {},
   "outputs": [
    {
     "data": {
      "text/plain": [
       "array(['vegetables', 'cereal', 'eggs'], dtype='<U10')"
      ]
     },
     "execution_count": 118,
     "metadata": {},
     "output_type": "execute_result"
    }
   ],
   "source": [
    "product_array[0:5][sales_array > 0]"
   ]
  },
  {
   "cell_type": "code",
   "execution_count": 119,
   "id": "bebd4130-8973-4530-98bd-d02582c0d147",
   "metadata": {},
   "outputs": [
    {
     "data": {
      "text/plain": [
       "array([  0,   5, 155,   0, 518])"
      ]
     },
     "execution_count": 119,
     "metadata": {},
     "output_type": "execute_result"
    }
   ],
   "source": [
    "# modify array values\n",
    "sales_array"
   ]
  },
  {
   "cell_type": "code",
   "execution_count": 120,
   "id": "e510a220-a084-4703-afaf-8ea90cda7ceb",
   "metadata": {},
   "outputs": [
    {
     "data": {
      "text/plain": [
       "array([  0,  25, 155,   0, 518])"
      ]
     },
     "execution_count": 120,
     "metadata": {},
     "output_type": "execute_result"
    }
   ],
   "source": [
    "sales_array[1] = 25\n",
    "\n",
    "sales_array"
   ]
  },
  {
   "cell_type": "code",
   "execution_count": 121,
   "id": "c1f979e1-3403-4583-8f4c-4d8825911184",
   "metadata": {},
   "outputs": [
    {
     "data": {
      "text/plain": [
       "array([  5,  25, 155,   5, 518])"
      ]
     },
     "execution_count": 121,
     "metadata": {},
     "output_type": "execute_result"
    }
   ],
   "source": [
    "sales_array[ sales_array == 0] = 5\n",
    "\n",
    "sales_array"
   ]
  },
  {
   "cell_type": "code",
   "execution_count": 123,
   "id": "607685a2-4894-4e80-892d-ce60c00cb5e5",
   "metadata": {},
   "outputs": [
    {
     "data": {
      "text/plain": [
       "array([ 0,  1,  2,  3,  4,  5,  6,  7,  8,  9, 10, 11, 12, 13, 14, 15, 16,\n",
       "       17, 18, 19])"
      ]
     },
     "execution_count": 123,
     "metadata": {},
     "output_type": "execute_result"
    }
   ],
   "source": [
    "my_array = np.arange(20)\n",
    "\n",
    "my_array"
   ]
  },
  {
   "cell_type": "code",
   "execution_count": 124,
   "id": "cef9f122-8e9d-4c27-ace2-ccdbea0e1934",
   "metadata": {},
   "outputs": [
    {
     "data": {
      "text/plain": [
       "array([ True, False,  True, False,  True, False,  True, False,  True,\n",
       "       False,  True, False,  True, False,  True, False,  True, False,\n",
       "        True, False])"
      ]
     },
     "execution_count": 124,
     "metadata": {},
     "output_type": "execute_result"
    }
   ],
   "source": [
    "my_array % 2 == 0"
   ]
  },
  {
   "cell_type": "code",
   "execution_count": 125,
   "id": "ebf67b89-ac1f-48e4-a1e2-0e3f31e02b26",
   "metadata": {},
   "outputs": [
    {
     "data": {
      "text/plain": [
       "array([ 0,  2,  4,  6,  8, 10, 12, 14, 16, 18])"
      ]
     },
     "execution_count": 125,
     "metadata": {},
     "output_type": "execute_result"
    }
   ],
   "source": [
    "my_array[my_array % 2 == 0]"
   ]
  },
  {
   "cell_type": "code",
   "execution_count": 126,
   "id": "a26c1d59-3c4d-4af2-9bfc-47f940c99a69",
   "metadata": {},
   "outputs": [
    {
     "data": {
      "text/plain": [
       "array(['even', 'odd', 'even', 'odd', 'even', 'odd', 'even', 'odd', 'even',\n",
       "       'odd', 'even', 'odd', 'even', 'odd', 'even', 'odd', 'even', 'odd',\n",
       "       'even', 'odd'], dtype='<U4')"
      ]
     },
     "execution_count": 126,
     "metadata": {},
     "output_type": "execute_result"
    }
   ],
   "source": [
    "# with test \n",
    "even_odd = np.array(['even', 'odd'] * 10)\n",
    "\n",
    "even_odd"
   ]
  },
  {
   "cell_type": "code",
   "execution_count": 127,
   "id": "d98fd304-506a-490f-ab2a-ca2afc58ed67",
   "metadata": {},
   "outputs": [
    {
     "data": {
      "text/plain": [
       "array([ True, False,  True, False,  True, False,  True, False,  True,\n",
       "       False,  True, False,  True, False,  True, False,  True, False,\n",
       "        True, False])"
      ]
     },
     "execution_count": 127,
     "metadata": {},
     "output_type": "execute_result"
    }
   ],
   "source": [
    "even_odd != 'odd'"
   ]
  },
  {
   "cell_type": "code",
   "execution_count": 128,
   "id": "2487236b-b687-41fe-9d1d-d8e608a60893",
   "metadata": {},
   "outputs": [
    {
     "data": {
      "text/plain": [
       "array(['even', 'even', 'even', 'even', 'even', 'even', 'even', 'even',\n",
       "       'even', 'even'], dtype='<U4')"
      ]
     },
     "execution_count": 128,
     "metadata": {},
     "output_type": "execute_result"
    }
   ],
   "source": [
    "even_odd[even_odd != 'odd']"
   ]
  },
  {
   "cell_type": "code",
   "execution_count": 129,
   "id": "0830d303-1850-489a-a1cc-77b8894ba8c9",
   "metadata": {},
   "outputs": [
    {
     "data": {
      "text/plain": [
       "array([ 0,  1,  0,  3,  0,  5,  0,  7,  0,  9,  0, 11,  0, 13,  0, 15,  0,\n",
       "       17,  0, 19])"
      ]
     },
     "execution_count": 129,
     "metadata": {},
     "output_type": "execute_result"
    }
   ],
   "source": [
    "my_array[even_odd != 'odd'] = 0\n",
    "\n",
    "my_array"
   ]
  },
  {
   "cell_type": "code",
   "execution_count": 130,
   "id": "8147f147-6566-4808-a724-5bf7b81ff42c",
   "metadata": {},
   "outputs": [
    {
     "data": {
      "text/plain": [
       "array([ 0,  1,  2,  3,  0,  5,  0,  7,  0,  9,  0, 11,  0, 13,  0, 15,  0,\n",
       "       17,  0, 19])"
      ]
     },
     "execution_count": 130,
     "metadata": {},
     "output_type": "execute_result"
    }
   ],
   "source": [
    "my_array[2] = 2\n",
    "\n",
    "my_array"
   ]
  },
  {
   "cell_type": "code",
   "execution_count": 132,
   "id": "3919e0ca-b914-43e5-b9d2-4b5fcc506929",
   "metadata": {},
   "outputs": [],
   "source": [
    "mask = (even_odd != 'odd') | (even_odd != 'even')"
   ]
  },
  {
   "cell_type": "code",
   "execution_count": 133,
   "id": "ad635257-4076-4fdb-977e-cfb103154b86",
   "metadata": {},
   "outputs": [
    {
     "data": {
      "text/plain": [
       "array(['even', 'odd', 'even', 'odd', 'even', 'odd', 'even', 'odd', 'even',\n",
       "       'odd', 'even', 'odd', 'even', 'odd', 'even', 'odd', 'even', 'odd',\n",
       "       'even', 'odd'], dtype='<U4')"
      ]
     },
     "execution_count": 133,
     "metadata": {},
     "output_type": "execute_result"
    }
   ],
   "source": [
    "even_odd[mask] # all returned coz of or |"
   ]
  },
  {
   "cell_type": "code",
   "execution_count": 134,
   "id": "654254b6-dbbf-4a28-8eea-19fe988b3902",
   "metadata": {},
   "outputs": [],
   "source": [
    "mask = (even_odd != 'odd') & (even_odd != 'even')"
   ]
  },
  {
   "cell_type": "code",
   "execution_count": 135,
   "id": "963edd6c-aef6-41cc-acf3-584be3b64617",
   "metadata": {},
   "outputs": [
    {
     "data": {
      "text/plain": [
       "array([], dtype='<U4')"
      ]
     },
     "execution_count": 135,
     "metadata": {},
     "output_type": "execute_result"
    }
   ],
   "source": [
    "even_odd[mask] # none returned coz of and &"
   ]
  },
  {
   "cell_type": "markdown",
   "id": "b8614dac-86c6-4410-adce-7af647abc6d7",
   "metadata": {},
   "source": [
    "### where \n",
    "np.where(logical test,\n",
    "         value if True,\n",
    "         value if False)"
   ]
  },
  {
   "cell_type": "code",
   "execution_count": 139,
   "id": "856293dd-c15a-49d4-be22-379749dd47b4",
   "metadata": {},
   "outputs": [
    {
     "data": {
      "text/plain": [
       "array([ 12, 102,  18,   0,   0])"
      ]
     },
     "execution_count": 139,
     "metadata": {},
     "output_type": "execute_result"
    }
   ],
   "source": [
    "inventory_array = np.array([12, 102, 18, 0, 0])\n",
    "\n",
    "inventory_array"
   ]
  },
  {
   "cell_type": "code",
   "execution_count": 140,
   "id": "851f8e87-55b5-439e-bdb7-174445d0c845",
   "metadata": {},
   "outputs": [
    {
     "data": {
      "text/plain": [
       "array(['fruits', 'vegetables', 'cereal', 'dairy', 'eggs', 'snacks',\n",
       "       'beverages', 'coffee', 'tea', 'spices'], dtype='<U10')"
      ]
     },
     "execution_count": 140,
     "metadata": {},
     "output_type": "execute_result"
    }
   ],
   "source": [
    "product_array"
   ]
  },
  {
   "cell_type": "code",
   "execution_count": 141,
   "id": "926aff5f-94d7-4579-b5cc-44e1b1d76155",
   "metadata": {},
   "outputs": [
    {
     "data": {
      "text/plain": [
       "array(['In Stock', 'In Stock', 'In Stock', 'Out of Stock', 'Out of Stock'],\n",
       "      dtype='<U12')"
      ]
     },
     "execution_count": 141,
     "metadata": {},
     "output_type": "execute_result"
    }
   ],
   "source": [
    "np.where(inventory_array <= 0, \"Out of Stock\", \"In Stock\")"
   ]
  },
  {
   "cell_type": "code",
   "execution_count": 143,
   "id": "2c9523ea-f685-4ca9-80d2-482d878fae91",
   "metadata": {},
   "outputs": [
    {
     "data": {
      "text/plain": [
       "array(['fruits', 'vegetables', 'cereal', 'Out of Stock', 'Out of Stock'],\n",
       "      dtype='<U12')"
      ]
     },
     "execution_count": 143,
     "metadata": {},
     "output_type": "execute_result"
    }
   ],
   "source": [
    "np.where(inventory_array <= 0, \"Out of Stock\", product_array[0:5])"
   ]
  },
  {
   "cell_type": "code",
   "execution_count": 144,
   "id": "8639ef8b-2495-4aab-9c18-8322d76c7d6a",
   "metadata": {},
   "outputs": [
    {
     "data": {
      "text/plain": [
       "array([ 0,  1,  2,  3,  4,  5,  6,  7,  8,  9, 10, 11, 12, 13, 14, 15, 16,\n",
       "       17, 18, 19])"
      ]
     },
     "execution_count": 144,
     "metadata": {},
     "output_type": "execute_result"
    }
   ],
   "source": [
    "my_array = np.arange(20)\n",
    "my_array"
   ]
  },
  {
   "cell_type": "code",
   "execution_count": 145,
   "id": "6eb90a00-cb04-48e8-ac0e-3216f9c22eb6",
   "metadata": {},
   "outputs": [
    {
     "data": {
      "text/plain": [
       "array(['even', 'odd', 'even', 'odd', 'even', 'odd', 'even', 'odd', 'even',\n",
       "       'odd', 'even', 'odd', 'even', 'odd', 'even', 'odd', 'even', 'odd',\n",
       "       'even', 'odd'], dtype='<U4')"
      ]
     },
     "execution_count": 145,
     "metadata": {},
     "output_type": "execute_result"
    }
   ],
   "source": [
    "np.where(my_array % 2 == 0, 'even', 'odd')"
   ]
  },
  {
   "cell_type": "code",
   "execution_count": 146,
   "id": "b81e3de7-75fc-42e5-90bb-2618fd9f5443",
   "metadata": {},
   "outputs": [
    {
     "data": {
      "text/plain": [
       "array(['even', 'odd', 'even', 'odd', 'even', 'odd', 'even', 'odd', 'even',\n",
       "       '9', 'even', 'odd', 'even', 'odd', 'even', 'odd', 'even', 'odd',\n",
       "       'even', 'odd'], dtype='<U21')"
      ]
     },
     "execution_count": 146,
     "metadata": {},
     "output_type": "execute_result"
    }
   ],
   "source": [
    "np.where(my_array % 2 == 0, 'even', np.where(my_array == 9, my_array, 'odd')) # chain another where "
   ]
  },
  {
   "cell_type": "markdown",
   "id": "7bdc0259-b0bf-413d-8c49-7ddc1f7ec8d0",
   "metadata": {},
   "source": [
    "### Exercise 5"
   ]
  },
  {
   "cell_type": "code",
   "execution_count": 147,
   "id": "91d1e812-1172-40ea-a667-3a6acd3d5193",
   "metadata": {},
   "outputs": [
    {
     "data": {
      "text/plain": [
       "array([ 5.99,  6.99, 22.49, 99.99,  4.99, 49.99])"
      ]
     },
     "execution_count": 147,
     "metadata": {},
     "output_type": "execute_result"
    }
   ],
   "source": [
    "prices = np.array([5.99, 6.99, 22.49, 99.99, 4.99, 49.99])\n",
    "\n",
    "prices"
   ]
  },
  {
   "cell_type": "code",
   "execution_count": 148,
   "id": "ca0991ce-c097-44b0-b5fd-3809682efd76",
   "metadata": {},
   "outputs": [
    {
     "data": {
      "text/plain": [
       "array(['salad', 'bread', 'mustard', 'rare tomato', 'cola',\n",
       "       'gourment ice cream'], dtype='<U18')"
      ]
     },
     "execution_count": 148,
     "metadata": {},
     "output_type": "execute_result"
    }
   ],
   "source": [
    "products = np.array(\n",
    "    ['salad', 'bread', 'mustard', 'rare tomato', 'cola', 'gourment ice cream'])\n",
    "\n",
    "products"
   ]
  },
  {
   "cell_type": "code",
   "execution_count": 149,
   "id": "9be33e03-2b15-4295-8b62-4fd144bc346f",
   "metadata": {},
   "outputs": [
    {
     "data": {
      "text/plain": [
       "array(['rare tomato', 'gourment ice cream'], dtype='<U18')"
      ]
     },
     "execution_count": 149,
     "metadata": {},
     "output_type": "execute_result"
    }
   ],
   "source": [
    "# 1 price greater than 25 \n",
    "p_gt_25 = products[prices > 25]\n",
    "p_gt_25"
   ]
  },
  {
   "cell_type": "code",
   "execution_count": 153,
   "id": "acf3d683-6d91-43b3-89b0-a6f9dc1cd9fb",
   "metadata": {},
   "outputs": [],
   "source": [
    "mask = (prices > 25) | (products == 'cola')"
   ]
  },
  {
   "cell_type": "code",
   "execution_count": 155,
   "id": "504f26a7-421c-4a9d-820d-e0fabee8ec62",
   "metadata": {},
   "outputs": [
    {
     "data": {
      "text/plain": [
       "array(['rare tomato', 'cola', 'gourment ice cream'], dtype='<U18')"
      ]
     },
     "execution_count": 155,
     "metadata": {},
     "output_type": "execute_result"
    }
   ],
   "source": [
    "# 2 include cola\n",
    "fancy_feast_special = products[mask]\n",
    "\n",
    "fancy_feast_special"
   ]
  },
  {
   "cell_type": "code",
   "execution_count": 156,
   "id": "204d80e5-712c-4089-a23e-10622d2a4839",
   "metadata": {},
   "outputs": [
    {
     "data": {
      "text/plain": [
       "array([5, 5, 0, 0, 5, 0])"
      ]
     },
     "execution_count": 156,
     "metadata": {},
     "output_type": "execute_result"
    }
   ],
   "source": [
    "# 3 create shipping cost \n",
    "shipping_cost = np.where(prices > 20 , 0 , 5)\n",
    "shipping_cost"
   ]
  },
  {
   "cell_type": "markdown",
   "id": "a9342a3f-db3c-4ad3-bab9-417881c829c6",
   "metadata": {},
   "source": [
    "### array aggregation "
   ]
  },
  {
   "cell_type": "code",
   "execution_count": 157,
   "id": "b5704495-568c-4b70-80db-a8f871bdee57",
   "metadata": {},
   "outputs": [
    {
     "data": {
      "text/plain": [
       "array([[   0,    5,  155,    0,  518],\n",
       "       [   0, 1827,  616,  317,  325]])"
      ]
     },
     "execution_count": 157,
     "metadata": {},
     "output_type": "execute_result"
    }
   ],
   "source": [
    "sales = [[0,5, 155, 0 , 518],[0,1827,616,317,325]]\n",
    "\n",
    "sales_array = np.array(sales)\n",
    "sales_array"
   ]
  },
  {
   "cell_type": "code",
   "execution_count": 158,
   "id": "5cad849c-19f2-424b-bba4-45c7b10084bf",
   "metadata": {},
   "outputs": [
    {
     "data": {
      "text/plain": [
       "np.int64(3763)"
      ]
     },
     "execution_count": 158,
     "metadata": {},
     "output_type": "execute_result"
    }
   ],
   "source": [
    "sales_array.sum()"
   ]
  },
  {
   "cell_type": "code",
   "execution_count": 159,
   "id": "cee78f83-f8b6-4d3f-9c60-c52ac0430b0d",
   "metadata": {},
   "outputs": [
    {
     "data": {
      "text/plain": [
       "np.int64(1827)"
      ]
     },
     "execution_count": 159,
     "metadata": {},
     "output_type": "execute_result"
    }
   ],
   "source": [
    "sales_array.max()"
   ]
  },
  {
   "cell_type": "code",
   "execution_count": 160,
   "id": "cc2a2469-f72d-4595-a1d3-78705982b072",
   "metadata": {},
   "outputs": [
    {
     "data": {
      "text/plain": [
       "np.int64(0)"
      ]
     },
     "execution_count": 160,
     "metadata": {},
     "output_type": "execute_result"
    }
   ],
   "source": [
    "sales_array.min()"
   ]
  },
  {
   "cell_type": "code",
   "execution_count": 161,
   "id": "0051f7de-37e6-477b-b61f-9e574375f5ae",
   "metadata": {},
   "outputs": [
    {
     "data": {
      "text/plain": [
       "np.float64(376.3)"
      ]
     },
     "execution_count": 161,
     "metadata": {},
     "output_type": "execute_result"
    }
   ],
   "source": [
    "sales_array.mean()"
   ]
  },
  {
   "cell_type": "code",
   "execution_count": 162,
   "id": "49c29aa8-dab4-4150-9cbb-4563e91e689f",
   "metadata": {},
   "outputs": [
    {
     "data": {
      "text/plain": [
       "array([   0, 1832,  771,  317,  843])"
      ]
     },
     "execution_count": 162,
     "metadata": {},
     "output_type": "execute_result"
    }
   ],
   "source": [
    "# aggregate across rows \n",
    "sales_array.sum(axis = 0)"
   ]
  },
  {
   "cell_type": "code",
   "execution_count": 163,
   "id": "0054f51d-7d4b-4cd7-8b3c-eb73171f6097",
   "metadata": {},
   "outputs": [
    {
     "data": {
      "text/plain": [
       "array([ 678, 3085])"
      ]
     },
     "execution_count": 163,
     "metadata": {},
     "output_type": "execute_result"
    }
   ],
   "source": [
    "# aggregate across columns \n",
    "sales_array.sum(axis = 1)"
   ]
  },
  {
   "cell_type": "code",
   "execution_count": 177,
   "id": "9042612d-a42e-4205-a9ed-b8f330538089",
   "metadata": {},
   "outputs": [],
   "source": [
    "rng = np.random.default_rng(616)"
   ]
  },
  {
   "cell_type": "code",
   "execution_count": 178,
   "id": "14edbf4a-88fc-4417-9279-108cbd16fe1d",
   "metadata": {},
   "outputs": [
    {
     "data": {
      "text/plain": [
       "array([3.97, 8.66, 4.6 , 3.06, 5.74, 0.89, 8.82, 7.32, 7.32, 5.62])"
      ]
     },
     "execution_count": 178,
     "metadata": {},
     "output_type": "execute_result"
    }
   ],
   "source": [
    "price = (rng.random(10) * 10).round(2)\n",
    "\n",
    "price"
   ]
  },
  {
   "cell_type": "code",
   "execution_count": 179,
   "id": "d1509fcf-828c-4229-8055-55ddc9121a44",
   "metadata": {},
   "outputs": [
    {
     "data": {
      "text/plain": [
       "array([80, 33, 60,  6, 31, 35, 16, 20, 29, 43])"
      ]
     },
     "execution_count": 179,
     "metadata": {},
     "output_type": "execute_result"
    }
   ],
   "source": [
    "inventory = rng.integers(0, 100, 10)\n",
    "\n",
    "inventory"
   ]
  },
  {
   "cell_type": "code",
   "execution_count": 180,
   "id": "5ae59965-fcbb-41a8-bdf8-0b963ef1a897",
   "metadata": {},
   "outputs": [
    {
     "data": {
      "text/plain": [
       "np.float64(35.3)"
      ]
     },
     "execution_count": 180,
     "metadata": {},
     "output_type": "execute_result"
    }
   ],
   "source": [
    "inventory.mean()"
   ]
  },
  {
   "cell_type": "code",
   "execution_count": 181,
   "id": "977c9013-0201-407a-b468-3d6bd042a127",
   "metadata": {},
   "outputs": [
    {
     "data": {
      "text/plain": [
       "np.int64(353)"
      ]
     },
     "execution_count": 181,
     "metadata": {},
     "output_type": "execute_result"
    }
   ],
   "source": [
    "inventory.sum()"
   ]
  },
  {
   "cell_type": "code",
   "execution_count": 182,
   "id": "051c4c49-ca5c-40fb-b499-ba5b6df6c72a",
   "metadata": {},
   "outputs": [
    {
     "data": {
      "text/plain": [
       "np.int64(80)"
      ]
     },
     "execution_count": 182,
     "metadata": {},
     "output_type": "execute_result"
    }
   ],
   "source": [
    "inventory.max()"
   ]
  },
  {
   "cell_type": "code",
   "execution_count": 183,
   "id": "2381b469-9ab2-479a-9600-b68dbfd6dae2",
   "metadata": {},
   "outputs": [
    {
     "data": {
      "text/plain": [
       "np.int64(6)"
      ]
     },
     "execution_count": 183,
     "metadata": {},
     "output_type": "execute_result"
    }
   ],
   "source": [
    "inventory.min()"
   ]
  },
  {
   "cell_type": "code",
   "execution_count": 184,
   "id": "66e21123-1064-43a1-9fe0-fd8142931b51",
   "metadata": {},
   "outputs": [
    {
     "data": {
      "text/plain": [
       "np.float64(20.48438429633656)"
      ]
     },
     "execution_count": 184,
     "metadata": {},
     "output_type": "execute_result"
    }
   ],
   "source": [
    "inventory.std()"
   ]
  },
  {
   "cell_type": "code",
   "execution_count": 186,
   "id": "3bead20f-ca7e-4987-9154-82e3a3f14a15",
   "metadata": {},
   "outputs": [
    {
     "data": {
      "text/plain": [
       "array([317.6 , 285.78, 276.  ,  18.36, 177.94,  31.15, 141.12, 146.4 ,\n",
       "       212.28, 241.66])"
      ]
     },
     "execution_count": 186,
     "metadata": {},
     "output_type": "execute_result"
    }
   ],
   "source": [
    "(price * inventory)"
   ]
  },
  {
   "cell_type": "code",
   "execution_count": 187,
   "id": "eca88a97-857c-4ff6-b960-e2e9ad773ca4",
   "metadata": {},
   "outputs": [
    {
     "data": {
      "text/plain": [
       "np.float64(1848.2900000000002)"
      ]
     },
     "execution_count": 187,
     "metadata": {},
     "output_type": "execute_result"
    }
   ],
   "source": [
    "(price * inventory).sum()"
   ]
  },
  {
   "cell_type": "code",
   "execution_count": 188,
   "id": "67dc9fe3-c82b-4fc5-8b50-4127e80af232",
   "metadata": {},
   "outputs": [
    {
     "data": {
      "text/plain": [
       "np.float64(18.36)"
      ]
     },
     "execution_count": 188,
     "metadata": {},
     "output_type": "execute_result"
    }
   ],
   "source": [
    "(price * inventory).min()"
   ]
  },
  {
   "cell_type": "code",
   "execution_count": 189,
   "id": "2cb484af-186f-4a2a-9e7d-843ac15cbcf6",
   "metadata": {},
   "outputs": [
    {
     "data": {
      "text/plain": [
       "np.int64(3)"
      ]
     },
     "execution_count": 189,
     "metadata": {},
     "output_type": "execute_result"
    }
   ],
   "source": [
    "(price * inventory).argmin()"
   ]
  },
  {
   "cell_type": "code",
   "execution_count": 190,
   "id": "25f95ebe-51e8-4579-9698-a32baaeb6f51",
   "metadata": {},
   "outputs": [
    {
     "data": {
      "text/plain": [
       "np.int64(0)"
      ]
     },
     "execution_count": 190,
     "metadata": {},
     "output_type": "execute_result"
    }
   ],
   "source": [
    "(price * inventory).argmax()"
   ]
  },
  {
   "cell_type": "code",
   "execution_count": 191,
   "id": "34cac0e0-0acb-4a87-80be-df4f4eab0d98",
   "metadata": {},
   "outputs": [
    {
     "data": {
      "text/plain": [
       "array([[3.97, 8.66],\n",
       "       [4.6 , 3.06],\n",
       "       [5.74, 0.89],\n",
       "       [8.82, 7.32],\n",
       "       [7.32, 5.62]])"
      ]
     },
     "execution_count": 191,
     "metadata": {},
     "output_type": "execute_result"
    }
   ],
   "source": [
    "price_2d = price.reshape(5,2)\n",
    "\n",
    "price_2d"
   ]
  },
  {
   "cell_type": "code",
   "execution_count": 193,
   "id": "f5736cbf-481b-4af7-a1c1-29517a6b2f79",
   "metadata": {},
   "outputs": [
    {
     "data": {
      "text/plain": [
       "array([30.45, 25.55])"
      ]
     },
     "execution_count": 193,
     "metadata": {},
     "output_type": "execute_result"
    }
   ],
   "source": [
    "price_2d.sum(axis=0)"
   ]
  },
  {
   "cell_type": "code",
   "execution_count": 194,
   "id": "b228b04e-be8a-4c95-804c-23044c1f07ab",
   "metadata": {},
   "outputs": [
    {
     "data": {
      "text/plain": [
       "array([12.63,  7.66,  6.63, 16.14, 12.94])"
      ]
     },
     "execution_count": 194,
     "metadata": {},
     "output_type": "execute_result"
    }
   ],
   "source": [
    "price_2d.sum(axis=1)"
   ]
  },
  {
   "cell_type": "code",
   "execution_count": 195,
   "id": "12a269d6-3b70-466a-831d-a7a817bbf2f3",
   "metadata": {},
   "outputs": [
    {
     "data": {
      "text/plain": [
       "array([6.09, 5.11])"
      ]
     },
     "execution_count": 195,
     "metadata": {},
     "output_type": "execute_result"
    }
   ],
   "source": [
    "price_2d.mean(axis=0)"
   ]
  },
  {
   "cell_type": "markdown",
   "id": "e82208a5-5aac-49be-b370-dd940574c2d4",
   "metadata": {},
   "source": [
    "### Array functions"
   ]
  },
  {
   "cell_type": "code",
   "execution_count": 196,
   "id": "517b397a-c59e-4869-8cbc-7cca2324b850",
   "metadata": {},
   "outputs": [
    {
     "data": {
      "text/plain": [
       "array([[   0,    5,  155,    0,  518],\n",
       "       [   0, 1827,  616,  317,  325]])"
      ]
     },
     "execution_count": 196,
     "metadata": {},
     "output_type": "execute_result"
    }
   ],
   "source": [
    "sales_array"
   ]
  },
  {
   "cell_type": "code",
   "execution_count": 198,
   "id": "a2eb6884-5c5c-43fb-bc9a-b4099929320f",
   "metadata": {},
   "outputs": [
    {
     "data": {
      "text/plain": [
       "np.float64(236.0)"
      ]
     },
     "execution_count": 198,
     "metadata": {},
     "output_type": "execute_result"
    }
   ],
   "source": [
    "np.median(sales_array)"
   ]
  },
  {
   "cell_type": "code",
   "execution_count": 199,
   "id": "407bb41f-8368-4761-bbb2-4aa6cb40b9de",
   "metadata": {},
   "outputs": [
    {
     "data": {
      "text/plain": [
       "np.float64(376.3)"
      ]
     },
     "execution_count": 199,
     "metadata": {},
     "output_type": "execute_result"
    }
   ],
   "source": [
    "np.mean(sales_array)"
   ]
  },
  {
   "cell_type": "code",
   "execution_count": 200,
   "id": "afd1147a-90c3-46d4-9311-d2b0268bb338",
   "metadata": {},
   "outputs": [
    {
     "data": {
      "text/plain": [
       "np.float64(737.0999999999996)"
      ]
     },
     "execution_count": 200,
     "metadata": {},
     "output_type": "execute_result"
    }
   ],
   "source": [
    "np.percentile(sales_array, 90)"
   ]
  },
  {
   "cell_type": "code",
   "execution_count": 201,
   "id": "5bcb8dfe-0588-4127-86e6-f4c7a62cf0ca",
   "metadata": {},
   "outputs": [
    {
     "data": {
      "text/plain": [
       "np.float64(236.0)"
      ]
     },
     "execution_count": 201,
     "metadata": {},
     "output_type": "execute_result"
    }
   ],
   "source": [
    "np.percentile(sales_array, 50)"
   ]
  },
  {
   "cell_type": "code",
   "execution_count": 202,
   "id": "55d8f8db-215e-4b1d-954b-3be76da339a3",
   "metadata": {},
   "outputs": [
    {
     "data": {
      "text/plain": [
       "array([   0,    5,  155,  317,  325,  518,  616, 1827])"
      ]
     },
     "execution_count": 202,
     "metadata": {},
     "output_type": "execute_result"
    }
   ],
   "source": [
    "np.unique(sales_array)"
   ]
  },
  {
   "cell_type": "code",
   "execution_count": 203,
   "id": "cc0fa42b-f9fa-48ab-b033-865ca3d0b72e",
   "metadata": {},
   "outputs": [
    {
     "data": {
      "text/plain": [
       "array([[ 0.        ,  2.23606798, 12.4498996 ,  0.        , 22.75961335],\n",
       "       [ 0.        , 42.74342055, 24.81934729, 17.80449381, 18.02775638]])"
      ]
     },
     "execution_count": 203,
     "metadata": {},
     "output_type": "execute_result"
    }
   ],
   "source": [
    "np.sqrt(sales_array)"
   ]
  },
  {
   "cell_type": "code",
   "execution_count": 204,
   "id": "325b36ec-f20b-44f1-b89d-7aed47e9de01",
   "metadata": {},
   "outputs": [
    {
     "data": {
      "text/plain": [
       "array([205.4 , 158.4 , 138.4 , 186.24,   6.24, 202.92, 106.44,   3.68,\n",
       "        26.15, 403.2 ])"
      ]
     },
     "execution_count": 204,
     "metadata": {},
     "output_type": "execute_result"
    }
   ],
   "source": [
    "price = np.array([2.6, 7.2, 6.92, 3.88, 0.78, 2.67, 8.87, 0.23, 5.23, 6.3])\n",
    "\n",
    "inventory = np.array([79, 22, 20, 48, 8, 76, 12, 16, 5, 64])\n",
    "\n",
    "product_value = price * inventory\n",
    "\n",
    "product_value"
   ]
  },
  {
   "cell_type": "code",
   "execution_count": 207,
   "id": "f9f46e4d-e868-4138-a95c-2ada26ed27f9",
   "metadata": {},
   "outputs": [
    {
     "data": {
      "text/plain": [
       "array([  3.68,   6.24,  26.15, 106.44, 138.4 , 158.4 , 186.24, 202.92,\n",
       "       205.4 , 403.2 ])"
      ]
     },
     "execution_count": 207,
     "metadata": {},
     "output_type": "execute_result"
    }
   ],
   "source": [
    "product_value.sort()\n",
    "\n",
    "product_value"
   ]
  },
  {
   "cell_type": "code",
   "execution_count": 205,
   "id": "e8857f73-ffdd-4028-a351-6c792e73fd04",
   "metadata": {},
   "outputs": [
    {
     "data": {
      "text/plain": [
       "array([[205.4 , 158.4 , 138.4 , 186.24,   6.24],\n",
       "       [202.92, 106.44,   3.68,  26.15, 403.2 ]])"
      ]
     },
     "execution_count": 205,
     "metadata": {},
     "output_type": "execute_result"
    }
   ],
   "source": [
    "reshaped_product_value = product_value.reshape(2,5)\n",
    "\n",
    "reshaped_product_value"
   ]
  },
  {
   "cell_type": "code",
   "execution_count": 208,
   "id": "55e982c0-9785-4526-bdc9-e497515336d1",
   "metadata": {},
   "outputs": [
    {
     "data": {
      "text/plain": [
       "np.float64(148.4)"
      ]
     },
     "execution_count": 208,
     "metadata": {},
     "output_type": "execute_result"
    }
   ],
   "source": [
    "np.median(reshaped_product_value)"
   ]
  },
  {
   "cell_type": "code",
   "execution_count": 209,
   "id": "7a8d5248-fed7-4e18-886a-a510635fe018",
   "metadata": {},
   "outputs": [
    {
     "data": {
      "text/plain": [
       "np.float64(225.17999999999992)"
      ]
     },
     "execution_count": 209,
     "metadata": {},
     "output_type": "execute_result"
    }
   ],
   "source": [
    "np.percentile(reshaped_product_value, 90)"
   ]
  },
  {
   "cell_type": "code",
   "execution_count": 210,
   "id": "89acc08b-65ff-40d8-ae44-9527786a5039",
   "metadata": {},
   "outputs": [
    {
     "data": {
      "text/plain": [
       "np.float64(5.984)"
      ]
     },
     "execution_count": 210,
     "metadata": {},
     "output_type": "execute_result"
    }
   ],
   "source": [
    "np.percentile(reshaped_product_value, 10)"
   ]
  },
  {
   "cell_type": "code",
   "execution_count": 211,
   "id": "f5ff292a-f1ae-48fe-bf25-deb32ba1a043",
   "metadata": {},
   "outputs": [
    {
     "data": {
      "text/plain": [
       "array([[ 1.91833261,  2.4979992 ,  5.11370707, 10.3169763 , 11.76435294],\n",
       "       [12.58570618, 13.64697769, 14.24499912, 14.33178286, 20.07984064]])"
      ]
     },
     "execution_count": 211,
     "metadata": {},
     "output_type": "execute_result"
    }
   ],
   "source": [
    "np.sqrt(reshaped_product_value)"
   ]
  },
  {
   "cell_type": "code",
   "execution_count": 212,
   "id": "bc1adf2c-f56b-45e6-81b0-690a3d61cf02",
   "metadata": {},
   "outputs": [
    {
     "data": {
      "text/plain": [
       "array([  3.68,   6.24,  26.15, 106.44, 138.4 , 158.4 , 186.24, 202.92,\n",
       "       205.4 , 403.2 ])"
      ]
     },
     "execution_count": 212,
     "metadata": {},
     "output_type": "execute_result"
    }
   ],
   "source": [
    "np.unique(reshaped_product_value)"
   ]
  },
  {
   "cell_type": "code",
   "execution_count": 213,
   "id": "0b2794ce-85f5-42ff-81bf-20d748e05630",
   "metadata": {},
   "outputs": [
    {
     "data": {
      "text/plain": [
       "array([1.])"
      ]
     },
     "execution_count": 213,
     "metadata": {},
     "output_type": "execute_result"
    }
   ],
   "source": [
    "np.unique(np.ones(100))"
   ]
  },
  {
   "cell_type": "markdown",
   "id": "efef261e-6255-484a-9523-b2cdcd35276a",
   "metadata": {},
   "source": [
    "### sorting array"
   ]
  },
  {
   "cell_type": "code",
   "execution_count": 226,
   "id": "be1269f5-73a9-4418-9646-295ea68d16ce",
   "metadata": {},
   "outputs": [
    {
     "data": {
      "text/plain": [
       "array([[   0,    5,  155,    0,  518],\n",
       "       [   0, 1827,  616,  317,  325]])"
      ]
     },
     "execution_count": 226,
     "metadata": {},
     "output_type": "execute_result"
    }
   ],
   "source": [
    "sales = [[0,5, 155, 0 , 518],[0,1827,616,317,325]]\n",
    "\n",
    "sales_array = np.array(sales)\n",
    "sales_array"
   ]
  },
  {
   "cell_type": "code",
   "execution_count": 224,
   "id": "c0ae7239-e1a1-453d-8fb1-6794997cbf01",
   "metadata": {},
   "outputs": [
    {
     "data": {
      "text/plain": [
       "array([[   0,    5,  155,    0,  518],\n",
       "       [   0, 1827,  616,  317,  325]])"
      ]
     },
     "execution_count": 224,
     "metadata": {},
     "output_type": "execute_result"
    }
   ],
   "source": [
    "sales_array"
   ]
  },
  {
   "cell_type": "code",
   "execution_count": 222,
   "id": "7e9b5383-8179-487e-b9c2-e4fca91f2abb",
   "metadata": {},
   "outputs": [
    {
     "data": {
      "text/plain": [
       "array([[   0,    0,    5,  155,  518],\n",
       "       [   0,  317,  325,  616, 1827]])"
      ]
     },
     "execution_count": 222,
     "metadata": {},
     "output_type": "execute_result"
    }
   ],
   "source": [
    "sales_array.sort() # default is by axis 1 2d by row \n",
    "\n",
    "sales_array"
   ]
  },
  {
   "cell_type": "code",
   "execution_count": 225,
   "id": "9277e9f6-2e1e-4a3e-8063-797aaaecfc85",
   "metadata": {},
   "outputs": [
    {
     "data": {
      "text/plain": [
       "array([[   0,    5,  155,    0,  325],\n",
       "       [   0, 1827,  616,  317,  518]])"
      ]
     },
     "execution_count": 225,
     "metadata": {},
     "output_type": "execute_result"
    }
   ],
   "source": [
    "sales_array.sort(axis = 0) # axis = 0 will sort by columns \n",
    "sales_array"
   ]
  },
  {
   "cell_type": "code",
   "execution_count": 227,
   "id": "17da1448-8292-4070-a8e4-223f198f3fa2",
   "metadata": {},
   "outputs": [
    {
     "data": {
      "text/plain": [
       "array([205.4 , 158.4 , 138.4 , 186.24,   6.24, 202.92, 106.44,   3.68,\n",
       "        26.15, 403.2 ])"
      ]
     },
     "execution_count": 227,
     "metadata": {},
     "output_type": "execute_result"
    }
   ],
   "source": [
    "price = np.array([2.6, 7.2, 6.92, 3.88, 0.78, 2.67, 8.87, 0.23, 5.23, 6.3])\n",
    "\n",
    "inventory = np.array([79, 22, 20, 48, 8, 76, 12, 16, 5, 64])\n",
    "\n",
    "product_value = price * inventory\n",
    "\n",
    "product_value"
   ]
  },
  {
   "cell_type": "code",
   "execution_count": 228,
   "id": "942e46aa-18b0-4f83-b856-f932a90b54a7",
   "metadata": {},
   "outputs": [
    {
     "data": {
      "text/plain": [
       "array([  3.68,   6.24,  26.15, 106.44, 138.4 , 158.4 , 186.24, 202.92,\n",
       "       205.4 , 403.2 ])"
      ]
     },
     "execution_count": 228,
     "metadata": {},
     "output_type": "execute_result"
    }
   ],
   "source": [
    "np.sort(product_value)"
   ]
  },
  {
   "cell_type": "code",
   "execution_count": 229,
   "id": "7c4edec9-745a-494c-84d6-2260514ada99",
   "metadata": {},
   "outputs": [
    {
     "data": {
      "text/plain": [
       "array([205.4 , 158.4 , 138.4 , 186.24,   6.24, 202.92, 106.44,   3.68,\n",
       "        26.15, 403.2 ])"
      ]
     },
     "execution_count": 229,
     "metadata": {},
     "output_type": "execute_result"
    }
   ],
   "source": [
    "product_value"
   ]
  },
  {
   "cell_type": "code",
   "execution_count": 230,
   "id": "d23d7d44-c9a4-4929-bbd0-d113ebdeeb18",
   "metadata": {},
   "outputs": [],
   "source": [
    "product_value.sort()"
   ]
  },
  {
   "cell_type": "code",
   "execution_count": 231,
   "id": "ba90b438-65c5-4881-b50f-4598d376242e",
   "metadata": {},
   "outputs": [
    {
     "data": {
      "text/plain": [
       "array([  3.68,   6.24,  26.15, 106.44, 138.4 , 158.4 , 186.24, 202.92,\n",
       "       205.4 , 403.2 ])"
      ]
     },
     "execution_count": 231,
     "metadata": {},
     "output_type": "execute_result"
    }
   ],
   "source": [
    "product_value"
   ]
  },
  {
   "cell_type": "code",
   "execution_count": 232,
   "id": "3a1b1f0d-d0bf-47d0-ba5f-85277b6b4412",
   "metadata": {},
   "outputs": [
    {
     "data": {
      "text/plain": [
       "np.float64(3.68)"
      ]
     },
     "execution_count": 232,
     "metadata": {},
     "output_type": "execute_result"
    }
   ],
   "source": [
    "product_value[0]"
   ]
  },
  {
   "cell_type": "code",
   "execution_count": 233,
   "id": "0d69d554-6498-4304-9cc2-510359bccacc",
   "metadata": {},
   "outputs": [
    {
     "data": {
      "text/plain": [
       "np.float64(403.2)"
      ]
     },
     "execution_count": 233,
     "metadata": {},
     "output_type": "execute_result"
    }
   ],
   "source": [
    "product_value[-1]"
   ]
  },
  {
   "cell_type": "code",
   "execution_count": 234,
   "id": "1a44d385-da88-458c-8c85-3b88dd57b584",
   "metadata": {},
   "outputs": [
    {
     "data": {
      "text/plain": [
       "array([403.2 , 205.4 , 202.92, 186.24, 158.4 , 138.4 , 106.44,  26.15,\n",
       "         6.24,   3.68])"
      ]
     },
     "execution_count": 234,
     "metadata": {},
     "output_type": "execute_result"
    }
   ],
   "source": [
    "product_value[::-1] # negative step size reverse "
   ]
  },
  {
   "cell_type": "markdown",
   "id": "cbc2a70f-53d7-437a-b30a-ac760f04f526",
   "metadata": {},
   "source": [
    "### Exercise 6"
   ]
  },
  {
   "cell_type": "code",
   "execution_count": 236,
   "id": "806a64b2-5f98-4b54-9305-c4e37730f94c",
   "metadata": {},
   "outputs": [
    {
     "data": {
      "text/plain": [
       "array([ 5.99,  6.99, 22.49, 99.99,  4.99, 49.99])"
      ]
     },
     "execution_count": 236,
     "metadata": {},
     "output_type": "execute_result"
    }
   ],
   "source": [
    "prices = np.array([5.99, 6.99, 22.49, 99.99, 4.99, 49.99])\n",
    "prices"
   ]
  },
  {
   "cell_type": "code",
   "execution_count": 238,
   "id": "b1744696-3d41-46fd-bd5f-9a76a0d467dd",
   "metadata": {},
   "outputs": [
    {
     "data": {
      "text/plain": [
       "array([ 4.99,  5.99,  6.99, 22.49, 49.99, 99.99])"
      ]
     },
     "execution_count": 238,
     "metadata": {},
     "output_type": "execute_result"
    }
   ],
   "source": [
    "# grap first top 3 highest priced items in our list \n",
    "prices.sort()\n",
    "prices"
   ]
  },
  {
   "cell_type": "code",
   "execution_count": 243,
   "id": "650ddf77-f28d-4f5d-b699-4e29f8b0a46b",
   "metadata": {},
   "outputs": [
    {
     "data": {
      "text/plain": [
       "array([22.49, 49.99, 99.99])"
      ]
     },
     "execution_count": 243,
     "metadata": {},
     "output_type": "execute_result"
    }
   ],
   "source": [
    "top_3 = prices[3:]\n",
    "top_3"
   ]
  },
  {
   "cell_type": "code",
   "execution_count": 251,
   "id": "8bd2a717-2507-4ef0-8dfa-a187aadc6086",
   "metadata": {},
   "outputs": [
    {
     "data": {
      "text/plain": [
       "array([22.49, 49.99, 99.99])"
      ]
     },
     "execution_count": 251,
     "metadata": {},
     "output_type": "execute_result"
    }
   ],
   "source": [
    "top_3 = prices[-3:]\n",
    "top_3"
   ]
  },
  {
   "cell_type": "code",
   "execution_count": 244,
   "id": "5a50f1e6-ed5b-4a88-bc8a-a5b62576b4b5",
   "metadata": {},
   "outputs": [
    {
     "data": {
      "text/plain": [
       "np.float64(57.49)"
      ]
     },
     "execution_count": 244,
     "metadata": {},
     "output_type": "execute_result"
    }
   ],
   "source": [
    "top_3.mean()"
   ]
  },
  {
   "cell_type": "code",
   "execution_count": 246,
   "id": "e4cc4722-62bf-4f06-bcd4-9e0031f583ba",
   "metadata": {},
   "outputs": [
    {
     "data": {
      "text/plain": [
       "np.float64(49.99)"
      ]
     },
     "execution_count": 246,
     "metadata": {},
     "output_type": "execute_result"
    }
   ],
   "source": [
    "np.median(top_3)"
   ]
  },
  {
   "cell_type": "code",
   "execution_count": 247,
   "id": "68c47588-ca60-4ee8-b5a7-3f043cbe7107",
   "metadata": {},
   "outputs": [
    {
     "data": {
      "text/plain": [
       "np.float64(99.99)"
      ]
     },
     "execution_count": 247,
     "metadata": {},
     "output_type": "execute_result"
    }
   ],
   "source": [
    "top_3.max()"
   ]
  },
  {
   "cell_type": "code",
   "execution_count": 248,
   "id": "f26d10ea-9156-4d01-83d6-58c2b71198e6",
   "metadata": {},
   "outputs": [
    {
     "data": {
      "text/plain": [
       "np.float64(22.49)"
      ]
     },
     "execution_count": 248,
     "metadata": {},
     "output_type": "execute_result"
    }
   ],
   "source": [
    "top_3.min()"
   ]
  },
  {
   "cell_type": "code",
   "execution_count": 254,
   "id": "bc8d9777-c2dd-4ec2-a844-47fafc5cf9fa",
   "metadata": {},
   "outputs": [
    {
     "name": "stdout",
     "output_type": "stream",
     "text": [
      "Mean: 57.49\n",
      "Max: 99.99\n",
      "Min: 22.49\n",
      "Median: 49.99\n"
     ]
    }
   ],
   "source": [
    "print(f\"Mean: {top_3.mean()}\")\n",
    "print(f\"Max: {top_3.max()}\")\n",
    "print(f\"Min: {top_3.min()}\")\n",
    "print(f\"Median: {np.median(top_3)}\")"
   ]
  },
  {
   "cell_type": "code",
   "execution_count": 249,
   "id": "8325d723-df7d-4e09-9068-c92defe120d3",
   "metadata": {},
   "outputs": [
    {
     "data": {
      "text/plain": [
       "array(['budget', 'luxury', 'mid-tier'], dtype='<U8')"
      ]
     },
     "execution_count": 249,
     "metadata": {},
     "output_type": "execute_result"
    }
   ],
   "source": [
    "# calculate the number of unique price tiers in price_tiers\n",
    "price_tiers =np.array(['budget','budget','mid-tier','luxury','mid-tier','luxury'])\n",
    "np.unique(price_tiers)"
   ]
  },
  {
   "cell_type": "markdown",
   "id": "f32cb67e-5651-4950-8bd8-0dc4bf4fd647",
   "metadata": {},
   "source": [
    "### Vectorization - is the process of pushing array operations into optimized C code, which is easier and more efficient \n",
    "than writing for loops"
   ]
  },
  {
   "cell_type": "code",
   "execution_count": 261,
   "id": "6cf36e90-8115-4716-88d4-a5f888a96f44",
   "metadata": {},
   "outputs": [],
   "source": [
    "def for_loop_multiply_lists(list1, list2):\n",
    "    product_list = []\n",
    "    for element1, element2 in zip(list1, list2):\n",
    "        product_list.append(element1 * element2)\n",
    "    return product_list\n",
    "\n",
    "def multiply_arrays(array1, array2):\n",
    "    return array1 + array2\n",
    "    "
   ]
  },
  {
   "cell_type": "code",
   "execution_count": 266,
   "id": "d081cf22-743a-417c-8575-1e2a31b72d13",
   "metadata": {},
   "outputs": [],
   "source": [
    "list1 = list(range(100000))\n",
    "list2 = list(range(100000))"
   ]
  },
  {
   "cell_type": "code",
   "execution_count": 267,
   "id": "01c225a6-f8b8-45bd-b93e-5d4f48e55982",
   "metadata": {},
   "outputs": [
    {
     "name": "stdout",
     "output_type": "stream",
     "text": [
      "3.3 ms ± 50.8 µs per loop (mean ± std. dev. of 5 runs, 10,000 loops each)\n"
     ]
    }
   ],
   "source": [
    "%%timeit -r 5 -n 10000\n",
    "for_loop_multiply_lists(list1, list2)"
   ]
  },
  {
   "cell_type": "code",
   "execution_count": 268,
   "id": "3040fd58-48dc-4cad-a264-dc141c542a31",
   "metadata": {},
   "outputs": [],
   "source": [
    "array1 = np.array(list1)\n",
    "array2 = np.array(list2)"
   ]
  },
  {
   "cell_type": "code",
   "execution_count": 269,
   "id": "222580e8-4937-4c3d-8364-b7521b676726",
   "metadata": {},
   "outputs": [
    {
     "name": "stdout",
     "output_type": "stream",
     "text": [
      "297 µs ± 5.8 µs per loop (mean ± std. dev. of 5 runs, 10,000 loops each)\n"
     ]
    }
   ],
   "source": [
    "%%timeit -r 5 -n 10000\n",
    "multiply_arrays(list1, list2)"
   ]
  },
  {
   "cell_type": "markdown",
   "id": "f1b011a2-56f3-462e-901b-9e948ec9522f",
   "metadata": {},
   "source": [
    "### Broadcasting lets you perform vectorized operations with arrays of sizes, where numpy will expand the smaller array\n",
    "to fit the larger one \n",
    "- Single values (scalars) can be broadcast into arrays of any dimension\n",
    "- Dimensions with a length greater than one must be the same size\n",
    "- Compatible shapes"
   ]
  },
  {
   "cell_type": "code",
   "execution_count": 270,
   "id": "7f448066-3ec1-477c-9dd6-017739c15f6c",
   "metadata": {},
   "outputs": [
    {
     "data": {
      "text/plain": [
       "array([[1, 2, 3],\n",
       "       [1, 2, 3],\n",
       "       [1, 2, 3]])"
      ]
     },
     "execution_count": 270,
     "metadata": {},
     "output_type": "execute_result"
    }
   ],
   "source": [
    "test_array = np.array([[1,2,3],[1,2,3],[1,2,3]])\n",
    "\n",
    "test_array"
   ]
  },
  {
   "cell_type": "code",
   "execution_count": 271,
   "id": "880836f2-4e98-48c6-b789-183c72294887",
   "metadata": {},
   "outputs": [
    {
     "data": {
      "text/plain": [
       "array([[2, 3, 4],\n",
       "       [2, 3, 4],\n",
       "       [2, 3, 4]])"
      ]
     },
     "execution_count": 271,
     "metadata": {},
     "output_type": "execute_result"
    }
   ],
   "source": [
    "test_array + 1"
   ]
  },
  {
   "cell_type": "code",
   "execution_count": 272,
   "id": "33a99068-29db-4164-a372-e690b875ef5a",
   "metadata": {},
   "outputs": [
    {
     "data": {
      "text/plain": [
       "array([[4, 4, 4],\n",
       "       [4, 4, 4],\n",
       "       [4, 4, 4]])"
      ]
     },
     "execution_count": 272,
     "metadata": {},
     "output_type": "execute_result"
    }
   ],
   "source": [
    "test_array + np.array([3, 2, 1])"
   ]
  },
  {
   "cell_type": "code",
   "execution_count": 273,
   "id": "5175e77d-71fd-47e9-871a-d71b1c36cad9",
   "metadata": {},
   "outputs": [
    {
     "data": {
      "text/plain": [
       "array([[4, 5, 6],\n",
       "       [3, 4, 5],\n",
       "       [2, 3, 4]])"
      ]
     },
     "execution_count": 273,
     "metadata": {},
     "output_type": "execute_result"
    }
   ],
   "source": [
    "test_array + np.array([3,2,1]).reshape(3,1)"
   ]
  },
  {
   "cell_type": "code",
   "execution_count": 274,
   "id": "4dc70aff-7a47-4d45-95f3-15420fa5a962",
   "metadata": {},
   "outputs": [
    {
     "ename": "ValueError",
     "evalue": "operands could not be broadcast together with shapes (3,3) (2,) ",
     "output_type": "error",
     "traceback": [
      "\u001b[0;31m---------------------------------------------------------------------------\u001b[0m",
      "\u001b[0;31mValueError\u001b[0m                                Traceback (most recent call last)",
      "Cell \u001b[0;32mIn[274], line 1\u001b[0m\n\u001b[0;32m----> 1\u001b[0m \u001b[43mtest_array\u001b[49m\u001b[43m \u001b[49m\u001b[38;5;241;43m+\u001b[39;49m\u001b[43m \u001b[49m\u001b[43mnp\u001b[49m\u001b[38;5;241;43m.\u001b[39;49m\u001b[43marray\u001b[49m\u001b[43m(\u001b[49m\u001b[43m[\u001b[49m\u001b[38;5;241;43m2\u001b[39;49m\u001b[43m,\u001b[49m\u001b[38;5;241;43m1\u001b[39;49m\u001b[43m]\u001b[49m\u001b[43m)\u001b[49m \u001b[38;5;66;03m# error out \u001b[39;00m\n",
      "\u001b[0;31mValueError\u001b[0m: operands could not be broadcast together with shapes (3,3) (2,) "
     ]
    }
   ],
   "source": [
    "test_array + np.array([2,1]) # error out "
   ]
  },
  {
   "cell_type": "code",
   "execution_count": 275,
   "id": "9f62809d-9d18-43fc-990e-aa3a34fef3f6",
   "metadata": {},
   "outputs": [
    {
     "data": {
      "text/plain": [
       "array([1, 2, 3])"
      ]
     },
     "execution_count": 275,
     "metadata": {},
     "output_type": "execute_result"
    }
   ],
   "source": [
    "test_array[0, :]"
   ]
  },
  {
   "cell_type": "code",
   "execution_count": 278,
   "id": "64b9f6fe-b356-4915-86a0-5c7937858cd0",
   "metadata": {},
   "outputs": [
    {
     "data": {
      "text/plain": [
       "array([[1, 2, 3],\n",
       "       [1, 2, 3],\n",
       "       [1, 2, 3]])"
      ]
     },
     "execution_count": 278,
     "metadata": {},
     "output_type": "execute_result"
    }
   ],
   "source": [
    "test_array"
   ]
  },
  {
   "cell_type": "code",
   "execution_count": 277,
   "id": "be7896f7-3959-4113-b0a1-1a998dfae53a",
   "metadata": {},
   "outputs": [
    {
     "data": {
      "text/plain": [
       "array([[2],\n",
       "       [2],\n",
       "       [2]])"
      ]
     },
     "execution_count": 277,
     "metadata": {},
     "output_type": "execute_result"
    }
   ],
   "source": [
    "test_array[:, 1].reshape(3,1)"
   ]
  },
  {
   "cell_type": "code",
   "execution_count": 279,
   "id": "464d3484-9bf7-44ac-8bff-6c67b494d74a",
   "metadata": {},
   "outputs": [
    {
     "data": {
      "text/plain": [
       "array([[3, 4, 5],\n",
       "       [3, 4, 5],\n",
       "       [3, 4, 5]])"
      ]
     },
     "execution_count": 279,
     "metadata": {},
     "output_type": "execute_result"
    }
   ],
   "source": [
    "test_array[0, :] + test_array[:, 1].reshape(3,1)"
   ]
  },
  {
   "cell_type": "code",
   "execution_count": 280,
   "id": "d3548841-a26e-4e1c-8f03-e798325cab57",
   "metadata": {},
   "outputs": [
    {
     "data": {
      "text/plain": [
       "array([[[2, 2, 2],\n",
       "        [2, 2, 2],\n",
       "        [2, 2, 2]],\n",
       "\n",
       "       [[2, 2, 2],\n",
       "        [2, 2, 2],\n",
       "        [2, 2, 2]]])"
      ]
     },
     "execution_count": 280,
     "metadata": {},
     "output_type": "execute_result"
    }
   ],
   "source": [
    "np.ones((2,3,3), dtype=int) + np.ones(3, dtype=int)"
   ]
  },
  {
   "cell_type": "code",
   "execution_count": 281,
   "id": "60e3022b-678f-45d6-aa43-aeb9608374d0",
   "metadata": {},
   "outputs": [
    {
     "data": {
      "text/plain": [
       "array([[[1, 1, 1],\n",
       "        [1, 1, 1],\n",
       "        [1, 1, 1]],\n",
       "\n",
       "       [[1, 1, 1],\n",
       "        [1, 1, 1],\n",
       "        [1, 1, 1]]])"
      ]
     },
     "execution_count": 281,
     "metadata": {},
     "output_type": "execute_result"
    }
   ],
   "source": [
    "np.ones((2,3,3), dtype=int)"
   ]
  },
  {
   "cell_type": "code",
   "execution_count": 282,
   "id": "fa25beea-70ee-45c3-91e3-ba09796c0d64",
   "metadata": {},
   "outputs": [
    {
     "data": {
      "text/plain": [
       "array([1, 1, 1])"
      ]
     },
     "execution_count": 282,
     "metadata": {},
     "output_type": "execute_result"
    }
   ],
   "source": [
    "np.ones(3, dtype=int)"
   ]
  },
  {
   "cell_type": "markdown",
   "id": "d6d0dfc4-8109-472c-b66e-d89fa9288a84",
   "metadata": {},
   "source": [
    "### Exercise 7"
   ]
  },
  {
   "cell_type": "code",
   "execution_count": 285,
   "id": "50857b9a-14ef-4062-b6de-553e1f6ec0cf",
   "metadata": {},
   "outputs": [],
   "source": [
    "import pandas as pd\n",
    "import numpy as np\n",
    "\n",
    "retail_df = pd.read_csv(\n",
    "    \"./retail/retail_2016_2017.csv\", skiprows=range(1, 11000), nrows=1000\n",
    ")\n"
   ]
  },
  {
   "cell_type": "code",
   "execution_count": 286,
   "id": "515b2fba-d8be-4392-a283-20e84bc68bc4",
   "metadata": {},
   "outputs": [
    {
     "data": {
      "text/html": [
       "<div>\n",
       "<style scoped>\n",
       "    .dataframe tbody tr th:only-of-type {\n",
       "        vertical-align: middle;\n",
       "    }\n",
       "\n",
       "    .dataframe tbody tr th {\n",
       "        vertical-align: top;\n",
       "    }\n",
       "\n",
       "    .dataframe thead th {\n",
       "        text-align: right;\n",
       "    }\n",
       "</style>\n",
       "<table border=\"1\" class=\"dataframe\">\n",
       "  <thead>\n",
       "    <tr style=\"text-align: right;\">\n",
       "      <th></th>\n",
       "      <th>id</th>\n",
       "      <th>date</th>\n",
       "      <th>store_nbr</th>\n",
       "      <th>family</th>\n",
       "      <th>sales</th>\n",
       "      <th>onpromotion</th>\n",
       "    </tr>\n",
       "  </thead>\n",
       "  <tbody>\n",
       "    <tr>\n",
       "      <th>0</th>\n",
       "      <td>1956943</td>\n",
       "      <td>2016-01-07</td>\n",
       "      <td>18</td>\n",
       "      <td>EGGS</td>\n",
       "      <td>177.00</td>\n",
       "      <td>0</td>\n",
       "    </tr>\n",
       "    <tr>\n",
       "      <th>1</th>\n",
       "      <td>1956944</td>\n",
       "      <td>2016-01-07</td>\n",
       "      <td>18</td>\n",
       "      <td>FROZEN FOODS</td>\n",
       "      <td>36.00</td>\n",
       "      <td>0</td>\n",
       "    </tr>\n",
       "    <tr>\n",
       "      <th>2</th>\n",
       "      <td>1956945</td>\n",
       "      <td>2016-01-07</td>\n",
       "      <td>18</td>\n",
       "      <td>GROCERY I</td>\n",
       "      <td>2291.06</td>\n",
       "      <td>6</td>\n",
       "    </tr>\n",
       "    <tr>\n",
       "      <th>3</th>\n",
       "      <td>1956946</td>\n",
       "      <td>2016-01-07</td>\n",
       "      <td>18</td>\n",
       "      <td>GROCERY II</td>\n",
       "      <td>16.00</td>\n",
       "      <td>0</td>\n",
       "    </tr>\n",
       "    <tr>\n",
       "      <th>4</th>\n",
       "      <td>1956947</td>\n",
       "      <td>2016-01-07</td>\n",
       "      <td>18</td>\n",
       "      <td>HARDWARE</td>\n",
       "      <td>2.00</td>\n",
       "      <td>0</td>\n",
       "    </tr>\n",
       "  </tbody>\n",
       "</table>\n",
       "</div>"
      ],
      "text/plain": [
       "        id        date  store_nbr        family    sales  onpromotion\n",
       "0  1956943  2016-01-07         18          EGGS   177.00            0\n",
       "1  1956944  2016-01-07         18  FROZEN FOODS    36.00            0\n",
       "2  1956945  2016-01-07         18     GROCERY I  2291.06            6\n",
       "3  1956946  2016-01-07         18    GROCERY II    16.00            0\n",
       "4  1956947  2016-01-07         18      HARDWARE     2.00            0"
      ]
     },
     "execution_count": 286,
     "metadata": {},
     "output_type": "execute_result"
    }
   ],
   "source": [
    "retail_df.head()"
   ]
  },
  {
   "cell_type": "code",
   "execution_count": 290,
   "id": "abd3570c-4654-4506-aee8-4e5cefc54f7f",
   "metadata": {},
   "outputs": [],
   "source": [
    "family_array = np.array(retail_df[\"family\"])\n",
    "\n",
    "sales_array = np.array(retail_df[\"sales\"])\n"
   ]
  },
  {
   "cell_type": "code",
   "execution_count": 302,
   "id": "3fcc0b3b-5c15-4b5b-aff4-cd7c2eaf7d84",
   "metadata": {},
   "outputs": [
    {
     "data": {
      "text/plain": [
       "array([1662.394,  447.064, 2423.944,  962.866, 1236.404,  298.441,\n",
       "       1077.44 , 3404.531,  962.96 ,  279.505, 1852.786, 1089.319,\n",
       "        726.516, 7860.031,  446.038, 1155.385,  120.202,  862.092,\n",
       "        473.952,  254.263, 1272.755, 2775.771, 2030.762, 1657.432,\n",
       "       2339.906,  722.333, 1567.843, 2458.456,  673.885, 8834.15 ])"
      ]
     },
     "execution_count": 302,
     "metadata": {},
     "output_type": "execute_result"
    }
   ],
   "source": [
    "# filter only sales with produce family\n",
    "produce_sales = np.array(retail_df.loc[family_array == 'PRODUCE', 'sales'])\n",
    "produce_sales"
   ]
  },
  {
   "cell_type": "code",
   "execution_count": 322,
   "id": "f993e60c-43c7-4529-bb47-e09704470256",
   "metadata": {},
   "outputs": [
    {
     "data": {
      "text/plain": [
       "array([1662.394,  447.064, 2423.944,  962.866, 1236.404,  298.441,\n",
       "       1077.44 , 3404.531,  962.96 ,  279.505, 1852.786, 1089.319,\n",
       "        726.516, 7860.031,  446.038, 1155.385,  120.202,  862.092,\n",
       "        473.952,  254.263, 1272.755, 2775.771, 2030.762, 1657.432,\n",
       "       2339.906,  722.333, 1567.843, 2458.456,  673.885, 8834.15 ])"
      ]
     },
     "execution_count": 322,
     "metadata": {},
     "output_type": "execute_result"
    }
   ],
   "source": [
    "produce_array = sales_array[family_array == \"PRODUCE\"]\n",
    "produce_array"
   ]
  },
  {
   "cell_type": "code",
   "execution_count": 304,
   "id": "7b4e55bd-15ea-4360-8861-e22603cbab15",
   "metadata": {},
   "outputs": [
    {
     "data": {
      "text/plain": [
       "30"
      ]
     },
     "execution_count": 304,
     "metadata": {},
     "output_type": "execute_result"
    }
   ],
   "source": [
    "produce_sales.size"
   ]
  },
  {
   "cell_type": "code",
   "execution_count": 305,
   "id": "2217b24d-5775-4f2c-96ef-5bf70bb71e9a",
   "metadata": {},
   "outputs": [
    {
     "data": {
      "text/plain": [
       "(30,)"
      ]
     },
     "execution_count": 305,
     "metadata": {},
     "output_type": "execute_result"
    }
   ],
   "source": [
    "produce_sales.shape"
   ]
  },
  {
   "cell_type": "code",
   "execution_count": 323,
   "id": "4884fc73-bdc6-4f34-9888-9fca939f3a93",
   "metadata": {},
   "outputs": [
    {
     "data": {
      "text/plain": [
       "array([1662.394,  447.064,  962.866, 1077.44 , 3404.531,  962.96 ,\n",
       "       1089.319, 7860.031,  446.038, 1272.755, 2775.771, 2339.906,\n",
       "        722.333, 1567.843, 2458.456,  673.885, 8834.15 ])"
      ]
     },
     "execution_count": 323,
     "metadata": {},
     "output_type": "execute_result"
    }
   ],
   "source": [
    "rng = np.random.default_rng(2022)\n",
    "random_aaray = rng.random(30)\n",
    "\n",
    "produce_sales[produce_sales_half < .5]"
   ]
  },
  {
   "cell_type": "code",
   "execution_count": 319,
   "id": "1df6e873-e89a-4982-bb14-858c7bd7f4b6",
   "metadata": {},
   "outputs": [
    {
     "data": {
      "text/plain": [
       "np.float64(0.4564172663933915)"
      ]
     },
     "execution_count": 319,
     "metadata": {},
     "output_type": "execute_result"
    }
   ],
   "source": [
    "produce_sales_half.mean()"
   ]
  },
  {
   "cell_type": "code",
   "execution_count": 320,
   "id": "37dbe3ec-6992-4304-888d-d6546fcf2b57",
   "metadata": {},
   "outputs": [
    {
     "data": {
      "text/plain": [
       "np.float64(0.3218479857068822)"
      ]
     },
     "execution_count": 320,
     "metadata": {},
     "output_type": "execute_result"
    }
   ],
   "source": [
    "np.median(produce_sales_half)"
   ]
  }
 ],
 "metadata": {
  "kernelspec": {
   "display_name": "Python 3 (ipykernel)",
   "language": "python",
   "name": "python3"
  },
  "language_info": {
   "codemirror_mode": {
    "name": "ipython",
    "version": 3
   },
   "file_extension": ".py",
   "mimetype": "text/x-python",
   "name": "python",
   "nbconvert_exporter": "python",
   "pygments_lexer": "ipython3",
   "version": "3.9.6"
  }
 },
 "nbformat": 4,
 "nbformat_minor": 5
}
