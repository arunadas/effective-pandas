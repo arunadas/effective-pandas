{
 "cells": [
  {
   "cell_type": "code",
   "execution_count": 1,
   "id": "8f2770be-a5cf-42ec-a5ab-5238c2210791",
   "metadata": {},
   "outputs": [],
   "source": [
    "import numpy as np"
   ]
  },
  {
   "cell_type": "code",
   "execution_count": 2,
   "id": "36e7dde2-824e-4812-bd65-705c38298f46",
   "metadata": {},
   "outputs": [],
   "source": [
    "sales = [0,5,155,0,518,0,1827,616,317,325]"
   ]
  },
  {
   "cell_type": "code",
   "execution_count": 3,
   "id": "c994e259-3f79-43a5-833b-041dc7db74d3",
   "metadata": {},
   "outputs": [
    {
     "data": {
      "text/plain": [
       "[0, 5, 155, 0, 518, 0, 1827, 616, 317, 325]"
      ]
     },
     "execution_count": 3,
     "metadata": {},
     "output_type": "execute_result"
    }
   ],
   "source": [
    "# sales python list or tuples\n",
    "sales"
   ]
  },
  {
   "cell_type": "code",
   "execution_count": 4,
   "id": "7e18a27d-00cc-49d6-9c9a-40d1f2a84a40",
   "metadata": {},
   "outputs": [],
   "source": [
    "sales_array = np.array(sales)"
   ]
  },
  {
   "cell_type": "code",
   "execution_count": 5,
   "id": "17c0dc1c-3d37-46d6-b26c-3772f7f7d31f",
   "metadata": {},
   "outputs": [
    {
     "data": {
      "text/plain": [
       "array([   0,    5,  155,    0,  518,    0, 1827,  616,  317,  325])"
      ]
     },
     "execution_count": 5,
     "metadata": {},
     "output_type": "execute_result"
    }
   ],
   "source": [
    "sales_array"
   ]
  },
  {
   "cell_type": "markdown",
   "id": "83fa3752-22b5-4e68-b292-3c3fc144d10e",
   "metadata": {},
   "source": [
    "# array properties\n",
    "- ndim\n",
    "- shape\n",
    "- size\n",
    "- dtype\n",
    "  #properties of the array"
   ]
  },
  {
   "cell_type": "code",
   "execution_count": 6,
   "id": "280c72fd-5693-4404-a26a-7921ff5ee953",
   "metadata": {},
   "outputs": [
    {
     "data": {
      "text/plain": [
       "numpy.ndarray"
      ]
     },
     "execution_count": 6,
     "metadata": {},
     "output_type": "execute_result"
    }
   ],
   "source": [
    "type(sales_array)"
   ]
  },
  {
   "cell_type": "code",
   "execution_count": 9,
   "id": "057f6c5b-1d00-4e70-b915-e03f92e58138",
   "metadata": {},
   "outputs": [
    {
     "name": "stdout",
     "output_type": "stream",
     "text": [
      "ndim : 1\n",
      "shape : (10,)\n",
      "size : 10\n",
      "dtype : int64\n"
     ]
    }
   ],
   "source": [
    "print(f\"ndim : {sales_array.ndim}\")\n",
    "print(f\"shape : {sales_array.shape}\")\n",
    "print(f\"size : {sales_array.size}\")\n",
    "print(f\"dtype : {sales_array.dtype}\")"
   ]
  },
  {
   "cell_type": "markdown",
   "id": "28df443b-f96f-4411-b59e-95f9347da09f",
   "metadata": {},
   "source": [
    "# 2 D Array"
   ]
  },
  {
   "cell_type": "code",
   "execution_count": 10,
   "id": "a67d90c4-d154-4cbc-9941-ac4832a3432f",
   "metadata": {},
   "outputs": [],
   "source": [
    "# has to be of same length\n",
    "sales = [[0,5,155,0,518], [0,1827,616,317,325]]"
   ]
  },
  {
   "cell_type": "code",
   "execution_count": 11,
   "id": "106b28c0-5726-44bf-b7ea-bd5ed7a1ffdd",
   "metadata": {},
   "outputs": [],
   "source": [
    "sales_2dArray = np.array(sales)"
   ]
  },
  {
   "cell_type": "code",
   "execution_count": 12,
   "id": "49a35795-1e28-46fd-b4be-23f8336842ee",
   "metadata": {},
   "outputs": [
    {
     "data": {
      "text/plain": [
       "array([[   0,    5,  155,    0,  518],\n",
       "       [   0, 1827,  616,  317,  325]])"
      ]
     },
     "execution_count": 12,
     "metadata": {},
     "output_type": "execute_result"
    }
   ],
   "source": [
    "sales_2dArray"
   ]
  },
  {
   "cell_type": "code",
   "execution_count": 13,
   "id": "9217220b-270f-4ec2-9f4b-d5d528677229",
   "metadata": {},
   "outputs": [
    {
     "name": "stdout",
     "output_type": "stream",
     "text": [
      "ndim : 2\n",
      "shape : (2, 5)\n",
      "size : 10\n",
      "dtype : int64\n"
     ]
    }
   ],
   "source": [
    "print(f\"ndim : {sales_2dArray.ndim}\")\n",
    "print(f\"shape : {sales_2dArray.shape}\")\n",
    "print(f\"size : {sales_2dArray.size}\")\n",
    "print(f\"dtype : {sales_2dArray.dtype}\")"
   ]
  },
  {
   "cell_type": "code",
   "execution_count": null,
   "id": "2b98fd99-4ef7-43ef-9290-a1e46bb6ca1f",
   "metadata": {},
   "outputs": [],
   "source": []
  }
 ],
 "metadata": {
  "kernelspec": {
   "display_name": "Python 3 (ipykernel)",
   "language": "python",
   "name": "python3"
  },
  "language_info": {
   "codemirror_mode": {
    "name": "ipython",
    "version": 3
   },
   "file_extension": ".py",
   "mimetype": "text/x-python",
   "name": "python",
   "nbconvert_exporter": "python",
   "pygments_lexer": "ipython3",
   "version": "3.9.6"
  }
 },
 "nbformat": 4,
 "nbformat_minor": 5
}
