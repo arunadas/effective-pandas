{
 "cells": [
  {
   "cell_type": "markdown",
   "id": "58e9e4e2-2a56-4553-bad0-d6f49c5b1dd2",
   "metadata": {},
   "source": [
    "### read_csv\n",
    "\n",
    "file, sep , header, names , index_col, usecols, dtyes, parse_dates\n",
    "- add duplicate suffix to columns\n",
    "- header = None\n",
    "- header = 0 , skip first row cols = [] , pass the colname "
   ]
  },
  {
   "cell_type": "markdown",
   "id": "37c9caf0-eef7-45e0-b6bd-c060b9ad745c",
   "metadata": {},
   "source": [
    "### setting an index \n",
    "- parse_dates=True\n",
    "- usecols , select the columns , saves processing time and memory ( add index also otherwise error)"
   ]
  },
  {
   "cell_type": "markdown",
   "id": "56d686e0-4850-44ad-adea-0439fab28c84",
   "metadata": {},
   "source": [
    "### select rows \n",
    "nrows \n",
    "skiprows based on index position, nrows works after skiprows\n",
    "- skiprows = lambda x:x%2 == 1"
   ]
  },
  {
   "cell_type": "markdown",
   "id": "4ce7d6aa-29ee-4237-bc6a-1204f561a8b4",
   "metadata": {},
   "source": [
    "### missing values \n",
    "- na_values =[\".\",\"Missing\"] --> NaN"
   ]
  }
 ],
 "metadata": {
  "kernelspec": {
   "display_name": "Python 3 (ipykernel)",
   "language": "python",
   "name": "python3"
  },
  "language_info": {
   "codemirror_mode": {
    "name": "ipython",
    "version": 3
   },
   "file_extension": ".py",
   "mimetype": "text/x-python",
   "name": "python",
   "nbconvert_exporter": "python",
   "pygments_lexer": "ipython3",
   "version": "3.9.6"
  }
 },
 "nbformat": 4,
 "nbformat_minor": 5
}
