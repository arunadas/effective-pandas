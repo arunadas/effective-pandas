{
 "cells": [
  {
   "cell_type": "markdown",
   "id": "58e9e4e2-2a56-4553-bad0-d6f49c5b1dd2",
   "metadata": {},
   "source": [
    "### read_csv\n",
    "\n",
    "file, sep , header, names , index_col, usecols, dtyes, parse_dates\n",
    "- add duplicate suffix to columns\n",
    "- header = None\n",
    "- header = 0 , skip first row cols = [] , pass the colname "
   ]
  },
  {
   "cell_type": "markdown",
   "id": "37c9caf0-eef7-45e0-b6bd-c060b9ad745c",
   "metadata": {},
   "source": [
    "### setting an index \n",
    "- parse_dates=True\n",
    "- usecols , select the columns , saves processing time and memory ( add index also otherwise error)"
   ]
  },
  {
   "cell_type": "markdown",
   "id": "56d686e0-4850-44ad-adea-0439fab28c84",
   "metadata": {},
   "source": [
    "### select rows \n",
    "nrows \n",
    "skiprows based on index position, nrows works after skiprows\n",
    "- skiprows = lambda x:x%2 == 1"
   ]
  },
  {
   "cell_type": "markdown",
   "id": "4ce7d6aa-29ee-4237-bc6a-1204f561a8b4",
   "metadata": {},
   "source": [
    "### missing values \n",
    "- na_values =[\".\",\"Missing\"] --> NaN"
   ]
  },
  {
   "cell_type": "markdown",
   "id": "cf1b89ba-f8f1-4330-82c0-53af7e4b9184",
   "metadata": {},
   "source": [
    "### parsing dates parse_dates=[\"Date\"],\n",
    "infer_datetime_format=True"
   ]
  },
  {
   "cell_type": "markdown",
   "id": "40df3098-abd7-4032-9a3f-37d6295043e2",
   "metadata": {},
   "source": [
    "### dtype=({\"Sales\":\"Int32\"})"
   ]
  },
  {
   "cell_type": "code",
   "execution_count": 1,
   "id": "21fc1a28-0279-42e2-8b11-ec87d5fe01df",
   "metadata": {},
   "outputs": [],
   "source": [
    "import pandas as pd "
   ]
  },
  {
   "cell_type": "code",
   "execution_count": 11,
   "id": "97755cf1-67cf-4615-b012-6132940a4822",
   "metadata": {},
   "outputs": [
    {
     "data": {
      "text/html": [
       "<div>\n",
       "<style scoped>\n",
       "    .dataframe tbody tr th:only-of-type {\n",
       "        vertical-align: middle;\n",
       "    }\n",
       "\n",
       "    .dataframe tbody tr th {\n",
       "        vertical-align: top;\n",
       "    }\n",
       "\n",
       "    .dataframe thead th {\n",
       "        text-align: right;\n",
       "    }\n",
       "</style>\n",
       "<table border=\"1\" class=\"dataframe\">\n",
       "  <thead>\n",
       "    <tr style=\"text-align: right;\">\n",
       "      <th></th>\n",
       "      <th>date</th>\n",
       "      <th>Oil Price</th>\n",
       "      <th>index</th>\n",
       "    </tr>\n",
       "  </thead>\n",
       "  <tbody>\n",
       "    <tr>\n",
       "      <th>0</th>\n",
       "      <td>2013-01-01</td>\n",
       "      <td>NaN</td>\n",
       "      <td>0</td>\n",
       "    </tr>\n",
       "    <tr>\n",
       "      <th>1</th>\n",
       "      <td>2013-01-02</td>\n",
       "      <td>93.14</td>\n",
       "      <td>1</td>\n",
       "    </tr>\n",
       "    <tr>\n",
       "      <th>2</th>\n",
       "      <td>2013-01-03</td>\n",
       "      <td>92.97</td>\n",
       "      <td>2</td>\n",
       "    </tr>\n",
       "    <tr>\n",
       "      <th>3</th>\n",
       "      <td>2013-01-04</td>\n",
       "      <td>93.12</td>\n",
       "      <td>3</td>\n",
       "    </tr>\n",
       "    <tr>\n",
       "      <th>4</th>\n",
       "      <td>2013-01-07</td>\n",
       "      <td>93.20</td>\n",
       "      <td>4</td>\n",
       "    </tr>\n",
       "  </tbody>\n",
       "</table>\n",
       "</div>"
      ],
      "text/plain": [
       "         date  Oil Price  index\n",
       "0  2013-01-01        NaN      0\n",
       "1  2013-01-02      93.14      1\n",
       "2  2013-01-03      92.97      2\n",
       "3  2013-01-04      93.12      3\n",
       "4  2013-01-07      93.20      4"
      ]
     },
     "execution_count": 11,
     "metadata": {},
     "output_type": "execute_result"
    }
   ],
   "source": [
    "columns = [\"index\", \"Date\", \"Oil Price\" , \"Date2\"]\n",
    "string_slice = lambda x:int(x[-2:])\n",
    "\n",
    "oil = pd.read_csv(\"./retail/oil.csv\",\n",
    "                  header = 0,\n",
    "                # names = columns,\n",
    "               #  parse_dates=[\"Date\", \"Date2\"],\n",
    "                # infer_datetime_format=True\n",
    "                # index_col = \"Date\",\n",
    "                  # dtype ={\"index\":\"Int16\"},\n",
    "                 # converters = {\"Date2\":string_slice}\n",
    "                 )\n",
    "oil.rename(columns={\"dcoilwtico\": \"Oil Price\"}, inplace=True)\n",
    "oil[\"index\"] = oil.index\n",
    "\n",
    "oil.head()"
   ]
  },
  {
   "cell_type": "markdown",
   "id": "32043890-fc78-4389-b416-cfd24381d02e",
   "metadata": {},
   "source": [
    "### converters \n",
    "currency = lambda x:f\"${x}.00\"\n",
    "missing = lambda x:x if x not in [\"MISSING\",\".\"] else 0\n",
    "\n",
    "pd.read_csv(\n",
    "\"monthly_sales.csv\",\n",
    "converters={\"Sales\":missing,\n",
    "\"Sales.1\":currency\n",
    "}\n",
    ")"
   ]
  },
  {
   "cell_type": "markdown",
   "id": "f768d32c-9432-417a-990e-4e5eb15d5b72",
   "metadata": {},
   "source": [
    "### Exercise 1 streamlined transaction "
   ]
  }
 ],
 "metadata": {
  "kernelspec": {
   "display_name": "Python 3 (ipykernel)",
   "language": "python",
   "name": "python3"
  },
  "language_info": {
   "codemirror_mode": {
    "name": "ipython",
    "version": 3
   },
   "file_extension": ".py",
   "mimetype": "text/x-python",
   "name": "python",
   "nbconvert_exporter": "python",
   "pygments_lexer": "ipython3",
   "version": "3.9.6"
  }
 },
 "nbformat": 4,
 "nbformat_minor": 5
}
